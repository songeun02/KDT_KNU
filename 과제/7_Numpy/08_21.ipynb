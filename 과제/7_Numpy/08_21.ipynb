{
  "nbformat": 4,
  "nbformat_minor": 0,
  "metadata": {
    "colab": {
      "provenance": []
    },
    "kernelspec": {
      "name": "python3",
      "display_name": "Python 3"
    },
    "language_info": {
      "name": "python"
    }
  },
  "cells": [
    {
      "cell_type": "code",
      "source": [
        "import numpy as np"
      ],
      "metadata": {
        "id": "3Se0OCWhoilO"
      },
      "execution_count": 2,
      "outputs": []
    },
    {
      "cell_type": "markdown",
      "source": [
        "내부 조작 함수"
      ],
      "metadata": {
        "id": "lxvOaM2OoJwu"
      }
    },
    {
      "cell_type": "code",
      "execution_count": 2,
      "metadata": {
        "colab": {
          "base_uri": "https://localhost:8080/"
        },
        "id": "d_2kdEQpoGqb",
        "outputId": "2fdb3cb7-e642-496f-be8b-5d105b39e87d"
      },
      "outputs": [
        {
          "output_type": "execute_result",
          "data": {
            "text/plain": [
              "array([1, 2, 3, 4, 5, 6], dtype=int32)"
            ]
          },
          "metadata": {},
          "execution_count": 2
        }
      ],
      "source": [
        "# 정렬 함수 sort\n",
        "\n",
        "a = np.linspace(1,6,6,dtype = np.int32)\n",
        "a"
      ]
    },
    {
      "cell_type": "code",
      "source": [
        "np.random.shuffle(a) # shuffle : 랜덤 배치\n",
        "a"
      ],
      "metadata": {
        "colab": {
          "base_uri": "https://localhost:8080/"
        },
        "id": "akAFjIKXosw2",
        "outputId": "0488708b-0b26-48fd-d615-020bc8ae0eec"
      },
      "execution_count": 3,
      "outputs": [
        {
          "output_type": "execute_result",
          "data": {
            "text/plain": [
              "array([4, 2, 1, 3, 5, 6], dtype=int32)"
            ]
          },
          "metadata": {},
          "execution_count": 3
        }
      ]
    },
    {
      "cell_type": "code",
      "source": [
        "b = np.sort(a)\n",
        "b"
      ],
      "metadata": {
        "colab": {
          "base_uri": "https://localhost:8080/"
        },
        "id": "1FT1jNuzox7W",
        "outputId": "612ccdb5-b7b7-4fbf-ad5a-f196bc1d8865"
      },
      "execution_count": 4,
      "outputs": [
        {
          "output_type": "execute_result",
          "data": {
            "text/plain": [
              "array([1, 2, 3, 4, 5, 6], dtype=int32)"
            ]
          },
          "metadata": {},
          "execution_count": 4
        }
      ]
    },
    {
      "cell_type": "code",
      "source": [
        "a # 원본이 변경"
      ],
      "metadata": {
        "colab": {
          "base_uri": "https://localhost:8080/"
        },
        "id": "erKJXfifo5yc",
        "outputId": "d5c20de6-dcad-4a24-840a-ba2603905971"
      },
      "execution_count": 6,
      "outputs": [
        {
          "output_type": "execute_result",
          "data": {
            "text/plain": [
              "array([4, 2, 1, 3, 5, 6], dtype=int32)"
            ]
          },
          "metadata": {},
          "execution_count": 6
        }
      ]
    },
    {
      "cell_type": "code",
      "source": [
        "a.sort()"
      ],
      "metadata": {
        "id": "nTED7a93o6UL"
      },
      "execution_count": 7,
      "outputs": []
    },
    {
      "cell_type": "code",
      "source": [
        "a"
      ],
      "metadata": {
        "colab": {
          "base_uri": "https://localhost:8080/"
        },
        "id": "H0_qEfyJo_og",
        "outputId": "ef947767-d574-42fb-aa8f-73e33d080858"
      },
      "execution_count": 8,
      "outputs": [
        {
          "output_type": "execute_result",
          "data": {
            "text/plain": [
              "array([1, 2, 3, 4, 5, 6], dtype=int32)"
            ]
          },
          "metadata": {},
          "execution_count": 8
        }
      ]
    },
    {
      "cell_type": "code",
      "source": [
        "# 정렬 함수 argsort - 인덱스 정렬\n",
        "\n",
        "bb = np.linspace(1,6,6,dtype = np.int32)\n",
        "bb"
      ],
      "metadata": {
        "colab": {
          "base_uri": "https://localhost:8080/"
        },
        "id": "PgN76DekpAFW",
        "outputId": "aaf632f4-036f-40e7-8a0c-7b3ce128f646"
      },
      "execution_count": 9,
      "outputs": [
        {
          "output_type": "execute_result",
          "data": {
            "text/plain": [
              "array([1, 2, 3, 4, 5, 6], dtype=int32)"
            ]
          },
          "metadata": {},
          "execution_count": 9
        }
      ]
    },
    {
      "cell_type": "code",
      "source": [
        "np.random.shuffle(bb)\n",
        "bb"
      ],
      "metadata": {
        "colab": {
          "base_uri": "https://localhost:8080/"
        },
        "id": "F6-snBOlpj-N",
        "outputId": "3b7483fa-f5d9-4f1a-96e3-858b9f0a7888"
      },
      "execution_count": 10,
      "outputs": [
        {
          "output_type": "execute_result",
          "data": {
            "text/plain": [
              "array([4, 2, 1, 5, 3, 6], dtype=int32)"
            ]
          },
          "metadata": {},
          "execution_count": 10
        }
      ]
    },
    {
      "cell_type": "code",
      "source": [
        "c = np.argsort(bb)\n",
        "c"
      ],
      "metadata": {
        "colab": {
          "base_uri": "https://localhost:8080/"
        },
        "id": "yG2sIue7pmM7",
        "outputId": "2ff6f314-1f75-492d-ab55-547b88a1172f"
      },
      "execution_count": 11,
      "outputs": [
        {
          "output_type": "execute_result",
          "data": {
            "text/plain": [
              "array([2, 1, 4, 0, 3, 5])"
            ]
          },
          "metadata": {},
          "execution_count": 11
        }
      ]
    },
    {
      "cell_type": "code",
      "source": [
        "bb[c[0]]"
      ],
      "metadata": {
        "colab": {
          "base_uri": "https://localhost:8080/"
        },
        "id": "TXIxoFhZqEdE",
        "outputId": "2d5bd028-15b3-4aa6-d6c2-9a6922d91265"
      },
      "execution_count": 12,
      "outputs": [
        {
          "output_type": "execute_result",
          "data": {
            "text/plain": [
              "1"
            ]
          },
          "metadata": {},
          "execution_count": 12
        }
      ]
    },
    {
      "cell_type": "code",
      "source": [
        "bb[c[1]]"
      ],
      "metadata": {
        "colab": {
          "base_uri": "https://localhost:8080/"
        },
        "id": "YrKfN5xmqLc1",
        "outputId": "8573b1fc-3f65-4cc8-9dab-c9e0e359c36a"
      },
      "execution_count": 13,
      "outputs": [
        {
          "output_type": "execute_result",
          "data": {
            "text/plain": [
              "2"
            ]
          },
          "metadata": {},
          "execution_count": 13
        }
      ]
    },
    {
      "cell_type": "code",
      "source": [
        "# 배열 클래스 변경\n",
        "\n",
        "m = np.matrix([1,2,3,4])\n",
        "m"
      ],
      "metadata": {
        "colab": {
          "base_uri": "https://localhost:8080/"
        },
        "id": "4Yr1f5UAqPCw",
        "outputId": "c6baf5d2-09a9-48eb-87f2-2dbe7847aaed"
      },
      "execution_count": 15,
      "outputs": [
        {
          "output_type": "execute_result",
          "data": {
            "text/plain": [
              "matrix([[1, 2, 3, 4]])"
            ]
          },
          "metadata": {},
          "execution_count": 15
        }
      ]
    },
    {
      "cell_type": "code",
      "source": [
        "type(m)"
      ],
      "metadata": {
        "colab": {
          "base_uri": "https://localhost:8080/"
        },
        "id": "UDDVTSK-qRjb",
        "outputId": "4b6491e8-ed34-45a5-9d9b-8019d75e28aa"
      },
      "execution_count": 16,
      "outputs": [
        {
          "output_type": "execute_result",
          "data": {
            "text/plain": [
              "numpy.matrix"
            ]
          },
          "metadata": {},
          "execution_count": 16
        }
      ]
    },
    {
      "cell_type": "code",
      "source": [
        "# 자료형 변경\n",
        "\n",
        "a = np.asarray(m)\n",
        "a"
      ],
      "metadata": {
        "colab": {
          "base_uri": "https://localhost:8080/"
        },
        "id": "UokFw8ElqT2Z",
        "outputId": "19866f69-ba43-43e7-c70d-f4d95ae0b425"
      },
      "execution_count": 17,
      "outputs": [
        {
          "output_type": "execute_result",
          "data": {
            "text/plain": [
              "array([[1, 2, 3, 4]])"
            ]
          },
          "metadata": {},
          "execution_count": 17
        }
      ]
    },
    {
      "cell_type": "code",
      "source": [
        "type(a)"
      ],
      "metadata": {
        "colab": {
          "base_uri": "https://localhost:8080/"
        },
        "id": "Ad9PRMESqar3",
        "outputId": "c41efc9b-2b6a-4ef0-8b4a-00509d9b5511"
      },
      "execution_count": 18,
      "outputs": [
        {
          "output_type": "execute_result",
          "data": {
            "text/plain": [
              "numpy.ndarray"
            ]
          },
          "metadata": {},
          "execution_count": 18
        }
      ]
    },
    {
      "cell_type": "code",
      "source": [
        "m1 = np.asmatrix(a)\n",
        "m1"
      ],
      "metadata": {
        "colab": {
          "base_uri": "https://localhost:8080/"
        },
        "id": "ZwYHACrXqbXE",
        "outputId": "587f6abb-3df5-422f-8124-4a09a1809436"
      },
      "execution_count": 19,
      "outputs": [
        {
          "output_type": "execute_result",
          "data": {
            "text/plain": [
              "matrix([[1, 2, 3, 4]])"
            ]
          },
          "metadata": {},
          "execution_count": 19
        }
      ]
    },
    {
      "cell_type": "code",
      "source": [
        "# 배열의 값 변경\n",
        "\n",
        "o = np.ones(10)\n",
        "o"
      ],
      "metadata": {
        "colab": {
          "base_uri": "https://localhost:8080/"
        },
        "id": "hsRM1ipTqk8P",
        "outputId": "cc57593a-ad66-4730-89e4-a65d918a0c88"
      },
      "execution_count": 21,
      "outputs": [
        {
          "output_type": "execute_result",
          "data": {
            "text/plain": [
              "array([1., 1., 1., 1., 1., 1., 1., 1., 1., 1.])"
            ]
          },
          "metadata": {},
          "execution_count": 21
        }
      ]
    },
    {
      "cell_type": "code",
      "source": [
        "o.fill(100)\n",
        "o"
      ],
      "metadata": {
        "colab": {
          "base_uri": "https://localhost:8080/"
        },
        "id": "Ul75l5Dzqqc3",
        "outputId": "b86ec69a-fe09-4079-aeea-07df76e89927"
      },
      "execution_count": 22,
      "outputs": [
        {
          "output_type": "execute_result",
          "data": {
            "text/plain": [
              "array([100., 100., 100., 100., 100., 100., 100., 100., 100., 100.])"
            ]
          },
          "metadata": {},
          "execution_count": 22
        }
      ]
    },
    {
      "cell_type": "code",
      "source": [
        "a = np.full(o.shape ,99.) # 만들면서 채움\n",
        "a"
      ],
      "metadata": {
        "colab": {
          "base_uri": "https://localhost:8080/"
        },
        "id": "l_vtDq5EquX6",
        "outputId": "d280877c-fa1c-4314-e8f6-2382c015131f"
      },
      "execution_count": 30,
      "outputs": [
        {
          "output_type": "execute_result",
          "data": {
            "text/plain": [
              "array([99., 99., 99., 99., 99., 99., 99., 99., 99., 99.])"
            ]
          },
          "metadata": {},
          "execution_count": 30
        }
      ]
    },
    {
      "cell_type": "code",
      "source": [
        "array = np.arange(4).reshape((2,2))\n",
        "array"
      ],
      "metadata": {
        "colab": {
          "base_uri": "https://localhost:8080/"
        },
        "id": "KxkZQAfJqyXd",
        "outputId": "2a92e80d-159e-4edd-a51c-4457fd1af6cb"
      },
      "execution_count": 31,
      "outputs": [
        {
          "output_type": "execute_result",
          "data": {
            "text/plain": [
              "array([[0, 1],\n",
              "       [2, 3]])"
            ]
          },
          "metadata": {},
          "execution_count": 31
        }
      ]
    },
    {
      "cell_type": "code",
      "source": [
        "np.fliplr(array) # 좌우 변경"
      ],
      "metadata": {
        "colab": {
          "base_uri": "https://localhost:8080/"
        },
        "id": "jQ-KETSK3t4k",
        "outputId": "e35ba94a-70e5-49d1-8c51-02732830f519"
      },
      "execution_count": 33,
      "outputs": [
        {
          "output_type": "execute_result",
          "data": {
            "text/plain": [
              "array([[1, 0],\n",
              "       [3, 2]])"
            ]
          },
          "metadata": {},
          "execution_count": 33
        }
      ]
    },
    {
      "cell_type": "code",
      "source": [
        "np.flipud(array) # 상하 변경"
      ],
      "metadata": {
        "colab": {
          "base_uri": "https://localhost:8080/"
        },
        "id": "_Wi7cPtD3wCv",
        "outputId": "4ba0055b-eddf-4449-8786-1d7691f17f8c"
      },
      "execution_count": 34,
      "outputs": [
        {
          "output_type": "execute_result",
          "data": {
            "text/plain": [
              "array([[2, 3],\n",
              "       [0, 1]])"
            ]
          },
          "metadata": {},
          "execution_count": 34
        }
      ]
    },
    {
      "cell_type": "code",
      "source": [
        "m = np.array([[1,2],[3,4]],int)\n",
        "m"
      ],
      "metadata": {
        "colab": {
          "base_uri": "https://localhost:8080/"
        },
        "id": "rURGdrA53z7A",
        "outputId": "e624e8ae-7f9b-4d4b-93ec-fd95ab028514"
      },
      "execution_count": 37,
      "outputs": [
        {
          "output_type": "execute_result",
          "data": {
            "text/plain": [
              "array([[1, 2],\n",
              "       [3, 4]])"
            ]
          },
          "metadata": {},
          "execution_count": 37
        }
      ]
    },
    {
      "cell_type": "code",
      "source": [
        "np.rot90(m) # 반시계 방향으로"
      ],
      "metadata": {
        "colab": {
          "base_uri": "https://localhost:8080/"
        },
        "id": "1gfl2JR0385v",
        "outputId": "85903c57-9b78-44aa-f55a-19a258c941b8"
      },
      "execution_count": 38,
      "outputs": [
        {
          "output_type": "execute_result",
          "data": {
            "text/plain": [
              "array([[2, 4],\n",
              "       [1, 3]])"
            ]
          },
          "metadata": {},
          "execution_count": 38
        }
      ]
    },
    {
      "cell_type": "code",
      "source": [
        "np.rot90(m,2)"
      ],
      "metadata": {
        "colab": {
          "base_uri": "https://localhost:8080/"
        },
        "id": "Chb6Af344BlS",
        "outputId": "a0c1416d-4337-4aeb-ba8a-21cb2f81400b"
      },
      "execution_count": 39,
      "outputs": [
        {
          "output_type": "execute_result",
          "data": {
            "text/plain": [
              "array([[4, 3],\n",
              "       [2, 1]])"
            ]
          },
          "metadata": {},
          "execution_count": 39
        }
      ]
    },
    {
      "cell_type": "code",
      "source": [
        "np.rot90(m,3)"
      ],
      "metadata": {
        "colab": {
          "base_uri": "https://localhost:8080/"
        },
        "id": "gc5-cPT04DSo",
        "outputId": "8bd40c54-61ef-427d-f9f9-39c7f1d98853"
      },
      "execution_count": 40,
      "outputs": [
        {
          "output_type": "execute_result",
          "data": {
            "text/plain": [
              "array([[3, 1],\n",
              "       [4, 2]])"
            ]
          },
          "metadata": {},
          "execution_count": 40
        }
      ]
    },
    {
      "cell_type": "code",
      "source": [
        "np.rot90(m,4)"
      ],
      "metadata": {
        "colab": {
          "base_uri": "https://localhost:8080/"
        },
        "id": "PRJOP63e4Eic",
        "outputId": "f94cde3a-6275-4ce0-d902-fc9e9931cba2"
      },
      "execution_count": 41,
      "outputs": [
        {
          "output_type": "execute_result",
          "data": {
            "text/plain": [
              "array([[1, 2],\n",
              "       [3, 4]])"
            ]
          },
          "metadata": {},
          "execution_count": 41
        }
      ]
    },
    {
      "cell_type": "code",
      "source": [
        "# 배열 내의 원소 점검하기\n",
        "\n",
        "m = np.random.randn(3,5)\n",
        "m"
      ],
      "metadata": {
        "colab": {
          "base_uri": "https://localhost:8080/"
        },
        "id": "QyMp9bDA4F8z",
        "outputId": "45cdbd77-16a8-476e-8b70-53441795709e"
      },
      "execution_count": 42,
      "outputs": [
        {
          "output_type": "execute_result",
          "data": {
            "text/plain": [
              "array([[ 0.07811848,  0.46902815,  1.3283514 , -0.8640655 , -1.64921963],\n",
              "       [-0.04866348,  0.8179185 ,  0.66258043,  0.22280581, -1.19811238],\n",
              "       [-0.5408557 ,  0.59496926,  0.61769842,  0.75852276,  1.82123698]])"
            ]
          },
          "metadata": {},
          "execution_count": 42
        }
      ]
    },
    {
      "cell_type": "code",
      "source": [
        "np.isreal(m)"
      ],
      "metadata": {
        "colab": {
          "base_uri": "https://localhost:8080/"
        },
        "id": "MILmgU2_4Jos",
        "outputId": "f71c19d0-ef57-42be-fead-d21588a13500"
      },
      "execution_count": 43,
      "outputs": [
        {
          "output_type": "execute_result",
          "data": {
            "text/plain": [
              "array([[ True,  True,  True,  True,  True],\n",
              "       [ True,  True,  True,  True,  True],\n",
              "       [ True,  True,  True,  True,  True]])"
            ]
          },
          "metadata": {},
          "execution_count": 43
        }
      ]
    },
    {
      "cell_type": "code",
      "source": [
        "np.isinf(m)"
      ],
      "metadata": {
        "colab": {
          "base_uri": "https://localhost:8080/"
        },
        "id": "Rpu25G354Kyi",
        "outputId": "18741d85-2821-456d-dff2-f3c920d10751"
      },
      "execution_count": 44,
      "outputs": [
        {
          "output_type": "execute_result",
          "data": {
            "text/plain": [
              "array([[False, False, False, False, False],\n",
              "       [False, False, False, False, False],\n",
              "       [False, False, False, False, False]])"
            ]
          },
          "metadata": {},
          "execution_count": 44
        }
      ]
    },
    {
      "cell_type": "code",
      "source": [
        "np.isnan(m)"
      ],
      "metadata": {
        "colab": {
          "base_uri": "https://localhost:8080/"
        },
        "id": "QxbPqRyT4LwX",
        "outputId": "e042cf1d-0c33-450f-a749-c9240ed80c46"
      },
      "execution_count": 45,
      "outputs": [
        {
          "output_type": "execute_result",
          "data": {
            "text/plain": [
              "array([[False, False, False, False, False],\n",
              "       [False, False, False, False, False],\n",
              "       [False, False, False, False, False]])"
            ]
          },
          "metadata": {},
          "execution_count": 45
        }
      ]
    },
    {
      "cell_type": "markdown",
      "source": [
        "배열의 padding"
      ],
      "metadata": {
        "id": "m1xtVQSc4RXB"
      }
    },
    {
      "cell_type": "code",
      "source": [
        "x = np.arange(1,5).reshape(2,2)\n",
        "x"
      ],
      "metadata": {
        "colab": {
          "base_uri": "https://localhost:8080/"
        },
        "id": "DfXKa03a4M5J",
        "outputId": "ed5effbe-90c1-4db8-b481-50d1aa2f23f0"
      },
      "execution_count": 46,
      "outputs": [
        {
          "output_type": "execute_result",
          "data": {
            "text/plain": [
              "array([[1, 2],\n",
              "       [3, 4]])"
            ]
          },
          "metadata": {},
          "execution_count": 46
        }
      ]
    },
    {
      "cell_type": "code",
      "source": [
        "z = np.zeros((3,3))\n",
        "z"
      ],
      "metadata": {
        "colab": {
          "base_uri": "https://localhost:8080/"
        },
        "id": "gU-ZTw0Z4qPC",
        "outputId": "332e8a42-a172-4945-fc3a-9e594bb051a9"
      },
      "execution_count": 47,
      "outputs": [
        {
          "output_type": "execute_result",
          "data": {
            "text/plain": [
              "array([[0., 0., 0.],\n",
              "       [0., 0., 0.],\n",
              "       [0., 0., 0.]])"
            ]
          },
          "metadata": {},
          "execution_count": 47
        }
      ]
    },
    {
      "cell_type": "code",
      "source": [
        "z[:2,:2] = x\n",
        "z"
      ],
      "metadata": {
        "colab": {
          "base_uri": "https://localhost:8080/"
        },
        "id": "TmiXFT0C4wEq",
        "outputId": "252051fa-83a5-4c21-e419-57090f9f4ba0"
      },
      "execution_count": 48,
      "outputs": [
        {
          "output_type": "execute_result",
          "data": {
            "text/plain": [
              "array([[1., 2., 0.],\n",
              "       [3., 4., 0.],\n",
              "       [0., 0., 0.]])"
            ]
          },
          "metadata": {},
          "execution_count": 48
        }
      ]
    },
    {
      "cell_type": "code",
      "source": [
        "# 패딩 함수\n",
        "\n",
        "np.pad(x,0,'constant')"
      ],
      "metadata": {
        "colab": {
          "base_uri": "https://localhost:8080/"
        },
        "id": "UCNUPYCZ4y0b",
        "outputId": "765087ee-579b-4a18-a8cc-971dae244474"
      },
      "execution_count": 49,
      "outputs": [
        {
          "output_type": "execute_result",
          "data": {
            "text/plain": [
              "array([[1, 2],\n",
              "       [3, 4]])"
            ]
          },
          "metadata": {},
          "execution_count": 49
        }
      ]
    },
    {
      "cell_type": "code",
      "source": [
        "np.pad(x,(0,1),'constant') # 하단과 우측에 0 추가"
      ],
      "metadata": {
        "colab": {
          "base_uri": "https://localhost:8080/"
        },
        "id": "9WyEUEl745MP",
        "outputId": "e25ad975-a8a8-47a3-d653-3f47a203d13b"
      },
      "execution_count": 50,
      "outputs": [
        {
          "output_type": "execute_result",
          "data": {
            "text/plain": [
              "array([[1, 2, 0],\n",
              "       [3, 4, 0],\n",
              "       [0, 0, 0]])"
            ]
          },
          "metadata": {},
          "execution_count": 50
        }
      ]
    },
    {
      "cell_type": "code",
      "source": [
        "np.pad(x,(1,0),'constant') # 좌측과 상단에 0 추가"
      ],
      "metadata": {
        "colab": {
          "base_uri": "https://localhost:8080/"
        },
        "id": "rOA2c_735XOU",
        "outputId": "46620a96-f12a-4d02-d7ba-a8ddaa07e852"
      },
      "execution_count": 51,
      "outputs": [
        {
          "output_type": "execute_result",
          "data": {
            "text/plain": [
              "array([[0, 0, 0],\n",
              "       [0, 1, 2],\n",
              "       [0, 3, 4]])"
            ]
          },
          "metadata": {},
          "execution_count": 51
        }
      ]
    },
    {
      "cell_type": "code",
      "source": [
        "np.pad(x,(1,1),'constant') # 모든 것에 하나의 0으로 추가"
      ],
      "metadata": {
        "colab": {
          "base_uri": "https://localhost:8080/"
        },
        "id": "ezFl5zi65ZcB",
        "outputId": "18fe77d7-5a6f-4b38-9cb8-a3fa64b6a457"
      },
      "execution_count": 52,
      "outputs": [
        {
          "output_type": "execute_result",
          "data": {
            "text/plain": [
              "array([[0, 0, 0, 0],\n",
              "       [0, 1, 2, 0],\n",
              "       [0, 3, 4, 0],\n",
              "       [0, 0, 0, 0]])"
            ]
          },
          "metadata": {},
          "execution_count": 52
        }
      ]
    },
    {
      "cell_type": "code",
      "source": [
        "np.pad(x,(3,3), 'constant') # 패딩 폭을 3,3 으로 지정"
      ],
      "metadata": {
        "colab": {
          "base_uri": "https://localhost:8080/"
        },
        "id": "CPUCFQBs5bcV",
        "outputId": "687ffcf5-8524-4657-8d84-3e9fc96497d5"
      },
      "execution_count": 53,
      "outputs": [
        {
          "output_type": "execute_result",
          "data": {
            "text/plain": [
              "array([[0, 0, 0, 0, 0, 0, 0, 0],\n",
              "       [0, 0, 0, 0, 0, 0, 0, 0],\n",
              "       [0, 0, 0, 0, 0, 0, 0, 0],\n",
              "       [0, 0, 0, 1, 2, 0, 0, 0],\n",
              "       [0, 0, 0, 3, 4, 0, 0, 0],\n",
              "       [0, 0, 0, 0, 0, 0, 0, 0],\n",
              "       [0, 0, 0, 0, 0, 0, 0, 0],\n",
              "       [0, 0, 0, 0, 0, 0, 0, 0]])"
            ]
          },
          "metadata": {},
          "execution_count": 53
        }
      ]
    },
    {
      "cell_type": "code",
      "source": [
        "x = np.arange(1,5).reshape(2,2)\n",
        "x"
      ],
      "metadata": {
        "colab": {
          "base_uri": "https://localhost:8080/"
        },
        "id": "ub_8p_uH5d-Y",
        "outputId": "b49219f4-9580-41b8-fdc2-7fd0dec17ac7"
      },
      "execution_count": 3,
      "outputs": [
        {
          "output_type": "execute_result",
          "data": {
            "text/plain": [
              "array([[1, 2],\n",
              "       [3, 4]])"
            ]
          },
          "metadata": {},
          "execution_count": 3
        }
      ]
    },
    {
      "cell_type": "code",
      "source": [
        "# 기존 배열의 값이 패딩으로 필요하면 edge 문자열 전달\n",
        "np.pad(x,(0,1),'edge')"
      ],
      "metadata": {
        "colab": {
          "base_uri": "https://localhost:8080/"
        },
        "id": "gwlDOEiistRD",
        "outputId": "dbb8868e-c157-45d5-c670-c9ceb0fac956"
      },
      "execution_count": 4,
      "outputs": [
        {
          "output_type": "execute_result",
          "data": {
            "text/plain": [
              "array([[1, 2, 2],\n",
              "       [3, 4, 4],\n",
              "       [3, 4, 4]])"
            ]
          },
          "metadata": {},
          "execution_count": 4
        }
      ]
    },
    {
      "cell_type": "code",
      "source": [
        "np.pad(x,(1,0),'edge')"
      ],
      "metadata": {
        "colab": {
          "base_uri": "https://localhost:8080/"
        },
        "id": "TGb2Yh7Is5j1",
        "outputId": "7d671af8-a76a-461c-f771-12d049d3d2a5"
      },
      "execution_count": 5,
      "outputs": [
        {
          "output_type": "execute_result",
          "data": {
            "text/plain": [
              "array([[1, 1, 2],\n",
              "       [1, 1, 2],\n",
              "       [3, 3, 4]])"
            ]
          },
          "metadata": {},
          "execution_count": 5
        }
      ]
    },
    {
      "cell_type": "code",
      "source": [
        "np.pad(x,(1,1),'edge')"
      ],
      "metadata": {
        "colab": {
          "base_uri": "https://localhost:8080/"
        },
        "id": "UcTKTYQds8VW",
        "outputId": "61b3ee63-ac12-4bff-d0fa-3494d8b747d9"
      },
      "execution_count": 6,
      "outputs": [
        {
          "output_type": "execute_result",
          "data": {
            "text/plain": [
              "array([[1, 1, 2, 2],\n",
              "       [1, 1, 2, 2],\n",
              "       [3, 3, 4, 4],\n",
              "       [3, 3, 4, 4]])"
            ]
          },
          "metadata": {},
          "execution_count": 6
        }
      ]
    },
    {
      "cell_type": "code",
      "source": [
        "np.pad(x,(3,3), 'edge')"
      ],
      "metadata": {
        "colab": {
          "base_uri": "https://localhost:8080/"
        },
        "id": "IHP6CmkOs98Z",
        "outputId": "603604c4-5501-4d9c-9598-b97713afa587"
      },
      "execution_count": 7,
      "outputs": [
        {
          "output_type": "execute_result",
          "data": {
            "text/plain": [
              "array([[1, 1, 1, 1, 2, 2, 2, 2],\n",
              "       [1, 1, 1, 1, 2, 2, 2, 2],\n",
              "       [1, 1, 1, 1, 2, 2, 2, 2],\n",
              "       [1, 1, 1, 1, 2, 2, 2, 2],\n",
              "       [3, 3, 3, 3, 4, 4, 4, 4],\n",
              "       [3, 3, 3, 3, 4, 4, 4, 4],\n",
              "       [3, 3, 3, 3, 4, 4, 4, 4],\n",
              "       [3, 3, 3, 3, 4, 4, 4, 4]])"
            ]
          },
          "metadata": {},
          "execution_count": 7
        }
      ]
    },
    {
      "cell_type": "code",
      "source": [
        "np.pad(x,(3,3),'maximum') # 패딩되는 값을 최대값으로 지정"
      ],
      "metadata": {
        "colab": {
          "base_uri": "https://localhost:8080/"
        },
        "id": "FKrG_fWKtADa",
        "outputId": "43dd4046-f503-416c-83e1-4a5f782c8efb"
      },
      "execution_count": 9,
      "outputs": [
        {
          "output_type": "execute_result",
          "data": {
            "text/plain": [
              "array([[4, 4, 4, 3, 4, 4, 4, 4],\n",
              "       [4, 4, 4, 3, 4, 4, 4, 4],\n",
              "       [4, 4, 4, 3, 4, 4, 4, 4],\n",
              "       [2, 2, 2, 1, 2, 2, 2, 2],\n",
              "       [4, 4, 4, 3, 4, 4, 4, 4],\n",
              "       [4, 4, 4, 3, 4, 4, 4, 4],\n",
              "       [4, 4, 4, 3, 4, 4, 4, 4],\n",
              "       [4, 4, 4, 3, 4, 4, 4, 4]])"
            ]
          },
          "metadata": {},
          "execution_count": 9
        }
      ]
    },
    {
      "cell_type": "code",
      "source": [
        "np.pad(x,(3,3),'minimum') # 패딩되는 값을 최소값으로 지정"
      ],
      "metadata": {
        "colab": {
          "base_uri": "https://localhost:8080/"
        },
        "id": "lXFKBI1itGh5",
        "outputId": "d1cd270a-011f-4888-ed25-f207a3a0e394"
      },
      "execution_count": 10,
      "outputs": [
        {
          "output_type": "execute_result",
          "data": {
            "text/plain": [
              "array([[1, 1, 1, 1, 2, 1, 1, 1],\n",
              "       [1, 1, 1, 1, 2, 1, 1, 1],\n",
              "       [1, 1, 1, 1, 2, 1, 1, 1],\n",
              "       [1, 1, 1, 1, 2, 1, 1, 1],\n",
              "       [3, 3, 3, 3, 4, 3, 3, 3],\n",
              "       [1, 1, 1, 1, 2, 1, 1, 1],\n",
              "       [1, 1, 1, 1, 2, 1, 1, 1],\n",
              "       [1, 1, 1, 1, 2, 1, 1, 1]])"
            ]
          },
          "metadata": {},
          "execution_count": 10
        }
      ]
    },
    {
      "cell_type": "code",
      "source": [
        "np.pad(x,(1,1),'mean') # 패딩되는 값을 평균으로 지정"
      ],
      "metadata": {
        "colab": {
          "base_uri": "https://localhost:8080/"
        },
        "id": "oh6nZVRqtXXi",
        "outputId": "c1bae2c6-8e37-43b2-f07d-8c67bb504d63"
      },
      "execution_count": 12,
      "outputs": [
        {
          "output_type": "execute_result",
          "data": {
            "text/plain": [
              "array([[2, 2, 3, 2],\n",
              "       [2, 1, 2, 2],\n",
              "       [4, 3, 4, 4],\n",
              "       [2, 2, 3, 2]])"
            ]
          },
          "metadata": {},
          "execution_count": 12
        }
      ]
    },
    {
      "cell_type": "code",
      "source": [
        "np.pad(x,(3,3),'mean') # 대각으로 만나는 곳은 반올림 안 하고 절사"
      ],
      "metadata": {
        "colab": {
          "base_uri": "https://localhost:8080/"
        },
        "id": "dy5qS4HytaOW",
        "outputId": "beaeb8c4-1206-45a7-b00c-93685f7ef0f5"
      },
      "execution_count": 13,
      "outputs": [
        {
          "output_type": "execute_result",
          "data": {
            "text/plain": [
              "array([[2, 2, 2, 2, 3, 2, 2, 2],\n",
              "       [2, 2, 2, 2, 3, 2, 2, 2],\n",
              "       [2, 2, 2, 2, 3, 2, 2, 2],\n",
              "       [2, 2, 2, 1, 2, 2, 2, 2],\n",
              "       [4, 4, 4, 3, 4, 4, 4, 4],\n",
              "       [2, 2, 2, 2, 3, 2, 2, 2],\n",
              "       [2, 2, 2, 2, 3, 2, 2, 2],\n",
              "       [2, 2, 2, 2, 3, 2, 2, 2]])"
            ]
          },
          "metadata": {},
          "execution_count": 13
        }
      ]
    },
    {
      "cell_type": "code",
      "source": [
        "np.pad(x,(3,3),'median')"
      ],
      "metadata": {
        "colab": {
          "base_uri": "https://localhost:8080/"
        },
        "id": "3-kr1aUDteUi",
        "outputId": "32405f8f-f847-4c89-e496-b7f17f3232fe"
      },
      "execution_count": 14,
      "outputs": [
        {
          "output_type": "execute_result",
          "data": {
            "text/plain": [
              "array([[2, 2, 2, 2, 3, 2, 2, 2],\n",
              "       [2, 2, 2, 2, 3, 2, 2, 2],\n",
              "       [2, 2, 2, 2, 3, 2, 2, 2],\n",
              "       [2, 2, 2, 1, 2, 2, 2, 2],\n",
              "       [4, 4, 4, 3, 4, 4, 4, 4],\n",
              "       [2, 2, 2, 2, 3, 2, 2, 2],\n",
              "       [2, 2, 2, 2, 3, 2, 2, 2],\n",
              "       [2, 2, 2, 2, 3, 2, 2, 2]])"
            ]
          },
          "metadata": {},
          "execution_count": 14
        }
      ]
    },
    {
      "cell_type": "markdown",
      "source": [
        "넘파이 모듈의 자료형 이해"
      ],
      "metadata": {
        "id": "XKvB_d80yEB-"
      }
    },
    {
      "cell_type": "code",
      "source": [
        "# 다차원 배열의 자료형을 관리하는 클래스가 dtype\n",
        "# 배열을 생성할 때 자료형 클래스가 dtype 인자에 전달\n",
        "\n",
        "np.dtype"
      ],
      "metadata": {
        "colab": {
          "base_uri": "https://localhost:8080/"
        },
        "id": "tSmnDJHRtgfa",
        "outputId": "8aa9f246-6bb2-4781-ccf8-1a5b7525c53a"
      },
      "execution_count": 15,
      "outputs": [
        {
          "output_type": "execute_result",
          "data": {
            "text/plain": [
              "numpy.dtype"
            ]
          },
          "metadata": {},
          "execution_count": 15
        }
      ]
    },
    {
      "cell_type": "code",
      "source": [
        "d = np.dtype(np.int32)\n",
        "d"
      ],
      "metadata": {
        "colab": {
          "base_uri": "https://localhost:8080/"
        },
        "id": "gAqVRJSLy5kq",
        "outputId": "ba54e719-5a43-499e-d438-69c546bb8e9e"
      },
      "execution_count": 16,
      "outputs": [
        {
          "output_type": "execute_result",
          "data": {
            "text/plain": [
              "dtype('int32')"
            ]
          },
          "metadata": {},
          "execution_count": 16
        }
      ]
    },
    {
      "cell_type": "code",
      "source": [
        "a = np.array([1,2,3,4], dtype = d)\n",
        "a"
      ],
      "metadata": {
        "colab": {
          "base_uri": "https://localhost:8080/"
        },
        "id": "UJ1JBy3Gy8Nf",
        "outputId": "418579d7-b9d3-4931-e299-56a4fc5f976a"
      },
      "execution_count": 17,
      "outputs": [
        {
          "output_type": "execute_result",
          "data": {
            "text/plain": [
              "array([1, 2, 3, 4], dtype=int32)"
            ]
          },
          "metadata": {},
          "execution_count": 17
        }
      ]
    },
    {
      "cell_type": "code",
      "source": [
        "a.dtype"
      ],
      "metadata": {
        "colab": {
          "base_uri": "https://localhost:8080/"
        },
        "id": "ANiMQkNKy_5Y",
        "outputId": "01b28c69-c924-4b73-aa8b-c66046683397"
      },
      "execution_count": 18,
      "outputs": [
        {
          "output_type": "execute_result",
          "data": {
            "text/plain": [
              "dtype('int32')"
            ]
          },
          "metadata": {},
          "execution_count": 18
        }
      ]
    },
    {
      "cell_type": "code",
      "source": [
        "# 자료 클래스 알아보기\n",
        "# 대표적인 정수 클래스는 np.int_\n",
        "# 이 클래스의 상속관계를 mro 메소드로 확인 가능\n",
        "\n",
        "np.int_"
      ],
      "metadata": {
        "colab": {
          "base_uri": "https://localhost:8080/"
        },
        "id": "w6d1wgCKzBU4",
        "outputId": "f4b2c814-69f6-46f1-c367-1b0b26af70c6"
      },
      "execution_count": 19,
      "outputs": [
        {
          "output_type": "execute_result",
          "data": {
            "text/plain": [
              "numpy.int64"
            ]
          },
          "metadata": {},
          "execution_count": 19
        }
      ]
    },
    {
      "cell_type": "code",
      "source": [
        "np.int_.mro()"
      ],
      "metadata": {
        "colab": {
          "base_uri": "https://localhost:8080/"
        },
        "id": "MK1qyhwWzNtU",
        "outputId": "17fac78e-3983-4e53-f863-c4a2a1c2be35"
      },
      "execution_count": 20,
      "outputs": [
        {
          "output_type": "execute_result",
          "data": {
            "text/plain": [
              "[numpy.int64,\n",
              " numpy.signedinteger,\n",
              " numpy.integer,\n",
              " numpy.number,\n",
              " numpy.generic,\n",
              " object]"
            ]
          },
          "metadata": {},
          "execution_count": 20
        }
      ]
    },
    {
      "cell_type": "code",
      "source": [
        "issubclass(np.int32, np.signedinteger) # 하위 클래스 확인"
      ],
      "metadata": {
        "colab": {
          "base_uri": "https://localhost:8080/"
        },
        "id": "u3R98iLrzPXY",
        "outputId": "e944a994-265b-4323-a96c-ffd36a933a8a"
      },
      "execution_count": 21,
      "outputs": [
        {
          "output_type": "execute_result",
          "data": {
            "text/plain": [
              "True"
            ]
          },
          "metadata": {},
          "execution_count": 21
        }
      ]
    },
    {
      "cell_type": "code",
      "source": [
        "issubclass(np.integer, np.number)"
      ],
      "metadata": {
        "colab": {
          "base_uri": "https://localhost:8080/"
        },
        "id": "l7KsB7oxzZnK",
        "outputId": "6ac85423-14aa-4dc2-f1cc-bd16252345fd"
      },
      "execution_count": 22,
      "outputs": [
        {
          "output_type": "execute_result",
          "data": {
            "text/plain": [
              "True"
            ]
          },
          "metadata": {},
          "execution_count": 22
        }
      ]
    },
    {
      "cell_type": "code",
      "source": [
        "issubclass(np.number, np.generic)"
      ],
      "metadata": {
        "colab": {
          "base_uri": "https://localhost:8080/"
        },
        "id": "GmcJeXYfzcaU",
        "outputId": "636a3bca-7f79-480b-9f75-867dd7e1f59b"
      },
      "execution_count": 23,
      "outputs": [
        {
          "output_type": "execute_result",
          "data": {
            "text/plain": [
              "True"
            ]
          },
          "metadata": {},
          "execution_count": 23
        }
      ]
    },
    {
      "cell_type": "code",
      "source": [
        "p_i = int(100)\n",
        "p_i"
      ],
      "metadata": {
        "colab": {
          "base_uri": "https://localhost:8080/"
        },
        "id": "Pek0VM3Lze5S",
        "outputId": "3bbb6853-104f-4ba0-ed95-d0c7874795ec"
      },
      "execution_count": 24,
      "outputs": [
        {
          "output_type": "execute_result",
          "data": {
            "text/plain": [
              "100"
            ]
          },
          "metadata": {},
          "execution_count": 24
        }
      ]
    },
    {
      "cell_type": "code",
      "source": [
        "n_i = np.int32(100)\n",
        "n_i"
      ],
      "metadata": {
        "colab": {
          "base_uri": "https://localhost:8080/"
        },
        "id": "lQCGCebTzhB1",
        "outputId": "0773a1f5-da5e-4f82-a44f-35cb2ecefab2"
      },
      "execution_count": 25,
      "outputs": [
        {
          "output_type": "execute_result",
          "data": {
            "text/plain": [
              "100"
            ]
          },
          "metadata": {},
          "execution_count": 25
        }
      ]
    },
    {
      "cell_type": "code",
      "source": [
        "p_i + n_i"
      ],
      "metadata": {
        "colab": {
          "base_uri": "https://localhost:8080/"
        },
        "id": "ObwxZfMlzjL1",
        "outputId": "c7d8f6d4-df99-4d15-ccc6-997d40316533"
      },
      "execution_count": 26,
      "outputs": [
        {
          "output_type": "execute_result",
          "data": {
            "text/plain": [
              "200"
            ]
          },
          "metadata": {},
          "execution_count": 26
        }
      ]
    },
    {
      "cell_type": "markdown",
      "source": [
        "날짜 자료형"
      ],
      "metadata": {
        "id": "3fvOApnwzsUV"
      }
    },
    {
      "cell_type": "code",
      "source": [
        "np.datetime64"
      ],
      "metadata": {
        "colab": {
          "base_uri": "https://localhost:8080/"
        },
        "id": "mdIbBC5UzleC",
        "outputId": "2704efa0-b8bf-4102-c0a8-4a201aba99ad"
      },
      "execution_count": 27,
      "outputs": [
        {
          "output_type": "execute_result",
          "data": {
            "text/plain": [
              "numpy.datetime64"
            ]
          },
          "metadata": {},
          "execution_count": 27
        }
      ]
    },
    {
      "cell_type": "code",
      "source": [
        "print(np.datetime64)"
      ],
      "metadata": {
        "colab": {
          "base_uri": "https://localhost:8080/"
        },
        "id": "P0VzFThtzvrg",
        "outputId": "604657af-e0f0-41c6-b8b4-f39bf414e0f8"
      },
      "execution_count": 28,
      "outputs": [
        {
          "output_type": "stream",
          "name": "stdout",
          "text": [
            "<class 'numpy.datetime64'>\n"
          ]
        }
      ]
    },
    {
      "cell_type": "code",
      "source": [
        "y = np.datetime64('2018')\n",
        "y, y.dtype"
      ],
      "metadata": {
        "colab": {
          "base_uri": "https://localhost:8080/"
        },
        "id": "wCsjDkJazw60",
        "outputId": "d4780625-6ef1-41d7-86c9-df9a53b736da"
      },
      "execution_count": 29,
      "outputs": [
        {
          "output_type": "execute_result",
          "data": {
            "text/plain": [
              "(numpy.datetime64('2018'), dtype('<M8[Y]'))"
            ]
          },
          "metadata": {},
          "execution_count": 29
        }
      ]
    },
    {
      "cell_type": "code",
      "source": [
        "ym = np.datetime64('2018-11')\n",
        "ym, ym.dtype"
      ],
      "metadata": {
        "colab": {
          "base_uri": "https://localhost:8080/"
        },
        "id": "qizeOicOz04d",
        "outputId": "f12fb005-7f3e-4a85-d4c2-eb6983eee466"
      },
      "execution_count": 30,
      "outputs": [
        {
          "output_type": "execute_result",
          "data": {
            "text/plain": [
              "(numpy.datetime64('2018-11'), dtype('<M8[M]'))"
            ]
          },
          "metadata": {},
          "execution_count": 30
        }
      ]
    },
    {
      "cell_type": "code",
      "source": [
        "ymd = np.datetime64('2018-11-15')\n",
        "ymd, ymd.dtype"
      ],
      "metadata": {
        "colab": {
          "base_uri": "https://localhost:8080/"
        },
        "id": "xwNKOt6g0CkC",
        "outputId": "ca2bf940-3bf2-4971-cb0c-1361853a23c2"
      },
      "execution_count": 31,
      "outputs": [
        {
          "output_type": "execute_result",
          "data": {
            "text/plain": [
              "(numpy.datetime64('2018-11-15'), dtype('<M8[D]'))"
            ]
          },
          "metadata": {},
          "execution_count": 31
        }
      ]
    },
    {
      "cell_type": "code",
      "source": [
        "a = np.array(['2018-11-15','2018-12-15', '2010-01-15'], dtype = np.datetime64)\n",
        "a"
      ],
      "metadata": {
        "colab": {
          "base_uri": "https://localhost:8080/"
        },
        "id": "bZTJmNt40IfQ",
        "outputId": "80dd725a-f0df-47aa-dbd2-c33240683d8d"
      },
      "execution_count": 32,
      "outputs": [
        {
          "output_type": "execute_result",
          "data": {
            "text/plain": [
              "array(['2018-11-15', '2018-12-15', '2010-01-15'], dtype='datetime64[D]')"
            ]
          },
          "metadata": {},
          "execution_count": 32
        }
      ]
    },
    {
      "cell_type": "code",
      "source": [
        "delta = np.datetime64('2018-11-15') - np.datetime64('2016-11-15')"
      ],
      "metadata": {
        "id": "-SmfkO6s0gkL"
      },
      "execution_count": 33,
      "outputs": []
    },
    {
      "cell_type": "code",
      "source": [
        "delta, delta.dtype"
      ],
      "metadata": {
        "colab": {
          "base_uri": "https://localhost:8080/"
        },
        "id": "VkOgFkw60ohZ",
        "outputId": "30efd624-a55b-4ca8-d2f6-840e628d1adc"
      },
      "execution_count": 34,
      "outputs": [
        {
          "output_type": "execute_result",
          "data": {
            "text/plain": [
              "(numpy.timedelta64(730,'D'), dtype('<m8[D]'))"
            ]
          },
          "metadata": {},
          "execution_count": 34
        }
      ]
    },
    {
      "cell_type": "code",
      "source": [
        "print"
      ],
      "metadata": {
        "colab": {
          "base_uri": "https://localhost:8080/"
        },
        "id": "wHxkjaUo0ppd",
        "outputId": "ea2ff7c4-29d7-4b5f-e016-4d3df7d247bd"
      },
      "execution_count": 35,
      "outputs": [
        {
          "output_type": "stream",
          "name": "stdout",
          "text": [
            "730 days\n"
          ]
        }
      ]
    },
    {
      "cell_type": "markdown",
      "source": [
        "문자 자료형\n",
        "- 유니코드\n",
        "- 바이트"
      ],
      "metadata": {
        "id": "RiE-ccO80sam"
      }
    },
    {
      "cell_type": "code",
      "source": [
        "np.str_, np.unicode_"
      ],
      "metadata": {
        "colab": {
          "base_uri": "https://localhost:8080/"
        },
        "id": "9_a73vWi0q5B",
        "outputId": "29ccdc1d-9e06-4534-a4c5-a95fb908dbea"
      },
      "execution_count": 36,
      "outputs": [
        {
          "output_type": "execute_result",
          "data": {
            "text/plain": [
              "(numpy.str_, numpy.str_)"
            ]
          },
          "metadata": {},
          "execution_count": 36
        }
      ]
    },
    {
      "cell_type": "code",
      "source": [
        "# 바이트 문자열\n",
        "s = np.array([['a','b'],['c','d']], dtype = 'S')\n",
        "s"
      ],
      "metadata": {
        "colab": {
          "base_uri": "https://localhost:8080/"
        },
        "id": "fHiukemI06K5",
        "outputId": "5c10db7c-2f22-47b3-f199-30a9ec6970bb"
      },
      "execution_count": 41,
      "outputs": [
        {
          "output_type": "execute_result",
          "data": {
            "text/plain": [
              "array([[b'a', b'b'],\n",
              "       [b'c', b'd']], dtype='|S1')"
            ]
          },
          "metadata": {},
          "execution_count": 41
        }
      ]
    },
    {
      "cell_type": "code",
      "source": [
        "# 문자열\n",
        "u1 = np.array([['a','b'],['c','d']])\n",
        "u1"
      ],
      "metadata": {
        "colab": {
          "base_uri": "https://localhost:8080/"
        },
        "id": "P8ubDKVf1BNL",
        "outputId": "04c25c42-d1c3-40a7-c0f6-198ac37ff3a3"
      },
      "execution_count": 43,
      "outputs": [
        {
          "output_type": "execute_result",
          "data": {
            "text/plain": [
              "array([['a', 'b'],\n",
              "       ['c', 'd']], dtype='<U1')"
            ]
          },
          "metadata": {},
          "execution_count": 43
        }
      ]
    },
    {
      "cell_type": "code",
      "source": [
        "# 문자 자료형 처리\n",
        "\n",
        "a = np.array(['abc','12345'], dtype = object)\n",
        "a"
      ],
      "metadata": {
        "colab": {
          "base_uri": "https://localhost:8080/"
        },
        "id": "o_HlnarS2cBj",
        "outputId": "d7ab58f6-2471-428e-ac7f-08fa4f1effe4"
      },
      "execution_count": 44,
      "outputs": [
        {
          "output_type": "execute_result",
          "data": {
            "text/plain": [
              "array(['abc', '12345'], dtype=object)"
            ]
          },
          "metadata": {},
          "execution_count": 44
        }
      ]
    },
    {
      "cell_type": "code",
      "source": [
        "type(a[0]), type(a[1])"
      ],
      "metadata": {
        "colab": {
          "base_uri": "https://localhost:8080/"
        },
        "id": "RbVnLa2y3oUR",
        "outputId": "2a978188-6a52-4977-c8cd-42e78e3e6ae0"
      },
      "execution_count": 46,
      "outputs": [
        {
          "output_type": "execute_result",
          "data": {
            "text/plain": [
              "(str, str)"
            ]
          },
          "metadata": {},
          "execution_count": 46
        }
      ]
    },
    {
      "cell_type": "code",
      "source": [
        "b = np.array([b'abc',b'12345'], dtype = object)\n",
        "b"
      ],
      "metadata": {
        "colab": {
          "base_uri": "https://localhost:8080/"
        },
        "id": "iOwBt2t13pdD",
        "outputId": "d5163fbe-01ac-4052-a001-d96aceb63aa6"
      },
      "execution_count": 47,
      "outputs": [
        {
          "output_type": "execute_result",
          "data": {
            "text/plain": [
              "array([b'abc', b'12345'], dtype=object)"
            ]
          },
          "metadata": {},
          "execution_count": 47
        }
      ]
    },
    {
      "cell_type": "code",
      "source": [
        "type(b[0])"
      ],
      "metadata": {
        "colab": {
          "base_uri": "https://localhost:8080/"
        },
        "id": "yj6JQXcO3ysg",
        "outputId": "28079806-4400-4193-f34d-5d82a1d2ec13"
      },
      "execution_count": 48,
      "outputs": [
        {
          "output_type": "execute_result",
          "data": {
            "text/plain": [
              "bytes"
            ]
          },
          "metadata": {},
          "execution_count": 48
        }
      ]
    },
    {
      "cell_type": "code",
      "source": [
        "d5 = np.array(range(10), dtype = 'S5').reshape(2,5)\n",
        "d5"
      ],
      "metadata": {
        "colab": {
          "base_uri": "https://localhost:8080/"
        },
        "id": "MKtYOHI_30a9",
        "outputId": "548d44ca-9ce6-4c62-dec0-4464b32a8248"
      },
      "execution_count": 50,
      "outputs": [
        {
          "output_type": "execute_result",
          "data": {
            "text/plain": [
              "array([[b'0', b'1', b'2', b'3', b'4'],\n",
              "       [b'5', b'6', b'7', b'8', b'9']], dtype='|S5')"
            ]
          },
          "metadata": {},
          "execution_count": 50
        }
      ]
    },
    {
      "cell_type": "markdown",
      "source": [
        "시각화와 수학함수 알아보기"
      ],
      "metadata": {
        "id": "mONbkSI24NyK"
      }
    },
    {
      "cell_type": "code",
      "source": [
        "import matplotlib.pyplot as plt\n",
        "import matplotlib.spines"
      ],
      "metadata": {
        "id": "QWLAj_Kd4uPI"
      },
      "execution_count": 66,
      "outputs": []
    },
    {
      "cell_type": "code",
      "source": [
        "# 활성화 함수 그리기\n",
        "# 항등 함수\n",
        "\n",
        "def identity(x):\n",
        "  return x\n",
        "\n",
        "x = np.arange(-10,11)\n",
        "y = identity(x)\n",
        "print(y)\n",
        "x == y"
      ],
      "metadata": {
        "colab": {
          "base_uri": "https://localhost:8080/"
        },
        "id": "28qf-HG537g7",
        "outputId": "9835ccf1-98d8-49a5-df1b-62d76d095ac7"
      },
      "execution_count": 54,
      "outputs": [
        {
          "output_type": "stream",
          "name": "stdout",
          "text": [
            "[-10  -9  -8  -7  -6  -5  -4  -3  -2  -1   0   1   2   3   4   5   6   7\n",
            "   8   9  10]\n"
          ]
        },
        {
          "output_type": "execute_result",
          "data": {
            "text/plain": [
              "array([ True,  True,  True,  True,  True,  True,  True,  True,  True,\n",
              "        True,  True,  True,  True,  True,  True,  True,  True,  True,\n",
              "        True,  True,  True])"
            ]
          },
          "metadata": {},
          "execution_count": 54
        }
      ]
    },
    {
      "cell_type": "code",
      "source": [
        "def spines() :\n",
        "    ax = plt.gca() # gca : 현재 Axes 객체를 반환\n",
        "    ax.spines['right'].set_color('none')\n",
        "    ax.spines['top'].set_color('none')\n",
        "    ax.spines['bottom'].set_position(('data',0)) # x축 데이터 값 0에서 스파인이 위치하도록 설정\n",
        "    ax.spines['left'].set_position(('data',0)) # y축 데이터 값 0에서 스파인이 위치하도록 설정\n",
        "\n",
        "    ax.xaxis.set_ticks_position('bottom') # x축의 눈금 위치를 'bottom'으로 설정하여 x축 눈금이 플롯의 하단에만 나타나도록\n",
        "    ax.yaxis.set_ticks_position('left') # y축의 눈금 위치를 'left'으로 설정하여 y축 눈금이 플롯의 왼쪽에만 나타나도록\n",
        "\n",
        "fig = plt.figure(figsize = (8,6))\n",
        "plt.plot(x,y)\n",
        "spines()\n",
        "plt.show()"
      ],
      "metadata": {
        "colab": {
          "base_uri": "https://localhost:8080/",
          "height": 499
        },
        "id": "DkNRTJH74ehd",
        "outputId": "cf110dc5-aeff-4d9b-d36a-e91e8dd60e92"
      },
      "execution_count": 71,
      "outputs": [
        {
          "output_type": "display_data",
          "data": {
            "text/plain": [
              "<Figure size 800x600 with 1 Axes>"
            ],
            "image/png": "[encoded data removed]"
          },
          "metadata": {}
        }
      ]
    },
    {
      "cell_type": "code",
      "source": [
        "# 계단 함수\n",
        "\n",
        "def step(x):\n",
        "  return np.where(x>0, 1,0) # x>0이면 1, 아니면 0\n",
        "\n",
        "x = np.arange(-5,5,0.1)\n",
        "y= step(x)\n",
        "y\n",
        "\n",
        "plt.plot(x,y)\n",
        "plt.grid()\n",
        "spines()\n",
        "plt.show()"
      ],
      "metadata": {
        "colab": {
          "base_uri": "https://localhost:8080/",
          "height": 413
        },
        "id": "5fwhJiY64wTi",
        "outputId": "5fb616b1-ebae-42bc-aecd-77352eb7cc80"
      },
      "execution_count": 74,
      "outputs": [
        {
          "output_type": "display_data",
          "data": {
            "text/plain": [
              "<Figure size 640x480 with 1 Axes>"
            ],
            "image/png": "[encoded data removed]"
          },
          "metadata": {}
        }
      ]
    },
    {
      "cell_type": "code",
      "source": [
        "# 하이퍼볼릭 탄젠트 함수\n",
        "# - -1과 1사이의 값을 0 중심으로 대칭 형태로 값 보여줌\n",
        "\n",
        "x = np.arange(-5,5,0.1)\n",
        "y = np.tanh(x)\n",
        "\n",
        "plt.plot(x,y)\n",
        "plt.grid()\n",
        "spines()\n",
        "plt.show()"
      ],
      "metadata": {
        "colab": {
          "base_uri": "https://localhost:8080/",
          "height": 406
        },
        "id": "KOQJqrLT8hX2",
        "outputId": "a741814c-8c29-45a0-a475-bc2d4ce228bd"
      },
      "execution_count": 75,
      "outputs": [
        {
          "output_type": "display_data",
          "data": {
            "text/plain": [
              "<Figure size 640x480 with 1 Axes>"
            ],
            "image/png": "[encoded data removed]"
          },
          "metadata": {}
        }
      ]
    },
    {
      "cell_type": "code",
      "source": [
        "# 시그모이드 함수\n",
        "# - 무조건 출력값은 0과 1사이\n",
        "\n",
        "def sigmoid(x):\n",
        "  return 1/(1+np.exp(-x))\n",
        "\n",
        "x = np.arange(-5,5,0.1)\n",
        "y = sigmoid(x)\n",
        "print(x.shape, y.shape)\n",
        "\n",
        "plt.plot(x,y)\n",
        "plt.grid()\n",
        "spines()\n",
        "plt.show()"
      ],
      "metadata": {
        "colab": {
          "base_uri": "https://localhost:8080/",
          "height": 433
        },
        "id": "WK8ppCVM82B8",
        "outputId": "220129b4-3328-4958-c00b-f09a7c54561e"
      },
      "execution_count": 79,
      "outputs": [
        {
          "output_type": "stream",
          "name": "stdout",
          "text": [
            "(100,) (100,)\n"
          ]
        },
        {
          "output_type": "display_data",
          "data": {
            "text/plain": [
              "<Figure size 640x480 with 1 Axes>"
            ],
            "image/png": "[encoded data removed]"
          },
          "metadata": {}
        }
      ]
    },
    {
      "cell_type": "code",
      "source": [
        "# 렐루 함수\n",
        "\n",
        "def relu(x):\n",
        "  return np.maximum(0,x)\n",
        "\n",
        "x = np.arange(-5,5,0.1)\n",
        "y = relu(x)\n",
        "\n",
        "plt.plot(x,y)\n",
        "plt.grid()\n",
        "spines()\n",
        "plt.show()"
      ],
      "metadata": {
        "colab": {
          "base_uri": "https://localhost:8080/",
          "height": 413
        },
        "id": "TOblZ3LE9S_J",
        "outputId": "0f3d913c-fc90-4c92-ec0b-57b42ac1fa55"
      },
      "execution_count": 82,
      "outputs": [
        {
          "output_type": "display_data",
          "data": {
            "text/plain": [
              "<Figure size 640x480 with 1 Axes>"
            ],
            "image/png": "[encoded data removed]"
          },
          "metadata": {}
        }
      ]
    },
    {
      "cell_type": "code",
      "source": [
        "# 소프트맥스 함수\n",
        "\n",
        "def softmax(x):\n",
        "  return np.exp(x) / np.sum(np.exp(x))\n",
        "\n",
        "x = np.arange(1,5)\n",
        "y = softmax(x)\n",
        "print(y)\n",
        "\n",
        "np.sum(y)\n",
        "\n",
        "ratio = y\n",
        "labels = y\n",
        "\n",
        "plt.pie(ratio, labels = labels , shadow = True, startangle = 90)\n",
        "plt.show()"
      ],
      "metadata": {
        "colab": {
          "base_uri": "https://localhost:8080/",
          "height": 424
        },
        "id": "2c-tRJXe_6Ha",
        "outputId": "adf86068-34dd-405c-e509-2ff3bd0d1fcb"
      },
      "execution_count": 86,
      "outputs": [
        {
          "output_type": "stream",
          "name": "stdout",
          "text": [
            "[0.0320586  0.08714432 0.23688282 0.64391426]\n"
          ]
        },
        {
          "output_type": "display_data",
          "data": {
            "text/plain": [
              "<Figure size 640x480 with 1 Axes>"
            ],
            "image/png": "[encoded data removed]"
          },
          "metadata": {}
        }
      ]
    },
    {
      "cell_type": "markdown",
      "source": [
        "수학 함수 알아보기"
      ],
      "metadata": {
        "id": "lUP8aHndDehn"
      }
    },
    {
      "cell_type": "code",
      "source": [
        "# 소수점 이하를 버리는 fix, trunc\n",
        "# 소수점 이하를 올림이나 버림하는 ceil, floor\n",
        "# 소수점 이하와 소수점 이상의 수도 올림과 내림 처리하는 round/around\n",
        "\n"
      ],
      "metadata": {
        "id": "FC8PumQGDCYJ"
      },
      "execution_count": null,
      "outputs": []
    }
  ]
}