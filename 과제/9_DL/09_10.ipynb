{
 "cells": [
  {
   "cell_type": "markdown",
   "metadata": {},
   "source": [
    "## boston 집 값 예측"
   ]
  },
  {
   "cell_type": "markdown",
   "metadata": {},
   "source": [
    "### [1] 모듈 로딩 및 데이터 준비"
   ]
  },
  {
   "cell_type": "code",
   "execution_count": 1,
   "metadata": {},
   "outputs": [],
   "source": [
    "import torch \n",
    "import torch.nn as nn\n",
    "import torch.nn.functional as f\n",
    "import torch.optim as optimizer\n",
    "\n",
    "import pandas as pd \n",
    "import matplotlib.pyplot as plt"
   ]
  },
  {
   "cell_type": "code",
   "execution_count": 2,
   "metadata": {},
   "outputs": [
    {
     "data": {
      "text/plain": [
       "<torch._C.Generator at 0x1cc88f5fc10>"
      ]
     },
     "execution_count": 2,
     "metadata": {},
     "output_type": "execute_result"
    }
   ],
   "source": [
    "torch.manual_seed(7)"
   ]
  },
  {
   "cell_type": "code",
   "execution_count": 3,
   "metadata": {},
   "outputs": [
    {
     "data": {
      "text/html": [
       "<div>\n",
       "<style scoped>\n",
       "    .dataframe tbody tr th:only-of-type {\n",
       "        vertical-align: middle;\n",
       "    }\n",
       "\n",
       "    .dataframe tbody tr th {\n",
       "        vertical-align: top;\n",
       "    }\n",
       "\n",
       "    .dataframe thead th {\n",
       "        text-align: right;\n",
       "    }\n",
       "</style>\n",
       "<table border=\"1\" class=\"dataframe\">\n",
       "  <thead>\n",
       "    <tr style=\"text-align: right;\">\n",
       "      <th></th>\n",
       "      <th>CRIM</th>\n",
       "      <th>ZN</th>\n",
       "      <th>INDUS</th>\n",
       "      <th>CHAS</th>\n",
       "      <th>NOX</th>\n",
       "      <th>RM</th>\n",
       "      <th>AGE</th>\n",
       "      <th>DIS</th>\n",
       "      <th>RAD</th>\n",
       "      <th>TAX</th>\n",
       "      <th>PTRATIO</th>\n",
       "      <th>B</th>\n",
       "      <th>LSTAT</th>\n",
       "      <th>MEDV</th>\n",
       "    </tr>\n",
       "  </thead>\n",
       "  <tbody>\n",
       "    <tr>\n",
       "      <th>0</th>\n",
       "      <td>0.00632</td>\n",
       "      <td>18.0</td>\n",
       "      <td>2.31</td>\n",
       "      <td>0</td>\n",
       "      <td>0.538</td>\n",
       "      <td>6.575</td>\n",
       "      <td>65.2</td>\n",
       "      <td>4.0900</td>\n",
       "      <td>1</td>\n",
       "      <td>296.0</td>\n",
       "      <td>15.3</td>\n",
       "      <td>396.9</td>\n",
       "      <td>4.98</td>\n",
       "      <td>24.0</td>\n",
       "    </tr>\n",
       "    <tr>\n",
       "      <th>1</th>\n",
       "      <td>0.02731</td>\n",
       "      <td>0.0</td>\n",
       "      <td>7.07</td>\n",
       "      <td>0</td>\n",
       "      <td>0.469</td>\n",
       "      <td>6.421</td>\n",
       "      <td>78.9</td>\n",
       "      <td>4.9671</td>\n",
       "      <td>2</td>\n",
       "      <td>242.0</td>\n",
       "      <td>17.8</td>\n",
       "      <td>396.9</td>\n",
       "      <td>9.14</td>\n",
       "      <td>21.6</td>\n",
       "    </tr>\n",
       "  </tbody>\n",
       "</table>\n",
       "</div>"
      ],
      "text/plain": [
       "      CRIM    ZN  INDUS  CHAS    NOX     RM   AGE     DIS  RAD    TAX  \\\n",
       "0  0.00632  18.0   2.31     0  0.538  6.575  65.2  4.0900    1  296.0   \n",
       "1  0.02731   0.0   7.07     0  0.469  6.421  78.9  4.9671    2  242.0   \n",
       "\n",
       "   PTRATIO      B  LSTAT  MEDV  \n",
       "0     15.3  396.9   4.98  24.0  \n",
       "1     17.8  396.9   9.14  21.6  "
      ]
     },
     "execution_count": 3,
     "metadata": {},
     "output_type": "execute_result"
    }
   ],
   "source": [
    "DATA_FILE = '../DATA/boston.csv'\n",
    "\n",
    "boston_df = pd.read_csv(DATA_FILE)\n",
    "boston_df.head(2)"
   ]
  },
  {
   "cell_type": "code",
   "execution_count": 4,
   "metadata": {},
   "outputs": [
    {
     "data": {
      "text/plain": [
       "14"
      ]
     },
     "execution_count": 4,
     "metadata": {},
     "output_type": "execute_result"
    }
   ],
   "source": [
    "len(boston_df.columns)"
   ]
  },
  {
   "cell_type": "markdown",
   "metadata": {},
   "source": [
    "### [2] 모듈 준비"
   ]
  },
  {
   "cell_type": "code",
   "execution_count": 5,
   "metadata": {},
   "outputs": [],
   "source": [
    "model = nn.Linear(13,1)"
   ]
  },
  {
   "cell_type": "code",
   "execution_count": 6,
   "metadata": {},
   "outputs": [
    {
     "name": "stdout",
     "output_type": "stream",
     "text": [
      "[weight] Parameter containing:\n",
      "tensor([[ 0.0194, -0.1671,  0.0883,  0.0870, -0.1482, -0.0416, -0.1625,  0.0720,\n",
      "         -0.0747,  0.1948,  0.1969,  0.0283, -0.1182]], requires_grad=True)\n",
      "\n",
      "[bias] Parameter containing:\n",
      "tensor([-0.1629], requires_grad=True)\n",
      "\n"
     ]
    }
   ],
   "source": [
    "for name, param in model.named_parameters():\n",
    "    print(f'[{name}] {param}\\n')"
   ]
  },
  {
   "cell_type": "markdown",
   "metadata": {},
   "source": [
    "### [3] 최적화 인스턴스 준비"
   ]
  },
  {
   "cell_type": "code",
   "execution_count": 7,
   "metadata": {},
   "outputs": [],
   "source": [
    "adam_optim = optimizer.Adam(model.parameters(), lr = 0.05)"
   ]
  },
  {
   "cell_type": "markdown",
   "metadata": {},
   "source": [
    "### [4] 학습 "
   ]
  },
  {
   "cell_type": "code",
   "execution_count": 8,
   "metadata": {},
   "outputs": [
    {
     "data": {
      "text/plain": [
       "torch.Size([506, 13])"
      ]
     },
     "execution_count": 8,
     "metadata": {},
     "output_type": "execute_result"
    }
   ],
   "source": [
    "feature_ts = torch.from_numpy(boston_df[boston_df.columns[:-1]].values).float()\n",
    "feature_ts.shape"
   ]
  },
  {
   "cell_type": "code",
   "execution_count": 9,
   "metadata": {},
   "outputs": [
    {
     "data": {
      "text/plain": [
       "torch.Size([506, 1])"
      ]
     },
     "execution_count": 9,
     "metadata": {},
     "output_type": "execute_result"
    }
   ],
   "source": [
    "target_ts = torch.from_numpy(boston_df[['MEDV']].values).float()\n",
    "target_ts.shape"
   ]
  },
  {
   "cell_type": "code",
   "execution_count": 10,
   "metadata": {},
   "outputs": [
    {
     "name": "stdout",
     "output_type": "stream",
     "text": [
      "[Feature] Train torch.Size([323, 13]), Test torch.Size([102, 13]), Val torch.Size([81, 13])\n",
      "[Target] Train torch.Size([323, 1]), Test torch.Size([102, 1]), Val torch.Size([81, 1])\n"
     ]
    }
   ],
   "source": [
    "from sklearn.model_selection import train_test_split\n",
    "\n",
    "x_train, x_test, y_train, y_test = train_test_split(feature_ts, target_ts, test_size=0.2)\n",
    "\n",
    "x_train, x_val, y_train, y_val = train_test_split(x_train, y_train, test_size=0.2)\n",
    "\n",
    "print(f'[Feature] Train {x_train.shape}, Test {x_test.shape}, Val {x_val.shape}')\n",
    "print(f'[Target] Train {y_train.shape}, Test {y_test.shape}, Val {y_val.shape}')\n"
   ]
  },
  {
   "cell_type": "markdown",
   "metadata": {},
   "source": [
    "학습"
   ]
  },
  {
   "cell_type": "code",
   "execution_count": 11,
   "metadata": {},
   "outputs": [],
   "source": [
    "EPOCH = 20"
   ]
  },
  {
   "cell_type": "code",
   "execution_count": 12,
   "metadata": {},
   "outputs": [],
   "source": [
    "def testing(test_ts, target_ts, kind='Val'):\n",
    "\n",
    "    with torch.no_grad(): # 업데이트 안 함 \n",
    "        pre_y = model(test_ts)\n",
    "        \n",
    "        loss = f.mse_loss(pre_y, target_ts)\n",
    "\n",
    "        print(f'[{kind}] LOSS : {loss}')\n",
    "\n",
    "    return loss "
   ]
  },
  {
   "cell_type": "code",
   "execution_count": 56,
   "metadata": {},
   "outputs": [],
   "source": [
    "def training(feature_ts, target_ts, val_ts, val_target_ts):\n",
    "    \n",
    "    loss_history = [[],[]]\n",
    "    \n",
    "    for epoch in range(EPOCH):\n",
    "        pre_y = model(feature_ts) \n",
    "\n",
    "        loss = f.mse_loss(pre_y, target_ts)\n",
    "        loss_history[0].append(loss.item())\n",
    "\n",
    "        adam_optim.zero_grad()\n",
    "        loss.backward()\n",
    "        adam_optim.step()\n",
    "\n",
    "        val_loss = testing(val_ts , val_target_ts)\n",
    "        loss_history[1].append(val_loss.item())\n",
    "\n",
    "        print(f'[{epoch}/{EPOCH}] LOSS : {loss}')\n",
    "\n",
    "    return loss_history"
   ]
  },
  {
   "cell_type": "code",
   "execution_count": 57,
   "metadata": {},
   "outputs": [
    {
     "name": "stdout",
     "output_type": "stream",
     "text": [
      "[Val] LOSS : 811.6783447265625\n",
      "[0/20] LOSS : 4522.1708984375\n",
      "[Val] LOSS : 1217.749267578125\n",
      "[1/20] LOSS : 943.9012451171875\n",
      "[Val] LOSS : 2233.044677734375\n",
      "[2/20] LOSS : 1202.645263671875\n",
      "[Val] LOSS : 2037.9947509765625\n",
      "[3/20] LOSS : 2182.93115234375\n",
      "[Val] LOSS : 1168.702392578125\n",
      "[4/20] LOSS : 1978.99365234375\n",
      "[Val] LOSS : 449.5827941894531\n",
      "[5/20] LOSS : 1116.67919921875\n",
      "[Val] LOSS : 279.18878173828125\n",
      "[6/20] LOSS : 433.0201721191406\n",
      "[Val] LOSS : 525.4654541015625\n",
      "[7/20] LOSS : 324.6600341796875\n",
      "[Val] LOSS : 764.60205078125\n",
      "[8/20] LOSS : 634.9303588867188\n",
      "[Val] LOSS : 724.9454956054688\n",
      "[9/20] LOSS : 908.1983642578125\n",
      "[Val] LOSS : 462.45635986328125\n",
      "[10/20] LOSS : 858.66650390625\n",
      "[Val] LOSS : 204.3577117919922\n",
      "[11/20] LOSS : 551.247802734375\n",
      "[Val] LOSS : 136.1505584716797\n",
      "[12/20] LOSS : 233.38037109375\n",
      "[Val] LOSS : 275.70428466796875\n",
      "[13/20] LOSS : 109.83139038085938\n",
      "[Val] LOSS : 480.72979736328125\n",
      "[14/20] LOSS : 209.694580078125\n",
      "[Val] LOSS : 580.3902587890625\n",
      "[15/20] LOSS : 392.3807067871094\n",
      "[Val] LOSS : 512.9419555664062\n",
      "[16/20] LOSS : 483.2519836425781\n",
      "[Val] LOSS : 348.6890869140625\n",
      "[17/20] LOSS : 417.0580139160156\n",
      "[Val] LOSS : 210.65354919433594\n",
      "[18/20] LOSS : 263.1504211425781\n",
      "[Val] LOSS : 177.61264038085938\n",
      "[19/20] LOSS : 144.08717346191406\n"
     ]
    }
   ],
   "source": [
    "loss = training(x_train, y_train, x_val, y_val)"
   ]
  },
  {
   "cell_type": "code",
   "execution_count": 62,
   "metadata": {},
   "outputs": [
    {
     "data": {
      "text/plain": [
       "[[4522.1708984375,\n",
       "  943.9012451171875,\n",
       "  1202.645263671875,\n",
       "  2182.93115234375,\n",
       "  1978.99365234375,\n",
       "  1116.67919921875,\n",
       "  433.0201721191406,\n",
       "  324.6600341796875,\n",
       "  634.9303588867188,\n",
       "  908.1983642578125,\n",
       "  858.66650390625,\n",
       "  551.247802734375,\n",
       "  233.38037109375,\n",
       "  109.83139038085938,\n",
       "  209.694580078125,\n",
       "  392.3807067871094,\n",
       "  483.2519836425781,\n",
       "  417.0580139160156,\n",
       "  263.1504211425781,\n",
       "  144.08717346191406],\n",
       " [811.6783447265625,\n",
       "  1217.749267578125,\n",
       "  2233.044677734375,\n",
       "  2037.9947509765625,\n",
       "  1168.702392578125,\n",
       "  449.5827941894531,\n",
       "  279.18878173828125,\n",
       "  525.4654541015625,\n",
       "  764.60205078125,\n",
       "  724.9454956054688,\n",
       "  462.45635986328125,\n",
       "  204.3577117919922,\n",
       "  136.1505584716797,\n",
       "  275.70428466796875,\n",
       "  480.72979736328125,\n",
       "  580.3902587890625,\n",
       "  512.9419555664062,\n",
       "  348.6890869140625,\n",
       "  210.65354919433594,\n",
       "  177.61264038085938]]"
      ]
     },
     "execution_count": 62,
     "metadata": {},
     "output_type": "execute_result"
    }
   ],
   "source": [
    "loss"
   ]
  },
  {
   "cell_type": "code",
   "execution_count": 58,
   "metadata": {},
   "outputs": [
    {
     "data": {
      "image/png": "[encoded data removed]",
      "text/plain": [
       "<Figure size 640x480 with 1 Axes>"
      ]
     },
     "metadata": {},
     "output_type": "display_data"
    }
   ],
   "source": [
    "plt.plot(range(1,EPOCH+1), loss[0], label='Train')\n",
    "plt.plot(range(1,EPOCH+1), loss[1], label = 'Val')\n",
    "plt.title('Train & Valid')\n",
    "plt.xlabel('EPOCH')\n",
    "plt.ylabel('Loss')\n",
    "plt.grid()\n",
    "plt.legend()\n",
    "plt.show()\n"
   ]
  },
  {
   "cell_type": "code",
   "execution_count": 13,
   "metadata": {},
   "outputs": [],
   "source": [
    "def training_dict(feature_ts, target_ts, val_ts, val_target_ts):\n",
    "    \n",
    "    loss_history = {}\n",
    "\n",
    "    for epoch in range(EPOCH):\n",
    "        pre_y = model(feature_ts) \n",
    "\n",
    "        loss = f.mse_loss(pre_y, target_ts)\n",
    "\n",
    "        adam_optim.zero_grad()\n",
    "        loss.backward()\n",
    "        adam_optim.step()\n",
    "\n",
    "        val_loss = testing(val_ts , val_target_ts)\n",
    "\n",
    "        loss_history[loss.item()] = val_loss.item()\n",
    "\n",
    "        print(f'[{epoch}/{EPOCH}] LOSS : {loss}')\n",
    "\n",
    "    return loss_history"
   ]
  },
  {
   "cell_type": "code",
   "execution_count": 14,
   "metadata": {},
   "outputs": [
    {
     "name": "stdout",
     "output_type": "stream",
     "text": [
      "[Val] LOSS : 935.6109008789062\n",
      "[0/20] LOSS : 4401.6025390625\n",
      "[Val] LOSS : 981.8900756835938\n",
      "[1/20] LOSS : 935.5006103515625\n",
      "[Val] LOSS : 1851.194091796875\n",
      "[2/20] LOSS : 1219.636474609375\n",
      "[Val] LOSS : 1662.3271484375\n",
      "[3/20] LOSS : 2147.55859375\n",
      "[Val] LOSS : 890.4605712890625\n",
      "[4/20] LOSS : 1912.47216796875\n",
      "[Val] LOSS : 316.4018859863281\n",
      "[5/20] LOSS : 1062.35986328125\n",
      "[Val] LOSS : 291.2991027832031\n",
      "[6/20] LOSS : 412.10076904296875\n",
      "[Val] LOSS : 630.2232055664062\n",
      "[7/20] LOSS : 330.8833923339844\n",
      "[Val] LOSS : 884.0914306640625\n",
      "[8/20] LOSS : 643.0521240234375\n",
      "[Val] LOSS : 801.9219360351562\n",
      "[9/20] LOSS : 897.4276123046875\n",
      "[Val] LOSS : 479.1028747558594\n",
      "[10/20] LOSS : 830.8859252929688\n",
      "[Val] LOSS : 172.53749084472656\n",
      "[11/20] LOSS : 524.8710327148438\n",
      "[Val] LOSS : 77.74298095703125\n",
      "[12/20] LOSS : 226.69061279296875\n",
      "[Val] LOSS : 205.0742645263672\n",
      "[13/20] LOSS : 128.45257568359375\n",
      "[Val] LOSS : 399.2585144042969\n",
      "[14/20] LOSS : 243.19879150390625\n",
      "[Val] LOSS : 485.3399963378906\n",
      "[15/20] LOSS : 422.6388244628906\n",
      "[Val] LOSS : 408.3921813964844\n",
      "[16/20] LOSS : 499.2730407714844\n",
      "[Val] LOSS : 246.92872619628906\n",
      "[17/20] LOSS : 422.4296569824219\n",
      "[Val] LOSS : 124.74966430664062\n",
      "[18/20] LOSS : 270.5308532714844\n",
      "[Val] LOSS : 112.16608428955078\n",
      "[19/20] LOSS : 163.93487548828125\n"
     ]
    }
   ],
   "source": [
    "loss_dict = training_dict(x_train, y_train, x_val, y_val)"
   ]
  },
  {
   "cell_type": "code",
   "execution_count": 15,
   "metadata": {},
   "outputs": [
    {
     "data": {
      "text/plain": [
       "{4401.6025390625: 935.6109008789062,\n",
       " 935.5006103515625: 981.8900756835938,\n",
       " 1219.636474609375: 1851.194091796875,\n",
       " 2147.55859375: 1662.3271484375,\n",
       " 1912.47216796875: 890.4605712890625,\n",
       " 1062.35986328125: 316.4018859863281,\n",
       " 412.10076904296875: 291.2991027832031,\n",
       " 330.8833923339844: 630.2232055664062,\n",
       " 643.0521240234375: 884.0914306640625,\n",
       " 897.4276123046875: 801.9219360351562,\n",
       " 830.8859252929688: 479.1028747558594,\n",
       " 524.8710327148438: 172.53749084472656,\n",
       " 226.69061279296875: 77.74298095703125,\n",
       " 128.45257568359375: 205.0742645263672,\n",
       " 243.19879150390625: 399.2585144042969,\n",
       " 422.6388244628906: 485.3399963378906,\n",
       " 499.2730407714844: 408.3921813964844,\n",
       " 422.4296569824219: 246.92872619628906,\n",
       " 270.5308532714844: 124.74966430664062,\n",
       " 163.93487548828125: 112.16608428955078}"
      ]
     },
     "execution_count": 15,
     "metadata": {},
     "output_type": "execute_result"
    }
   ],
   "source": [
    "loss_dict"
   ]
  },
  {
   "cell_type": "code",
   "execution_count": 16,
   "metadata": {},
   "outputs": [
    {
     "data": {
      "image/png": "[encoded data removed]",
      "text/plain": [
       "<Figure size 640x480 with 1 Axes>"
      ]
     },
     "metadata": {},
     "output_type": "display_data"
    }
   ],
   "source": [
    "plt.plot(range(1,EPOCH+1), loss_dict.keys(), label='Train')\n",
    "plt.plot(range(1,EPOCH+1), loss_dict.values(), label = 'Val')\n",
    "plt.title('Train & Valid')\n",
    "plt.xlabel('EPOCH')\n",
    "plt.ylabel('Loss')\n",
    "plt.grid()\n",
    "plt.legend()\n",
    "plt.show()\n"
   ]
  },
  {
   "cell_type": "code",
   "execution_count": null,
   "metadata": {},
   "outputs": [],
   "source": []
  }
 ],
 "metadata": {
  "kernelspec": {
   "display_name": "TORCH_38",
   "language": "python",
   "name": "python3"
  },
  "language_info": {
   "codemirror_mode": {
    "name": "ipython",
    "version": 3
   },
   "file_extension": ".py",
   "mimetype": "text/x-python",
   "name": "python",
   "nbconvert_exporter": "python",
   "pygments_lexer": "ipython3",
   "version": "3.8.19"
  }
 },
 "nbformat": 4,
 "nbformat_minor": 2
}
