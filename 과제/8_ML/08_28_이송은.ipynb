{
 "cells": [
  {
   "cell_type": "code",
   "execution_count": 1,
   "metadata": {},
   "outputs": [],
   "source": [
    "import pandas as pd\n",
    "import numpy as np\n",
    "import matplotlib.pyplot as plt"
   ]
  },
  {
   "cell_type": "markdown",
   "metadata": {},
   "source": [
    "## [1] 데이터 준비"
   ]
  },
  {
   "cell_type": "code",
   "execution_count": 2,
   "metadata": {},
   "outputs": [],
   "source": [
    "FILE_NAME = '../DATA/train_car_price_data.csv'\n",
    "TEST_NAME = '../DATA/test_car_price_data.csv'\n",
    "\n",
    "car_data = pd.read_csv(FILE_NAME, usecols=[3,4,5,8,9,10,11,13])\n",
    "test_data = pd.read_csv(TEST_NAME,usecols=[3,4,5,8,9,10,11])"
   ]
  },
  {
   "cell_type": "code",
   "execution_count": 3,
   "metadata": {},
   "outputs": [
    {
     "data": {
      "text/plain": [
       "Unnamed: 0              0\n",
       "Name                    0\n",
       "Location                0\n",
       "Year                    0\n",
       "Kilometers_Driven       0\n",
       "Fuel_Type               0\n",
       "Transmission            0\n",
       "Owner_Type              0\n",
       "Mileage                 2\n",
       "Engine                 36\n",
       "Power                  36\n",
       "Seats                  42\n",
       "New_Price            5195\n",
       "Price                   0\n",
       "dtype: int64"
      ]
     },
     "execution_count": 3,
     "metadata": {},
     "output_type": "execute_result"
    }
   ],
   "source": [
    "car_data_price = pd.read_csv(FILE_NAME)\n",
    "car_data_price.isna().sum()"
   ]
  },
  {
   "cell_type": "code",
   "execution_count": 4,
   "metadata": {},
   "outputs": [
    {
     "data": {
      "text/html": [
       "<div>\n",
       "<style scoped>\n",
       "    .dataframe tbody tr th:only-of-type {\n",
       "        vertical-align: middle;\n",
       "    }\n",
       "\n",
       "    .dataframe tbody tr th {\n",
       "        vertical-align: top;\n",
       "    }\n",
       "\n",
       "    .dataframe thead th {\n",
       "        text-align: right;\n",
       "    }\n",
       "</style>\n",
       "<table border=\"1\" class=\"dataframe\">\n",
       "  <thead>\n",
       "    <tr style=\"text-align: right;\">\n",
       "      <th></th>\n",
       "      <th>Year</th>\n",
       "      <th>Kilometers_Driven</th>\n",
       "      <th>Fuel_Type</th>\n",
       "      <th>Mileage</th>\n",
       "      <th>Engine</th>\n",
       "      <th>Power</th>\n",
       "      <th>Seats</th>\n",
       "      <th>Price</th>\n",
       "    </tr>\n",
       "  </thead>\n",
       "  <tbody>\n",
       "    <tr>\n",
       "      <th>0</th>\n",
       "      <td>2010</td>\n",
       "      <td>72000</td>\n",
       "      <td>CNG</td>\n",
       "      <td>26.6 km/kg</td>\n",
       "      <td>998 CC</td>\n",
       "      <td>58.16 bhp</td>\n",
       "      <td>5.0</td>\n",
       "      <td>1.75</td>\n",
       "    </tr>\n",
       "    <tr>\n",
       "      <th>1</th>\n",
       "      <td>2015</td>\n",
       "      <td>41000</td>\n",
       "      <td>Diesel</td>\n",
       "      <td>19.67 kmpl</td>\n",
       "      <td>1582 CC</td>\n",
       "      <td>126.2 bhp</td>\n",
       "      <td>5.0</td>\n",
       "      <td>12.50</td>\n",
       "    </tr>\n",
       "    <tr>\n",
       "      <th>2</th>\n",
       "      <td>2011</td>\n",
       "      <td>46000</td>\n",
       "      <td>Petrol</td>\n",
       "      <td>18.2 kmpl</td>\n",
       "      <td>1199 CC</td>\n",
       "      <td>88.7 bhp</td>\n",
       "      <td>5.0</td>\n",
       "      <td>4.50</td>\n",
       "    </tr>\n",
       "    <tr>\n",
       "      <th>3</th>\n",
       "      <td>2012</td>\n",
       "      <td>87000</td>\n",
       "      <td>Diesel</td>\n",
       "      <td>20.77 kmpl</td>\n",
       "      <td>1248 CC</td>\n",
       "      <td>88.76 bhp</td>\n",
       "      <td>7.0</td>\n",
       "      <td>6.00</td>\n",
       "    </tr>\n",
       "    <tr>\n",
       "      <th>4</th>\n",
       "      <td>2013</td>\n",
       "      <td>40670</td>\n",
       "      <td>Diesel</td>\n",
       "      <td>15.2 kmpl</td>\n",
       "      <td>1968 CC</td>\n",
       "      <td>140.8 bhp</td>\n",
       "      <td>5.0</td>\n",
       "      <td>17.74</td>\n",
       "    </tr>\n",
       "    <tr>\n",
       "      <th>...</th>\n",
       "      <td>...</td>\n",
       "      <td>...</td>\n",
       "      <td>...</td>\n",
       "      <td>...</td>\n",
       "      <td>...</td>\n",
       "      <td>...</td>\n",
       "      <td>...</td>\n",
       "      <td>...</td>\n",
       "    </tr>\n",
       "    <tr>\n",
       "      <th>6014</th>\n",
       "      <td>2014</td>\n",
       "      <td>27365</td>\n",
       "      <td>Diesel</td>\n",
       "      <td>28.4 kmpl</td>\n",
       "      <td>1248 CC</td>\n",
       "      <td>74 bhp</td>\n",
       "      <td>5.0</td>\n",
       "      <td>4.75</td>\n",
       "    </tr>\n",
       "    <tr>\n",
       "      <th>6015</th>\n",
       "      <td>2015</td>\n",
       "      <td>100000</td>\n",
       "      <td>Diesel</td>\n",
       "      <td>24.4 kmpl</td>\n",
       "      <td>1120 CC</td>\n",
       "      <td>71 bhp</td>\n",
       "      <td>5.0</td>\n",
       "      <td>4.00</td>\n",
       "    </tr>\n",
       "    <tr>\n",
       "      <th>6016</th>\n",
       "      <td>2012</td>\n",
       "      <td>55000</td>\n",
       "      <td>Diesel</td>\n",
       "      <td>14.0 kmpl</td>\n",
       "      <td>2498 CC</td>\n",
       "      <td>112 bhp</td>\n",
       "      <td>8.0</td>\n",
       "      <td>2.90</td>\n",
       "    </tr>\n",
       "    <tr>\n",
       "      <th>6017</th>\n",
       "      <td>2013</td>\n",
       "      <td>46000</td>\n",
       "      <td>Petrol</td>\n",
       "      <td>18.9 kmpl</td>\n",
       "      <td>998 CC</td>\n",
       "      <td>67.1 bhp</td>\n",
       "      <td>5.0</td>\n",
       "      <td>2.65</td>\n",
       "    </tr>\n",
       "    <tr>\n",
       "      <th>6018</th>\n",
       "      <td>2011</td>\n",
       "      <td>47000</td>\n",
       "      <td>Diesel</td>\n",
       "      <td>25.44 kmpl</td>\n",
       "      <td>936 CC</td>\n",
       "      <td>57.6 bhp</td>\n",
       "      <td>5.0</td>\n",
       "      <td>2.50</td>\n",
       "    </tr>\n",
       "  </tbody>\n",
       "</table>\n",
       "<p>6019 rows × 8 columns</p>\n",
       "</div>"
      ],
      "text/plain": [
       "      Year  Kilometers_Driven Fuel_Type     Mileage   Engine      Power  \\\n",
       "0     2010              72000       CNG  26.6 km/kg   998 CC  58.16 bhp   \n",
       "1     2015              41000    Diesel  19.67 kmpl  1582 CC  126.2 bhp   \n",
       "2     2011              46000    Petrol   18.2 kmpl  1199 CC   88.7 bhp   \n",
       "3     2012              87000    Diesel  20.77 kmpl  1248 CC  88.76 bhp   \n",
       "4     2013              40670    Diesel   15.2 kmpl  1968 CC  140.8 bhp   \n",
       "...    ...                ...       ...         ...      ...        ...   \n",
       "6014  2014              27365    Diesel   28.4 kmpl  1248 CC     74 bhp   \n",
       "6015  2015             100000    Diesel   24.4 kmpl  1120 CC     71 bhp   \n",
       "6016  2012              55000    Diesel   14.0 kmpl  2498 CC    112 bhp   \n",
       "6017  2013              46000    Petrol   18.9 kmpl   998 CC   67.1 bhp   \n",
       "6018  2011              47000    Diesel  25.44 kmpl   936 CC   57.6 bhp   \n",
       "\n",
       "      Seats  Price  \n",
       "0       5.0   1.75  \n",
       "1       5.0  12.50  \n",
       "2       5.0   4.50  \n",
       "3       7.0   6.00  \n",
       "4       5.0  17.74  \n",
       "...     ...    ...  \n",
       "6014    5.0   4.75  \n",
       "6015    5.0   4.00  \n",
       "6016    8.0   2.90  \n",
       "6017    5.0   2.65  \n",
       "6018    5.0   2.50  \n",
       "\n",
       "[6019 rows x 8 columns]"
      ]
     },
     "execution_count": 4,
     "metadata": {},
     "output_type": "execute_result"
    }
   ],
   "source": [
    "car_data"
   ]
  },
  {
   "cell_type": "code",
   "execution_count": 5,
   "metadata": {},
   "outputs": [
    {
     "data": {
      "text/plain": [
       "Year                  0\n",
       "Kilometers_Driven     0\n",
       "Fuel_Type             0\n",
       "Mileage               2\n",
       "Engine               36\n",
       "Power                36\n",
       "Seats                42\n",
       "Price                 0\n",
       "dtype: int64"
      ]
     },
     "execution_count": 5,
     "metadata": {},
     "output_type": "execute_result"
    }
   ],
   "source": [
    "car_data.isna().sum()"
   ]
  },
  {
   "cell_type": "code",
   "execution_count": 6,
   "metadata": {},
   "outputs": [],
   "source": [
    "car_data.dropna(inplace=True)\n",
    "car_data.reset_index(drop=True, inplace=True)"
   ]
  },
  {
   "cell_type": "code",
   "execution_count": 7,
   "metadata": {},
   "outputs": [
    {
     "data": {
      "text/html": [
       "<div>\n",
       "<style scoped>\n",
       "    .dataframe tbody tr th:only-of-type {\n",
       "        vertical-align: middle;\n",
       "    }\n",
       "\n",
       "    .dataframe tbody tr th {\n",
       "        vertical-align: top;\n",
       "    }\n",
       "\n",
       "    .dataframe thead th {\n",
       "        text-align: right;\n",
       "    }\n",
       "</style>\n",
       "<table border=\"1\" class=\"dataframe\">\n",
       "  <thead>\n",
       "    <tr style=\"text-align: right;\">\n",
       "      <th></th>\n",
       "      <th>Year</th>\n",
       "      <th>Kilometers_Driven</th>\n",
       "      <th>Fuel_Type</th>\n",
       "      <th>Mileage</th>\n",
       "      <th>Engine</th>\n",
       "      <th>Power</th>\n",
       "      <th>Seats</th>\n",
       "      <th>Price</th>\n",
       "    </tr>\n",
       "  </thead>\n",
       "  <tbody>\n",
       "    <tr>\n",
       "      <th>0</th>\n",
       "      <td>2010</td>\n",
       "      <td>72000</td>\n",
       "      <td>CNG</td>\n",
       "      <td>26.6 km/kg</td>\n",
       "      <td>998 CC</td>\n",
       "      <td>58.16 bhp</td>\n",
       "      <td>5.0</td>\n",
       "      <td>1.75</td>\n",
       "    </tr>\n",
       "    <tr>\n",
       "      <th>1</th>\n",
       "      <td>2015</td>\n",
       "      <td>41000</td>\n",
       "      <td>Diesel</td>\n",
       "      <td>19.67 kmpl</td>\n",
       "      <td>1582 CC</td>\n",
       "      <td>126.2 bhp</td>\n",
       "      <td>5.0</td>\n",
       "      <td>12.50</td>\n",
       "    </tr>\n",
       "    <tr>\n",
       "      <th>2</th>\n",
       "      <td>2011</td>\n",
       "      <td>46000</td>\n",
       "      <td>Petrol</td>\n",
       "      <td>18.2 kmpl</td>\n",
       "      <td>1199 CC</td>\n",
       "      <td>88.7 bhp</td>\n",
       "      <td>5.0</td>\n",
       "      <td>4.50</td>\n",
       "    </tr>\n",
       "    <tr>\n",
       "      <th>3</th>\n",
       "      <td>2012</td>\n",
       "      <td>87000</td>\n",
       "      <td>Diesel</td>\n",
       "      <td>20.77 kmpl</td>\n",
       "      <td>1248 CC</td>\n",
       "      <td>88.76 bhp</td>\n",
       "      <td>7.0</td>\n",
       "      <td>6.00</td>\n",
       "    </tr>\n",
       "    <tr>\n",
       "      <th>4</th>\n",
       "      <td>2013</td>\n",
       "      <td>40670</td>\n",
       "      <td>Diesel</td>\n",
       "      <td>15.2 kmpl</td>\n",
       "      <td>1968 CC</td>\n",
       "      <td>140.8 bhp</td>\n",
       "      <td>5.0</td>\n",
       "      <td>17.74</td>\n",
       "    </tr>\n",
       "    <tr>\n",
       "      <th>...</th>\n",
       "      <td>...</td>\n",
       "      <td>...</td>\n",
       "      <td>...</td>\n",
       "      <td>...</td>\n",
       "      <td>...</td>\n",
       "      <td>...</td>\n",
       "      <td>...</td>\n",
       "      <td>...</td>\n",
       "    </tr>\n",
       "    <tr>\n",
       "      <th>5970</th>\n",
       "      <td>2014</td>\n",
       "      <td>27365</td>\n",
       "      <td>Diesel</td>\n",
       "      <td>28.4 kmpl</td>\n",
       "      <td>1248 CC</td>\n",
       "      <td>74 bhp</td>\n",
       "      <td>5.0</td>\n",
       "      <td>4.75</td>\n",
       "    </tr>\n",
       "    <tr>\n",
       "      <th>5971</th>\n",
       "      <td>2015</td>\n",
       "      <td>100000</td>\n",
       "      <td>Diesel</td>\n",
       "      <td>24.4 kmpl</td>\n",
       "      <td>1120 CC</td>\n",
       "      <td>71 bhp</td>\n",
       "      <td>5.0</td>\n",
       "      <td>4.00</td>\n",
       "    </tr>\n",
       "    <tr>\n",
       "      <th>5972</th>\n",
       "      <td>2012</td>\n",
       "      <td>55000</td>\n",
       "      <td>Diesel</td>\n",
       "      <td>14.0 kmpl</td>\n",
       "      <td>2498 CC</td>\n",
       "      <td>112 bhp</td>\n",
       "      <td>8.0</td>\n",
       "      <td>2.90</td>\n",
       "    </tr>\n",
       "    <tr>\n",
       "      <th>5973</th>\n",
       "      <td>2013</td>\n",
       "      <td>46000</td>\n",
       "      <td>Petrol</td>\n",
       "      <td>18.9 kmpl</td>\n",
       "      <td>998 CC</td>\n",
       "      <td>67.1 bhp</td>\n",
       "      <td>5.0</td>\n",
       "      <td>2.65</td>\n",
       "    </tr>\n",
       "    <tr>\n",
       "      <th>5974</th>\n",
       "      <td>2011</td>\n",
       "      <td>47000</td>\n",
       "      <td>Diesel</td>\n",
       "      <td>25.44 kmpl</td>\n",
       "      <td>936 CC</td>\n",
       "      <td>57.6 bhp</td>\n",
       "      <td>5.0</td>\n",
       "      <td>2.50</td>\n",
       "    </tr>\n",
       "  </tbody>\n",
       "</table>\n",
       "<p>5975 rows × 8 columns</p>\n",
       "</div>"
      ],
      "text/plain": [
       "      Year  Kilometers_Driven Fuel_Type     Mileage   Engine      Power  \\\n",
       "0     2010              72000       CNG  26.6 km/kg   998 CC  58.16 bhp   \n",
       "1     2015              41000    Diesel  19.67 kmpl  1582 CC  126.2 bhp   \n",
       "2     2011              46000    Petrol   18.2 kmpl  1199 CC   88.7 bhp   \n",
       "3     2012              87000    Diesel  20.77 kmpl  1248 CC  88.76 bhp   \n",
       "4     2013              40670    Diesel   15.2 kmpl  1968 CC  140.8 bhp   \n",
       "...    ...                ...       ...         ...      ...        ...   \n",
       "5970  2014              27365    Diesel   28.4 kmpl  1248 CC     74 bhp   \n",
       "5971  2015             100000    Diesel   24.4 kmpl  1120 CC     71 bhp   \n",
       "5972  2012              55000    Diesel   14.0 kmpl  2498 CC    112 bhp   \n",
       "5973  2013              46000    Petrol   18.9 kmpl   998 CC   67.1 bhp   \n",
       "5974  2011              47000    Diesel  25.44 kmpl   936 CC   57.6 bhp   \n",
       "\n",
       "      Seats  Price  \n",
       "0       5.0   1.75  \n",
       "1       5.0  12.50  \n",
       "2       5.0   4.50  \n",
       "3       7.0   6.00  \n",
       "4       5.0  17.74  \n",
       "...     ...    ...  \n",
       "5970    5.0   4.75  \n",
       "5971    5.0   4.00  \n",
       "5972    8.0   2.90  \n",
       "5973    5.0   2.65  \n",
       "5974    5.0   2.50  \n",
       "\n",
       "[5975 rows x 8 columns]"
      ]
     },
     "execution_count": 7,
     "metadata": {},
     "output_type": "execute_result"
    }
   ],
   "source": [
    "car_data"
   ]
  },
  {
   "cell_type": "code",
   "execution_count": 8,
   "metadata": {},
   "outputs": [
    {
     "data": {
      "text/plain": [
       "Year                 5975\n",
       "Kilometers_Driven    5975\n",
       "Fuel_Type            5975\n",
       "Mileage              5975\n",
       "Engine               5975\n",
       "Power                5975\n",
       "Seats                5975\n",
       "Price                5975\n",
       "dtype: int64"
      ]
     },
     "execution_count": 8,
     "metadata": {},
     "output_type": "execute_result"
    }
   ],
   "source": [
    "car_data.count()"
   ]
  },
  {
   "cell_type": "code",
   "execution_count": 9,
   "metadata": {},
   "outputs": [
    {
     "data": {
      "text/plain": [
       "'bhp'"
      ]
     },
     "execution_count": 9,
     "metadata": {},
     "output_type": "execute_result"
    }
   ],
   "source": [
    "'58.16 bhp'.split()[1]"
   ]
  },
  {
   "cell_type": "code",
   "execution_count": 10,
   "metadata": {},
   "outputs": [
    {
     "data": {
      "text/html": [
       "<div>\n",
       "<style scoped>\n",
       "    .dataframe tbody tr th:only-of-type {\n",
       "        vertical-align: middle;\n",
       "    }\n",
       "\n",
       "    .dataframe tbody tr th {\n",
       "        vertical-align: top;\n",
       "    }\n",
       "\n",
       "    .dataframe thead th {\n",
       "        text-align: right;\n",
       "    }\n",
       "</style>\n",
       "<table border=\"1\" class=\"dataframe\">\n",
       "  <thead>\n",
       "    <tr style=\"text-align: right;\">\n",
       "      <th></th>\n",
       "      <th>Year</th>\n",
       "      <th>Kilometers_Driven</th>\n",
       "      <th>Fuel_Type</th>\n",
       "      <th>Mileage</th>\n",
       "      <th>Engine</th>\n",
       "      <th>Power</th>\n",
       "      <th>Seats</th>\n",
       "      <th>Price</th>\n",
       "      <th>Mileage_car</th>\n",
       "    </tr>\n",
       "  </thead>\n",
       "  <tbody>\n",
       "    <tr>\n",
       "      <th>0</th>\n",
       "      <td>2010</td>\n",
       "      <td>72000</td>\n",
       "      <td>CNG</td>\n",
       "      <td>26.6 km/kg</td>\n",
       "      <td>998 CC</td>\n",
       "      <td>58.16 bhp</td>\n",
       "      <td>5.0</td>\n",
       "      <td>1.75</td>\n",
       "      <td></td>\n",
       "    </tr>\n",
       "    <tr>\n",
       "      <th>1</th>\n",
       "      <td>2015</td>\n",
       "      <td>41000</td>\n",
       "      <td>Diesel</td>\n",
       "      <td>19.67 kmpl</td>\n",
       "      <td>1582 CC</td>\n",
       "      <td>126.2 bhp</td>\n",
       "      <td>5.0</td>\n",
       "      <td>12.50</td>\n",
       "      <td></td>\n",
       "    </tr>\n",
       "    <tr>\n",
       "      <th>2</th>\n",
       "      <td>2011</td>\n",
       "      <td>46000</td>\n",
       "      <td>Petrol</td>\n",
       "      <td>18.2 kmpl</td>\n",
       "      <td>1199 CC</td>\n",
       "      <td>88.7 bhp</td>\n",
       "      <td>5.0</td>\n",
       "      <td>4.50</td>\n",
       "      <td></td>\n",
       "    </tr>\n",
       "    <tr>\n",
       "      <th>3</th>\n",
       "      <td>2012</td>\n",
       "      <td>87000</td>\n",
       "      <td>Diesel</td>\n",
       "      <td>20.77 kmpl</td>\n",
       "      <td>1248 CC</td>\n",
       "      <td>88.76 bhp</td>\n",
       "      <td>7.0</td>\n",
       "      <td>6.00</td>\n",
       "      <td></td>\n",
       "    </tr>\n",
       "    <tr>\n",
       "      <th>4</th>\n",
       "      <td>2013</td>\n",
       "      <td>40670</td>\n",
       "      <td>Diesel</td>\n",
       "      <td>15.2 kmpl</td>\n",
       "      <td>1968 CC</td>\n",
       "      <td>140.8 bhp</td>\n",
       "      <td>5.0</td>\n",
       "      <td>17.74</td>\n",
       "      <td></td>\n",
       "    </tr>\n",
       "    <tr>\n",
       "      <th>...</th>\n",
       "      <td>...</td>\n",
       "      <td>...</td>\n",
       "      <td>...</td>\n",
       "      <td>...</td>\n",
       "      <td>...</td>\n",
       "      <td>...</td>\n",
       "      <td>...</td>\n",
       "      <td>...</td>\n",
       "      <td>...</td>\n",
       "    </tr>\n",
       "    <tr>\n",
       "      <th>5970</th>\n",
       "      <td>2014</td>\n",
       "      <td>27365</td>\n",
       "      <td>Diesel</td>\n",
       "      <td>28.4 kmpl</td>\n",
       "      <td>1248 CC</td>\n",
       "      <td>74 bhp</td>\n",
       "      <td>5.0</td>\n",
       "      <td>4.75</td>\n",
       "      <td></td>\n",
       "    </tr>\n",
       "    <tr>\n",
       "      <th>5971</th>\n",
       "      <td>2015</td>\n",
       "      <td>100000</td>\n",
       "      <td>Diesel</td>\n",
       "      <td>24.4 kmpl</td>\n",
       "      <td>1120 CC</td>\n",
       "      <td>71 bhp</td>\n",
       "      <td>5.0</td>\n",
       "      <td>4.00</td>\n",
       "      <td></td>\n",
       "    </tr>\n",
       "    <tr>\n",
       "      <th>5972</th>\n",
       "      <td>2012</td>\n",
       "      <td>55000</td>\n",
       "      <td>Diesel</td>\n",
       "      <td>14.0 kmpl</td>\n",
       "      <td>2498 CC</td>\n",
       "      <td>112 bhp</td>\n",
       "      <td>8.0</td>\n",
       "      <td>2.90</td>\n",
       "      <td></td>\n",
       "    </tr>\n",
       "    <tr>\n",
       "      <th>5973</th>\n",
       "      <td>2013</td>\n",
       "      <td>46000</td>\n",
       "      <td>Petrol</td>\n",
       "      <td>18.9 kmpl</td>\n",
       "      <td>998 CC</td>\n",
       "      <td>67.1 bhp</td>\n",
       "      <td>5.0</td>\n",
       "      <td>2.65</td>\n",
       "      <td></td>\n",
       "    </tr>\n",
       "    <tr>\n",
       "      <th>5974</th>\n",
       "      <td>2011</td>\n",
       "      <td>47000</td>\n",
       "      <td>Diesel</td>\n",
       "      <td>25.44 kmpl</td>\n",
       "      <td>936 CC</td>\n",
       "      <td>57.6 bhp</td>\n",
       "      <td>5.0</td>\n",
       "      <td>2.50</td>\n",
       "      <td></td>\n",
       "    </tr>\n",
       "  </tbody>\n",
       "</table>\n",
       "<p>5975 rows × 9 columns</p>\n",
       "</div>"
      ],
      "text/plain": [
       "      Year  Kilometers_Driven Fuel_Type     Mileage   Engine      Power  \\\n",
       "0     2010              72000       CNG  26.6 km/kg   998 CC  58.16 bhp   \n",
       "1     2015              41000    Diesel  19.67 kmpl  1582 CC  126.2 bhp   \n",
       "2     2011              46000    Petrol   18.2 kmpl  1199 CC   88.7 bhp   \n",
       "3     2012              87000    Diesel  20.77 kmpl  1248 CC  88.76 bhp   \n",
       "4     2013              40670    Diesel   15.2 kmpl  1968 CC  140.8 bhp   \n",
       "...    ...                ...       ...         ...      ...        ...   \n",
       "5970  2014              27365    Diesel   28.4 kmpl  1248 CC     74 bhp   \n",
       "5971  2015             100000    Diesel   24.4 kmpl  1120 CC     71 bhp   \n",
       "5972  2012              55000    Diesel   14.0 kmpl  2498 CC    112 bhp   \n",
       "5973  2013              46000    Petrol   18.9 kmpl   998 CC   67.1 bhp   \n",
       "5974  2011              47000    Diesel  25.44 kmpl   936 CC   57.6 bhp   \n",
       "\n",
       "      Seats  Price Mileage_car  \n",
       "0       5.0   1.75              \n",
       "1       5.0  12.50              \n",
       "2       5.0   4.50              \n",
       "3       7.0   6.00              \n",
       "4       5.0  17.74              \n",
       "...     ...    ...         ...  \n",
       "5970    5.0   4.75              \n",
       "5971    5.0   4.00              \n",
       "5972    8.0   2.90              \n",
       "5973    5.0   2.65              \n",
       "5974    5.0   2.50              \n",
       "\n",
       "[5975 rows x 9 columns]"
      ]
     },
     "execution_count": 10,
     "metadata": {},
     "output_type": "execute_result"
    }
   ],
   "source": [
    "car_data['Mileage_car'] = ' '\n",
    "car_data"
   ]
  },
  {
   "cell_type": "code",
   "execution_count": 11,
   "metadata": {},
   "outputs": [
    {
     "name": "stdout",
     "output_type": "stream",
     "text": [
      "<class 'pandas.core.frame.DataFrame'>\n",
      "RangeIndex: 5975 entries, 0 to 5974\n",
      "Data columns (total 9 columns):\n",
      " #   Column             Non-Null Count  Dtype  \n",
      "---  ------             --------------  -----  \n",
      " 0   Year               5975 non-null   int64  \n",
      " 1   Kilometers_Driven  5975 non-null   int64  \n",
      " 2   Fuel_Type          5975 non-null   object \n",
      " 3   Mileage            5975 non-null   object \n",
      " 4   Engine             5975 non-null   object \n",
      " 5   Power              5975 non-null   object \n",
      " 6   Seats              5975 non-null   float64\n",
      " 7   Price              5975 non-null   float64\n",
      " 8   Mileage_car        5975 non-null   object \n",
      "dtypes: float64(2), int64(2), object(5)\n",
      "memory usage: 420.2+ KB\n"
     ]
    }
   ],
   "source": [
    "car_data.info()"
   ]
  },
  {
   "cell_type": "code",
   "execution_count": 12,
   "metadata": {},
   "outputs": [],
   "source": [
    "car_data['Mileage_car'] = ' '\n",
    "\n",
    "# Fuel_type = 2, Mileage : 3, Mileage_car = -1\n",
    "\n",
    "# CNG 면 1.4를 곱하고 LPG면 1.96를 곱함\n",
    "\n",
    "for idx in range(len(car_data)):\n",
    "    if car_data.iloc[idx,2] == 'CNG':\n",
    "        if car_data.iloc[idx, 3].split()[1] == 'km/kg':\n",
    "            car_data.iloc[idx,-1] = float(car_data.iloc[idx, 3].split()[0]) * 1.4\n",
    "        else:\n",
    "            car_data.iloc[idx,-1] = float(car_data.iloc[idx, 3].split()[0])\n",
    "\n",
    "    elif car_data.iloc[idx,2] == 'LPG':\n",
    "        if car_data.iloc[idx, 3].split()[1] == 'km/kg':\n",
    "            car_data.iloc[idx,-1] = float(car_data.iloc[idx, 3].split()[0]) * 1.96\n",
    "        else:\n",
    "            car_data.iloc[idx,-1] = float(car_data.iloc[idx, 3].split()[0])\n",
    "    \n",
    "    else:\n",
    "        car_data.iloc[idx,-1] = float(car_data.iloc[idx, 3].split()[0])\n",
    "\n",
    "    "
   ]
  },
  {
   "cell_type": "code",
   "execution_count": 13,
   "metadata": {},
   "outputs": [
    {
     "data": {
      "text/html": [
       "<div>\n",
       "<style scoped>\n",
       "    .dataframe tbody tr th:only-of-type {\n",
       "        vertical-align: middle;\n",
       "    }\n",
       "\n",
       "    .dataframe tbody tr th {\n",
       "        vertical-align: top;\n",
       "    }\n",
       "\n",
       "    .dataframe thead th {\n",
       "        text-align: right;\n",
       "    }\n",
       "</style>\n",
       "<table border=\"1\" class=\"dataframe\">\n",
       "  <thead>\n",
       "    <tr style=\"text-align: right;\">\n",
       "      <th></th>\n",
       "      <th>Year</th>\n",
       "      <th>Kilometers_Driven</th>\n",
       "      <th>Fuel_Type</th>\n",
       "      <th>Mileage</th>\n",
       "      <th>Engine</th>\n",
       "      <th>Power</th>\n",
       "      <th>Seats</th>\n",
       "      <th>Price</th>\n",
       "      <th>Mileage_car</th>\n",
       "    </tr>\n",
       "  </thead>\n",
       "  <tbody>\n",
       "    <tr>\n",
       "      <th>0</th>\n",
       "      <td>2010</td>\n",
       "      <td>72000</td>\n",
       "      <td>CNG</td>\n",
       "      <td>26.6 km/kg</td>\n",
       "      <td>998 CC</td>\n",
       "      <td>58.16 bhp</td>\n",
       "      <td>5.0</td>\n",
       "      <td>1.75</td>\n",
       "      <td>37.24</td>\n",
       "    </tr>\n",
       "    <tr>\n",
       "      <th>1</th>\n",
       "      <td>2015</td>\n",
       "      <td>41000</td>\n",
       "      <td>Diesel</td>\n",
       "      <td>19.67 kmpl</td>\n",
       "      <td>1582 CC</td>\n",
       "      <td>126.2 bhp</td>\n",
       "      <td>5.0</td>\n",
       "      <td>12.50</td>\n",
       "      <td>19.67</td>\n",
       "    </tr>\n",
       "    <tr>\n",
       "      <th>2</th>\n",
       "      <td>2011</td>\n",
       "      <td>46000</td>\n",
       "      <td>Petrol</td>\n",
       "      <td>18.2 kmpl</td>\n",
       "      <td>1199 CC</td>\n",
       "      <td>88.7 bhp</td>\n",
       "      <td>5.0</td>\n",
       "      <td>4.50</td>\n",
       "      <td>18.2</td>\n",
       "    </tr>\n",
       "    <tr>\n",
       "      <th>3</th>\n",
       "      <td>2012</td>\n",
       "      <td>87000</td>\n",
       "      <td>Diesel</td>\n",
       "      <td>20.77 kmpl</td>\n",
       "      <td>1248 CC</td>\n",
       "      <td>88.76 bhp</td>\n",
       "      <td>7.0</td>\n",
       "      <td>6.00</td>\n",
       "      <td>20.77</td>\n",
       "    </tr>\n",
       "    <tr>\n",
       "      <th>4</th>\n",
       "      <td>2013</td>\n",
       "      <td>40670</td>\n",
       "      <td>Diesel</td>\n",
       "      <td>15.2 kmpl</td>\n",
       "      <td>1968 CC</td>\n",
       "      <td>140.8 bhp</td>\n",
       "      <td>5.0</td>\n",
       "      <td>17.74</td>\n",
       "      <td>15.2</td>\n",
       "    </tr>\n",
       "    <tr>\n",
       "      <th>...</th>\n",
       "      <td>...</td>\n",
       "      <td>...</td>\n",
       "      <td>...</td>\n",
       "      <td>...</td>\n",
       "      <td>...</td>\n",
       "      <td>...</td>\n",
       "      <td>...</td>\n",
       "      <td>...</td>\n",
       "      <td>...</td>\n",
       "    </tr>\n",
       "    <tr>\n",
       "      <th>5970</th>\n",
       "      <td>2014</td>\n",
       "      <td>27365</td>\n",
       "      <td>Diesel</td>\n",
       "      <td>28.4 kmpl</td>\n",
       "      <td>1248 CC</td>\n",
       "      <td>74 bhp</td>\n",
       "      <td>5.0</td>\n",
       "      <td>4.75</td>\n",
       "      <td>28.4</td>\n",
       "    </tr>\n",
       "    <tr>\n",
       "      <th>5971</th>\n",
       "      <td>2015</td>\n",
       "      <td>100000</td>\n",
       "      <td>Diesel</td>\n",
       "      <td>24.4 kmpl</td>\n",
       "      <td>1120 CC</td>\n",
       "      <td>71 bhp</td>\n",
       "      <td>5.0</td>\n",
       "      <td>4.00</td>\n",
       "      <td>24.4</td>\n",
       "    </tr>\n",
       "    <tr>\n",
       "      <th>5972</th>\n",
       "      <td>2012</td>\n",
       "      <td>55000</td>\n",
       "      <td>Diesel</td>\n",
       "      <td>14.0 kmpl</td>\n",
       "      <td>2498 CC</td>\n",
       "      <td>112 bhp</td>\n",
       "      <td>8.0</td>\n",
       "      <td>2.90</td>\n",
       "      <td>14.0</td>\n",
       "    </tr>\n",
       "    <tr>\n",
       "      <th>5973</th>\n",
       "      <td>2013</td>\n",
       "      <td>46000</td>\n",
       "      <td>Petrol</td>\n",
       "      <td>18.9 kmpl</td>\n",
       "      <td>998 CC</td>\n",
       "      <td>67.1 bhp</td>\n",
       "      <td>5.0</td>\n",
       "      <td>2.65</td>\n",
       "      <td>18.9</td>\n",
       "    </tr>\n",
       "    <tr>\n",
       "      <th>5974</th>\n",
       "      <td>2011</td>\n",
       "      <td>47000</td>\n",
       "      <td>Diesel</td>\n",
       "      <td>25.44 kmpl</td>\n",
       "      <td>936 CC</td>\n",
       "      <td>57.6 bhp</td>\n",
       "      <td>5.0</td>\n",
       "      <td>2.50</td>\n",
       "      <td>25.44</td>\n",
       "    </tr>\n",
       "  </tbody>\n",
       "</table>\n",
       "<p>5975 rows × 9 columns</p>\n",
       "</div>"
      ],
      "text/plain": [
       "      Year  Kilometers_Driven Fuel_Type     Mileage   Engine      Power  \\\n",
       "0     2010              72000       CNG  26.6 km/kg   998 CC  58.16 bhp   \n",
       "1     2015              41000    Diesel  19.67 kmpl  1582 CC  126.2 bhp   \n",
       "2     2011              46000    Petrol   18.2 kmpl  1199 CC   88.7 bhp   \n",
       "3     2012              87000    Diesel  20.77 kmpl  1248 CC  88.76 bhp   \n",
       "4     2013              40670    Diesel   15.2 kmpl  1968 CC  140.8 bhp   \n",
       "...    ...                ...       ...         ...      ...        ...   \n",
       "5970  2014              27365    Diesel   28.4 kmpl  1248 CC     74 bhp   \n",
       "5971  2015             100000    Diesel   24.4 kmpl  1120 CC     71 bhp   \n",
       "5972  2012              55000    Diesel   14.0 kmpl  2498 CC    112 bhp   \n",
       "5973  2013              46000    Petrol   18.9 kmpl   998 CC   67.1 bhp   \n",
       "5974  2011              47000    Diesel  25.44 kmpl   936 CC   57.6 bhp   \n",
       "\n",
       "      Seats  Price Mileage_car  \n",
       "0       5.0   1.75       37.24  \n",
       "1       5.0  12.50       19.67  \n",
       "2       5.0   4.50        18.2  \n",
       "3       7.0   6.00       20.77  \n",
       "4       5.0  17.74        15.2  \n",
       "...     ...    ...         ...  \n",
       "5970    5.0   4.75        28.4  \n",
       "5971    5.0   4.00        24.4  \n",
       "5972    8.0   2.90        14.0  \n",
       "5973    5.0   2.65        18.9  \n",
       "5974    5.0   2.50       25.44  \n",
       "\n",
       "[5975 rows x 9 columns]"
      ]
     },
     "execution_count": 13,
     "metadata": {},
     "output_type": "execute_result"
    }
   ],
   "source": [
    "car_data"
   ]
  },
  {
   "cell_type": "code",
   "execution_count": 14,
   "metadata": {},
   "outputs": [
    {
     "data": {
      "text/plain": [
       "array(['CC'], dtype=object)"
      ]
     },
     "execution_count": 14,
     "metadata": {},
     "output_type": "execute_result"
    }
   ],
   "source": [
    "car_data['Engine'].str.split().str[1].unique()"
   ]
  },
  {
   "cell_type": "code",
   "execution_count": 15,
   "metadata": {},
   "outputs": [],
   "source": [
    "car_data['Engine'] = car_data['Engine'].str.split().str[0]"
   ]
  },
  {
   "cell_type": "code",
   "execution_count": 16,
   "metadata": {},
   "outputs": [
    {
     "data": {
      "text/plain": [
       "array(['bhp'], dtype=object)"
      ]
     },
     "execution_count": 16,
     "metadata": {},
     "output_type": "execute_result"
    }
   ],
   "source": [
    "car_data['Power'].str.split().str[1].unique()"
   ]
  },
  {
   "cell_type": "code",
   "execution_count": 17,
   "metadata": {},
   "outputs": [],
   "source": [
    "car_data['Power'] = car_data['Power'].str.split().str[0]"
   ]
  },
  {
   "cell_type": "code",
   "execution_count": 18,
   "metadata": {},
   "outputs": [
    {
     "data": {
      "text/plain": [
       "Index(['Year', 'Kilometers_Driven', 'Fuel_Type', 'Mileage', 'Engine', 'Power',\n",
       "       'Seats', 'Price', 'Mileage_car'],\n",
       "      dtype='object')"
      ]
     },
     "execution_count": 18,
     "metadata": {},
     "output_type": "execute_result"
    }
   ],
   "source": [
    "car_data.columns"
   ]
  },
  {
   "cell_type": "code",
   "execution_count": 19,
   "metadata": {},
   "outputs": [],
   "source": [
    "car_data = car_data[['Year', 'Kilometers_Driven','Engine', 'Power','Seats', 'Price', 'Mileage_car']].copy()"
   ]
  },
  {
   "cell_type": "code",
   "execution_count": 20,
   "metadata": {},
   "outputs": [
    {
     "name": "stdout",
     "output_type": "stream",
     "text": [
      "<class 'pandas.core.frame.DataFrame'>\n",
      "RangeIndex: 5975 entries, 0 to 5974\n",
      "Data columns (total 7 columns):\n",
      " #   Column             Non-Null Count  Dtype  \n",
      "---  ------             --------------  -----  \n",
      " 0   Year               5975 non-null   int64  \n",
      " 1   Kilometers_Driven  5975 non-null   int64  \n",
      " 2   Engine             5975 non-null   object \n",
      " 3   Power              5975 non-null   object \n",
      " 4   Seats              5975 non-null   float64\n",
      " 5   Price              5975 non-null   float64\n",
      " 6   Mileage_car        5975 non-null   object \n",
      "dtypes: float64(2), int64(2), object(3)\n",
      "memory usage: 326.9+ KB\n"
     ]
    }
   ],
   "source": [
    "car_data.info()"
   ]
  },
  {
   "cell_type": "code",
   "execution_count": 21,
   "metadata": {},
   "outputs": [
    {
     "data": {
      "text/html": [
       "<div>\n",
       "<style scoped>\n",
       "    .dataframe tbody tr th:only-of-type {\n",
       "        vertical-align: middle;\n",
       "    }\n",
       "\n",
       "    .dataframe tbody tr th {\n",
       "        vertical-align: top;\n",
       "    }\n",
       "\n",
       "    .dataframe thead th {\n",
       "        text-align: right;\n",
       "    }\n",
       "</style>\n",
       "<table border=\"1\" class=\"dataframe\">\n",
       "  <thead>\n",
       "    <tr style=\"text-align: right;\">\n",
       "      <th></th>\n",
       "      <th>Year</th>\n",
       "      <th>Kilometers_Driven</th>\n",
       "      <th>Engine</th>\n",
       "      <th>Power</th>\n",
       "      <th>Seats</th>\n",
       "      <th>Price</th>\n",
       "      <th>Mileage_car</th>\n",
       "    </tr>\n",
       "  </thead>\n",
       "  <tbody>\n",
       "    <tr>\n",
       "      <th>0</th>\n",
       "      <td>2010</td>\n",
       "      <td>72000</td>\n",
       "      <td>998</td>\n",
       "      <td>58.16</td>\n",
       "      <td>5.0</td>\n",
       "      <td>1.75</td>\n",
       "      <td>37.24</td>\n",
       "    </tr>\n",
       "    <tr>\n",
       "      <th>1</th>\n",
       "      <td>2015</td>\n",
       "      <td>41000</td>\n",
       "      <td>1582</td>\n",
       "      <td>126.2</td>\n",
       "      <td>5.0</td>\n",
       "      <td>12.50</td>\n",
       "      <td>19.67</td>\n",
       "    </tr>\n",
       "    <tr>\n",
       "      <th>2</th>\n",
       "      <td>2011</td>\n",
       "      <td>46000</td>\n",
       "      <td>1199</td>\n",
       "      <td>88.7</td>\n",
       "      <td>5.0</td>\n",
       "      <td>4.50</td>\n",
       "      <td>18.2</td>\n",
       "    </tr>\n",
       "    <tr>\n",
       "      <th>3</th>\n",
       "      <td>2012</td>\n",
       "      <td>87000</td>\n",
       "      <td>1248</td>\n",
       "      <td>88.76</td>\n",
       "      <td>7.0</td>\n",
       "      <td>6.00</td>\n",
       "      <td>20.77</td>\n",
       "    </tr>\n",
       "    <tr>\n",
       "      <th>4</th>\n",
       "      <td>2013</td>\n",
       "      <td>40670</td>\n",
       "      <td>1968</td>\n",
       "      <td>140.8</td>\n",
       "      <td>5.0</td>\n",
       "      <td>17.74</td>\n",
       "      <td>15.2</td>\n",
       "    </tr>\n",
       "    <tr>\n",
       "      <th>...</th>\n",
       "      <td>...</td>\n",
       "      <td>...</td>\n",
       "      <td>...</td>\n",
       "      <td>...</td>\n",
       "      <td>...</td>\n",
       "      <td>...</td>\n",
       "      <td>...</td>\n",
       "    </tr>\n",
       "    <tr>\n",
       "      <th>5970</th>\n",
       "      <td>2014</td>\n",
       "      <td>27365</td>\n",
       "      <td>1248</td>\n",
       "      <td>74</td>\n",
       "      <td>5.0</td>\n",
       "      <td>4.75</td>\n",
       "      <td>28.4</td>\n",
       "    </tr>\n",
       "    <tr>\n",
       "      <th>5971</th>\n",
       "      <td>2015</td>\n",
       "      <td>100000</td>\n",
       "      <td>1120</td>\n",
       "      <td>71</td>\n",
       "      <td>5.0</td>\n",
       "      <td>4.00</td>\n",
       "      <td>24.4</td>\n",
       "    </tr>\n",
       "    <tr>\n",
       "      <th>5972</th>\n",
       "      <td>2012</td>\n",
       "      <td>55000</td>\n",
       "      <td>2498</td>\n",
       "      <td>112</td>\n",
       "      <td>8.0</td>\n",
       "      <td>2.90</td>\n",
       "      <td>14.0</td>\n",
       "    </tr>\n",
       "    <tr>\n",
       "      <th>5973</th>\n",
       "      <td>2013</td>\n",
       "      <td>46000</td>\n",
       "      <td>998</td>\n",
       "      <td>67.1</td>\n",
       "      <td>5.0</td>\n",
       "      <td>2.65</td>\n",
       "      <td>18.9</td>\n",
       "    </tr>\n",
       "    <tr>\n",
       "      <th>5974</th>\n",
       "      <td>2011</td>\n",
       "      <td>47000</td>\n",
       "      <td>936</td>\n",
       "      <td>57.6</td>\n",
       "      <td>5.0</td>\n",
       "      <td>2.50</td>\n",
       "      <td>25.44</td>\n",
       "    </tr>\n",
       "  </tbody>\n",
       "</table>\n",
       "<p>5975 rows × 7 columns</p>\n",
       "</div>"
      ],
      "text/plain": [
       "      Year  Kilometers_Driven Engine  Power  Seats  Price Mileage_car\n",
       "0     2010              72000    998  58.16    5.0   1.75       37.24\n",
       "1     2015              41000   1582  126.2    5.0  12.50       19.67\n",
       "2     2011              46000   1199   88.7    5.0   4.50        18.2\n",
       "3     2012              87000   1248  88.76    7.0   6.00       20.77\n",
       "4     2013              40670   1968  140.8    5.0  17.74        15.2\n",
       "...    ...                ...    ...    ...    ...    ...         ...\n",
       "5970  2014              27365   1248     74    5.0   4.75        28.4\n",
       "5971  2015             100000   1120     71    5.0   4.00        24.4\n",
       "5972  2012              55000   2498    112    8.0   2.90        14.0\n",
       "5973  2013              46000    998   67.1    5.0   2.65        18.9\n",
       "5974  2011              47000    936   57.6    5.0   2.50       25.44\n",
       "\n",
       "[5975 rows x 7 columns]"
      ]
     },
     "execution_count": 21,
     "metadata": {},
     "output_type": "execute_result"
    }
   ],
   "source": [
    "car_data"
   ]
  },
  {
   "cell_type": "code",
   "execution_count": 22,
   "metadata": {},
   "outputs": [
    {
     "data": {
      "text/plain": [
       "array([2010, 2015, 2011, 2012, 2013, 2016, 2018, 2014, 2017, 2007, 2009,\n",
       "       2008, 2019, 2006, 2005, 2004, 2002, 2000, 2003, 1999, 2001, 1998],\n",
       "      dtype=int64)"
      ]
     },
     "execution_count": 22,
     "metadata": {},
     "output_type": "execute_result"
    }
   ],
   "source": [
    "car_data['Year'].unique()"
   ]
  },
  {
   "cell_type": "code",
   "execution_count": 23,
   "metadata": {},
   "outputs": [
    {
     "data": {
      "text/plain": [
       "array([72000, 41000, 46000, ..., 45004, 70602, 27365], dtype=int64)"
      ]
     },
     "execution_count": 23,
     "metadata": {},
     "output_type": "execute_result"
    }
   ],
   "source": [
    "car_data['Kilometers_Driven'].unique()"
   ]
  },
  {
   "cell_type": "code",
   "execution_count": 24,
   "metadata": {},
   "outputs": [
    {
     "data": {
      "text/plain": [
       "array(['998', '1582', '1199', '1248', '1968', '814', '1461', '2755',\n",
       "       '1598', '1462', '1497', '2179', '2477', '1498', '2143', '1995',\n",
       "       '1984', '1197', '2494', '1798', '2696', '2698', '1061', '1198',\n",
       "       '2987', '796', '624', '1999', '1991', '2694', '1120', '2498',\n",
       "       '799', '2393', '1399', '1796', '2148', '1396', '1950', '4806',\n",
       "       '1998', '1086', '1193', '2982', '1493', '2967', '2993', '1196',\n",
       "       '1799', '2497', '2354', '1373', '2996', '1591', '2894', '5461',\n",
       "       '1595', '936', '1997', '1896', '1390', '1364', '2199', '993',\n",
       "       '999', '1405', '2956', '1794', '995', '2496', '1599', '2400',\n",
       "       '1495', '2523', '793', '4134', '1596', '1395', '2953', '1586',\n",
       "       '2362', '1496', '1368', '1298', '1956', '1299', '3498', '2835',\n",
       "       '1150', '3198', '1343', '1499', '1186', '1590', '2609', '2499',\n",
       "       '2446', '1978', '2360', '3436', '2198', '4367', '2706', '1422',\n",
       "       '2979', '1969', '1489', '2489', '1242', '1388', '1172', '2495',\n",
       "       '1194', '3200', '1781', '1341', '2773', '3597', '1985', '2147',\n",
       "       '1047', '2999', '2995', '2997', '1948', '2359', '4395', '2349',\n",
       "       '2720', '1468', '3197', '2487', '1597', '2771', '4951', '970',\n",
       "       '2925', '2200', '5000', '2149', '5998', '2092', '5204', '2112',\n",
       "       '1797'], dtype=object)"
      ]
     },
     "execution_count": 24,
     "metadata": {},
     "output_type": "execute_result"
    }
   ],
   "source": [
    "car_data['Engine'].unique()"
   ]
  },
  {
   "cell_type": "code",
   "execution_count": 25,
   "metadata": {},
   "outputs": [
    {
     "data": {
      "text/plain": [
       "array(['58.16', '126.2', '88.7', '88.76', '140.8', '55.2', '63.1',\n",
       "       '171.5', '103.6', '74', '103.25', '116.3', '187.7', '115',\n",
       "       '175.56', '98.6', '83.8', '167.62', '190', '88.5', '177.01', '80',\n",
       "       '67.1', '102', '108.45', '138.1', '184', '179.5', '103.5', '64',\n",
       "       '82', '254.8', '73.9', '46.3', '37.5', '77', '82.9', '149.92',\n",
       "       '138.03', '112.2', '163.7', '71', '105', '174.33', '75', '103.2',\n",
       "       '53.3', '78.9', '147.6', '147.8', '68', '186', '170', '69', '140',\n",
       "       '78', '194', '500', '108.5', '86.8', '187.74', 'null', '132',\n",
       "       '86.7', '73.94', '117.3', '218', '168.5', '89.84', '110', '90',\n",
       "       '82.85', '67', '241.4', '35', '270.9', '126.32', '73', '130',\n",
       "       '100.6', '150', '75.94', '215', '107.3', '37.48', '120', '178',\n",
       "       '152', '91.1', '85.80', '362.07', '121.3', '143', '81.80', '171',\n",
       "       '76.8', '103.52', '444', '362.9', '67.06', '120.7', '258', '81.86',\n",
       "       '112', '88.73', '57.6', '157.75', '102.5', '201.1', '83.1',\n",
       "       '68.05', '88.50', '106', '100', '81.83', '85', '64.1', '177.5',\n",
       "       '246.7', '177.46', '65', '67.04', '189.08', '53.5', '194.3', '70',\n",
       "       '183', '254.79', '66.1', '76', '60', '123.24', '47.3', '118',\n",
       "       '88.8', '177', '136', '201.15', '93.7', '177.6', '313', '245',\n",
       "       '125', '141', '227', '62', '141.1', '83.14', '192', '67.05', '47',\n",
       "       '235', '37', '87.2', '203', '204', '246.74', '122', '282', '181',\n",
       "       '224', '94', '367', '98.79', '62.1', '174.3', '114', '335.2',\n",
       "       '169', '191.34', '108.49', '138.02', '156', '187.4', '66', '103.3',\n",
       "       '164.7', '79.4', '198.5', '154', '73.8', '181.43', '85.8', '207.8',\n",
       "       '108.4', '88', '63', '82.5', '364.9', '107.2', '113.98', '126.3',\n",
       "       '185', '237.4', '99.6', '66.7', '160', '306', '98.59', '92.7',\n",
       "       '147.51', '197.2', '167.6', '165', '110.4', '73.97', '147.9', '99',\n",
       "       '116.6', '148', '34.2', '155', '197', '108.62', '118.3', '38.4',\n",
       "       '241.38', '153.86', '163.5', '226.6', '84.8', '53.64', '158.2',\n",
       "       '69.01', '181.03', '58.2', '104.68', '126.24', '73.75', '158',\n",
       "       '130.2', '57.5', '97.7', '121.4', '98.96', '174.5', '308',\n",
       "       '121.36', '138', '265', '84', '321', '91.72', '65.3', '88.2', '93',\n",
       "       '35.5', '86.79', '157.7', '40.3', '91.7', '180', '114.4', '158.8',\n",
       "       '157.8', '123.7', '56.3', '189', '104', '210', '270.88', '142',\n",
       "       '255', '236', '167.7', '148.31', '80.46', '138.08', '250', '74.9',\n",
       "       '91.2', '102.57', '97.6', '102.53', '240', '254', '112.4', '73.74',\n",
       "       '108.495', '116.9', '101', '320', '70.02', '261.49', '105.5',\n",
       "       '550', '168.7', '55.23', '94.68', '152.88', '163.2', '203.2',\n",
       "       '241', '95', '200', '271.23', '63.12', '85.7', '308.43', '118.6',\n",
       "       '199.3', '83.83', '55', '83', '300', '201', '262.6', '163',\n",
       "       '58.33', '86.76', '76.9', '174.57', '301.73', '68.1', '162',\n",
       "       '394.3', '80.9', '147.5', '272', '340', '120.33', '82.4', '231.1',\n",
       "       '335.3', '333', '198.25', '224.34', '402', '261', '61', '144',\n",
       "       '71.01', '271.72', '134', '135.1', '92', '64.08', '261.5',\n",
       "       '123.37', '175.67', '53', '110.5', '178.4', '193.1', '395',\n",
       "       '48.21', '450', '421', '89.75', '387.3', '130.3', '281.61', '52.8',\n",
       "       '139.01', '208', '503', '168', '98.82', '139.07', '83.11', '74.93',\n",
       "       '382', '74.96', '552', '127', '560', '116.4', '161.6', '488.1',\n",
       "       '103', '181.04'], dtype=object)"
      ]
     },
     "execution_count": 25,
     "metadata": {},
     "output_type": "execute_result"
    }
   ],
   "source": [
    "car_data['Power'].unique()"
   ]
  },
  {
   "cell_type": "code",
   "execution_count": 26,
   "metadata": {},
   "outputs": [],
   "source": [
    "car_data['Power']= car_data['Power'].replace('null', np.nan)"
   ]
  },
  {
   "cell_type": "code",
   "execution_count": 27,
   "metadata": {},
   "outputs": [
    {
     "data": {
      "text/plain": [
       "array(['58.16', '126.2', '88.7', '88.76', '140.8', '55.2', '63.1',\n",
       "       '171.5', '103.6', '74', '103.25', '116.3', '187.7', '115',\n",
       "       '175.56', '98.6', '83.8', '167.62', '190', '88.5', '177.01', '80',\n",
       "       '67.1', '102', '108.45', '138.1', '184', '179.5', '103.5', '64',\n",
       "       '82', '254.8', '73.9', '46.3', '37.5', '77', '82.9', '149.92',\n",
       "       '138.03', '112.2', '163.7', '71', '105', '174.33', '75', '103.2',\n",
       "       '53.3', '78.9', '147.6', '147.8', '68', '186', '170', '69', '140',\n",
       "       '78', '194', '500', '108.5', '86.8', '187.74', nan, '132', '86.7',\n",
       "       '73.94', '117.3', '218', '168.5', '89.84', '110', '90', '82.85',\n",
       "       '67', '241.4', '35', '270.9', '126.32', '73', '130', '100.6',\n",
       "       '150', '75.94', '215', '107.3', '37.48', '120', '178', '152',\n",
       "       '91.1', '85.80', '362.07', '121.3', '143', '81.80', '171', '76.8',\n",
       "       '103.52', '444', '362.9', '67.06', '120.7', '258', '81.86', '112',\n",
       "       '88.73', '57.6', '157.75', '102.5', '201.1', '83.1', '68.05',\n",
       "       '88.50', '106', '100', '81.83', '85', '64.1', '177.5', '246.7',\n",
       "       '177.46', '65', '67.04', '189.08', '53.5', '194.3', '70', '183',\n",
       "       '254.79', '66.1', '76', '60', '123.24', '47.3', '118', '88.8',\n",
       "       '177', '136', '201.15', '93.7', '177.6', '313', '245', '125',\n",
       "       '141', '227', '62', '141.1', '83.14', '192', '67.05', '47', '235',\n",
       "       '37', '87.2', '203', '204', '246.74', '122', '282', '181', '224',\n",
       "       '94', '367', '98.79', '62.1', '174.3', '114', '335.2', '169',\n",
       "       '191.34', '108.49', '138.02', '156', '187.4', '66', '103.3',\n",
       "       '164.7', '79.4', '198.5', '154', '73.8', '181.43', '85.8', '207.8',\n",
       "       '108.4', '88', '63', '82.5', '364.9', '107.2', '113.98', '126.3',\n",
       "       '185', '237.4', '99.6', '66.7', '160', '306', '98.59', '92.7',\n",
       "       '147.51', '197.2', '167.6', '165', '110.4', '73.97', '147.9', '99',\n",
       "       '116.6', '148', '34.2', '155', '197', '108.62', '118.3', '38.4',\n",
       "       '241.38', '153.86', '163.5', '226.6', '84.8', '53.64', '158.2',\n",
       "       '69.01', '181.03', '58.2', '104.68', '126.24', '73.75', '158',\n",
       "       '130.2', '57.5', '97.7', '121.4', '98.96', '174.5', '308',\n",
       "       '121.36', '138', '265', '84', '321', '91.72', '65.3', '88.2', '93',\n",
       "       '35.5', '86.79', '157.7', '40.3', '91.7', '180', '114.4', '158.8',\n",
       "       '157.8', '123.7', '56.3', '189', '104', '210', '270.88', '142',\n",
       "       '255', '236', '167.7', '148.31', '80.46', '138.08', '250', '74.9',\n",
       "       '91.2', '102.57', '97.6', '102.53', '240', '254', '112.4', '73.74',\n",
       "       '108.495', '116.9', '101', '320', '70.02', '261.49', '105.5',\n",
       "       '550', '168.7', '55.23', '94.68', '152.88', '163.2', '203.2',\n",
       "       '241', '95', '200', '271.23', '63.12', '85.7', '308.43', '118.6',\n",
       "       '199.3', '83.83', '55', '83', '300', '201', '262.6', '163',\n",
       "       '58.33', '86.76', '76.9', '174.57', '301.73', '68.1', '162',\n",
       "       '394.3', '80.9', '147.5', '272', '340', '120.33', '82.4', '231.1',\n",
       "       '335.3', '333', '198.25', '224.34', '402', '261', '61', '144',\n",
       "       '71.01', '271.72', '134', '135.1', '92', '64.08', '261.5',\n",
       "       '123.37', '175.67', '53', '110.5', '178.4', '193.1', '395',\n",
       "       '48.21', '450', '421', '89.75', '387.3', '130.3', '281.61', '52.8',\n",
       "       '139.01', '208', '503', '168', '98.82', '139.07', '83.11', '74.93',\n",
       "       '382', '74.96', '552', '127', '560', '116.4', '161.6', '488.1',\n",
       "       '103', '181.04'], dtype=object)"
      ]
     },
     "execution_count": 27,
     "metadata": {},
     "output_type": "execute_result"
    }
   ],
   "source": [
    "car_data['Power'].unique()"
   ]
  },
  {
   "cell_type": "code",
   "execution_count": 28,
   "metadata": {},
   "outputs": [
    {
     "data": {
      "text/plain": [
       "Year                   0\n",
       "Kilometers_Driven      0\n",
       "Engine                 0\n",
       "Power                103\n",
       "Seats                  0\n",
       "Price                  0\n",
       "Mileage_car            0\n",
       "dtype: int64"
      ]
     },
     "execution_count": 28,
     "metadata": {},
     "output_type": "execute_result"
    }
   ],
   "source": [
    "car_data.isna().sum()"
   ]
  },
  {
   "cell_type": "code",
   "execution_count": 29,
   "metadata": {},
   "outputs": [
    {
     "data": {
      "text/html": [
       "<div>\n",
       "<style scoped>\n",
       "    .dataframe tbody tr th:only-of-type {\n",
       "        vertical-align: middle;\n",
       "    }\n",
       "\n",
       "    .dataframe tbody tr th {\n",
       "        vertical-align: top;\n",
       "    }\n",
       "\n",
       "    .dataframe thead th {\n",
       "        text-align: right;\n",
       "    }\n",
       "</style>\n",
       "<table border=\"1\" class=\"dataframe\">\n",
       "  <thead>\n",
       "    <tr style=\"text-align: right;\">\n",
       "      <th></th>\n",
       "      <th>Year</th>\n",
       "      <th>Kilometers_Driven</th>\n",
       "      <th>Engine</th>\n",
       "      <th>Power</th>\n",
       "      <th>Seats</th>\n",
       "      <th>Price</th>\n",
       "      <th>Mileage_car</th>\n",
       "    </tr>\n",
       "  </thead>\n",
       "  <tbody>\n",
       "    <tr>\n",
       "      <th>0</th>\n",
       "      <td>2010</td>\n",
       "      <td>72000</td>\n",
       "      <td>998</td>\n",
       "      <td>58.16</td>\n",
       "      <td>5.0</td>\n",
       "      <td>1.75</td>\n",
       "      <td>37.24</td>\n",
       "    </tr>\n",
       "    <tr>\n",
       "      <th>1</th>\n",
       "      <td>2015</td>\n",
       "      <td>41000</td>\n",
       "      <td>1582</td>\n",
       "      <td>126.2</td>\n",
       "      <td>5.0</td>\n",
       "      <td>12.50</td>\n",
       "      <td>19.67</td>\n",
       "    </tr>\n",
       "    <tr>\n",
       "      <th>2</th>\n",
       "      <td>2011</td>\n",
       "      <td>46000</td>\n",
       "      <td>1199</td>\n",
       "      <td>88.7</td>\n",
       "      <td>5.0</td>\n",
       "      <td>4.50</td>\n",
       "      <td>18.2</td>\n",
       "    </tr>\n",
       "    <tr>\n",
       "      <th>3</th>\n",
       "      <td>2012</td>\n",
       "      <td>87000</td>\n",
       "      <td>1248</td>\n",
       "      <td>88.76</td>\n",
       "      <td>7.0</td>\n",
       "      <td>6.00</td>\n",
       "      <td>20.77</td>\n",
       "    </tr>\n",
       "    <tr>\n",
       "      <th>4</th>\n",
       "      <td>2013</td>\n",
       "      <td>40670</td>\n",
       "      <td>1968</td>\n",
       "      <td>140.8</td>\n",
       "      <td>5.0</td>\n",
       "      <td>17.74</td>\n",
       "      <td>15.2</td>\n",
       "    </tr>\n",
       "    <tr>\n",
       "      <th>...</th>\n",
       "      <td>...</td>\n",
       "      <td>...</td>\n",
       "      <td>...</td>\n",
       "      <td>...</td>\n",
       "      <td>...</td>\n",
       "      <td>...</td>\n",
       "      <td>...</td>\n",
       "    </tr>\n",
       "    <tr>\n",
       "      <th>5867</th>\n",
       "      <td>2014</td>\n",
       "      <td>27365</td>\n",
       "      <td>1248</td>\n",
       "      <td>74</td>\n",
       "      <td>5.0</td>\n",
       "      <td>4.75</td>\n",
       "      <td>28.4</td>\n",
       "    </tr>\n",
       "    <tr>\n",
       "      <th>5868</th>\n",
       "      <td>2015</td>\n",
       "      <td>100000</td>\n",
       "      <td>1120</td>\n",
       "      <td>71</td>\n",
       "      <td>5.0</td>\n",
       "      <td>4.00</td>\n",
       "      <td>24.4</td>\n",
       "    </tr>\n",
       "    <tr>\n",
       "      <th>5869</th>\n",
       "      <td>2012</td>\n",
       "      <td>55000</td>\n",
       "      <td>2498</td>\n",
       "      <td>112</td>\n",
       "      <td>8.0</td>\n",
       "      <td>2.90</td>\n",
       "      <td>14.0</td>\n",
       "    </tr>\n",
       "    <tr>\n",
       "      <th>5870</th>\n",
       "      <td>2013</td>\n",
       "      <td>46000</td>\n",
       "      <td>998</td>\n",
       "      <td>67.1</td>\n",
       "      <td>5.0</td>\n",
       "      <td>2.65</td>\n",
       "      <td>18.9</td>\n",
       "    </tr>\n",
       "    <tr>\n",
       "      <th>5871</th>\n",
       "      <td>2011</td>\n",
       "      <td>47000</td>\n",
       "      <td>936</td>\n",
       "      <td>57.6</td>\n",
       "      <td>5.0</td>\n",
       "      <td>2.50</td>\n",
       "      <td>25.44</td>\n",
       "    </tr>\n",
       "  </tbody>\n",
       "</table>\n",
       "<p>5872 rows × 7 columns</p>\n",
       "</div>"
      ],
      "text/plain": [
       "      Year  Kilometers_Driven Engine  Power  Seats  Price Mileage_car\n",
       "0     2010              72000    998  58.16    5.0   1.75       37.24\n",
       "1     2015              41000   1582  126.2    5.0  12.50       19.67\n",
       "2     2011              46000   1199   88.7    5.0   4.50        18.2\n",
       "3     2012              87000   1248  88.76    7.0   6.00       20.77\n",
       "4     2013              40670   1968  140.8    5.0  17.74        15.2\n",
       "...    ...                ...    ...    ...    ...    ...         ...\n",
       "5867  2014              27365   1248     74    5.0   4.75        28.4\n",
       "5868  2015             100000   1120     71    5.0   4.00        24.4\n",
       "5869  2012              55000   2498    112    8.0   2.90        14.0\n",
       "5870  2013              46000    998   67.1    5.0   2.65        18.9\n",
       "5871  2011              47000    936   57.6    5.0   2.50       25.44\n",
       "\n",
       "[5872 rows x 7 columns]"
      ]
     },
     "execution_count": 29,
     "metadata": {},
     "output_type": "execute_result"
    }
   ],
   "source": [
    "car_data.dropna(inplace=True)\n",
    "car_data.reset_index(inplace=True, drop=True)\n",
    "car_data"
   ]
  },
  {
   "cell_type": "code",
   "execution_count": 30,
   "metadata": {},
   "outputs": [
    {
     "name": "stdout",
     "output_type": "stream",
     "text": [
      "<class 'pandas.core.frame.DataFrame'>\n",
      "RangeIndex: 5872 entries, 0 to 5871\n",
      "Data columns (total 7 columns):\n",
      " #   Column             Non-Null Count  Dtype  \n",
      "---  ------             --------------  -----  \n",
      " 0   Year               5872 non-null   int64  \n",
      " 1   Kilometers_Driven  5872 non-null   int64  \n",
      " 2   Engine             5872 non-null   object \n",
      " 3   Power              5872 non-null   object \n",
      " 4   Seats              5872 non-null   float64\n",
      " 5   Price              5872 non-null   float64\n",
      " 6   Mileage_car        5872 non-null   object \n",
      "dtypes: float64(2), int64(2), object(3)\n",
      "memory usage: 321.2+ KB\n"
     ]
    }
   ],
   "source": [
    "car_data.info()"
   ]
  },
  {
   "cell_type": "code",
   "execution_count": 31,
   "metadata": {},
   "outputs": [],
   "source": [
    "car_data['Engine'] = car_data['Engine'].astype(int)"
   ]
  },
  {
   "cell_type": "code",
   "execution_count": 32,
   "metadata": {},
   "outputs": [],
   "source": [
    "car_data['Power'] = car_data['Power'].astype(float)"
   ]
  },
  {
   "cell_type": "code",
   "execution_count": 33,
   "metadata": {},
   "outputs": [],
   "source": [
    "car_data['Mileage_car'] = car_data['Mileage_car'].astype(float)"
   ]
  },
  {
   "cell_type": "code",
   "execution_count": 34,
   "metadata": {},
   "outputs": [
    {
     "data": {
      "text/html": [
       "<div>\n",
       "<style scoped>\n",
       "    .dataframe tbody tr th:only-of-type {\n",
       "        vertical-align: middle;\n",
       "    }\n",
       "\n",
       "    .dataframe tbody tr th {\n",
       "        vertical-align: top;\n",
       "    }\n",
       "\n",
       "    .dataframe thead th {\n",
       "        text-align: right;\n",
       "    }\n",
       "</style>\n",
       "<table border=\"1\" class=\"dataframe\">\n",
       "  <thead>\n",
       "    <tr style=\"text-align: right;\">\n",
       "      <th></th>\n",
       "      <th>Year</th>\n",
       "      <th>Kilometers_Driven</th>\n",
       "      <th>Engine</th>\n",
       "      <th>Power</th>\n",
       "      <th>Seats</th>\n",
       "      <th>Price</th>\n",
       "      <th>Mileage_car</th>\n",
       "    </tr>\n",
       "  </thead>\n",
       "  <tbody>\n",
       "    <tr>\n",
       "      <th>Year</th>\n",
       "      <td>1.000000</td>\n",
       "      <td>-0.169369</td>\n",
       "      <td>-0.068045</td>\n",
       "      <td>0.014531</td>\n",
       "      <td>0.007833</td>\n",
       "      <td>0.299475</td>\n",
       "      <td>0.261335</td>\n",
       "    </tr>\n",
       "    <tr>\n",
       "      <th>Kilometers_Driven</th>\n",
       "      <td>-0.169369</td>\n",
       "      <td>1.000000</td>\n",
       "      <td>0.093030</td>\n",
       "      <td>0.033490</td>\n",
       "      <td>0.083072</td>\n",
       "      <td>-0.008249</td>\n",
       "      <td>-0.056195</td>\n",
       "    </tr>\n",
       "    <tr>\n",
       "      <th>Engine</th>\n",
       "      <td>-0.068045</td>\n",
       "      <td>0.093030</td>\n",
       "      <td>1.000000</td>\n",
       "      <td>0.866301</td>\n",
       "      <td>0.401116</td>\n",
       "      <td>0.658047</td>\n",
       "      <td>-0.612298</td>\n",
       "    </tr>\n",
       "    <tr>\n",
       "      <th>Power</th>\n",
       "      <td>0.014531</td>\n",
       "      <td>0.033490</td>\n",
       "      <td>0.866301</td>\n",
       "      <td>1.000000</td>\n",
       "      <td>0.101460</td>\n",
       "      <td>0.772843</td>\n",
       "      <td>-0.521535</td>\n",
       "    </tr>\n",
       "    <tr>\n",
       "      <th>Seats</th>\n",
       "      <td>0.007833</td>\n",
       "      <td>0.083072</td>\n",
       "      <td>0.401116</td>\n",
       "      <td>0.101460</td>\n",
       "      <td>1.000000</td>\n",
       "      <td>0.055547</td>\n",
       "      <td>-0.315412</td>\n",
       "    </tr>\n",
       "    <tr>\n",
       "      <th>Price</th>\n",
       "      <td>0.299475</td>\n",
       "      <td>-0.008249</td>\n",
       "      <td>0.658047</td>\n",
       "      <td>0.772843</td>\n",
       "      <td>0.055547</td>\n",
       "      <td>1.000000</td>\n",
       "      <td>-0.329641</td>\n",
       "    </tr>\n",
       "    <tr>\n",
       "      <th>Mileage_car</th>\n",
       "      <td>0.261335</td>\n",
       "      <td>-0.056195</td>\n",
       "      <td>-0.612298</td>\n",
       "      <td>-0.521535</td>\n",
       "      <td>-0.315412</td>\n",
       "      <td>-0.329641</td>\n",
       "      <td>1.000000</td>\n",
       "    </tr>\n",
       "  </tbody>\n",
       "</table>\n",
       "</div>"
      ],
      "text/plain": [
       "                       Year  Kilometers_Driven    Engine     Power     Seats  \\\n",
       "Year               1.000000          -0.169369 -0.068045  0.014531  0.007833   \n",
       "Kilometers_Driven -0.169369           1.000000  0.093030  0.033490  0.083072   \n",
       "Engine            -0.068045           0.093030  1.000000  0.866301  0.401116   \n",
       "Power              0.014531           0.033490  0.866301  1.000000  0.101460   \n",
       "Seats              0.007833           0.083072  0.401116  0.101460  1.000000   \n",
       "Price              0.299475          -0.008249  0.658047  0.772843  0.055547   \n",
       "Mileage_car        0.261335          -0.056195 -0.612298 -0.521535 -0.315412   \n",
       "\n",
       "                      Price  Mileage_car  \n",
       "Year               0.299475     0.261335  \n",
       "Kilometers_Driven -0.008249    -0.056195  \n",
       "Engine             0.658047    -0.612298  \n",
       "Power              0.772843    -0.521535  \n",
       "Seats              0.055547    -0.315412  \n",
       "Price              1.000000    -0.329641  \n",
       "Mileage_car       -0.329641     1.000000  "
      ]
     },
     "execution_count": 34,
     "metadata": {},
     "output_type": "execute_result"
    }
   ],
   "source": [
    "car_data.corr()"
   ]
  },
  {
   "cell_type": "markdown",
   "metadata": {},
   "source": [
    "\n",
    "- feature : Year, Engine, Power, Mileage_car\n",
    "- target : price "
   ]
  },
  {
   "cell_type": "code",
   "execution_count": 35,
   "metadata": {},
   "outputs": [
    {
     "data": {
      "image/png": "[encoded data removed]",
      "text/plain": [
       "<Figure size 1500x1000 with 4 Axes>"
      ]
     },
     "metadata": {},
     "output_type": "display_data"
    }
   ],
   "source": [
    "fig = plt.figure(figsize = (15,10))\n",
    "\n",
    "ax1 = fig.add_subplot(2,2,1)\n",
    "ax2 = fig.add_subplot(2,2,2)\n",
    "ax3 = fig.add_subplot(2,2,3)\n",
    "ax4 = fig.add_subplot(2,2,4)\n",
    "\n",
    "ax1.scatter(car_data['Year'], car_data['Price'], label = round(car_data[['Year','Price']].corr().iloc[0,1],2))\n",
    "ax1.legend(loc = 4)\n",
    "ax1.set_xlabel('Year')\n",
    "ax1.set_ylabel('Price')\n",
    "\n",
    "ax2.scatter(car_data['Engine'], car_data['Price'], label = round(car_data[['Engine','Price']].corr().iloc[0,1],2))\n",
    "ax2.legend(loc = 4)\n",
    "ax2.set_xlabel('Engine')\n",
    "ax2.set_ylabel('Price')\n",
    "\n",
    "ax3.scatter(car_data['Power'], car_data['Price'], label = round(car_data[['Power','Price']].corr().iloc[0,1],2))\n",
    "ax3.legend(loc = 4)\n",
    "ax3.set_xlabel('Power')\n",
    "ax3.set_ylabel('Price')\n",
    "\n",
    "ax4.scatter(car_data['Mileage_car'], car_data['Price'], label = round(car_data[['Mileage_car','Price']].corr().iloc[0,1],2))\n",
    "ax4.legend(loc = 4)\n",
    "ax4.set_xlabel('Mileage_car')\n",
    "ax4.set_ylabel('Price')\n",
    "\n",
    "plt.show()"
   ]
  },
  {
   "cell_type": "code",
   "execution_count": 36,
   "metadata": {},
   "outputs": [
    {
     "data": {
      "image/png": "[encoded data removed]",
      "text/plain": [
       "<Figure size 1500x1000 with 4 Axes>"
      ]
     },
     "metadata": {},
     "output_type": "display_data"
    }
   ],
   "source": [
    "fig = plt.figure(figsize = (15,10))\n",
    "\n",
    "ax1 = fig.add_subplot(2,2,1)\n",
    "ax2 = fig.add_subplot(2,2,2)\n",
    "ax3 = fig.add_subplot(2,2,3)\n",
    "ax4 = fig.add_subplot(2,2,4)\n",
    "\n",
    "ax1.boxplot(car_data['Year'])\n",
    "\n",
    "ax2.boxplot(car_data['Engine'])\n",
    "\n",
    "ax3.boxplot(car_data['Power'])\n",
    "\n",
    "ax4.boxplot(car_data['Mileage_car'])\n",
    "\n",
    "plt.show()"
   ]
  },
  {
   "cell_type": "code",
   "execution_count": 37,
   "metadata": {},
   "outputs": [
    {
     "data": {
      "image/png": "[encoded data removed]",
      "text/plain": [
       "<Figure size 640x480 with 1 Axes>"
      ]
     },
     "metadata": {},
     "output_type": "display_data"
    }
   ],
   "source": [
    "plt.boxplot(car_data['Price'])\n",
    "plt.show()"
   ]
  },
  {
   "cell_type": "markdown",
   "metadata": {},
   "source": [
    "이상치가 없다고 판단"
   ]
  },
  {
   "cell_type": "markdown",
   "metadata": {},
   "source": [
    "## [2] 피쳐와 타겟 분리"
   ]
  },
  {
   "cell_type": "code",
   "execution_count": 38,
   "metadata": {},
   "outputs": [
    {
     "name": "stdout",
     "output_type": "stream",
     "text": [
      "feature : (5872, 4), 2D\n",
      "target : (5872,), 1D\n"
     ]
    }
   ],
   "source": [
    "# feature : Year, Engine, Power, Mileage_car\n",
    "# target : price \n",
    "\n",
    "feature = car_data[['Year','Engine', 'Power', 'Mileage_car']]\n",
    "target = car_data['Price']\n",
    "\n",
    "print(f'feature : {feature.shape}, {feature.ndim}D')\n",
    "print(f'target : {target.shape}, {target.ndim}D')"
   ]
  },
  {
   "cell_type": "markdown",
   "metadata": {},
   "source": [
    "## [3] train, test 데이터 분리"
   ]
  },
  {
   "cell_type": "code",
   "execution_count": 39,
   "metadata": {},
   "outputs": [],
   "source": [
    "from sklearn.model_selection import train_test_split"
   ]
  },
  {
   "cell_type": "code",
   "execution_count": 40,
   "metadata": {},
   "outputs": [
    {
     "name": "stdout",
     "output_type": "stream",
     "text": [
      "x_train -> (4697, 4), 2D\n",
      "x_test -> (1175, 4), 2D\n",
      "y_train -> (4697,), 1D\n",
      "y_test -> (1175,), 1D\n"
     ]
    }
   ],
   "source": [
    "x_train, x_test, y_train, y_test = train_test_split(feature, target, test_size = 0.2)\n",
    "\n",
    "print(f'x_train -> {x_train.shape}, {x_train.ndim}D')\n",
    "print(f'x_test -> {x_test.shape}, {x_test.ndim}D')\n",
    "\n",
    "print(f'y_train -> {y_train.shape}, {y_train.ndim}D')\n",
    "print(f'y_test -> {y_test.shape}, {y_test.ndim}D')"
   ]
  },
  {
   "cell_type": "markdown",
   "metadata": {},
   "source": [
    "### [3-1] 스케일링"
   ]
  },
  {
   "cell_type": "code",
   "execution_count": 41,
   "metadata": {},
   "outputs": [],
   "source": [
    "from sklearn.preprocessing import MinMaxScaler"
   ]
  },
  {
   "cell_type": "code",
   "execution_count": 42,
   "metadata": {},
   "outputs": [],
   "source": [
    "mm_scaler = MinMaxScaler()"
   ]
  },
  {
   "cell_type": "code",
   "execution_count": 43,
   "metadata": {},
   "outputs": [
    {
     "data": {
      "text/html": [
       "<style>#sk-container-id-1 {color: black;}#sk-container-id-1 pre{padding: 0;}#sk-container-id-1 div.sk-toggleable {background-color: white;}#sk-container-id-1 label.sk-toggleable__label {cursor: pointer;display: block;width: 100%;margin-bottom: 0;padding: 0.3em;box-sizing: border-box;text-align: center;}#sk-container-id-1 label.sk-toggleable__label-arrow:before {content: \"▸\";float: left;margin-right: 0.25em;color: #696969;}#sk-container-id-1 label.sk-toggleable__label-arrow:hover:before {color: black;}#sk-container-id-1 div.sk-estimator:hover label.sk-toggleable__label-arrow:before {color: black;}#sk-container-id-1 div.sk-toggleable__content {max-height: 0;max-width: 0;overflow: hidden;text-align: left;background-color: #f0f8ff;}#sk-container-id-1 div.sk-toggleable__content pre {margin: 0.2em;color: black;border-radius: 0.25em;background-color: #f0f8ff;}#sk-container-id-1 input.sk-toggleable__control:checked~div.sk-toggleable__content {max-height: 200px;max-width: 100%;overflow: auto;}#sk-container-id-1 input.sk-toggleable__control:checked~label.sk-toggleable__label-arrow:before {content: \"▾\";}#sk-container-id-1 div.sk-estimator input.sk-toggleable__control:checked~label.sk-toggleable__label {background-color: #d4ebff;}#sk-container-id-1 div.sk-label input.sk-toggleable__control:checked~label.sk-toggleable__label {background-color: #d4ebff;}#sk-container-id-1 input.sk-hidden--visually {border: 0;clip: rect(1px 1px 1px 1px);clip: rect(1px, 1px, 1px, 1px);height: 1px;margin: -1px;overflow: hidden;padding: 0;position: absolute;width: 1px;}#sk-container-id-1 div.sk-estimator {font-family: monospace;background-color: #f0f8ff;border: 1px dotted black;border-radius: 0.25em;box-sizing: border-box;margin-bottom: 0.5em;}#sk-container-id-1 div.sk-estimator:hover {background-color: #d4ebff;}#sk-container-id-1 div.sk-parallel-item::after {content: \"\";width: 100%;border-bottom: 1px solid gray;flex-grow: 1;}#sk-container-id-1 div.sk-label:hover label.sk-toggleable__label {background-color: #d4ebff;}#sk-container-id-1 div.sk-serial::before {content: \"\";position: absolute;border-left: 1px solid gray;box-sizing: border-box;top: 0;bottom: 0;left: 50%;z-index: 0;}#sk-container-id-1 div.sk-serial {display: flex;flex-direction: column;align-items: center;background-color: white;padding-right: 0.2em;padding-left: 0.2em;position: relative;}#sk-container-id-1 div.sk-item {position: relative;z-index: 1;}#sk-container-id-1 div.sk-parallel {display: flex;align-items: stretch;justify-content: center;background-color: white;position: relative;}#sk-container-id-1 div.sk-item::before, #sk-container-id-1 div.sk-parallel-item::before {content: \"\";position: absolute;border-left: 1px solid gray;box-sizing: border-box;top: 0;bottom: 0;left: 50%;z-index: -1;}#sk-container-id-1 div.sk-parallel-item {display: flex;flex-direction: column;z-index: 1;position: relative;background-color: white;}#sk-container-id-1 div.sk-parallel-item:first-child::after {align-self: flex-end;width: 50%;}#sk-container-id-1 div.sk-parallel-item:last-child::after {align-self: flex-start;width: 50%;}#sk-container-id-1 div.sk-parallel-item:only-child::after {width: 0;}#sk-container-id-1 div.sk-dashed-wrapped {border: 1px dashed gray;margin: 0 0.4em 0.5em 0.4em;box-sizing: border-box;padding-bottom: 0.4em;background-color: white;}#sk-container-id-1 div.sk-label label {font-family: monospace;font-weight: bold;display: inline-block;line-height: 1.2em;}#sk-container-id-1 div.sk-label-container {text-align: center;}#sk-container-id-1 div.sk-container {/* jupyter's `normalize.less` sets `[hidden] { display: none; }` but bootstrap.min.css set `[hidden] { display: none !important; }` so we also need the `!important` here to be able to override the default hidden behavior on the sphinx rendered scikit-learn.org. See: https://github.com/scikit-learn/scikit-learn/issues/21755 */display: inline-block !important;position: relative;}#sk-container-id-1 div.sk-text-repr-fallback {display: none;}</style><div id=\"sk-container-id-1\" class=\"sk-top-container\"><div class=\"sk-text-repr-fallback\"><pre>MinMaxScaler()</pre><b>In a Jupyter environment, please rerun this cell to show the HTML representation or trust the notebook. <br />On GitHub, the HTML representation is unable to render, please try loading this page with nbviewer.org.</b></div><div class=\"sk-container\" hidden><div class=\"sk-item\"><div class=\"sk-estimator sk-toggleable\"><input class=\"sk-toggleable__control sk-hidden--visually\" id=\"sk-estimator-id-1\" type=\"checkbox\" checked><label for=\"sk-estimator-id-1\" class=\"sk-toggleable__label sk-toggleable__label-arrow\">MinMaxScaler</label><div class=\"sk-toggleable__content\"><pre>MinMaxScaler()</pre></div></div></div></div></div>"
      ],
      "text/plain": [
       "MinMaxScaler()"
      ]
     },
     "execution_count": 43,
     "metadata": {},
     "output_type": "execute_result"
    }
   ],
   "source": [
    "mm_scaler.fit(x_train)"
   ]
  },
  {
   "cell_type": "code",
   "execution_count": 44,
   "metadata": {},
   "outputs": [
    {
     "data": {
      "text/plain": [
       "(array([-9.51428571e+01, -1.16114626e-01, -6.50437429e-02,  0.00000000e+00]),\n",
       " array([0.04761905, 0.00018608, 0.00190186, 0.01947344]))"
      ]
     },
     "execution_count": 44,
     "metadata": {},
     "output_type": "execute_result"
    }
   ],
   "source": [
    "mm_scaler.min_, mm_scaler.scale_, "
   ]
  },
  {
   "cell_type": "code",
   "execution_count": 45,
   "metadata": {},
   "outputs": [
    {
     "data": {
      "text/plain": [
       "(array([1998. ,  624. ,   34.2,    0. ]),\n",
       " array([2019.   , 5998.   ,  560.   ,   51.352]))"
      ]
     },
     "execution_count": 45,
     "metadata": {},
     "output_type": "execute_result"
    }
   ],
   "source": [
    "mm_scaler.data_min_, mm_scaler.data_max_"
   ]
  },
  {
   "cell_type": "code",
   "execution_count": 46,
   "metadata": {},
   "outputs": [],
   "source": [
    "# 스케일링 \n",
    "\n",
    "x_train_scaled = mm_scaler.transform(x_train)\n",
    "x_test_scaled = mm_scaler.transform(x_test)"
   ]
  },
  {
   "cell_type": "markdown",
   "metadata": {},
   "source": [
    "## [4] 학습/훈련"
   ]
  },
  {
   "cell_type": "code",
   "execution_count": 47,
   "metadata": {},
   "outputs": [],
   "source": [
    "from sklearn.linear_model import LinearRegression"
   ]
  },
  {
   "cell_type": "code",
   "execution_count": 48,
   "metadata": {},
   "outputs": [],
   "source": [
    "model = LinearRegression()"
   ]
  },
  {
   "cell_type": "code",
   "execution_count": 49,
   "metadata": {},
   "outputs": [
    {
     "data": {
      "text/html": [
       "<style>#sk-container-id-2 {color: black;}#sk-container-id-2 pre{padding: 0;}#sk-container-id-2 div.sk-toggleable {background-color: white;}#sk-container-id-2 label.sk-toggleable__label {cursor: pointer;display: block;width: 100%;margin-bottom: 0;padding: 0.3em;box-sizing: border-box;text-align: center;}#sk-container-id-2 label.sk-toggleable__label-arrow:before {content: \"▸\";float: left;margin-right: 0.25em;color: #696969;}#sk-container-id-2 label.sk-toggleable__label-arrow:hover:before {color: black;}#sk-container-id-2 div.sk-estimator:hover label.sk-toggleable__label-arrow:before {color: black;}#sk-container-id-2 div.sk-toggleable__content {max-height: 0;max-width: 0;overflow: hidden;text-align: left;background-color: #f0f8ff;}#sk-container-id-2 div.sk-toggleable__content pre {margin: 0.2em;color: black;border-radius: 0.25em;background-color: #f0f8ff;}#sk-container-id-2 input.sk-toggleable__control:checked~div.sk-toggleable__content {max-height: 200px;max-width: 100%;overflow: auto;}#sk-container-id-2 input.sk-toggleable__control:checked~label.sk-toggleable__label-arrow:before {content: \"▾\";}#sk-container-id-2 div.sk-estimator input.sk-toggleable__control:checked~label.sk-toggleable__label {background-color: #d4ebff;}#sk-container-id-2 div.sk-label input.sk-toggleable__control:checked~label.sk-toggleable__label {background-color: #d4ebff;}#sk-container-id-2 input.sk-hidden--visually {border: 0;clip: rect(1px 1px 1px 1px);clip: rect(1px, 1px, 1px, 1px);height: 1px;margin: -1px;overflow: hidden;padding: 0;position: absolute;width: 1px;}#sk-container-id-2 div.sk-estimator {font-family: monospace;background-color: #f0f8ff;border: 1px dotted black;border-radius: 0.25em;box-sizing: border-box;margin-bottom: 0.5em;}#sk-container-id-2 div.sk-estimator:hover {background-color: #d4ebff;}#sk-container-id-2 div.sk-parallel-item::after {content: \"\";width: 100%;border-bottom: 1px solid gray;flex-grow: 1;}#sk-container-id-2 div.sk-label:hover label.sk-toggleable__label {background-color: #d4ebff;}#sk-container-id-2 div.sk-serial::before {content: \"\";position: absolute;border-left: 1px solid gray;box-sizing: border-box;top: 0;bottom: 0;left: 50%;z-index: 0;}#sk-container-id-2 div.sk-serial {display: flex;flex-direction: column;align-items: center;background-color: white;padding-right: 0.2em;padding-left: 0.2em;position: relative;}#sk-container-id-2 div.sk-item {position: relative;z-index: 1;}#sk-container-id-2 div.sk-parallel {display: flex;align-items: stretch;justify-content: center;background-color: white;position: relative;}#sk-container-id-2 div.sk-item::before, #sk-container-id-2 div.sk-parallel-item::before {content: \"\";position: absolute;border-left: 1px solid gray;box-sizing: border-box;top: 0;bottom: 0;left: 50%;z-index: -1;}#sk-container-id-2 div.sk-parallel-item {display: flex;flex-direction: column;z-index: 1;position: relative;background-color: white;}#sk-container-id-2 div.sk-parallel-item:first-child::after {align-self: flex-end;width: 50%;}#sk-container-id-2 div.sk-parallel-item:last-child::after {align-self: flex-start;width: 50%;}#sk-container-id-2 div.sk-parallel-item:only-child::after {width: 0;}#sk-container-id-2 div.sk-dashed-wrapped {border: 1px dashed gray;margin: 0 0.4em 0.5em 0.4em;box-sizing: border-box;padding-bottom: 0.4em;background-color: white;}#sk-container-id-2 div.sk-label label {font-family: monospace;font-weight: bold;display: inline-block;line-height: 1.2em;}#sk-container-id-2 div.sk-label-container {text-align: center;}#sk-container-id-2 div.sk-container {/* jupyter's `normalize.less` sets `[hidden] { display: none; }` but bootstrap.min.css set `[hidden] { display: none !important; }` so we also need the `!important` here to be able to override the default hidden behavior on the sphinx rendered scikit-learn.org. See: https://github.com/scikit-learn/scikit-learn/issues/21755 */display: inline-block !important;position: relative;}#sk-container-id-2 div.sk-text-repr-fallback {display: none;}</style><div id=\"sk-container-id-2\" class=\"sk-top-container\"><div class=\"sk-text-repr-fallback\"><pre>LinearRegression()</pre><b>In a Jupyter environment, please rerun this cell to show the HTML representation or trust the notebook. <br />On GitHub, the HTML representation is unable to render, please try loading this page with nbviewer.org.</b></div><div class=\"sk-container\" hidden><div class=\"sk-item\"><div class=\"sk-estimator sk-toggleable\"><input class=\"sk-toggleable__control sk-hidden--visually\" id=\"sk-estimator-id-2\" type=\"checkbox\" checked><label for=\"sk-estimator-id-2\" class=\"sk-toggleable__label sk-toggleable__label-arrow\">LinearRegression</label><div class=\"sk-toggleable__content\"><pre>LinearRegression()</pre></div></div></div></div></div>"
      ],
      "text/plain": [
       "LinearRegression()"
      ]
     },
     "execution_count": 49,
     "metadata": {},
     "output_type": "execute_result"
    }
   ],
   "source": [
    "model.fit(x_train_scaled, y_train)"
   ]
  },
  {
   "cell_type": "code",
   "execution_count": 50,
   "metadata": {},
   "outputs": [
    {
     "name": "stdout",
     "output_type": "stream",
     "text": [
      "model.coef_ : 4개, coef : [21.94138249  5.9002111  79.78951752  1.2590247 ]\n",
      "model.intercept_ : -20.146757728764378\n"
     ]
    }
   ],
   "source": [
    "# 학습 후 모델 파라미터\n",
    "print(f'model.coef_ : {len(model.coef_)}개, coef : {model.coef_}')\n",
    "print(f'model.intercept_ : {model.intercept_}')"
   ]
  },
  {
   "cell_type": "code",
   "execution_count": 51,
   "metadata": {},
   "outputs": [
    {
     "name": "stdout",
     "output_type": "stream",
     "text": [
      "y = 21.941382491430815x1 + 5.900211098255787x2 + 79.78951752405641x3 - 1.2590247005964181x4 - 20.146757728764378\n"
     ]
    }
   ],
   "source": [
    "print(f'y = {model.coef_[0]}x1 + {model.coef_[1]}x2 + {model.coef_[2]}x3 - {np.abs(model.coef_[3])}x4 - {np.abs(model.intercept_)}')"
   ]
  },
  {
   "cell_type": "markdown",
   "metadata": {},
   "source": [
    "## [5] 모델 성능 평가"
   ]
  },
  {
   "cell_type": "code",
   "execution_count": 52,
   "metadata": {},
   "outputs": [],
   "source": [
    "from sklearn.metrics import mean_absolute_error\n",
    "from sklearn.metrics import mean_squared_error \n",
    "from sklearn.metrics import r2_score"
   ]
  },
  {
   "cell_type": "code",
   "execution_count": 53,
   "metadata": {},
   "outputs": [
    {
     "name": "stdout",
     "output_type": "stream",
     "text": [
      "score_test : 0.6953517883956382\n"
     ]
    }
   ],
   "source": [
    "score_test= model.score(x_test_scaled, y_test)\n",
    "print(f'score_test : {score_test}')"
   ]
  },
  {
   "cell_type": "code",
   "execution_count": 54,
   "metadata": {},
   "outputs": [
    {
     "name": "stdout",
     "output_type": "stream",
     "text": [
      "score_train : 0.6777247899658787\n"
     ]
    }
   ],
   "source": [
    "score_train= model.score(x_train_scaled, y_train)\n",
    "print(f'score_train : {score_train}')"
   ]
  },
  {
   "cell_type": "code",
   "execution_count": 55,
   "metadata": {},
   "outputs": [
    {
     "data": {
      "text/plain": [
       "array([ 6.53068497, 20.77496959,  8.62523725, ...,  5.9613948 ,\n",
       "        9.80503135, 12.03013556])"
      ]
     },
     "execution_count": 55,
     "metadata": {},
     "output_type": "execute_result"
    }
   ],
   "source": [
    "pre_test = model.predict(x_test_scaled)\n",
    "pre_test"
   ]
  },
  {
   "cell_type": "code",
   "execution_count": 56,
   "metadata": {},
   "outputs": [],
   "source": [
    "mse = mean_squared_error(y_test, pre_test)\n",
    "rmse = mean_squared_error(y_test, pre_test, squared = False)\n",
    "mae = mean_absolute_error(y_test, pre_test)\n",
    "r2 = r2_score(y_test, pre_test)"
   ]
  },
  {
   "cell_type": "code",
   "execution_count": 57,
   "metadata": {},
   "outputs": [
    {
     "name": "stdout",
     "output_type": "stream",
     "text": [
      "mse : 34.773670516629686\n",
      "rmse : 5.89692042651329\n",
      "mae : 3.8218012884734374\n",
      "r2 : 0.6953517883956382\n"
     ]
    }
   ],
   "source": [
    "print(f'mse : {mse}')\n",
    "print(f'rmse : {rmse}')\n",
    "print(f'mae : {mae}')\n",
    "print(f'r2 : {r2}')"
   ]
  },
  {
   "cell_type": "markdown",
   "metadata": {},
   "source": [
    "## [6] test 데이터로 예측"
   ]
  },
  {
   "cell_type": "markdown",
   "metadata": {},
   "source": [
    "### [6-1] test 데이터 준비"
   ]
  },
  {
   "cell_type": "code",
   "execution_count": 58,
   "metadata": {},
   "outputs": [
    {
     "data": {
      "text/html": [
       "<div>\n",
       "<style scoped>\n",
       "    .dataframe tbody tr th:only-of-type {\n",
       "        vertical-align: middle;\n",
       "    }\n",
       "\n",
       "    .dataframe tbody tr th {\n",
       "        vertical-align: top;\n",
       "    }\n",
       "\n",
       "    .dataframe thead th {\n",
       "        text-align: right;\n",
       "    }\n",
       "</style>\n",
       "<table border=\"1\" class=\"dataframe\">\n",
       "  <thead>\n",
       "    <tr style=\"text-align: right;\">\n",
       "      <th></th>\n",
       "      <th>Year</th>\n",
       "      <th>Kilometers_Driven</th>\n",
       "      <th>Fuel_Type</th>\n",
       "      <th>Mileage</th>\n",
       "      <th>Engine</th>\n",
       "      <th>Power</th>\n",
       "      <th>Seats</th>\n",
       "    </tr>\n",
       "  </thead>\n",
       "  <tbody>\n",
       "    <tr>\n",
       "      <th>0</th>\n",
       "      <td>2014</td>\n",
       "      <td>40929</td>\n",
       "      <td>CNG</td>\n",
       "      <td>32.26 km/kg</td>\n",
       "      <td>998 CC</td>\n",
       "      <td>58.2 bhp</td>\n",
       "      <td>4.0</td>\n",
       "    </tr>\n",
       "    <tr>\n",
       "      <th>1</th>\n",
       "      <td>2013</td>\n",
       "      <td>54493</td>\n",
       "      <td>Petrol</td>\n",
       "      <td>24.7 kmpl</td>\n",
       "      <td>796 CC</td>\n",
       "      <td>47.3 bhp</td>\n",
       "      <td>5.0</td>\n",
       "    </tr>\n",
       "    <tr>\n",
       "      <th>2</th>\n",
       "      <td>2017</td>\n",
       "      <td>34000</td>\n",
       "      <td>Diesel</td>\n",
       "      <td>13.68 kmpl</td>\n",
       "      <td>2393 CC</td>\n",
       "      <td>147.8 bhp</td>\n",
       "      <td>7.0</td>\n",
       "    </tr>\n",
       "    <tr>\n",
       "      <th>3</th>\n",
       "      <td>2012</td>\n",
       "      <td>139000</td>\n",
       "      <td>Diesel</td>\n",
       "      <td>23.59 kmpl</td>\n",
       "      <td>1364 CC</td>\n",
       "      <td>null bhp</td>\n",
       "      <td>5.0</td>\n",
       "    </tr>\n",
       "    <tr>\n",
       "      <th>4</th>\n",
       "      <td>2014</td>\n",
       "      <td>29000</td>\n",
       "      <td>Petrol</td>\n",
       "      <td>18.5 kmpl</td>\n",
       "      <td>1197 CC</td>\n",
       "      <td>82.85 bhp</td>\n",
       "      <td>5.0</td>\n",
       "    </tr>\n",
       "    <tr>\n",
       "      <th>...</th>\n",
       "      <td>...</td>\n",
       "      <td>...</td>\n",
       "      <td>...</td>\n",
       "      <td>...</td>\n",
       "      <td>...</td>\n",
       "      <td>...</td>\n",
       "      <td>...</td>\n",
       "    </tr>\n",
       "    <tr>\n",
       "      <th>1229</th>\n",
       "      <td>2011</td>\n",
       "      <td>89411</td>\n",
       "      <td>Diesel</td>\n",
       "      <td>20.54 kmpl</td>\n",
       "      <td>1598 CC</td>\n",
       "      <td>103.6 bhp</td>\n",
       "      <td>5.0</td>\n",
       "    </tr>\n",
       "    <tr>\n",
       "      <th>1230</th>\n",
       "      <td>2015</td>\n",
       "      <td>59000</td>\n",
       "      <td>Petrol</td>\n",
       "      <td>17.21 kmpl</td>\n",
       "      <td>1197 CC</td>\n",
       "      <td>103.6 bhp</td>\n",
       "      <td>5.0</td>\n",
       "    </tr>\n",
       "    <tr>\n",
       "      <th>1231</th>\n",
       "      <td>2012</td>\n",
       "      <td>28000</td>\n",
       "      <td>Diesel</td>\n",
       "      <td>23.08 kmpl</td>\n",
       "      <td>1461 CC</td>\n",
       "      <td>63.1 bhp</td>\n",
       "      <td>5.0</td>\n",
       "    </tr>\n",
       "    <tr>\n",
       "      <th>1232</th>\n",
       "      <td>2013</td>\n",
       "      <td>52262</td>\n",
       "      <td>Petrol</td>\n",
       "      <td>17.2 kmpl</td>\n",
       "      <td>1197 CC</td>\n",
       "      <td>103.6 bhp</td>\n",
       "      <td>5.0</td>\n",
       "    </tr>\n",
       "    <tr>\n",
       "      <th>1233</th>\n",
       "      <td>2014</td>\n",
       "      <td>72443</td>\n",
       "      <td>Diesel</td>\n",
       "      <td>10.0 kmpl</td>\n",
       "      <td>2148 CC</td>\n",
       "      <td>170 bhp</td>\n",
       "      <td>5.0</td>\n",
       "    </tr>\n",
       "  </tbody>\n",
       "</table>\n",
       "<p>1234 rows × 7 columns</p>\n",
       "</div>"
      ],
      "text/plain": [
       "      Year  Kilometers_Driven Fuel_Type      Mileage   Engine      Power  \\\n",
       "0     2014              40929       CNG  32.26 km/kg   998 CC   58.2 bhp   \n",
       "1     2013              54493    Petrol    24.7 kmpl   796 CC   47.3 bhp   \n",
       "2     2017              34000    Diesel   13.68 kmpl  2393 CC  147.8 bhp   \n",
       "3     2012             139000    Diesel   23.59 kmpl  1364 CC   null bhp   \n",
       "4     2014              29000    Petrol    18.5 kmpl  1197 CC  82.85 bhp   \n",
       "...    ...                ...       ...          ...      ...        ...   \n",
       "1229  2011              89411    Diesel   20.54 kmpl  1598 CC  103.6 bhp   \n",
       "1230  2015              59000    Petrol   17.21 kmpl  1197 CC  103.6 bhp   \n",
       "1231  2012              28000    Diesel   23.08 kmpl  1461 CC   63.1 bhp   \n",
       "1232  2013              52262    Petrol    17.2 kmpl  1197 CC  103.6 bhp   \n",
       "1233  2014              72443    Diesel    10.0 kmpl  2148 CC    170 bhp   \n",
       "\n",
       "      Seats  \n",
       "0       4.0  \n",
       "1       5.0  \n",
       "2       7.0  \n",
       "3       5.0  \n",
       "4       5.0  \n",
       "...     ...  \n",
       "1229    5.0  \n",
       "1230    5.0  \n",
       "1231    5.0  \n",
       "1232    5.0  \n",
       "1233    5.0  \n",
       "\n",
       "[1234 rows x 7 columns]"
      ]
     },
     "execution_count": 58,
     "metadata": {},
     "output_type": "execute_result"
    }
   ],
   "source": [
    "test_data"
   ]
  },
  {
   "cell_type": "code",
   "execution_count": 59,
   "metadata": {},
   "outputs": [
    {
     "data": {
      "text/plain": [
       "Year                  0\n",
       "Kilometers_Driven     0\n",
       "Fuel_Type             0\n",
       "Mileage               0\n",
       "Engine               10\n",
       "Power                10\n",
       "Seats                11\n",
       "dtype: int64"
      ]
     },
     "execution_count": 59,
     "metadata": {},
     "output_type": "execute_result"
    }
   ],
   "source": [
    "test_data.isna().sum()"
   ]
  },
  {
   "cell_type": "code",
   "execution_count": 60,
   "metadata": {},
   "outputs": [
    {
     "data": {
      "text/html": [
       "<div>\n",
       "<style scoped>\n",
       "    .dataframe tbody tr th:only-of-type {\n",
       "        vertical-align: middle;\n",
       "    }\n",
       "\n",
       "    .dataframe tbody tr th {\n",
       "        vertical-align: top;\n",
       "    }\n",
       "\n",
       "    .dataframe thead th {\n",
       "        text-align: right;\n",
       "    }\n",
       "</style>\n",
       "<table border=\"1\" class=\"dataframe\">\n",
       "  <thead>\n",
       "    <tr style=\"text-align: right;\">\n",
       "      <th></th>\n",
       "      <th>Year</th>\n",
       "      <th>Kilometers_Driven</th>\n",
       "      <th>Fuel_Type</th>\n",
       "      <th>Mileage</th>\n",
       "      <th>Engine</th>\n",
       "      <th>Power</th>\n",
       "      <th>Seats</th>\n",
       "    </tr>\n",
       "  </thead>\n",
       "  <tbody>\n",
       "    <tr>\n",
       "      <th>0</th>\n",
       "      <td>2014</td>\n",
       "      <td>40929</td>\n",
       "      <td>CNG</td>\n",
       "      <td>32.26 km/kg</td>\n",
       "      <td>998 CC</td>\n",
       "      <td>58.2 bhp</td>\n",
       "      <td>4.0</td>\n",
       "    </tr>\n",
       "    <tr>\n",
       "      <th>1</th>\n",
       "      <td>2013</td>\n",
       "      <td>54493</td>\n",
       "      <td>Petrol</td>\n",
       "      <td>24.7 kmpl</td>\n",
       "      <td>796 CC</td>\n",
       "      <td>47.3 bhp</td>\n",
       "      <td>5.0</td>\n",
       "    </tr>\n",
       "    <tr>\n",
       "      <th>2</th>\n",
       "      <td>2017</td>\n",
       "      <td>34000</td>\n",
       "      <td>Diesel</td>\n",
       "      <td>13.68 kmpl</td>\n",
       "      <td>2393 CC</td>\n",
       "      <td>147.8 bhp</td>\n",
       "      <td>7.0</td>\n",
       "    </tr>\n",
       "    <tr>\n",
       "      <th>3</th>\n",
       "      <td>2012</td>\n",
       "      <td>139000</td>\n",
       "      <td>Diesel</td>\n",
       "      <td>23.59 kmpl</td>\n",
       "      <td>1364 CC</td>\n",
       "      <td>null bhp</td>\n",
       "      <td>5.0</td>\n",
       "    </tr>\n",
       "    <tr>\n",
       "      <th>4</th>\n",
       "      <td>2014</td>\n",
       "      <td>29000</td>\n",
       "      <td>Petrol</td>\n",
       "      <td>18.5 kmpl</td>\n",
       "      <td>1197 CC</td>\n",
       "      <td>82.85 bhp</td>\n",
       "      <td>5.0</td>\n",
       "    </tr>\n",
       "    <tr>\n",
       "      <th>...</th>\n",
       "      <td>...</td>\n",
       "      <td>...</td>\n",
       "      <td>...</td>\n",
       "      <td>...</td>\n",
       "      <td>...</td>\n",
       "      <td>...</td>\n",
       "      <td>...</td>\n",
       "    </tr>\n",
       "    <tr>\n",
       "      <th>1218</th>\n",
       "      <td>2011</td>\n",
       "      <td>89411</td>\n",
       "      <td>Diesel</td>\n",
       "      <td>20.54 kmpl</td>\n",
       "      <td>1598 CC</td>\n",
       "      <td>103.6 bhp</td>\n",
       "      <td>5.0</td>\n",
       "    </tr>\n",
       "    <tr>\n",
       "      <th>1219</th>\n",
       "      <td>2015</td>\n",
       "      <td>59000</td>\n",
       "      <td>Petrol</td>\n",
       "      <td>17.21 kmpl</td>\n",
       "      <td>1197 CC</td>\n",
       "      <td>103.6 bhp</td>\n",
       "      <td>5.0</td>\n",
       "    </tr>\n",
       "    <tr>\n",
       "      <th>1220</th>\n",
       "      <td>2012</td>\n",
       "      <td>28000</td>\n",
       "      <td>Diesel</td>\n",
       "      <td>23.08 kmpl</td>\n",
       "      <td>1461 CC</td>\n",
       "      <td>63.1 bhp</td>\n",
       "      <td>5.0</td>\n",
       "    </tr>\n",
       "    <tr>\n",
       "      <th>1221</th>\n",
       "      <td>2013</td>\n",
       "      <td>52262</td>\n",
       "      <td>Petrol</td>\n",
       "      <td>17.2 kmpl</td>\n",
       "      <td>1197 CC</td>\n",
       "      <td>103.6 bhp</td>\n",
       "      <td>5.0</td>\n",
       "    </tr>\n",
       "    <tr>\n",
       "      <th>1222</th>\n",
       "      <td>2014</td>\n",
       "      <td>72443</td>\n",
       "      <td>Diesel</td>\n",
       "      <td>10.0 kmpl</td>\n",
       "      <td>2148 CC</td>\n",
       "      <td>170 bhp</td>\n",
       "      <td>5.0</td>\n",
       "    </tr>\n",
       "  </tbody>\n",
       "</table>\n",
       "<p>1223 rows × 7 columns</p>\n",
       "</div>"
      ],
      "text/plain": [
       "      Year  Kilometers_Driven Fuel_Type      Mileage   Engine      Power  \\\n",
       "0     2014              40929       CNG  32.26 km/kg   998 CC   58.2 bhp   \n",
       "1     2013              54493    Petrol    24.7 kmpl   796 CC   47.3 bhp   \n",
       "2     2017              34000    Diesel   13.68 kmpl  2393 CC  147.8 bhp   \n",
       "3     2012             139000    Diesel   23.59 kmpl  1364 CC   null bhp   \n",
       "4     2014              29000    Petrol    18.5 kmpl  1197 CC  82.85 bhp   \n",
       "...    ...                ...       ...          ...      ...        ...   \n",
       "1218  2011              89411    Diesel   20.54 kmpl  1598 CC  103.6 bhp   \n",
       "1219  2015              59000    Petrol   17.21 kmpl  1197 CC  103.6 bhp   \n",
       "1220  2012              28000    Diesel   23.08 kmpl  1461 CC   63.1 bhp   \n",
       "1221  2013              52262    Petrol    17.2 kmpl  1197 CC  103.6 bhp   \n",
       "1222  2014              72443    Diesel    10.0 kmpl  2148 CC    170 bhp   \n",
       "\n",
       "      Seats  \n",
       "0       4.0  \n",
       "1       5.0  \n",
       "2       7.0  \n",
       "3       5.0  \n",
       "4       5.0  \n",
       "...     ...  \n",
       "1218    5.0  \n",
       "1219    5.0  \n",
       "1220    5.0  \n",
       "1221    5.0  \n",
       "1222    5.0  \n",
       "\n",
       "[1223 rows x 7 columns]"
      ]
     },
     "execution_count": 60,
     "metadata": {},
     "output_type": "execute_result"
    }
   ],
   "source": [
    "test_data.dropna(inplace=True)\n",
    "test_data.reset_index(inplace=True, drop=True)\n",
    "test_data"
   ]
  },
  {
   "cell_type": "code",
   "execution_count": 61,
   "metadata": {},
   "outputs": [
    {
     "data": {
      "text/plain": [
       "Year                 0\n",
       "Kilometers_Driven    0\n",
       "Fuel_Type            0\n",
       "Mileage              0\n",
       "Engine               0\n",
       "Power                0\n",
       "Seats                0\n",
       "dtype: int64"
      ]
     },
     "execution_count": 61,
     "metadata": {},
     "output_type": "execute_result"
    }
   ],
   "source": [
    "test_data.isna().sum()"
   ]
  },
  {
   "cell_type": "code",
   "execution_count": 62,
   "metadata": {},
   "outputs": [],
   "source": [
    "test_data['Mileage_car'] = ' '\n",
    "\n",
    "# Fuel_type = 2, Mileage : 3, Mileage_car = -1\n",
    "\n",
    "# CNG 면 1.4를 곱하고 LPG면 1.96를 곱함\n",
    "\n",
    "for idx in range(len(test_data)):\n",
    "    if test_data.iloc[idx,2] == 'CNG':\n",
    "        if test_data.iloc[idx, 3].split()[1] == 'km/kg':\n",
    "            test_data.iloc[idx,-1] = float(test_data.iloc[idx, 3].split()[0]) * 1.4\n",
    "        else:\n",
    "            test_data.iloc[idx,-1] = float(test_data.iloc[idx, 3].split()[0])\n",
    "\n",
    "    elif test_data.iloc[idx,2] == 'LPG':\n",
    "        if test_data.iloc[idx, 3].split()[1] == 'km/kg':\n",
    "            test_data.iloc[idx,-1] = float(test_data.iloc[idx, 3].split()[0]) * 1.96\n",
    "        else:\n",
    "            test_data.iloc[idx,-1] = float(test_data.iloc[idx, 3].split()[0])\n",
    "    \n",
    "    else:\n",
    "        test_data.iloc[idx,-1] = float(test_data.iloc[idx, 3].split()[0])\n",
    "\n",
    "    "
   ]
  },
  {
   "cell_type": "code",
   "execution_count": 63,
   "metadata": {},
   "outputs": [],
   "source": [
    "test_data['Engine'] = test_data['Engine'].str.split().str[0]"
   ]
  },
  {
   "cell_type": "code",
   "execution_count": 64,
   "metadata": {},
   "outputs": [],
   "source": [
    "test_data['Power'] = test_data['Power'].str.split().str[0]"
   ]
  },
  {
   "cell_type": "code",
   "execution_count": 65,
   "metadata": {},
   "outputs": [
    {
     "data": {
      "text/plain": [
       "array([2014, 2013, 2017, 2012, 2016, 2015, 2011, 2007, 2008, 2009, 2019,\n",
       "       2010, 2005, 2006, 2018, 2003, 1996, 2004, 2002, 2000], dtype=int64)"
      ]
     },
     "execution_count": 65,
     "metadata": {},
     "output_type": "execute_result"
    }
   ],
   "source": [
    "test_data['Year'].unique()"
   ]
  },
  {
   "cell_type": "code",
   "execution_count": 66,
   "metadata": {},
   "outputs": [
    {
     "data": {
      "text/plain": [
       "array(['998', '796', '2393', '1364', '1197', '2179', '2982', '814',\n",
       "       '1497', '1968', '1794', '1248', '1598', '1995', '1399', '1298',\n",
       "       '1198', '1799', '1299', '1498', '1086', '2835', '1591', '2494',\n",
       "       '1373', '2143', '2953', '1396', '1798', '1199', '1196', '1461',\n",
       "       '2487', '1582', '2496', '1368', '1596', '1595', '2354', '624',\n",
       "       '2993', '936', '2987', '1999', '999', '2000', '1493', '1120',\n",
       "       '3498', '1496', '1405', '1896', '2967', '2477', '1948', '1172',\n",
       "       '1797', '2498', '1061', '1150', '1495', '2499', '1796', '2362',\n",
       "       '2523', '5998', '2755', '2400', '2349', '995', '1998', '2999',\n",
       "       '1795', '1984', '793', '1341', '1186', '1499', '1991', '799',\n",
       "       '1586', '2497', '1956', '1950', '1462', '1388', '1997', '3696',\n",
       "       '2446', '2198', '2489', '2147', '2359', '2996', '2495', '2148',\n",
       "       '4395', '1389', '1193', '2696', '2979', '1590', '1599', '1047'],\n",
       "      dtype=object)"
      ]
     },
     "execution_count": 66,
     "metadata": {},
     "output_type": "execute_result"
    }
   ],
   "source": [
    "test_data['Engine'].unique()"
   ]
  },
  {
   "cell_type": "code",
   "execution_count": 67,
   "metadata": {},
   "outputs": [
    {
     "data": {
      "text/plain": [
       "array(['58.2', '47.3', '147.8', 'null', '82.85', '140', '168.7', '55.2',\n",
       "       '118', '167.6', '82', '125', '75', '102.5', '184', '68', '81.80',\n",
       "       '85.8', '73.94', '132', '70', '46.3', '98.6', '103.52', '80',\n",
       "       '67.06', '103.6', '68.05', '107.2', '74', '121.3', '102', '190',\n",
       "       '174.33', '88.5', '91.1', '136', '100.6', '89.84', '153.86',\n",
       "       '174.3', '67.04', '69', '78', '138.1', '81.83', '88.8', '67',\n",
       "       '82.5', '120', '108.62', '67.1', '86.8', '93.7', '62', '84',\n",
       "       '79.4', '63.1', '100', '81.86', '175.67', '87.2', '126.32',\n",
       "       '103.2', '179.5', '88.76', '99.6', '120.7', '62.1', '83.1', '180',\n",
       "       '75.94', '126.24', '35', '73.9', '138.13', '201.15', '218', '57.6',\n",
       "       '147.51', '224', '66.1', '130.3', '177', '90', '123.24', '130',\n",
       "       '148', '78.9', '108.495', '187.7', '204', '165', '98.96', '117.3',\n",
       "       '254.8', '364.9', '108.5', '201.1', '88.73', '71', '160', '105',\n",
       "       '84.8', '203.2', '246.7', '110', '37.48', '261.49', '108.45',\n",
       "       '73.75', '270.9', '56.3', '167.62', '34.2', '88.7', '175.56',\n",
       "       '126.2', '181', '147.5', '78.8', '70.02', '57.5', '121.4',\n",
       "       '138.03', '83.8', '246.74', '74.9', '203', '94', '140.8', '112',\n",
       "       '170', '157.75', '185', '37', '171', '164.7', '116.3', '65',\n",
       "       '241.4', '76.8', '142', '64.1', '73', '177.6', '86.7', '77', '616',\n",
       "       '174.5', '48.21', '144', '69.01', '91.7', '187.74', '178', '200',\n",
       "       '241', '170.30', '182.46', '106', '163.7', '245.41', '98.59', '63',\n",
       "       '167.7', '161', '97.7', '127', '168.5', '76', '113.98', '120.69',\n",
       "       '208', '258', '47', '61', '73.97', '110.4', '252', '123.7', '53.3',\n",
       "       '147.9', '85.80', '103.5', '103.3', '73.74', '126.3', '82.9',\n",
       "       '149.92', '118.3', '76.9', '152', '116.4', '123.37', '169',\n",
       "       '108.4', '210', '171.5', '83', '215', '143', '73.8', '63.12',\n",
       "       '177.46', '191.34', '282', '108.49', '240', '103', '91.72', '66',\n",
       "       '141', '88.2', '130.2', '147.4', '328.5', '313', '115', '150',\n",
       "       '55', '83.14', '158', '98.63', '224.34', '134', '107.3', '53.64',\n",
       "       '198.25', '362.07', '254.79', '104.68', '157.7', '450', '88',\n",
       "       '186', '98.82', '360', '178.4', '236', '85', '192', '98.79',\n",
       "       '112.2', '321', '241.6', '157.8', '121.36', '92.7'], dtype=object)"
      ]
     },
     "execution_count": 67,
     "metadata": {},
     "output_type": "execute_result"
    }
   ],
   "source": [
    "test_data['Power'].unique()"
   ]
  },
  {
   "cell_type": "code",
   "execution_count": 68,
   "metadata": {},
   "outputs": [],
   "source": [
    "test_data['Power']= test_data['Power'].replace('null', np.nan)"
   ]
  },
  {
   "cell_type": "code",
   "execution_count": 69,
   "metadata": {},
   "outputs": [
    {
     "data": {
      "text/plain": [
       "Year                  0\n",
       "Kilometers_Driven     0\n",
       "Fuel_Type             0\n",
       "Mileage               0\n",
       "Engine                0\n",
       "Power                22\n",
       "Seats                 0\n",
       "Mileage_car           0\n",
       "dtype: int64"
      ]
     },
     "execution_count": 69,
     "metadata": {},
     "output_type": "execute_result"
    }
   ],
   "source": [
    "test_data.isna().sum()"
   ]
  },
  {
   "cell_type": "code",
   "execution_count": 70,
   "metadata": {},
   "outputs": [
    {
     "name": "stdout",
     "output_type": "stream",
     "text": [
      "<class 'pandas.core.frame.DataFrame'>\n",
      "RangeIndex: 1223 entries, 0 to 1222\n",
      "Data columns (total 8 columns):\n",
      " #   Column             Non-Null Count  Dtype  \n",
      "---  ------             --------------  -----  \n",
      " 0   Year               1223 non-null   int64  \n",
      " 1   Kilometers_Driven  1223 non-null   int64  \n",
      " 2   Fuel_Type          1223 non-null   object \n",
      " 3   Mileage            1223 non-null   object \n",
      " 4   Engine             1223 non-null   object \n",
      " 5   Power              1201 non-null   object \n",
      " 6   Seats              1223 non-null   float64\n",
      " 7   Mileage_car        1223 non-null   object \n",
      "dtypes: float64(1), int64(2), object(5)\n",
      "memory usage: 76.6+ KB\n"
     ]
    }
   ],
   "source": [
    "test_data.info()"
   ]
  },
  {
   "cell_type": "code",
   "execution_count": 71,
   "metadata": {},
   "outputs": [],
   "source": [
    "test_data.dropna(inplace=True)\n",
    "test_data.reset_index(inplace=True, drop=True)"
   ]
  },
  {
   "cell_type": "code",
   "execution_count": 72,
   "metadata": {},
   "outputs": [],
   "source": [
    "# feature : Year, Engine, Power, Mileage_car\n",
    "\n",
    "feature_test = test_data[['Year','Engine', 'Power', 'Mileage_car']].copy()\n"
   ]
  },
  {
   "cell_type": "code",
   "execution_count": 73,
   "metadata": {},
   "outputs": [
    {
     "data": {
      "text/html": [
       "<div>\n",
       "<style scoped>\n",
       "    .dataframe tbody tr th:only-of-type {\n",
       "        vertical-align: middle;\n",
       "    }\n",
       "\n",
       "    .dataframe tbody tr th {\n",
       "        vertical-align: top;\n",
       "    }\n",
       "\n",
       "    .dataframe thead th {\n",
       "        text-align: right;\n",
       "    }\n",
       "</style>\n",
       "<table border=\"1\" class=\"dataframe\">\n",
       "  <thead>\n",
       "    <tr style=\"text-align: right;\">\n",
       "      <th></th>\n",
       "      <th>Year</th>\n",
       "      <th>Engine</th>\n",
       "      <th>Power</th>\n",
       "      <th>Mileage_car</th>\n",
       "    </tr>\n",
       "  </thead>\n",
       "  <tbody>\n",
       "    <tr>\n",
       "      <th>0</th>\n",
       "      <td>2014</td>\n",
       "      <td>998</td>\n",
       "      <td>58.2</td>\n",
       "      <td>45.164</td>\n",
       "    </tr>\n",
       "    <tr>\n",
       "      <th>1</th>\n",
       "      <td>2013</td>\n",
       "      <td>796</td>\n",
       "      <td>47.3</td>\n",
       "      <td>24.7</td>\n",
       "    </tr>\n",
       "    <tr>\n",
       "      <th>2</th>\n",
       "      <td>2017</td>\n",
       "      <td>2393</td>\n",
       "      <td>147.8</td>\n",
       "      <td>13.68</td>\n",
       "    </tr>\n",
       "    <tr>\n",
       "      <th>3</th>\n",
       "      <td>2014</td>\n",
       "      <td>1197</td>\n",
       "      <td>82.85</td>\n",
       "      <td>18.5</td>\n",
       "    </tr>\n",
       "    <tr>\n",
       "      <th>4</th>\n",
       "      <td>2016</td>\n",
       "      <td>2179</td>\n",
       "      <td>140</td>\n",
       "      <td>16.0</td>\n",
       "    </tr>\n",
       "    <tr>\n",
       "      <th>...</th>\n",
       "      <td>...</td>\n",
       "      <td>...</td>\n",
       "      <td>...</td>\n",
       "      <td>...</td>\n",
       "    </tr>\n",
       "    <tr>\n",
       "      <th>1196</th>\n",
       "      <td>2011</td>\n",
       "      <td>1598</td>\n",
       "      <td>103.6</td>\n",
       "      <td>20.54</td>\n",
       "    </tr>\n",
       "    <tr>\n",
       "      <th>1197</th>\n",
       "      <td>2015</td>\n",
       "      <td>1197</td>\n",
       "      <td>103.6</td>\n",
       "      <td>17.21</td>\n",
       "    </tr>\n",
       "    <tr>\n",
       "      <th>1198</th>\n",
       "      <td>2012</td>\n",
       "      <td>1461</td>\n",
       "      <td>63.1</td>\n",
       "      <td>23.08</td>\n",
       "    </tr>\n",
       "    <tr>\n",
       "      <th>1199</th>\n",
       "      <td>2013</td>\n",
       "      <td>1197</td>\n",
       "      <td>103.6</td>\n",
       "      <td>17.2</td>\n",
       "    </tr>\n",
       "    <tr>\n",
       "      <th>1200</th>\n",
       "      <td>2014</td>\n",
       "      <td>2148</td>\n",
       "      <td>170</td>\n",
       "      <td>10.0</td>\n",
       "    </tr>\n",
       "  </tbody>\n",
       "</table>\n",
       "<p>1201 rows × 4 columns</p>\n",
       "</div>"
      ],
      "text/plain": [
       "      Year Engine  Power Mileage_car\n",
       "0     2014    998   58.2      45.164\n",
       "1     2013    796   47.3        24.7\n",
       "2     2017   2393  147.8       13.68\n",
       "3     2014   1197  82.85        18.5\n",
       "4     2016   2179    140        16.0\n",
       "...    ...    ...    ...         ...\n",
       "1196  2011   1598  103.6       20.54\n",
       "1197  2015   1197  103.6       17.21\n",
       "1198  2012   1461   63.1       23.08\n",
       "1199  2013   1197  103.6        17.2\n",
       "1200  2014   2148    170        10.0\n",
       "\n",
       "[1201 rows x 4 columns]"
      ]
     },
     "execution_count": 73,
     "metadata": {},
     "output_type": "execute_result"
    }
   ],
   "source": [
    "feature_test"
   ]
  },
  {
   "cell_type": "code",
   "execution_count": 74,
   "metadata": {},
   "outputs": [
    {
     "name": "stdout",
     "output_type": "stream",
     "text": [
      "<class 'pandas.core.frame.DataFrame'>\n",
      "RangeIndex: 1201 entries, 0 to 1200\n",
      "Data columns (total 4 columns):\n",
      " #   Column       Non-Null Count  Dtype \n",
      "---  ------       --------------  ----- \n",
      " 0   Year         1201 non-null   int64 \n",
      " 1   Engine       1201 non-null   object\n",
      " 2   Power        1201 non-null   object\n",
      " 3   Mileage_car  1201 non-null   object\n",
      "dtypes: int64(1), object(3)\n",
      "memory usage: 37.7+ KB\n"
     ]
    }
   ],
   "source": [
    "feature_test.info()"
   ]
  },
  {
   "cell_type": "code",
   "execution_count": 75,
   "metadata": {},
   "outputs": [],
   "source": [
    "feature_test['Engine'] = feature_test['Engine'].astype(int)"
   ]
  },
  {
   "cell_type": "code",
   "execution_count": 76,
   "metadata": {},
   "outputs": [],
   "source": [
    "feature_test['Power'] = feature_test['Power'].astype(float)"
   ]
  },
  {
   "cell_type": "code",
   "execution_count": 77,
   "metadata": {},
   "outputs": [],
   "source": [
    "feature_test['Mileage_car'] = feature_test['Mileage_car'].astype(float)"
   ]
  },
  {
   "cell_type": "code",
   "execution_count": 78,
   "metadata": {},
   "outputs": [
    {
     "name": "stdout",
     "output_type": "stream",
     "text": [
      "<class 'pandas.core.frame.DataFrame'>\n",
      "RangeIndex: 1201 entries, 0 to 1200\n",
      "Data columns (total 4 columns):\n",
      " #   Column       Non-Null Count  Dtype  \n",
      "---  ------       --------------  -----  \n",
      " 0   Year         1201 non-null   int64  \n",
      " 1   Engine       1201 non-null   int32  \n",
      " 2   Power        1201 non-null   float64\n",
      " 3   Mileage_car  1201 non-null   float64\n",
      "dtypes: float64(2), int32(1), int64(1)\n",
      "memory usage: 33.0 KB\n"
     ]
    }
   ],
   "source": [
    "feature_test.info()"
   ]
  },
  {
   "cell_type": "code",
   "execution_count": 79,
   "metadata": {},
   "outputs": [
    {
     "data": {
      "text/plain": [
       "array([[0.76190476, 0.06959434, 0.04564473, 0.87949836],\n",
       "       [0.71428571, 0.03200595, 0.02491442, 0.48099392],\n",
       "       [0.9047619 , 0.32917752, 0.21605173, 0.26639663],\n",
       "       ...,\n",
       "       [0.66666667, 0.15574991, 0.05496386, 0.44944695],\n",
       "       [0.71428571, 0.10662449, 0.13198935, 0.33494314],\n",
       "       [0.76190476, 0.28358764, 0.25827311, 0.19473438]])"
      ]
     },
     "execution_count": 79,
     "metadata": {},
     "output_type": "execute_result"
    }
   ],
   "source": [
    "feature_test_scaled = mm_scaler.transform(feature_test)\n",
    "feature_test_scaled"
   ]
  },
  {
   "cell_type": "code",
   "execution_count": 80,
   "metadata": {},
   "outputs": [
    {
     "data": {
      "text/plain": [
       "array([ 1.73038869, -1.6920073 , 19.22124945, ...,  0.35119298,\n",
       "        7.10783353, 19.09637509])"
      ]
     },
     "execution_count": 80,
     "metadata": {},
     "output_type": "execute_result"
    }
   ],
   "source": [
    "model.predict(feature_test_scaled)"
   ]
  },
  {
   "cell_type": "code",
   "execution_count": 81,
   "metadata": {},
   "outputs": [],
   "source": [
    "feature_test['predict_price'] = pd.DataFrame(model.predict(feature_test_scaled))"
   ]
  },
  {
   "cell_type": "code",
   "execution_count": 82,
   "metadata": {},
   "outputs": [
    {
     "data": {
      "text/html": [
       "<div>\n",
       "<style scoped>\n",
       "    .dataframe tbody tr th:only-of-type {\n",
       "        vertical-align: middle;\n",
       "    }\n",
       "\n",
       "    .dataframe tbody tr th {\n",
       "        vertical-align: top;\n",
       "    }\n",
       "\n",
       "    .dataframe thead th {\n",
       "        text-align: right;\n",
       "    }\n",
       "</style>\n",
       "<table border=\"1\" class=\"dataframe\">\n",
       "  <thead>\n",
       "    <tr style=\"text-align: right;\">\n",
       "      <th></th>\n",
       "      <th>Year</th>\n",
       "      <th>Engine</th>\n",
       "      <th>Power</th>\n",
       "      <th>Mileage_car</th>\n",
       "      <th>predict_price</th>\n",
       "    </tr>\n",
       "  </thead>\n",
       "  <tbody>\n",
       "    <tr>\n",
       "      <th>0</th>\n",
       "      <td>2014</td>\n",
       "      <td>998</td>\n",
       "      <td>58.20</td>\n",
       "      <td>45.164</td>\n",
       "      <td>1.730389</td>\n",
       "    </tr>\n",
       "    <tr>\n",
       "      <th>1</th>\n",
       "      <td>2013</td>\n",
       "      <td>796</td>\n",
       "      <td>47.30</td>\n",
       "      <td>24.700</td>\n",
       "      <td>-1.692007</td>\n",
       "    </tr>\n",
       "    <tr>\n",
       "      <th>2</th>\n",
       "      <td>2017</td>\n",
       "      <td>2393</td>\n",
       "      <td>147.80</td>\n",
       "      <td>13.680</td>\n",
       "      <td>19.221249</td>\n",
       "    </tr>\n",
       "    <tr>\n",
       "      <th>3</th>\n",
       "      <td>2014</td>\n",
       "      <td>1197</td>\n",
       "      <td>82.85</td>\n",
       "      <td>18.500</td>\n",
       "      <td>5.035747</td>\n",
       "    </tr>\n",
       "    <tr>\n",
       "      <th>4</th>\n",
       "      <td>2016</td>\n",
       "      <td>2179</td>\n",
       "      <td>140.00</td>\n",
       "      <td>16.000</td>\n",
       "      <td>16.814707</td>\n",
       "    </tr>\n",
       "    <tr>\n",
       "      <th>...</th>\n",
       "      <td>...</td>\n",
       "      <td>...</td>\n",
       "      <td>...</td>\n",
       "      <td>...</td>\n",
       "      <td>...</td>\n",
       "    </tr>\n",
       "    <tr>\n",
       "      <th>1196</th>\n",
       "      <td>2011</td>\n",
       "      <td>1598</td>\n",
       "      <td>103.60</td>\n",
       "      <td>20.540</td>\n",
       "      <td>5.540332</td>\n",
       "    </tr>\n",
       "    <tr>\n",
       "      <th>1197</th>\n",
       "      <td>2015</td>\n",
       "      <td>1197</td>\n",
       "      <td>103.60</td>\n",
       "      <td>17.210</td>\n",
       "      <td>9.197734</td>\n",
       "    </tr>\n",
       "    <tr>\n",
       "      <th>1198</th>\n",
       "      <td>2012</td>\n",
       "      <td>1461</td>\n",
       "      <td>63.10</td>\n",
       "      <td>23.080</td>\n",
       "      <td>0.351193</td>\n",
       "    </tr>\n",
       "    <tr>\n",
       "      <th>1199</th>\n",
       "      <td>2013</td>\n",
       "      <td>1197</td>\n",
       "      <td>103.60</td>\n",
       "      <td>17.200</td>\n",
       "      <td>7.107834</td>\n",
       "    </tr>\n",
       "    <tr>\n",
       "      <th>1200</th>\n",
       "      <td>2014</td>\n",
       "      <td>2148</td>\n",
       "      <td>170.00</td>\n",
       "      <td>10.000</td>\n",
       "      <td>19.096375</td>\n",
       "    </tr>\n",
       "  </tbody>\n",
       "</table>\n",
       "<p>1201 rows × 5 columns</p>\n",
       "</div>"
      ],
      "text/plain": [
       "      Year  Engine   Power  Mileage_car  predict_price\n",
       "0     2014     998   58.20       45.164       1.730389\n",
       "1     2013     796   47.30       24.700      -1.692007\n",
       "2     2017    2393  147.80       13.680      19.221249\n",
       "3     2014    1197   82.85       18.500       5.035747\n",
       "4     2016    2179  140.00       16.000      16.814707\n",
       "...    ...     ...     ...          ...            ...\n",
       "1196  2011    1598  103.60       20.540       5.540332\n",
       "1197  2015    1197  103.60       17.210       9.197734\n",
       "1198  2012    1461   63.10       23.080       0.351193\n",
       "1199  2013    1197  103.60       17.200       7.107834\n",
       "1200  2014    2148  170.00       10.000      19.096375\n",
       "\n",
       "[1201 rows x 5 columns]"
      ]
     },
     "execution_count": 82,
     "metadata": {},
     "output_type": "execute_result"
    }
   ],
   "source": [
    "feature_test"
   ]
  },
  {
   "cell_type": "code",
   "execution_count": null,
   "metadata": {},
   "outputs": [],
   "source": []
  }
 ],
 "metadata": {
  "kernelspec": {
   "display_name": "ML_38",
   "language": "python",
   "name": "python3"
  },
  "language_info": {
   "codemirror_mode": {
    "name": "ipython",
    "version": 3
   },
   "file_extension": ".py",
   "mimetype": "text/x-python",
   "name": "python",
   "nbconvert_exporter": "python",
   "pygments_lexer": "ipython3",
   "version": "3.8.19"
  }
 },
 "nbformat": 4,
 "nbformat_minor": 2
}
