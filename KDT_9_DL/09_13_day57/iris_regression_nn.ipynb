{
 "cells": [
  {
   "cell_type": "markdown",
   "metadata": {},
   "source": [
    "# DNN 기반 회귀 모델 구현 \n",
    "- 데이터셋 : iris.csv\n",
    "- 피쳐 : 3개 sepal_length, sepal_width, petal_length\n",
    "- 타겟/라벨 : 1개 (petal_width)\n",
    "- 학습 방법 : 지도학습 - 회귀 \n",
    "- 알고리즘 : 인공신경망(ANN) -> MLP(Multi Layer Perceptron), DNN ( ) : 은닉층이 많은 구성 \n",
    "- 프레임 워크 : Pytorch"
   ]
  },
  {
   "cell_type": "markdown",
   "metadata": {},
   "source": [
    "## [1] 모듈 로딩 및 데이터 준비\n",
    "---"
   ]
  },
  {
   "cell_type": "code",
   "execution_count": 1,
   "metadata": {},
   "outputs": [],
   "source": [
    "# 모델 \n",
    "import torch\n",
    "import torch.nn as nn\n",
    "import torch.nn.functional as F\n",
    "from torch.utils.data import Dataset, DataLoader\n",
    "import torch.optim as optim\n",
    "\n",
    "# 성능지표 \n",
    "from torchmetrics.regression import R2Score, MeanSquaredError\n",
    "from torchinfo import summary\n",
    "\n",
    "# 데이터 처리 및 시각화  \n",
    "import pandas as pd \n",
    "import matplotlib.pyplot as plt \n",
    "from sklearn.preprocessing import * \n",
    "\n",
    "from sklearn.model_selection import train_test_split\n"
   ]
  },
  {
   "cell_type": "code",
   "execution_count": 2,
   "metadata": {},
   "outputs": [],
   "source": [
    "DEVICE = 'cuda' if torch.cuda.is_available() else 'cpu'"
   ]
  },
  {
   "cell_type": "code",
   "execution_count": 3,
   "metadata": {},
   "outputs": [
    {
     "name": "stdout",
     "output_type": "stream",
     "text": [
      "torch v.2.4.1\n",
      "pandas v.2.0.3\n"
     ]
    }
   ],
   "source": [
    "# 활용 패키지 버전 체크 => 사용자 정의 함수로 구현하기 \n",
    "print(f'torch v.{torch.__version__}')\n",
    "print(f'pandas v.{pd.__version__}')"
   ]
  },
  {
   "cell_type": "code",
   "execution_count": 4,
   "metadata": {},
   "outputs": [
    {
     "data": {
      "text/html": [
       "<div>\n",
       "<style scoped>\n",
       "    .dataframe tbody tr th:only-of-type {\n",
       "        vertical-align: middle;\n",
       "    }\n",
       "\n",
       "    .dataframe tbody tr th {\n",
       "        vertical-align: top;\n",
       "    }\n",
       "\n",
       "    .dataframe thead th {\n",
       "        text-align: right;\n",
       "    }\n",
       "</style>\n",
       "<table border=\"1\" class=\"dataframe\">\n",
       "  <thead>\n",
       "    <tr style=\"text-align: right;\">\n",
       "      <th></th>\n",
       "      <th>sepal.length</th>\n",
       "      <th>sepal.width</th>\n",
       "      <th>petal.length</th>\n",
       "      <th>petal.width</th>\n",
       "    </tr>\n",
       "  </thead>\n",
       "  <tbody>\n",
       "    <tr>\n",
       "      <th>0</th>\n",
       "      <td>5.1</td>\n",
       "      <td>3.5</td>\n",
       "      <td>1.4</td>\n",
       "      <td>0.2</td>\n",
       "    </tr>\n",
       "    <tr>\n",
       "      <th>1</th>\n",
       "      <td>4.9</td>\n",
       "      <td>3.0</td>\n",
       "      <td>1.4</td>\n",
       "      <td>0.2</td>\n",
       "    </tr>\n",
       "    <tr>\n",
       "      <th>2</th>\n",
       "      <td>4.7</td>\n",
       "      <td>3.2</td>\n",
       "      <td>1.3</td>\n",
       "      <td>0.2</td>\n",
       "    </tr>\n",
       "    <tr>\n",
       "      <th>3</th>\n",
       "      <td>4.6</td>\n",
       "      <td>3.1</td>\n",
       "      <td>1.5</td>\n",
       "      <td>0.2</td>\n",
       "    </tr>\n",
       "    <tr>\n",
       "      <th>4</th>\n",
       "      <td>5.0</td>\n",
       "      <td>3.6</td>\n",
       "      <td>1.4</td>\n",
       "      <td>0.2</td>\n",
       "    </tr>\n",
       "  </tbody>\n",
       "</table>\n",
       "</div>"
      ],
      "text/plain": [
       "   sepal.length  sepal.width  petal.length  petal.width\n",
       "0           5.1          3.5           1.4          0.2\n",
       "1           4.9          3.0           1.4          0.2\n",
       "2           4.7          3.2           1.3          0.2\n",
       "3           4.6          3.1           1.5          0.2\n",
       "4           5.0          3.6           1.4          0.2"
      ]
     },
     "execution_count": 4,
     "metadata": {},
     "output_type": "execute_result"
    }
   ],
   "source": [
    "# 데이터 로딩 \n",
    "DATA_FILE = '../DATA/iris.csv'\n",
    "\n",
    "# csv => DF\n",
    "iris_df = pd.read_csv(DATA_FILE, usecols=[0,1,2,3])\n",
    "\n",
    "iris_df.head()"
   ]
  },
  {
   "cell_type": "markdown",
   "metadata": {},
   "source": [
    "## [2] 모델 클래스 설계 및 정의 \n",
    "- 클래스 목적 : iris 데이터를 학습 및 추론 목적 \n",
    "- 클래스 이름 : iris_reg_model\n",
    "- 부모 클래스 : nn.Module \n",
    "- 매개 변수 : 층 별 입출력 개수 고정하기 때문에 필요 x \n",
    "- 속성 / 필드 : features_df, target_df, n_rows, n_features (df만들 때 사용)\n",
    "- 기능 / 역할 \n",
    "    - _ _init_ _() : 모델 구조 생성 \n",
    "    - forward : 순방향 학습 (오버라이딩(overriding조건 : 상속관계에서만 가능))\n",
    "- 클래스 구조 \n",
    "    - 입력층 : 입력 3개(피처)        출력 10개(퍼셉트론/뉴런 10개 존재)\n",
    "    - 은닉층 : 입력 10개            출력 30개 (퍼셉트론/뉴런 30개 존재)\n",
    "    - 출력층 : 입력 30개            출력 1개 (타겟값(너비값))\n",
    "\n",
    "- 활성화 함수 \n",
    "    - 클래스 형태 ==> nn.MSELoss , nn.ReLU => _ _init_ _() 메서드 \n",
    "    - 함수 형태 => torch.nn.functional 아래에 => forward() 메서드 "
   ]
  },
  {
   "cell_type": "markdown",
   "metadata": {},
   "source": [
    "일반적으로 입력층의 퍼셉트론을 크게해서 점차적으로 줄임"
   ]
  },
  {
   "cell_type": "markdown",
   "metadata": {},
   "source": [
    "super()는 부모 부르는 것 "
   ]
  },
  {
   "cell_type": "code",
   "execution_count": 5,
   "metadata": {},
   "outputs": [],
   "source": [
    "class iris_reg_model(nn.Module):\n",
    "    \n",
    "    # 모델 구조 구성 및 인스턴스 생성 및 메서드 \n",
    "    def __init__(self):\n",
    "        super().__init__()\n",
    "\n",
    "        # 모델 구조 구성 \n",
    "        self.in_layer = nn.Linear(3,10)\n",
    "        self.hidden_layer = nn.Linear(10,30)\n",
    "        self.out_layer = nn.Linear(30,1)\n",
    "\n",
    "    # 순방향 학습 진행 메서드 \n",
    "    def forward(self, input_data):\n",
    "\n",
    "        # 입력층 \n",
    "        y = self.in_layer(input_data) # f11w11 + f12w12 + f13w13 + b, ......., f101w101 + f102w102 + f103w103 + b\n",
    "                                      # # f11w11 + f21w21 + f31w31 + b, ......., f110w110 + f210w210 + f310w310 + b (내 생각)\n",
    "        y = F.relu(y)             # relu => y 값의 범위 : 0 <= y \n",
    "\n",
    "        # 은닉층 : 10개의 숫자 값(>=0)\n",
    "        y = self.hidden_layer(y)  # f21w11 + f22w12 .... + f210w210 + b, ......., f230w201 + f230w202 ..... f230w210 + b\n",
    "        # 데이터 1개 기준\n",
    "        y = F.relu(y) \n",
    "\n",
    "        # 출력층 : 30개의 숫자 값(>=0)\n",
    "        # self.out_layer(y)         # f31w31 + ...... f330w330 + b\n",
    "        # 회귀라서 활성함수 사용 x -> 바로 return \n",
    "\n",
    "        return self.out_layer(y)\n"
   ]
  },
  {
   "cell_type": "code",
   "execution_count": 6,
   "metadata": {},
   "outputs": [
    {
     "name": "stdout",
     "output_type": "stream",
     "text": [
      "iris_reg_model(\n",
      "  (in_layer): Linear(in_features=3, out_features=10, bias=True)\n",
      "  (hidden_layer): Linear(in_features=10, out_features=30, bias=True)\n",
      "  (out_layer): Linear(in_features=30, out_features=1, bias=True)\n",
      ")\n"
     ]
    }
   ],
   "source": [
    "# 모델 인스턴스 생성 \n",
    "model = iris_reg_model()\n",
    "print(model)"
   ]
  },
  {
   "cell_type": "code",
   "execution_count": 7,
   "metadata": {},
   "outputs": [
    {
     "data": {
      "text/plain": [
       "==========================================================================================\n",
       "Layer (type:depth-idx)                   Output Shape              Param #\n",
       "==========================================================================================\n",
       "iris_reg_model                           [10, 1]                   --\n",
       "├─Linear: 1-1                            [10, 10]                  40\n",
       "├─Linear: 1-2                            [10, 30]                  330\n",
       "├─Linear: 1-3                            [10, 1]                   31\n",
       "==========================================================================================\n",
       "Total params: 401\n",
       "Trainable params: 401\n",
       "Non-trainable params: 0\n",
       "Total mult-adds (M): 0.00\n",
       "==========================================================================================\n",
       "Input size (MB): 0.00\n",
       "Forward/backward pass size (MB): 0.00\n",
       "Params size (MB): 0.00\n",
       "Estimated Total Size (MB): 0.01\n",
       "=========================================================================================="
      ]
     },
     "execution_count": 7,
     "metadata": {},
     "output_type": "execute_result"
    }
   ],
   "source": [
    "# 모델 사용 메모리 정보 확인 \n",
    "\n",
    "summary(model, input_size=(10,3)) # 뒤에는 피쳐 수 , 아이리스 데이터 10개 줌 "
   ]
  },
  {
   "cell_type": "markdown",
   "metadata": {},
   "source": [
    "## [3] 데이터셋 클래스 설계 및 정의\n",
    "- 데이터셋 : iris.csv \n",
    "- 피쳐 개수 : 3개 \n",
    "- 타겟 개수 : 1개 \n",
    "- 클래스 이름 : iris_data_set\n",
    "- 부모 클래스 : utils.data.Dataset \n",
    "- 속성 / 필드 : feature_df, target_df \n",
    "- 필수 메서드 \n",
    "    - _ _init_ _(self) : 데이터셋 저장 및 전처리, 개발자가 필요한 속성 설정 \n",
    "    - _ _len_ _(self) : 데이터의 개수 반환 \n",
    "    - _ _ getItem_ _(self, index) : 특정 인덱스의 피쳐와 타겟 반환 "
   ]
  },
  {
   "cell_type": "code",
   "execution_count": 8,
   "metadata": {},
   "outputs": [],
   "source": [
    "class iris_data_set(Dataset):\n",
    "    def __init__(self, feature_df, target_df):\n",
    "        self.feature_df = feature_df\n",
    "        self.target_df = target_df\n",
    "        self.n_rows = feature_df.shape[0]\n",
    "        self.n_features = feature_df.shape[1]\n",
    "\n",
    "    def __len__(self):\n",
    "        return self.n_rows\n",
    "\n",
    "    def __getitem__(self,index):\n",
    "        \n",
    "        # 텐서화 \n",
    "        feature_ts = torch.FloatTensor(self.feature_df.iloc[index].values) # 시리즈라서 values() 사용해서 numpy -> tensor \n",
    "        target_ts = torch.FloatTensor(self.target_df.iloc[index].values)\n",
    "                \n",
    "        # 피쳐와 타겟 반환 \n",
    "        return feature_ts, target_ts"
   ]
  },
  {
   "cell_type": "code",
   "execution_count": 9,
   "metadata": {},
   "outputs": [
    {
     "data": {
      "text/plain": [
       "((150, 3), (150, 1))"
      ]
     },
     "execution_count": 9,
     "metadata": {},
     "output_type": "execute_result"
    }
   ],
   "source": [
    "# 데이터셋 인스턴스 생성 \n",
    "\n",
    "feature_df = iris_df[iris_df.columns[:-1]] # 회귀에서 같은 차원으로 해야 하므로 2D \n",
    "target_df = iris_df[iris_df.columns[-1:]]  # 2D \n",
    "\n",
    "feature_df.shape, target_df.shape\n"
   ]
  },
  {
   "cell_type": "code",
   "execution_count": 10,
   "metadata": {},
   "outputs": [],
   "source": [
    "# 커스텀 데이터셋 인스턴스 생성 \n",
    "iris_ds = iris_data_set(feature_df, target_df)"
   ]
  },
  {
   "cell_type": "markdown",
   "metadata": {},
   "source": [
    "## [4] 학습 준비 \n",
    "- 학습 횟수 : EPOCH (처음부터 끝까지 학습할 단위)\n",
    "- 배치 크기 : BATCH_SIZE (한 번에 학습할 데이터셋 양)\n",
    "- 위치 지정 : DEVICE (텐서 저장 및 실행 위치 (GPU, CPU))\n",
    "- 학습률 : 가중치와 절편 업데이트 시 경사하강법으로 업데이트 간격 설정 0.001 ~ 0."
   ]
  },
  {
   "cell_type": "code",
   "execution_count": 11,
   "metadata": {},
   "outputs": [
    {
     "name": "stdout",
     "output_type": "stream",
     "text": [
      "BATCH_CNT : 15\n"
     ]
    }
   ],
   "source": [
    "# 학습 진행 관련 설정 \n",
    "EPOCH = 1 \n",
    "BATCH_SIZE = 10 \n",
    "BATCH_CNT = iris_df.shape[0] // BATCH_SIZE\n",
    "DEVICE = 'cuda' if torch.cuda.is_available() else 'cpu'\n",
    "LR = 0.001 # hyper-parameter : 업데이트 간격  \n",
    "\n",
    "print(f'BATCH_CNT : {BATCH_CNT}')"
   ]
  },
  {
   "cell_type": "markdown",
   "metadata": {},
   "source": [
    "- 인스턴스 / 객체 : 모델, 데이터셋, 최적화, 손실함수 ,(성능지표)  "
   ]
  },
  {
   "cell_type": "code",
   "execution_count": 12,
   "metadata": {},
   "outputs": [],
   "source": [
    "# 모델 인스턴스 \n",
    "model = iris_reg_model()\n",
    "\n",
    "# 데이터셋 인스턴스 \n",
    "iris_ds = iris_data_set(feature_df, target_df)\n",
    "\n",
    "# 데이터로더 인스턴스 \n",
    "iris_dl = DataLoader(iris_ds, batch_size=BATCH_SIZE)\n"
   ]
  },
  {
   "cell_type": "code",
   "execution_count": 13,
   "metadata": {},
   "outputs": [
    {
     "name": "stdout",
     "output_type": "stream",
     "text": [
      "(84, 3) (38, 3) (28, 3)\n",
      "(84, 1) (38, 1) (28, 1)\n",
      "<class 'pandas.core.frame.DataFrame'> <class 'pandas.core.frame.DataFrame'> <class 'pandas.core.frame.DataFrame'>\n"
     ]
    }
   ],
   "source": [
    "# 모델 인스턴스 \n",
    "model = iris_reg_model()\n",
    "\n",
    "# 데이터셋 인스턴스 \n",
    "x_train, x_test, y_train, y_test = train_test_split(feature_df, target_df, random_state = 1)\n",
    "x_train, x_val, y_train, y_val = train_test_split(x_train, y_train, random_state = 1)\n",
    "print(f'{x_train.shape} {x_test.shape} {x_val.shape}')\n",
    "print(f'{y_train.shape} {y_test.shape} {y_val.shape}')\n",
    "print(f'{type(x_train)} {type(x_test)} {type(x_val)}')\n",
    "# iris_ds = iris_data_set(x_train, y_train)\n",
    "\n",
    "train_ds = iris_data_set(x_train, y_train)\n",
    "val_ds = iris_data_set(x_val, y_val)\n",
    "test_ds = iris_data_set(x_test, y_test)\n",
    "\n",
    "# 데이터로더 인스턴스 \n",
    "# iris_dl = DataLoader(iris_ds, batch_size=BATCH_SIZE)\n",
    "train_dl = DataLoader(train_ds, batch_size=BATCH_SIZE)\n"
   ]
  },
  {
   "cell_type": "code",
   "execution_count": 14,
   "metadata": {},
   "outputs": [
    {
     "name": "stdout",
     "output_type": "stream",
     "text": [
      "torch.Size([3]) torch.Size([1])\n",
      "torch.Size([3]) torch.Size([1])\n",
      "torch.Size([3]) torch.Size([1])\n",
      "torch.Size([3]) torch.Size([1])\n",
      "torch.Size([3]) torch.Size([1])\n",
      "torch.Size([3]) torch.Size([1])\n",
      "torch.Size([3]) torch.Size([1])\n",
      "torch.Size([3]) torch.Size([1])\n",
      "torch.Size([3]) torch.Size([1])\n",
      "torch.Size([3]) torch.Size([1])\n",
      "torch.Size([3]) torch.Size([1])\n",
      "torch.Size([3]) torch.Size([1])\n",
      "torch.Size([3]) torch.Size([1])\n",
      "torch.Size([3]) torch.Size([1])\n",
      "torch.Size([3]) torch.Size([1])\n",
      "torch.Size([3]) torch.Size([1])\n",
      "torch.Size([3]) torch.Size([1])\n",
      "torch.Size([3]) torch.Size([1])\n",
      "torch.Size([3]) torch.Size([1])\n",
      "torch.Size([3]) torch.Size([1])\n",
      "torch.Size([3]) torch.Size([1])\n",
      "torch.Size([3]) torch.Size([1])\n",
      "torch.Size([3]) torch.Size([1])\n",
      "torch.Size([3]) torch.Size([1])\n",
      "torch.Size([3]) torch.Size([1])\n",
      "torch.Size([3]) torch.Size([1])\n",
      "torch.Size([3]) torch.Size([1])\n",
      "torch.Size([3]) torch.Size([1])\n",
      "torch.Size([3]) torch.Size([1])\n",
      "torch.Size([3]) torch.Size([1])\n",
      "torch.Size([3]) torch.Size([1])\n",
      "torch.Size([3]) torch.Size([1])\n",
      "torch.Size([3]) torch.Size([1])\n",
      "torch.Size([3]) torch.Size([1])\n",
      "torch.Size([3]) torch.Size([1])\n",
      "torch.Size([3]) torch.Size([1])\n",
      "torch.Size([3]) torch.Size([1])\n",
      "torch.Size([3]) torch.Size([1])\n",
      "torch.Size([3]) torch.Size([1])\n",
      "torch.Size([3]) torch.Size([1])\n",
      "torch.Size([3]) torch.Size([1])\n",
      "torch.Size([3]) torch.Size([1])\n",
      "torch.Size([3]) torch.Size([1])\n",
      "torch.Size([3]) torch.Size([1])\n",
      "torch.Size([3]) torch.Size([1])\n",
      "torch.Size([3]) torch.Size([1])\n",
      "torch.Size([3]) torch.Size([1])\n",
      "torch.Size([3]) torch.Size([1])\n",
      "torch.Size([3]) torch.Size([1])\n",
      "torch.Size([3]) torch.Size([1])\n",
      "torch.Size([3]) torch.Size([1])\n",
      "torch.Size([3]) torch.Size([1])\n",
      "torch.Size([3]) torch.Size([1])\n",
      "torch.Size([3]) torch.Size([1])\n",
      "torch.Size([3]) torch.Size([1])\n",
      "torch.Size([3]) torch.Size([1])\n",
      "torch.Size([3]) torch.Size([1])\n",
      "torch.Size([3]) torch.Size([1])\n",
      "torch.Size([3]) torch.Size([1])\n",
      "torch.Size([3]) torch.Size([1])\n",
      "torch.Size([3]) torch.Size([1])\n",
      "torch.Size([3]) torch.Size([1])\n",
      "torch.Size([3]) torch.Size([1])\n",
      "torch.Size([3]) torch.Size([1])\n",
      "torch.Size([3]) torch.Size([1])\n",
      "torch.Size([3]) torch.Size([1])\n",
      "torch.Size([3]) torch.Size([1])\n",
      "torch.Size([3]) torch.Size([1])\n",
      "torch.Size([3]) torch.Size([1])\n",
      "torch.Size([3]) torch.Size([1])\n",
      "torch.Size([3]) torch.Size([1])\n",
      "torch.Size([3]) torch.Size([1])\n",
      "torch.Size([3]) torch.Size([1])\n",
      "torch.Size([3]) torch.Size([1])\n",
      "torch.Size([3]) torch.Size([1])\n",
      "torch.Size([3]) torch.Size([1])\n",
      "torch.Size([3]) torch.Size([1])\n",
      "torch.Size([3]) torch.Size([1])\n",
      "torch.Size([3]) torch.Size([1])\n",
      "torch.Size([3]) torch.Size([1])\n",
      "torch.Size([3]) torch.Size([1])\n",
      "torch.Size([3]) torch.Size([1])\n",
      "torch.Size([3]) torch.Size([1])\n",
      "torch.Size([3]) torch.Size([1])\n",
      "torch.Size([3]) torch.Size([1])\n",
      "torch.Size([3]) torch.Size([1])\n",
      "torch.Size([3]) torch.Size([1])\n",
      "torch.Size([3]) torch.Size([1])\n",
      "torch.Size([3]) torch.Size([1])\n",
      "torch.Size([3]) torch.Size([1])\n",
      "torch.Size([3]) torch.Size([1])\n",
      "torch.Size([3]) torch.Size([1])\n",
      "torch.Size([3]) torch.Size([1])\n",
      "torch.Size([3]) torch.Size([1])\n",
      "torch.Size([3]) torch.Size([1])\n",
      "torch.Size([3]) torch.Size([1])\n",
      "torch.Size([3]) torch.Size([1])\n",
      "torch.Size([3]) torch.Size([1])\n",
      "torch.Size([3]) torch.Size([1])\n",
      "torch.Size([3]) torch.Size([1])\n",
      "torch.Size([3]) torch.Size([1])\n",
      "torch.Size([3]) torch.Size([1])\n",
      "torch.Size([3]) torch.Size([1])\n",
      "torch.Size([3]) torch.Size([1])\n",
      "torch.Size([3]) torch.Size([1])\n",
      "torch.Size([3]) torch.Size([1])\n",
      "torch.Size([3]) torch.Size([1])\n",
      "torch.Size([3]) torch.Size([1])\n",
      "torch.Size([3]) torch.Size([1])\n",
      "torch.Size([3]) torch.Size([1])\n",
      "torch.Size([3]) torch.Size([1])\n",
      "torch.Size([3]) torch.Size([1])\n",
      "torch.Size([3]) torch.Size([1])\n",
      "torch.Size([3]) torch.Size([1])\n",
      "torch.Size([3]) torch.Size([1])\n",
      "torch.Size([3]) torch.Size([1])\n",
      "torch.Size([3]) torch.Size([1])\n",
      "torch.Size([3]) torch.Size([1])\n",
      "torch.Size([3]) torch.Size([1])\n",
      "torch.Size([3]) torch.Size([1])\n",
      "torch.Size([3]) torch.Size([1])\n",
      "torch.Size([3]) torch.Size([1])\n",
      "torch.Size([3]) torch.Size([1])\n",
      "torch.Size([3]) torch.Size([1])\n",
      "torch.Size([3]) torch.Size([1])\n",
      "torch.Size([3]) torch.Size([1])\n",
      "torch.Size([3]) torch.Size([1])\n",
      "torch.Size([3]) torch.Size([1])\n",
      "torch.Size([3]) torch.Size([1])\n",
      "torch.Size([3]) torch.Size([1])\n",
      "torch.Size([3]) torch.Size([1])\n",
      "torch.Size([3]) torch.Size([1])\n",
      "torch.Size([3]) torch.Size([1])\n",
      "torch.Size([3]) torch.Size([1])\n",
      "torch.Size([3]) torch.Size([1])\n",
      "torch.Size([3]) torch.Size([1])\n",
      "torch.Size([3]) torch.Size([1])\n",
      "torch.Size([3]) torch.Size([1])\n",
      "torch.Size([3]) torch.Size([1])\n",
      "torch.Size([3]) torch.Size([1])\n",
      "torch.Size([3]) torch.Size([1])\n",
      "torch.Size([3]) torch.Size([1])\n",
      "torch.Size([3]) torch.Size([1])\n",
      "torch.Size([3]) torch.Size([1])\n",
      "torch.Size([3]) torch.Size([1])\n",
      "torch.Size([3]) torch.Size([1])\n",
      "torch.Size([3]) torch.Size([1])\n",
      "torch.Size([3]) torch.Size([1])\n",
      "torch.Size([3]) torch.Size([1])\n",
      "torch.Size([3]) torch.Size([1])\n"
     ]
    }
   ],
   "source": [
    "## [테스트] 데이터 로더 \n",
    "\n",
    "for feature, target in iris_ds:\n",
    "    print(feature.shape, target.shape)\n",
    "    "
   ]
  },
  {
   "cell_type": "code",
   "execution_count": 15,
   "metadata": {},
   "outputs": [],
   "source": [
    "# 최적화 인스턴스 => w, b 텐서 즉, model.parameters() 전달 \n",
    "optimizer = optim.Adam(model.parameters(), lr=LR)\n",
    "\n",
    "# 손실함수 인스턴스 => 회귀, MSE, MAE, RMSE\n",
    "req_loss = nn.MSELoss()"
   ]
  },
  {
   "cell_type": "markdown",
   "metadata": {},
   "source": [
    "## [5] 학습 진행 "
   ]
  },
  {
   "cell_type": "code",
   "execution_count": 16,
   "metadata": {},
   "outputs": [
    {
     "name": "stdout",
     "output_type": "stream",
     "text": [
      "CNT : 15.0\n"
     ]
    }
   ],
   "source": [
    "## 학습의 효과 확인 손실값과 성능평가값 저장 필요 \n",
    "LOSS_HISTORY, SCORE_HISTORY = [],[]\n",
    "CNT = iris_ds.n_rows/BATCH_SIZE\n",
    "print(f'CNT : {CNT}')\n",
    "\n",
    "for epoch in range(EPOCH):\n",
    "\n",
    "    # 학습 모드로 모델 설정 \n",
    "    model.train()\n",
    "\n",
    "    # 배치 크기 만큼 데이터 로딩해서 학습 진행 \n",
    "    loss_total, score_total = 0,0\n",
    "    for feature_ts, target_ts in iris_dl: # iris_dl -> train_dl \n",
    "\n",
    "        # 학습 진행 \n",
    "        pre_y = model(feature_ts)\n",
    "\n",
    "        # 손실 계산 \n",
    "        loss = req_loss(pre_y, target_ts)\n",
    "        loss_total += loss.item() # tensor 라서 item으로 값 넣어야 함 \n",
    "\n",
    "        # 성능 평가 계산 \n",
    "        score = R2Score()(pre_y, target_ts) \n",
    "        score_total += score.item() # tensor 라서 item으로 값 넣어야 함 \n",
    "\n",
    "        # 최적화 진행 \n",
    "        optimizer.zero_grad()       \n",
    "        loss.backward()\n",
    "        optimizer.step()\n",
    "\n",
    " \n",
    "    # for문 다 돌면 1 epoch 종료 \n",
    "    # 손실값과 성능평가값 저장 \n",
    "    LOSS_HISTORY.append(loss_total/BATCH_CNT)\n",
    "    SCORE_HISTORY.append(score_total/BATCH_CNT)"
   ]
  },
  {
   "cell_type": "markdown",
   "metadata": {},
   "source": [
    "training, 검증, test 용 loader를 따로 만들어서 쪼개서 돌려야 함 \n",
    "- 데이터가 적어서 한 번에 다 돌려도 되면 따로 안 만들어도 ㅇ "
   ]
  },
  {
   "cell_type": "code",
   "execution_count": 17,
   "metadata": {},
   "outputs": [
    {
     "name": "stdout",
     "output_type": "stream",
     "text": [
      "CNT : 15.0\n"
     ]
    }
   ],
   "source": [
    "## 학습의 효과 확인 손실값과 성능평가값 저장 필요 \n",
    "LOSS_HISTORY, SCORE_HISTORY = [[],[]],[[],[]]\n",
    "CNT = iris_ds.n_rows/BATCH_SIZE\n",
    "print(f'CNT : {CNT}')\n",
    " \n",
    "for epoch in range(EPOCH):\n",
    "\n",
    "    # 학습 모드로 모델 설정 \n",
    "    model.train()\n",
    "\n",
    "    # 배치 크기 만큼 데이터 로딩해서 학습 진행 \n",
    "    loss_total, score_total = 0,0\n",
    "    for feature_ts, target_ts in train_dl: # iris_dl -> train_dl \n",
    "\n",
    "        # 학습 진행 \n",
    "        pre_y = model(feature_ts)\n",
    "\n",
    "        # 손실 계산 \n",
    "        loss = req_loss(pre_y, target_ts)\n",
    "        loss_total += loss.item() # tensor 라서 item으로 값 넣어야 함 \n",
    "\n",
    "        # 성능 평가 계산 \n",
    "        score = R2Score()(pre_y, target_ts) \n",
    "        score_total += score.item() # tensor 라서 item으로 값 넣어야 함 \n",
    "\n",
    "        # 최적화 진행 \n",
    "        optimizer.zero_grad()       \n",
    "        loss.backward()\n",
    "        optimizer.step()\n",
    "\n",
    "    # 에포크 당 검증기능 \n",
    "    # 모델 검증 모드 설정 \n",
    "    model.eval()\n",
    "    # 검증한 결과를 저장해야 함 \n",
    "\n",
    "    with torch.no_grad():\n",
    "        # 검증 데이터셋 \n",
    "        val_feature_ts = torch.FloatTensor(val_ds.feature_df.values) # values쓰면 array 됨 -> torch사용 -> torch됨 \n",
    "        val_target_ts = torch.FloatTensor(val_ds.target_df.values)\n",
    "\n",
    "        # 평가 \n",
    "        pre_val =model(val_feature_ts)\n",
    "        \n",
    "        # 손실 \n",
    "        loss_val = req_loss(pre_val, val_target_ts)\n",
    "\n",
    "        # 성능 평가 \n",
    "        score_val = R2Score()(pre_val, val_target_ts)\n",
    "\n",
    "\n",
    "    # for문 다 돌면 1 epoch 종료 \n",
    "    # 손실값과 성능평가값 저장 \n",
    "    LOSS_HISTORY[0].append(loss_total/BATCH_CNT)\n",
    "    SCORE_HISTORY[0].append(score_total/BATCH_CNT)\n",
    "\n",
    "    LOSS_HISTORY[1].append(loss_val)\n",
    "    SCORE_HISTORY[1].append(score_val)"
   ]
  }
 ],
 "metadata": {
  "kernelspec": {
   "display_name": "TORCH_38",
   "language": "python",
   "name": "python3"
  },
  "language_info": {
   "codemirror_mode": {
    "name": "ipython",
    "version": 3
   },
   "file_extension": ".py",
   "mimetype": "text/x-python",
   "name": "python",
   "nbconvert_exporter": "python",
   "pygments_lexer": "ipython3",
   "version": "3.8.19"
  }
 },
 "nbformat": 4,
 "nbformat_minor": 2
}
