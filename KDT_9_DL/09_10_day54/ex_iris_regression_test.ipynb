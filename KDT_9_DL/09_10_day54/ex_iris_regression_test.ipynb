{
 "cells": [
  {
   "cell_type": "markdown",
   "metadata": {},
   "source": [
    "# iris 데이터셋 활용 꽃잎 너비 예측 모델\n",
    "- 데이터셋 : iris.csv에서 2개 feature 사용 \n",
    "- 구현 프레임 워크 : pytorch"
   ]
  },
  {
   "cell_type": "markdown",
   "metadata": {},
   "source": [
    "## [1] 모듈 로딩 및 데이터 준비"
   ]
  },
  {
   "cell_type": "code",
   "execution_count": 19,
   "metadata": {},
   "outputs": [],
   "source": [
    "# 모듈 로딩 \n",
    "\n",
    "import torch                    # 텐서 및 수치 계산 함수 관련 모듈 \n",
    "import torch.nn as nn           # 인공신경망 관련 모듈 \n",
    "import torch.nn.functional as F    # 손실, 거래 등 함수 관련 모듈 \n",
    "import torch.optim as optimizer # 최적화 기법 관련 모듈 \n",
    "\n",
    "import pandas as pd             # 데이터 파일 분석 과련 모듈 \n",
    "import matplotlib.pyplot as plt"
   ]
  },
  {
   "cell_type": "code",
   "execution_count": 20,
   "metadata": {},
   "outputs": [
    {
     "data": {
      "text/plain": [
       "<torch._C.Generator at 0x228c69f02b0>"
      ]
     },
     "execution_count": 20,
     "metadata": {},
     "output_type": "execute_result"
    }
   ],
   "source": [
    "torch.manual_seed(1)"
   ]
  },
  {
   "cell_type": "code",
   "execution_count": 21,
   "metadata": {},
   "outputs": [
    {
     "data": {
      "text/html": [
       "<div>\n",
       "<style scoped>\n",
       "    .dataframe tbody tr th:only-of-type {\n",
       "        vertical-align: middle;\n",
       "    }\n",
       "\n",
       "    .dataframe tbody tr th {\n",
       "        vertical-align: top;\n",
       "    }\n",
       "\n",
       "    .dataframe thead th {\n",
       "        text-align: right;\n",
       "    }\n",
       "</style>\n",
       "<table border=\"1\" class=\"dataframe\">\n",
       "  <thead>\n",
       "    <tr style=\"text-align: right;\">\n",
       "      <th></th>\n",
       "      <th>petal.length</th>\n",
       "      <th>petal.width</th>\n",
       "    </tr>\n",
       "  </thead>\n",
       "  <tbody>\n",
       "    <tr>\n",
       "      <th>0</th>\n",
       "      <td>1.4</td>\n",
       "      <td>0.2</td>\n",
       "    </tr>\n",
       "    <tr>\n",
       "      <th>1</th>\n",
       "      <td>1.4</td>\n",
       "      <td>0.2</td>\n",
       "    </tr>\n",
       "  </tbody>\n",
       "</table>\n",
       "</div>"
      ],
      "text/plain": [
       "   petal.length  petal.width\n",
       "0           1.4          0.2\n",
       "1           1.4          0.2"
      ]
     },
     "execution_count": 21,
     "metadata": {},
     "output_type": "execute_result"
    }
   ],
   "source": [
    "# 데이터 로딩 : csv -> DF \n",
    "\n",
    "DATA_FILE = '../DATA/iris.csv'\n",
    "\n",
    "iris_df = pd.read_csv(DATA_FILE, usecols=[2,3])\n",
    "iris_df.head(2)\n"
   ]
  },
  {
   "cell_type": "markdown",
   "metadata": {},
   "source": [
    "# [2] 모델 준비 \n",
    "- 학습 방법 : 지도학습 - 회귀 \n",
    "- 알고리즘 : 선형관계 -> 선형모델 -> nn.Linear"
   ]
  },
  {
   "cell_type": "code",
   "execution_count": 22,
   "metadata": {},
   "outputs": [],
   "source": [
    "# in_features : petal.length 1개 \n",
    "# out_feature : petal.width 1개\n",
    "\n",
    "model = nn.Linear(1,1)"
   ]
  },
  {
   "cell_type": "code",
   "execution_count": 23,
   "metadata": {},
   "outputs": [
    {
     "name": "stdout",
     "output_type": "stream",
     "text": [
      "[weight] Parameter containing:\n",
      "tensor([[0.5153]], requires_grad=True)\n",
      "\n",
      "[bias] Parameter containing:\n",
      "tensor([-0.4414], requires_grad=True)\n",
      "\n"
     ]
    }
   ],
   "source": [
    "# 가중치와 절편 확인 \n",
    "for name, param in model.named_parameters():\n",
    "\n",
    "    print(f'[{name}] {param}\\n')"
   ]
  },
  {
   "cell_type": "markdown",
   "metadata": {},
   "source": [
    "## [3] 최적화 인스턴스 준비 "
   ]
  },
  {
   "cell_type": "code",
   "execution_count": 24,
   "metadata": {},
   "outputs": [],
   "source": [
    "# 모델의 가중치와 절편 최적화 ==> 인스턴스에 전달 \n",
    "adam_optim = optimizer.Adam(model.parameters(), lr = 0.1)"
   ]
  },
  {
   "cell_type": "markdown",
   "metadata": {},
   "source": [
    "# [4] 학습 ==> 개발자가 구현 "
   ]
  },
  {
   "cell_type": "markdown",
   "metadata": {},
   "source": [
    "### [4-1] 데이터셋 Tensor화 진행 : 데이터준비 시 진행하거나 또는 학습 전 진행 "
   ]
  },
  {
   "cell_type": "code",
   "execution_count": 25,
   "metadata": {},
   "outputs": [
    {
     "data": {
      "text/plain": [
       "torch.Size([150, 1])"
      ]
     },
     "execution_count": 25,
     "metadata": {},
     "output_type": "execute_result"
    }
   ],
   "source": [
    "feature_ts = torch.from_numpy(iris_df[iris_df.columns[:-1]].values).float()\n",
    "feature_ts.shape"
   ]
  },
  {
   "cell_type": "code",
   "execution_count": 26,
   "metadata": {},
   "outputs": [
    {
     "data": {
      "text/plain": [
       "torch.Size([150, 1])"
      ]
     },
     "execution_count": 26,
     "metadata": {},
     "output_type": "execute_result"
    }
   ],
   "source": [
    "target_ts = torch.from_numpy(iris_df[['petal.width']].values).float()\n",
    "target_ts.shape"
   ]
  },
  {
   "cell_type": "code",
   "execution_count": 27,
   "metadata": {},
   "outputs": [
    {
     "name": "stdout",
     "output_type": "stream",
     "text": [
      "[Feature] Train torch.Size([96, 1]), Test torch.Size([30, 1]), Val torch.Size([24, 1])\n",
      "[Target] Train torch.Size([96, 1]), Test torch.Size([30, 1]), Val torch.Size([24, 1])\n"
     ]
    }
   ],
   "source": [
    "from sklearn.model_selection import train_test_split\n",
    "\n",
    "# train, test 쪼개기 \n",
    "x_train, x_test, y_train, y_test = train_test_split(feature_ts, target_ts, test_size=0.2)\n",
    "\n",
    "# train, valid 쪼개기 \n",
    "x_train, x_val, y_train, y_val = train_test_split(x_train, y_train, test_size=0.2)\n",
    "\n",
    "print(f'[Feature] Train {x_train.shape}, Test {x_test.shape}, Val {x_val.shape}')\n",
    "print(f'[Target] Train {y_train.shape}, Test {y_test.shape}, Val {y_val.shape}')"
   ]
  },
  {
   "cell_type": "markdown",
   "metadata": {},
   "source": [
    "### [4-2] 학습 진행 \n",
    "- 학습 횟수 결정 => 에포크 설정 \n",
    "- 학습 결과 저장 => 손실저장 변수"
   ]
  },
  {
   "cell_type": "code",
   "execution_count": 28,
   "metadata": {},
   "outputs": [],
   "source": [
    "EPOCH = 10\n",
    "#loss_history = [] # 시각화 하기 위해 리스트에 담음 "
   ]
  },
  {
   "cell_type": "code",
   "execution_count": 29,
   "metadata": {},
   "outputs": [],
   "source": [
    "# 테스트/검증 함수 \n",
    "# => 가중치, 절편 업데이트 x, 최적화 미진행 \n",
    "# => 현재 가중치와 절편값으로 테스트 진행 \n",
    "\n",
    "# 모델 학습 함수 \n",
    "def testing(test_ts, target_ts, kind='Val'):\n",
    "\n",
    "    with torch.no_grad():\n",
    "        # -(1) 학습 진행 - forward \n",
    "        pre_y = model(test_ts)\n",
    "        print(f'{pre_y.shape}')\n",
    "\n",
    "        # -(2) 오차계산 - 손실함수 \n",
    "        loss = F.mse_loss(pre_y, target_ts)\n",
    "        # loss_history.append(loss.item()) # tensor로 들어가서 item으로 뺌 \n",
    "\n",
    "        # # -(3) 최적화 - 가중치, 절편 업데이트 backward \n",
    "        # # => 업데이트 안 하므로 필요 x \n",
    "        # adam_optim.zero_grad()\n",
    "        # loss.backward()\n",
    "        # adam_optim.step()\n",
    "\n",
    "        # -(4) 학습 결과 출력 및 저장 \n",
    "        print(f'[{kind}] LOSS : {loss}')\n",
    "\n",
    "    return loss"
   ]
  },
  {
   "cell_type": "code",
   "execution_count": 30,
   "metadata": {},
   "outputs": [],
   "source": [
    "# 모델 학습 함수 \n",
    "def training2(feature_ts, target_ts, val_ts, val_target_ts):\n",
    "\n",
    "    loss_history = [[],[]]\n",
    "\n",
    "    for epoch in range(EPOCH):\n",
    "        # -(1) 학습 진행 - forward \n",
    "        pre_y = model(feature_ts)\n",
    "        print(f'{pre_y.shape}')\n",
    "\n",
    "        # -(2) 오차계산 - 손실함수 \n",
    "        loss = F.mse_loss(pre_y, target_ts)\n",
    "        loss_history[0].append(loss.item()) # tensor로 들어가서 item으로 뺌 \n",
    "\n",
    "        # -(3) 최적화 - 가중치, 절편 업데이트 backward \n",
    "        adam_optim.zero_grad()\n",
    "        loss.backward()\n",
    "        adam_optim.step()\n",
    "\n",
    "        # -(4) 검증 - 모델이 제대로 만들어지는 검사용 \n",
    "        val_loss = testing(val_ts, val_target_ts)\n",
    "        loss_history[1].append(val_loss.item())\n",
    "\n",
    "        # -(4) 학습 결과 출력 및 저장 \n",
    "        print(f'[{epoch}/{EPOCH}] LOSS : {loss}')\n",
    "\n",
    "    return loss_history"
   ]
  },
  {
   "cell_type": "code",
   "execution_count": 31,
   "metadata": {},
   "outputs": [],
   "source": [
    "# 모델 학습 함수 \n",
    "def training_dict(feature_ts, target_ts, val_ts, val_target_ts):\n",
    "\n",
    "    loss_history = {} # dict 지정 \n",
    "\n",
    "    for epoch in range(EPOCH):\n",
    "        # -(1) 학습 진행 - forward \n",
    "        pre_y = model(feature_ts)\n",
    "        print(f'{pre_y.shape}')\n",
    "\n",
    "        # -(2) 오차계산 - 손실함수 \n",
    "        loss = F.mse_loss(pre_y, target_ts)\n",
    "        # loss_history.append(loss.item()) # tensor로 들어가서 item으로 뺌 \n",
    "\n",
    "        # -(3) 최적화 - 가중치, 절편 업데이트 backward \n",
    "        adam_optim.zero_grad()\n",
    "        loss.backward()\n",
    "        adam_optim.step()\n",
    "\n",
    "        # -(4) 검증 - 모델이 제대로 만들어지는 검사용 \n",
    "        val_loss = testing(val_ts, val_target_ts)\n",
    "        # loss_history[1].append(val_loss.item())\n",
    "\n",
    "        loss_history[loss.item()] = val_loss.item()\n",
    "\n",
    "        # -(4) 학습 결과 출력 및 저장 \n",
    "        print(f'[{epoch}/{EPOCH}] LOSS : {loss}')\n",
    "\n",
    "    return loss_history"
   ]
  },
  {
   "cell_type": "code",
   "execution_count": 32,
   "metadata": {},
   "outputs": [
    {
     "name": "stdout",
     "output_type": "stream",
     "text": [
      "torch.Size([96, 1])\n",
      "torch.Size([24, 1])\n",
      "[Val] LOSS : 0.04355243965983391\n",
      "[0/10] LOSS : 0.14918164908885956\n",
      "torch.Size([96, 1])\n",
      "torch.Size([24, 1])\n",
      "[Val] LOSS : 0.07167085260152817\n",
      "[1/10] LOSS : 0.0867181122303009\n",
      "torch.Size([96, 1])\n",
      "torch.Size([24, 1])\n",
      "[Val] LOSS : 0.033263836055994034\n",
      "[2/10] LOSS : 0.13078612089157104\n",
      "torch.Size([96, 1])\n",
      "torch.Size([24, 1])\n",
      "[Val] LOSS : 0.0371440090239048\n",
      "[3/10] LOSS : 0.06942284107208252\n",
      "torch.Size([96, 1])\n",
      "torch.Size([24, 1])\n",
      "[Val] LOSS : 0.07858525216579437\n",
      "[4/10] LOSS : 0.050976961851119995\n",
      "torch.Size([96, 1])\n",
      "torch.Size([24, 1])\n",
      "[Val] LOSS : 0.08469080179929733\n",
      "[5/10] LOSS : 0.08359140902757645\n",
      "torch.Size([96, 1])\n",
      "torch.Size([24, 1])\n",
      "[Val] LOSS : 0.053914088755846024\n",
      "[6/10] LOSS : 0.08871480822563171\n",
      "torch.Size([96, 1])\n",
      "torch.Size([24, 1])\n",
      "[Val] LOSS : 0.02831757627427578\n",
      "[7/10] LOSS : 0.06185994669795036\n",
      "torch.Size([96, 1])\n",
      "torch.Size([24, 1])\n",
      "[Val] LOSS : 0.026896506547927856\n",
      "[8/10] LOSS : 0.04652133584022522\n",
      "torch.Size([96, 1])\n",
      "torch.Size([24, 1])\n",
      "[Val] LOSS : 0.0326739139854908\n",
      "[9/10] LOSS : 0.05827755853533745\n"
     ]
    }
   ],
   "source": [
    "loss = training2(x_train, y_train, x_val, y_val)"
   ]
  },
  {
   "cell_type": "code",
   "execution_count": 33,
   "metadata": {},
   "outputs": [
    {
     "name": "stdout",
     "output_type": "stream",
     "text": [
      "torch.Size([96, 1])\n",
      "torch.Size([24, 1])\n",
      "[Val] LOSS : 0.02933955006301403\n",
      "[0/10] LOSS : 0.07133997976779938\n",
      "torch.Size([96, 1])\n",
      "torch.Size([24, 1])\n",
      "[Val] LOSS : 0.024548562243580818\n",
      "[1/10] LOSS : 0.06474398821592331\n",
      "torch.Size([96, 1])\n",
      "torch.Size([24, 1])\n",
      "[Val] LOSS : 0.03145870566368103\n",
      "[2/10] LOSS : 0.049709901213645935\n",
      "torch.Size([96, 1])\n",
      "torch.Size([24, 1])\n",
      "[Val] LOSS : 0.047070011496543884\n",
      "[3/10] LOSS : 0.0459306426346302\n",
      "torch.Size([96, 1])\n",
      "torch.Size([24, 1])\n",
      "[Val] LOSS : 0.05516619607806206\n",
      "[4/10] LOSS : 0.05464957654476166\n",
      "torch.Size([96, 1])\n",
      "torch.Size([24, 1])\n",
      "[Val] LOSS : 0.04804075136780739\n",
      "[5/10] LOSS : 0.06037347391247749\n",
      "torch.Size([96, 1])\n",
      "torch.Size([24, 1])\n",
      "[Val] LOSS : 0.034304335713386536\n",
      "[6/10] LOSS : 0.0548635870218277\n",
      "torch.Size([96, 1])\n",
      "torch.Size([24, 1])\n",
      "[Val] LOSS : 0.02586236037313938\n",
      "[7/10] LOSS : 0.04644258692860603\n",
      "torch.Size([96, 1])\n",
      "torch.Size([24, 1])\n",
      "[Val] LOSS : 0.024869734421372414\n",
      "[8/10] LOSS : 0.04572482407093048\n",
      "torch.Size([96, 1])\n",
      "torch.Size([24, 1])\n",
      "[Val] LOSS : 0.02545243687927723\n",
      "[9/10] LOSS : 0.05145608261227608\n"
     ]
    }
   ],
   "source": [
    "loss_dict = training_dict(x_train, y_train, x_val, y_val)"
   ]
  },
  {
   "cell_type": "code",
   "execution_count": 35,
   "metadata": {},
   "outputs": [
    {
     "data": {
      "text/plain": [
       "{0.07133997976779938: 0.02933955006301403,\n",
       " 0.06474398821592331: 0.024548562243580818,\n",
       " 0.049709901213645935: 0.03145870566368103,\n",
       " 0.0459306426346302: 0.047070011496543884,\n",
       " 0.05464957654476166: 0.05516619607806206,\n",
       " 0.06037347391247749: 0.04804075136780739,\n",
       " 0.0548635870218277: 0.034304335713386536,\n",
       " 0.04644258692860603: 0.02586236037313938,\n",
       " 0.04572482407093048: 0.024869734421372414,\n",
       " 0.05145608261227608: 0.02545243687927723}"
      ]
     },
     "execution_count": 35,
     "metadata": {},
     "output_type": "execute_result"
    }
   ],
   "source": [
    "loss_dict"
   ]
  },
  {
   "cell_type": "code",
   "execution_count": 38,
   "metadata": {},
   "outputs": [
    {
     "data": {
      "image/png": "[encoded data removed]",
      "text/plain": [
       "<Figure size 640x480 with 1 Axes>"
      ]
     },
     "metadata": {},
     "output_type": "display_data"
    }
   ],
   "source": [
    "# 학습 후 loss 시각화 \n",
    "\n",
    "plt.plot(range(1,11), loss_dict.keys(), label = 'Train')\n",
    "plt.plot(range(1,11), loss_dict.values(), label = 'Val')\n",
    "plt.title('Train & Valid')\n",
    "plt.xlabel('Epoch')\n",
    "plt.ylabel('Loss')\n",
    "plt.grid()\n",
    "plt.legend()\n",
    "plt.show()"
   ]
  },
  {
   "cell_type": "code",
   "execution_count": 34,
   "metadata": {},
   "outputs": [
    {
     "data": {
      "image/png": "[encoded data removed]",
      "text/plain": [
       "<Figure size 640x480 with 1 Axes>"
      ]
     },
     "metadata": {},
     "output_type": "display_data"
    }
   ],
   "source": [
    "# 학습 후 loss 시각화 \n",
    "\n",
    "plt.plot(range(1,11), loss[0], label = 'Train')\n",
    "plt.plot(range(1,11), loss[1], label = 'Val')\n",
    "plt.title('Train & Valid')\n",
    "plt.xlabel('Epoch')\n",
    "plt.ylabel('Loss')\n",
    "plt.grid()\n",
    "plt.legend()\n",
    "plt.show()"
   ]
  },
  {
   "cell_type": "code",
   "execution_count": null,
   "metadata": {},
   "outputs": [],
   "source": []
  }
 ],
 "metadata": {
  "kernelspec": {
   "display_name": "TORCH_38",
   "language": "python",
   "name": "python3"
  },
  "language_info": {
   "codemirror_mode": {
    "name": "ipython",
    "version": 3
   },
   "file_extension": ".py",
   "mimetype": "text/x-python",
   "name": "python",
   "nbconvert_exporter": "python",
   "pygments_lexer": "ipython3",
   "version": "3.8.19"
  }
 },
 "nbformat": 4,
 "nbformat_minor": 2
}
