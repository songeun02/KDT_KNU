{
 "cells": [
  {
   "cell_type": "markdown",
   "metadata": {},
   "source": [
    "# iris 데이터셋 활용 꽃잎 너비 예측 모델\n",
    "- 데이터셋 : iris.csv feature 사용 \n",
    "    - in_features : petal.length 등  \n",
    "    - out_feature : petal.width 1개\n",
    "- 구현 프레임 워크 : pytorch\n"
   ]
  },
  {
   "cell_type": "markdown",
   "metadata": {},
   "source": [
    "## [1] 모듈 로딩 및 데이터 준비"
   ]
  },
  {
   "cell_type": "code",
   "execution_count": 97,
   "metadata": {},
   "outputs": [],
   "source": [
    "# 모듈 로딩 \n",
    "\n",
    "import torch                    # 텐서 및 수치 계산 함수 관련 모듈 \n",
    "import torch.nn as nn           # 인공신경망 관련 모듈 \n",
    "import torch.nn.functional as F    # 손실, 거래 등 함수 관련 모듈 \n",
    "import torch.optim as optimizer # 최적화 기법 관련 모듈 \n",
    "\n",
    "import pandas as pd             # 데이터 파일 분석 과련 모듈 \n",
    "import matplotlib.pyplot as plt"
   ]
  },
  {
   "cell_type": "code",
   "execution_count": 98,
   "metadata": {},
   "outputs": [
    {
     "data": {
      "text/plain": [
       "<torch._C.Generator at 0x1e51eef1c30>"
      ]
     },
     "execution_count": 98,
     "metadata": {},
     "output_type": "execute_result"
    }
   ],
   "source": [
    "torch.manual_seed(1)"
   ]
  },
  {
   "cell_type": "code",
   "execution_count": 99,
   "metadata": {},
   "outputs": [
    {
     "data": {
      "text/html": [
       "<div>\n",
       "<style scoped>\n",
       "    .dataframe tbody tr th:only-of-type {\n",
       "        vertical-align: middle;\n",
       "    }\n",
       "\n",
       "    .dataframe tbody tr th {\n",
       "        vertical-align: top;\n",
       "    }\n",
       "\n",
       "    .dataframe thead th {\n",
       "        text-align: right;\n",
       "    }\n",
       "</style>\n",
       "<table border=\"1\" class=\"dataframe\">\n",
       "  <thead>\n",
       "    <tr style=\"text-align: right;\">\n",
       "      <th></th>\n",
       "      <th>sepal.length</th>\n",
       "      <th>sepal.width</th>\n",
       "      <th>petal.length</th>\n",
       "      <th>petal.width</th>\n",
       "    </tr>\n",
       "  </thead>\n",
       "  <tbody>\n",
       "    <tr>\n",
       "      <th>0</th>\n",
       "      <td>5.1</td>\n",
       "      <td>3.5</td>\n",
       "      <td>1.4</td>\n",
       "      <td>0.2</td>\n",
       "    </tr>\n",
       "    <tr>\n",
       "      <th>1</th>\n",
       "      <td>4.9</td>\n",
       "      <td>3.0</td>\n",
       "      <td>1.4</td>\n",
       "      <td>0.2</td>\n",
       "    </tr>\n",
       "  </tbody>\n",
       "</table>\n",
       "</div>"
      ],
      "text/plain": [
       "   sepal.length  sepal.width  petal.length  petal.width\n",
       "0           5.1          3.5           1.4          0.2\n",
       "1           4.9          3.0           1.4          0.2"
      ]
     },
     "execution_count": 99,
     "metadata": {},
     "output_type": "execute_result"
    }
   ],
   "source": [
    "# 데이터 로딩 : csv -> DF \n",
    "\n",
    "DATA_FILE = '../DATA/iris.csv'\n",
    "\n",
    "iris_df = pd.read_csv(DATA_FILE, usecols=[0,1,2,3])\n",
    "iris_df.head(2)\n"
   ]
  },
  {
   "cell_type": "markdown",
   "metadata": {},
   "source": [
    "# [2] 모델 준비 \n",
    "- 학습 방법 : 지도학습 - 회귀 \n",
    "- 알고리즘 : 선형관계 -> 선형모델 -> nn.Linear"
   ]
  },
  {
   "cell_type": "code",
   "execution_count": 100,
   "metadata": {},
   "outputs": [],
   "source": [
    "# in_features : petal.length 등  \n",
    "# out_feature : petal.width 1개\n",
    "\n",
    "model = nn.Linear(3,1)"
   ]
  },
  {
   "cell_type": "code",
   "execution_count": 101,
   "metadata": {},
   "outputs": [
    {
     "name": "stdout",
     "output_type": "stream",
     "text": [
      "[weight] Parameter containing:\n",
      "tensor([[ 0.2975, -0.2548, -0.1119]], requires_grad=True)\n",
      "\n",
      "[bias] Parameter containing:\n",
      "tensor([0.2710], requires_grad=True)\n",
      "\n"
     ]
    }
   ],
   "source": [
    "# 가중치와 절편 확인 \n",
    "for name, param in model.named_parameters():\n",
    "\n",
    "    print(f'[{name}] {param}\\n')"
   ]
  },
  {
   "cell_type": "markdown",
   "metadata": {},
   "source": [
    "## [3] 최적화 인스턴스 준비 "
   ]
  },
  {
   "cell_type": "code",
   "execution_count": 102,
   "metadata": {},
   "outputs": [],
   "source": [
    "# 모델의 가중치와 절편 최적화 ==> 인스턴스에 전달 \n",
    "adam_optim = optimizer.Adam(model.parameters(), lr = 0.1)"
   ]
  },
  {
   "cell_type": "markdown",
   "metadata": {},
   "source": [
    "# [4] 학습 ==> 개발자가 구현 "
   ]
  },
  {
   "cell_type": "markdown",
   "metadata": {},
   "source": [
    "### [4-1] 데이터셋 Tensor화 진행 : 데이터준비 시 진행하거나 또는 학습 전 진행 "
   ]
  },
  {
   "cell_type": "code",
   "execution_count": 103,
   "metadata": {},
   "outputs": [
    {
     "data": {
      "text/plain": [
       "2"
      ]
     },
     "execution_count": 103,
     "metadata": {},
     "output_type": "execute_result"
    }
   ],
   "source": [
    "feature_ts = torch.from_numpy(iris_df[iris_df.columns[:-1]].values).float()\n",
    "feature_ts.ndim"
   ]
  },
  {
   "cell_type": "code",
   "execution_count": 104,
   "metadata": {},
   "outputs": [
    {
     "data": {
      "text/plain": [
       "2"
      ]
     },
     "execution_count": 104,
     "metadata": {},
     "output_type": "execute_result"
    }
   ],
   "source": [
    "target_ts = torch.from_numpy(iris_df[['petal.width']].values).float()\n",
    "target_ts.ndim"
   ]
  },
  {
   "cell_type": "markdown",
   "metadata": {},
   "source": [
    "### [4-2] 학습 진행 \n",
    "- 학습 횟수 결정 => 에포크 설정 \n",
    "- 학습 결과 저장 => 손실저장 변수"
   ]
  },
  {
   "cell_type": "code",
   "execution_count": 105,
   "metadata": {},
   "outputs": [],
   "source": [
    "EPOCH = 10\n",
    "loss_history = [] # 시각화 하기 위해 리스트에 담음 "
   ]
  },
  {
   "cell_type": "code",
   "execution_count": 106,
   "metadata": {},
   "outputs": [],
   "source": [
    "# 모델 학습 함수 \n",
    "def training():\n",
    "\n",
    "    EPOCH = 10\n",
    "    loss_history = []\n",
    "\n",
    "    for epoch in range(EPOCH):\n",
    "        # -(1) 학습 진행 - forward \n",
    "        pre_y = model(feature_ts)\n",
    "\n",
    "        # -(2) 오차계산 - 손실함수 \n",
    "        loss = F.mse_loss(pre_y, target_ts)\n",
    "        loss_history.append(loss.item()) # tensor로 들어가서 item으로 뺌 \n",
    "\n",
    "        # -(3) 최적화 - 가중치, 절편 업데이트 backward \n",
    "        adam_optim.zero_grad()\n",
    "        loss.backward()\n",
    "        adam_optim.step()\n",
    "\n",
    "        # -(4) 학습 결과 출력 및 저장 \n",
    "        print(f'[{epoch}/{EPOCH}] LOSS : {loss}')\n",
    "\n",
    "    return loss_history"
   ]
  },
  {
   "cell_type": "code",
   "execution_count": 107,
   "metadata": {},
   "outputs": [
    {
     "name": "stdout",
     "output_type": "stream",
     "text": [
      "[0/10] LOSS : 0.6651504039764404\n",
      "[1/10] LOSS : 1.2201019525527954\n",
      "[2/10] LOSS : 0.5813901424407959\n",
      "[3/10] LOSS : 0.3805747330188751\n",
      "[4/10] LOSS : 0.640357255935669\n",
      "[5/10] LOSS : 0.5439753532409668\n",
      "[6/10] LOSS : 0.2701011300086975\n",
      "[7/10] LOSS : 0.21115203201770782\n",
      "[8/10] LOSS : 0.33068281412124634\n",
      "[9/10] LOSS : 0.34037071466445923\n"
     ]
    },
    {
     "data": {
      "text/plain": [
       "[0.6651504039764404,\n",
       " 1.2201019525527954,\n",
       " 0.5813901424407959,\n",
       " 0.3805747330188751,\n",
       " 0.640357255935669,\n",
       " 0.5439753532409668,\n",
       " 0.2701011300086975,\n",
       " 0.21115203201770782,\n",
       " 0.33068281412124634,\n",
       " 0.34037071466445923]"
      ]
     },
     "execution_count": 107,
     "metadata": {},
     "output_type": "execute_result"
    }
   ],
   "source": [
    "# 모델 학습 진행 \n",
    "\n",
    "loss = training()\n",
    "loss"
   ]
  },
  {
   "cell_type": "code",
   "execution_count": 109,
   "metadata": {},
   "outputs": [
    {
     "data": {
      "text/plain": [
       "<function matplotlib.pyplot.show(close=None, block=None)>"
      ]
     },
     "execution_count": 109,
     "metadata": {},
     "output_type": "execute_result"
    },
    {
     "data": {
      "image/png": "[encoded data removed]",
      "text/plain": [
       "<Figure size 640x480 with 1 Axes>"
      ]
     },
     "metadata": {},
     "output_type": "display_data"
    }
   ],
   "source": [
    "# 학습 후 loss 시각화 \n",
    "\n",
    "plt.plot(range(1,11), loss)\n",
    "plt.grid()\n",
    "plt.xlabel('Epoch')\n",
    "plt.show"
   ]
  },
  {
   "cell_type": "code",
   "execution_count": null,
   "metadata": {},
   "outputs": [],
   "source": []
  }
 ],
 "metadata": {
  "kernelspec": {
   "display_name": "TORCH_38",
   "language": "python",
   "name": "python3"
  },
  "language_info": {
   "codemirror_mode": {
    "name": "ipython",
    "version": 3
   },
   "file_extension": ".py",
   "mimetype": "text/x-python",
   "name": "python",
   "nbconvert_exporter": "python",
   "pygments_lexer": "ipython3",
   "version": "3.8.19"
  }
 },
 "nbformat": 4,
 "nbformat_minor": 2
}
