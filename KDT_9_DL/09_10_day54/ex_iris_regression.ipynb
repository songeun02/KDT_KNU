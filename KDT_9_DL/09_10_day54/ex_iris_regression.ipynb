{
 "cells": [
  {
   "cell_type": "markdown",
   "metadata": {},
   "source": [
    "# iris 데이터셋 활용 꽃잎 너비 예측 모델\n",
    "- 데이터셋 : iris.csv에서 2개 feature 사용 \n",
    "- 구현 프레임 워크 : pytorch"
   ]
  },
  {
   "cell_type": "markdown",
   "metadata": {},
   "source": [
    "## [1] 모듈 로딩 및 데이터 준비"
   ]
  },
  {
   "cell_type": "code",
   "execution_count": 174,
   "metadata": {},
   "outputs": [],
   "source": [
    "# 모듈 로딩 \n",
    "\n",
    "import torch                    # 텐서 및 수치 계산 함수 관련 모듈 \n",
    "import torch.nn as nn           # 인공신경망 관련 모듈 \n",
    "import torch.nn.functional as F    # 손실, 거래 등 함수 관련 모듈 \n",
    "import torch.optim as optimizer # 최적화 기법 관련 모듈 \n",
    "\n",
    "import pandas as pd             # 데이터 파일 분석 과련 모듈 \n",
    "import matplotlib.pyplot as plt"
   ]
  },
  {
   "cell_type": "code",
   "execution_count": 175,
   "metadata": {},
   "outputs": [
    {
     "data": {
      "text/plain": [
       "<torch._C.Generator at 0x21076031eb0>"
      ]
     },
     "execution_count": 175,
     "metadata": {},
     "output_type": "execute_result"
    }
   ],
   "source": [
    "torch.manual_seed(1)"
   ]
  },
  {
   "cell_type": "code",
   "execution_count": 176,
   "metadata": {},
   "outputs": [
    {
     "data": {
      "text/html": [
       "<div>\n",
       "<style scoped>\n",
       "    .dataframe tbody tr th:only-of-type {\n",
       "        vertical-align: middle;\n",
       "    }\n",
       "\n",
       "    .dataframe tbody tr th {\n",
       "        vertical-align: top;\n",
       "    }\n",
       "\n",
       "    .dataframe thead th {\n",
       "        text-align: right;\n",
       "    }\n",
       "</style>\n",
       "<table border=\"1\" class=\"dataframe\">\n",
       "  <thead>\n",
       "    <tr style=\"text-align: right;\">\n",
       "      <th></th>\n",
       "      <th>petal.length</th>\n",
       "      <th>petal.width</th>\n",
       "    </tr>\n",
       "  </thead>\n",
       "  <tbody>\n",
       "    <tr>\n",
       "      <th>0</th>\n",
       "      <td>1.4</td>\n",
       "      <td>0.2</td>\n",
       "    </tr>\n",
       "    <tr>\n",
       "      <th>1</th>\n",
       "      <td>1.4</td>\n",
       "      <td>0.2</td>\n",
       "    </tr>\n",
       "  </tbody>\n",
       "</table>\n",
       "</div>"
      ],
      "text/plain": [
       "   petal.length  petal.width\n",
       "0           1.4          0.2\n",
       "1           1.4          0.2"
      ]
     },
     "execution_count": 176,
     "metadata": {},
     "output_type": "execute_result"
    }
   ],
   "source": [
    "# 데이터 로딩 : csv -> DF \n",
    "\n",
    "DATA_FILE = '../DATA/iris.csv'\n",
    "\n",
    "iris_df = pd.read_csv(DATA_FILE, usecols=[2,3])\n",
    "iris_df.head(2)\n"
   ]
  },
  {
   "cell_type": "markdown",
   "metadata": {},
   "source": [
    "# [2] 모델 준비 \n",
    "- 학습 방법 : 지도학습 - 회귀 \n",
    "- 알고리즘 : 선형관계 -> 선형모델 -> nn.Linear"
   ]
  },
  {
   "cell_type": "code",
   "execution_count": 177,
   "metadata": {},
   "outputs": [],
   "source": [
    "# in_features : petal.length 1개 \n",
    "# out_feature : petal.width 1개\n",
    "\n",
    "model = nn.Linear(1,1)"
   ]
  },
  {
   "cell_type": "code",
   "execution_count": 178,
   "metadata": {},
   "outputs": [
    {
     "name": "stdout",
     "output_type": "stream",
     "text": [
      "[weight] Parameter containing:\n",
      "tensor([[0.5153]], requires_grad=True)\n",
      "\n",
      "[bias] Parameter containing:\n",
      "tensor([-0.4414], requires_grad=True)\n",
      "\n"
     ]
    }
   ],
   "source": [
    "# 가중치와 절편 확인 \n",
    "for name, param in model.named_parameters():\n",
    "\n",
    "    print(f'[{name}] {param}\\n')"
   ]
  },
  {
   "cell_type": "markdown",
   "metadata": {},
   "source": [
    "## [3] 최적화 인스턴스 준비 "
   ]
  },
  {
   "cell_type": "code",
   "execution_count": 179,
   "metadata": {},
   "outputs": [],
   "source": [
    "# 모델의 가중치와 절편 최적화 ==> 인스턴스에 전달 \n",
    "adam_optim = optimizer.Adam(model.parameters(), lr = 0.1)"
   ]
  },
  {
   "cell_type": "markdown",
   "metadata": {},
   "source": [
    "# [4] 학습 ==> 개발자가 구현 "
   ]
  },
  {
   "cell_type": "markdown",
   "metadata": {},
   "source": [
    "### [4-1] 데이터셋 Tensor화 진행 : 데이터준비 시 진행하거나 또는 학습 전 진행 "
   ]
  },
  {
   "cell_type": "code",
   "execution_count": 180,
   "metadata": {},
   "outputs": [
    {
     "data": {
      "text/plain": [
       "torch.Size([150, 1])"
      ]
     },
     "execution_count": 180,
     "metadata": {},
     "output_type": "execute_result"
    }
   ],
   "source": [
    "feature_ts = torch.from_numpy(iris_df[['petal.length']].values).float()\n",
    "feature_ts.shape"
   ]
  },
  {
   "cell_type": "code",
   "execution_count": 181,
   "metadata": {},
   "outputs": [
    {
     "data": {
      "text/plain": [
       "array([1.4, 1.4, 1.3, 1.5, 1.4, 1.7, 1.4, 1.5, 1.4, 1.5, 1.5, 1.6, 1.4,\n",
       "       1.1, 1.2, 1.5, 1.3, 1.4, 1.7, 1.5, 1.7, 1.5, 1. , 1.7, 1.9, 1.6,\n",
       "       1.6, 1.5, 1.4, 1.6, 1.6, 1.5, 1.5, 1.4, 1.5, 1.2, 1.3, 1.4, 1.3,\n",
       "       1.5, 1.3, 1.3, 1.3, 1.6, 1.9, 1.4, 1.6, 1.4, 1.5, 1.4, 4.7, 4.5,\n",
       "       4.9, 4. , 4.6, 4.5, 4.7, 3.3, 4.6, 3.9, 3.5, 4.2, 4. , 4.7, 3.6,\n",
       "       4.4, 4.5, 4.1, 4.5, 3.9, 4.8, 4. , 4.9, 4.7, 4.3, 4.4, 4.8, 5. ,\n",
       "       4.5, 3.5, 3.8, 3.7, 3.9, 5.1, 4.5, 4.5, 4.7, 4.4, 4.1, 4. , 4.4,\n",
       "       4.6, 4. , 3.3, 4.2, 4.2, 4.2, 4.3, 3. , 4.1, 6. , 5.1, 5.9, 5.6,\n",
       "       5.8, 6.6, 4.5, 6.3, 5.8, 6.1, 5.1, 5.3, 5.5, 5. , 5.1, 5.3, 5.5,\n",
       "       6.7, 6.9, 5. , 5.7, 4.9, 6.7, 4.9, 5.7, 6. , 4.8, 4.9, 5.6, 5.8,\n",
       "       6.1, 6.4, 5.6, 5.1, 5.6, 6.1, 5.6, 5.5, 4.8, 5.4, 5.6, 5.1, 5.1,\n",
       "       5.9, 5.7, 5.2, 5. , 5.2, 5.4, 5.1])"
      ]
     },
     "execution_count": 181,
     "metadata": {},
     "output_type": "execute_result"
    }
   ],
   "source": [
    "iris_df['petal.length'].values"
   ]
  },
  {
   "cell_type": "code",
   "execution_count": 182,
   "metadata": {},
   "outputs": [
    {
     "data": {
      "text/plain": [
       "torch.Size([150, 1])"
      ]
     },
     "execution_count": 182,
     "metadata": {},
     "output_type": "execute_result"
    }
   ],
   "source": [
    "target_ts = torch.from_numpy(iris_df[['petal.width']].values).float()\n",
    "target_ts.shape"
   ]
  },
  {
   "cell_type": "markdown",
   "metadata": {},
   "source": [
    "### [4-2] 학습 진행 \n",
    "- 학습 횟수 결정 => 에포크 설정 \n",
    "- 학습 결과 저장 => 손실저장 변수"
   ]
  },
  {
   "cell_type": "code",
   "execution_count": 183,
   "metadata": {},
   "outputs": [],
   "source": [
    "EPOCH = 100\n",
    "loss_history = [] # 시각화 하기 위해 리스트에 담음 "
   ]
  },
  {
   "cell_type": "code",
   "execution_count": 184,
   "metadata": {},
   "outputs": [],
   "source": [
    "# 모델 학습 함수 \n",
    "def training():\n",
    "\n",
    "    EPOCH = 100\n",
    "    loss_history = []\n",
    "\n",
    "    for epoch in range(EPOCH):\n",
    "        # -(1) 학습 진행 - forward \n",
    "        pre_y = model(feature_ts)\n",
    "\n",
    "        # -(2) 오차계산 - 손실함수 \n",
    "        loss = F.mse_loss(pre_y, target_ts)\n",
    "        loss_history.append(loss.item()) # tensor로 들어가서 item으로 뺌 \n",
    "\n",
    "        # -(3) 최적화 - 가중치, 절편 업데이트 backward \n",
    "        adam_optim.zero_grad()\n",
    "        loss.backward()\n",
    "        adam_optim.step()\n",
    "\n",
    "        # -(4) 학습 결과 출력 및 저장 \n",
    "        print(f'[{epoch}/{EPOCH}] LOSS : {loss}')\n",
    "\n",
    "    return loss_history"
   ]
  },
  {
   "cell_type": "code",
   "execution_count": 185,
   "metadata": {},
   "outputs": [
    {
     "name": "stdout",
     "output_type": "stream",
     "text": [
      "[0/100] LOSS : 0.16012583673000336\n",
      "[1/100] LOSS : 0.074522964656353\n",
      "[2/100] LOSS : 0.13772442936897278\n",
      "[3/100] LOSS : 0.07824525237083435\n",
      "[4/100] LOSS : 0.04498450458049774\n",
      "[5/100] LOSS : 0.07436980307102203\n",
      "[6/100] LOSS : 0.09182848036289215\n",
      "[7/100] LOSS : 0.06934763491153717\n",
      "[8/100] LOSS : 0.04540804773569107\n",
      "[9/100] LOSS : 0.04900302737951279\n",
      "[10/100] LOSS : 0.066199891269207\n",
      "[11/100] LOSS : 0.06832201778888702\n",
      "[12/100] LOSS : 0.05394704267382622\n",
      "[13/100] LOSS : 0.042835745960474014\n",
      "[14/100] LOSS : 0.04668451473116875\n",
      "[15/100] LOSS : 0.056329306215047836\n",
      "[16/100] LOSS : 0.05706849321722984\n",
      "[17/100] LOSS : 0.04860337823629379\n",
      "[18/100] LOSS : 0.042276471853256226\n",
      "[19/100] LOSS : 0.04480516538023949\n",
      "[20/100] LOSS : 0.0506235808134079\n",
      "[21/100] LOSS : 0.05096087604761124\n",
      "[22/100] LOSS : 0.04575872793793678\n",
      "[23/100] LOSS : 0.042143814265728\n",
      "[24/100] LOSS : 0.04404692351818085\n",
      "[25/100] LOSS : 0.04756830632686615\n",
      "[26/100] LOSS : 0.04734067618846893\n",
      "[27/100] LOSS : 0.04395326226949692\n",
      "[28/100] LOSS : 0.04216213896870613\n",
      "[29/100] LOSS : 0.043818630278110504\n",
      "[30/100] LOSS : 0.04577568918466568\n",
      "[31/100] LOSS : 0.0450049452483654\n",
      "[32/100] LOSS : 0.04280659183859825\n",
      "[33/100] LOSS : 0.042290251702070236\n",
      "[34/100] LOSS : 0.04369340091943741\n",
      "[35/100] LOSS : 0.0444737933576107\n",
      "[36/100] LOSS : 0.04342243820428848\n",
      "[37/100] LOSS : 0.04221882298588753\n",
      "[38/100] LOSS : 0.04250564053654671\n",
      "[39/100] LOSS : 0.04345370829105377\n",
      "[40/100] LOSS : 0.043386951088905334\n",
      "[41/100] LOSS : 0.04245591163635254\n",
      "[42/100] LOSS : 0.04211854189634323\n",
      "[43/100] LOSS : 0.042689140886068344\n",
      "[44/100] LOSS : 0.04302692785859108\n",
      "[45/100] LOSS : 0.042554982006549835\n",
      "[46/100] LOSS : 0.04208316653966904\n",
      "[47/100] LOSS : 0.0422954224050045\n",
      "[48/100] LOSS : 0.042668722569942474\n",
      "[49/100] LOSS : 0.04251249134540558\n",
      "[50/100] LOSS : 0.04212455824017525\n",
      "[51/100] LOSS : 0.042140740901231766\n",
      "[52/100] LOSS : 0.04242374002933502\n",
      "[53/100] LOSS : 0.04241644963622093\n",
      "[54/100] LOSS : 0.04214949160814285\n",
      "[55/100] LOSS : 0.042093291878700256\n",
      "[56/100] LOSS : 0.04228059574961662\n",
      "[57/100] LOSS : 0.04232063144445419\n",
      "[58/100] LOSS : 0.042147062718868256\n",
      "[59/100] LOSS : 0.04208066686987877\n",
      "[60/100] LOSS : 0.04220033809542656\n",
      "[61/100] LOSS : 0.04224260151386261\n",
      "[62/100] LOSS : 0.04212869703769684\n",
      "[63/100] LOSS : 0.04207558184862137\n",
      "[64/100] LOSS : 0.042154159396886826\n",
      "[65/100] LOSS : 0.04218420758843422\n",
      "[66/100] LOSS : 0.04210663586854935\n",
      "[67/100] LOSS : 0.04207231104373932\n",
      "[68/100] LOSS : 0.042126793414354324\n",
      "[69/100] LOSS : 0.042142804712057114\n",
      "[70/100] LOSS : 0.04208839312195778\n",
      "[71/100] LOSS : 0.042071275413036346\n",
      "[72/100] LOSS : 0.0421103872358799\n",
      "[73/100] LOSS : 0.04211457818746567\n",
      "[74/100] LOSS : 0.04207650572061539\n",
      "[75/100] LOSS : 0.04207253456115723\n",
      "[76/100] LOSS : 0.042099952697753906\n",
      "[77/100] LOSS : 0.0420956090092659\n",
      "[78/100] LOSS : 0.04207031428813934\n",
      "[79/100] LOSS : 0.04207479581236839\n",
      "[80/100] LOSS : 0.04209200665354729\n",
      "[81/100] LOSS : 0.042082734405994415\n",
      "[82/100] LOSS : 0.042068060487508774\n",
      "[83/100] LOSS : 0.042076461017131805\n",
      "[84/100] LOSS : 0.04208476096391678\n",
      "[85/100] LOSS : 0.04207421466708183\n",
      "[86/100] LOSS : 0.04206813499331474\n",
      "[87/100] LOSS : 0.04207662492990494\n",
      "[88/100] LOSS : 0.04207800701260567\n",
      "[89/100] LOSS : 0.042069315910339355\n",
      "[90/100] LOSS : 0.04206924885511398\n",
      "[91/100] LOSS : 0.04207521677017212\n",
      "[92/100] LOSS : 0.042072493582963943\n",
      "[93/100] LOSS : 0.04206745699048042\n",
      "[94/100] LOSS : 0.04207036271691322\n",
      "[95/100] LOSS : 0.04207279533147812\n",
      "[96/100] LOSS : 0.04206893965601921\n",
      "[97/100] LOSS : 0.04206763207912445\n",
      "[98/100] LOSS : 0.04207070544362068\n",
      "[99/100] LOSS : 0.04207022488117218\n"
     ]
    },
    {
     "data": {
      "text/plain": [
       "[0.16012583673000336,\n",
       " 0.074522964656353,\n",
       " 0.13772442936897278,\n",
       " 0.07824525237083435,\n",
       " 0.04498450458049774,\n",
       " 0.07436980307102203,\n",
       " 0.09182848036289215,\n",
       " 0.06934763491153717,\n",
       " 0.04540804773569107,\n",
       " 0.04900302737951279,\n",
       " 0.066199891269207,\n",
       " 0.06832201778888702,\n",
       " 0.05394704267382622,\n",
       " 0.042835745960474014,\n",
       " 0.04668451473116875,\n",
       " 0.056329306215047836,\n",
       " 0.05706849321722984,\n",
       " 0.04860337823629379,\n",
       " 0.042276471853256226,\n",
       " 0.04480516538023949,\n",
       " 0.0506235808134079,\n",
       " 0.05096087604761124,\n",
       " 0.04575872793793678,\n",
       " 0.042143814265728,\n",
       " 0.04404692351818085,\n",
       " 0.04756830632686615,\n",
       " 0.04734067618846893,\n",
       " 0.04395326226949692,\n",
       " 0.04216213896870613,\n",
       " 0.043818630278110504,\n",
       " 0.04577568918466568,\n",
       " 0.0450049452483654,\n",
       " 0.04280659183859825,\n",
       " 0.042290251702070236,\n",
       " 0.04369340091943741,\n",
       " 0.0444737933576107,\n",
       " 0.04342243820428848,\n",
       " 0.04221882298588753,\n",
       " 0.04250564053654671,\n",
       " 0.04345370829105377,\n",
       " 0.043386951088905334,\n",
       " 0.04245591163635254,\n",
       " 0.04211854189634323,\n",
       " 0.042689140886068344,\n",
       " 0.04302692785859108,\n",
       " 0.042554982006549835,\n",
       " 0.04208316653966904,\n",
       " 0.0422954224050045,\n",
       " 0.042668722569942474,\n",
       " 0.04251249134540558,\n",
       " 0.04212455824017525,\n",
       " 0.042140740901231766,\n",
       " 0.04242374002933502,\n",
       " 0.04241644963622093,\n",
       " 0.04214949160814285,\n",
       " 0.042093291878700256,\n",
       " 0.04228059574961662,\n",
       " 0.04232063144445419,\n",
       " 0.042147062718868256,\n",
       " 0.04208066686987877,\n",
       " 0.04220033809542656,\n",
       " 0.04224260151386261,\n",
       " 0.04212869703769684,\n",
       " 0.04207558184862137,\n",
       " 0.042154159396886826,\n",
       " 0.04218420758843422,\n",
       " 0.04210663586854935,\n",
       " 0.04207231104373932,\n",
       " 0.042126793414354324,\n",
       " 0.042142804712057114,\n",
       " 0.04208839312195778,\n",
       " 0.042071275413036346,\n",
       " 0.0421103872358799,\n",
       " 0.04211457818746567,\n",
       " 0.04207650572061539,\n",
       " 0.04207253456115723,\n",
       " 0.042099952697753906,\n",
       " 0.0420956090092659,\n",
       " 0.04207031428813934,\n",
       " 0.04207479581236839,\n",
       " 0.04209200665354729,\n",
       " 0.042082734405994415,\n",
       " 0.042068060487508774,\n",
       " 0.042076461017131805,\n",
       " 0.04208476096391678,\n",
       " 0.04207421466708183,\n",
       " 0.04206813499331474,\n",
       " 0.04207662492990494,\n",
       " 0.04207800701260567,\n",
       " 0.042069315910339355,\n",
       " 0.04206924885511398,\n",
       " 0.04207521677017212,\n",
       " 0.042072493582963943,\n",
       " 0.04206745699048042,\n",
       " 0.04207036271691322,\n",
       " 0.04207279533147812,\n",
       " 0.04206893965601921,\n",
       " 0.04206763207912445,\n",
       " 0.04207070544362068,\n",
       " 0.04207022488117218]"
      ]
     },
     "execution_count": 185,
     "metadata": {},
     "output_type": "execute_result"
    }
   ],
   "source": [
    "# 모델 학습 진행 \n",
    "\n",
    "loss = training()\n",
    "loss"
   ]
  },
  {
   "cell_type": "code",
   "execution_count": 186,
   "metadata": {},
   "outputs": [
    {
     "data": {
      "text/plain": [
       "<function matplotlib.pyplot.show(close=None, block=None)>"
      ]
     },
     "execution_count": 186,
     "metadata": {},
     "output_type": "execute_result"
    },
    {
     "data": {
      "image/png": "[encoded data removed]",
      "text/plain": [
       "<Figure size 640x480 with 1 Axes>"
      ]
     },
     "metadata": {},
     "output_type": "display_data"
    }
   ],
   "source": [
    "# 학습 후 loss 시각화 \n",
    "\n",
    "plt.plot(range(1,101), loss)\n",
    "plt.grid()\n",
    "plt.xlabel('Epoch')\n",
    "plt.show"
   ]
  }
 ],
 "metadata": {
  "kernelspec": {
   "display_name": "TORCH_38",
   "language": "python",
   "name": "python3"
  },
  "language_info": {
   "codemirror_mode": {
    "name": "ipython",
    "version": 3
   },
   "file_extension": ".py",
   "mimetype": "text/x-python",
   "name": "python",
   "nbconvert_exporter": "python",
   "pygments_lexer": "ipython3",
   "version": "3.8.19"
  }
 },
 "nbformat": 4,
 "nbformat_minor": 2
}
