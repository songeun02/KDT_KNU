{
 "cells": [
  {
   "cell_type": "markdown",
   "metadata": {},
   "source": [
    "# Torchmetrics 패키지\n",
    "- pytorch에서 모델 성능평가 기능 제공 패키지\n",
    "- 추가 설치 필요 \n",
    "    - pip : pip install torchmetrics \n",
    "    - conda : conda install -c conda-forge torchmetrics \n",
    "- 사용법 \n",
    "    - 클래스 방식 : 인스턴스 생성(Heap에 생성) 후 사용  \n",
    "        - 정적 클래스 : 인스턴스 생성 x \n",
    "    - 함수 방식 : 바로 사용 "
   ]
  },
  {
   "cell_type": "markdown",
   "metadata": {},
   "source": [
    "## [1] 회귀 (Regression) 성능 지표"
   ]
  },
  {
   "cell_type": "code",
   "execution_count": 16,
   "metadata": {},
   "outputs": [],
   "source": [
    "# 모듈 로딩 \n",
    "import torch\n",
    "from torchmetrics.functional.regression import r2_score \n",
    "from torchmetrics.regression import R2Score, MeanSquaredError, MeanAbsoluteError\n"
   ]
  },
  {
   "cell_type": "code",
   "execution_count": 17,
   "metadata": {},
   "outputs": [
    {
     "data": {
      "text/plain": [
       "tensor(0.9486)"
      ]
     },
     "execution_count": 17,
     "metadata": {},
     "output_type": "execute_result"
    }
   ],
   "source": [
    "# 클래스 방식 ------------------------------------------\n",
    "target = torch.tensor([3, -0.5, 2, 7]) # 1D (4,)\n",
    "preds = torch.tensor([2.5, 0.0, 2, 8]) # 1D (4,)\n",
    "\n",
    "# 성능 평가 => R2Score : 0 ~ 1 (좋음) 정답에 얼마나 근사하게 표현했는가\n",
    "r2score = R2Score()\n",
    "r2score(preds, target)"
   ]
  },
  {
   "cell_type": "code",
   "execution_count": 18,
   "metadata": {},
   "outputs": [],
   "source": [
    "def add(a,b): return a+b"
   ]
  },
  {
   "cell_type": "code",
   "execution_count": 19,
   "metadata": {},
   "outputs": [
    {
     "data": {
      "text/plain": [
       "30"
      ]
     },
     "execution_count": 19,
     "metadata": {},
     "output_type": "execute_result"
    }
   ],
   "source": [
    "my_func = add \n",
    "# my_func이 add 주소 가지고 있음 -> 메모리 상에서 공유 -> 변수명으로 함수 사용 ㅇ \n",
    "my_func(10,20) \n",
    "# => 재사용 가능 "
   ]
  },
  {
   "cell_type": "code",
   "execution_count": 20,
   "metadata": {},
   "outputs": [
    {
     "data": {
      "text/plain": [
       "tensor(0.9486)"
      ]
     },
     "execution_count": 20,
     "metadata": {},
     "output_type": "execute_result"
    }
   ],
   "source": [
    "target = torch.tensor([3, -0.5, 2, 7]) # 1D (4,)\n",
    "preds = torch.tensor([2.5, 0.0, 2, 8]) # 1D (4,)\n",
    "\n",
    "# 클래스 사용해서 함수로 사용 ㅇ \n",
    "# 클래스 -> 메모리에 인스턴스 생성 \n",
    "R2Score()(preds, target) # 한 번만 쓰고 끝남 => 재사용 불가 \n",
    "# R2Score주소(데이터1, 데이터2) -> R2Score 인스턴스로 향함 "
   ]
  },
  {
   "cell_type": "code",
   "execution_count": 21,
   "metadata": {},
   "outputs": [
    {
     "data": {
      "text/plain": [
       "tensor(0.9486)"
      ]
     },
     "execution_count": 21,
     "metadata": {},
     "output_type": "execute_result"
    }
   ],
   "source": [
    "# 함수 방식 ---------------------------------------------------------\n",
    "target = torch.tensor([3, -0.5, 2, 7]) # 1D (4,)\n",
    "preds = torch.tensor([2.5, 0.0, 2, 8]) # 1D (4,)\n",
    "\n",
    "# 성능 평가 => R2Score : 0 ~ 1 (좋음) 정답에 얼마나 근사하게 표현했는가\n",
    "r2score(preds, target)"
   ]
  },
  {
   "cell_type": "code",
   "execution_count": 22,
   "metadata": {},
   "outputs": [],
   "source": [
    "class MyR2(R2Score):\n",
    "    pass"
   ]
  },
  {
   "cell_type": "code",
   "execution_count": 23,
   "metadata": {},
   "outputs": [
    {
     "data": {
      "text/plain": [
       "tensor(0.9486)"
      ]
     },
     "execution_count": 23,
     "metadata": {},
     "output_type": "execute_result"
    }
   ],
   "source": [
    "gg = MyR2()\n",
    "gg(preds, target)"
   ]
  },
  {
   "cell_type": "code",
   "execution_count": 26,
   "metadata": {},
   "outputs": [
    {
     "name": "stdout",
     "output_type": "stream",
     "text": [
      "tensor(0.8750)\n",
      "tensor(0.8750)\n"
     ]
    }
   ],
   "source": [
    "target = torch.tensor([2.5, 5.0, 4.0, 8.0])\n",
    "preds = torch.tensor([3.0, 5.0, 2.5, 7.0])\n",
    "\n",
    "# 오차 계산 : 0에 가까울 수록 좋은 것 \n",
    "mean_squared_error = MeanSquaredError()\n",
    "print(mean_squared_error(preds, target)) # 함수 사용 \n",
    "print(MeanSquaredError()(preds, target)) # 클래스 사용 "
   ]
  },
  {
   "cell_type": "markdown",
   "metadata": {},
   "source": [
    "### 분류(Classfication) 성능 평가 지표 \n",
    "- Accuracy : 정확도 (양성 - 양성, 음성 - 음성) => 불균형 데이터일 경우 신뢰성 없음 \n",
    "- Precision (예측 양성 -> 실제 양성)\n",
    "- Recall (실제 양성 -> 예측 양성)\n",
    "- F1-Score\n",
    "- ConfusionMatrix\n",
    "- ROC-AUC => 의료분야 / 2진 분류\n",
    "    "
   ]
  },
  {
   "cell_type": "code",
   "execution_count": 27,
   "metadata": {},
   "outputs": [],
   "source": [
    "from torchmetrics.classification import F1Score, Accuracy, Precision, Recall\n",
    "from torchmetrics.functional.classification import f1_score, accuracy, precision, recall"
   ]
  },
  {
   "cell_type": "code",
   "execution_count": 31,
   "metadata": {},
   "outputs": [
    {
     "name": "stdout",
     "output_type": "stream",
     "text": [
      "tensor(0.6667)\n",
      "tensor(0.6667)\n"
     ]
    }
   ],
   "source": [
    "# 2진 분류 => task = \"binary\"\n",
    "\n",
    "from torchmetrics.classification import BinaryF1Score\n",
    "\n",
    "target = torch.tensor([0, 1, 1, 0, 1, 0])\n",
    "preds = torch.tensor([0, 1, 1, 0, 0, 1])\n",
    "f1 = F1Score(task=\"binary\")\n",
    "print(f1(preds, target))\n",
    "print(BinaryF1Score()(preds, target))"
   ]
  },
  {
   "cell_type": "code",
   "execution_count": 36,
   "metadata": {},
   "outputs": [
    {
     "name": "stdout",
     "output_type": "stream",
     "text": [
      "tensor(0.5000)\n",
      "tensor(0.4333)\n"
     ]
    }
   ],
   "source": [
    "# 다중 분류 => task = \"multiclass\"\n",
    "\n",
    "from torchmetrics.classification import MulticlassF1Score\n",
    "\n",
    "target = torch.tensor([0, 1, 2, 0, 2, 0])\n",
    "preds = torch.tensor([0, 2, 1, 0, 2, 1])\n",
    "f1 = F1Score(task=\"multiclass\", num_classes=3)\n",
    "\n",
    "print(f1(preds, target)) \n",
    "print(MulticlassF1Score(num_classes=3)(preds, target)) \n",
    "\n",
    "# => 평균 내는 방법이 다름 "
   ]
  },
  {
   "cell_type": "code",
   "execution_count": 37,
   "metadata": {},
   "outputs": [
    {
     "name": "stdout",
     "output_type": "stream",
     "text": [
      "tensor(0.4333)\n",
      "tensor(0.4333)\n"
     ]
    }
   ],
   "source": [
    "# 다중 분류 => task = \"multiclass\"\n",
    "\n",
    "from torchmetrics.classification import MulticlassF1Score\n",
    "\n",
    "target = torch.tensor([0, 1, 2, 0, 2, 0])\n",
    "preds = torch.tensor([0, 2, 1, 0, 2, 1])\n",
    "\n",
    "# F1Score => average = 'micro' (sum statistics over all labels)\n",
    "f1 = F1Score(task=\"multiclass\", num_classes=3, average='macro')  \n",
    "# num_classes : 변환된 범주형 데이터에서 클래스 수를 결정\n",
    "\n",
    "print(f1(preds, target)) \n",
    "\n",
    "# MulticlassF1Score => average = 'macro' (calculate statistics for each label and average them)\n",
    "print(MulticlassF1Score(num_classes=3)(preds, target)) \n"
   ]
  },
  {
   "cell_type": "markdown",
   "metadata": {},
   "source": [
    "-> 평균내는 방식을 맞추면 값이 동일해진다 "
   ]
  },
  {
   "cell_type": "code",
   "execution_count": 40,
   "metadata": {},
   "outputs": [
    {
     "name": "stdout",
     "output_type": "stream",
     "text": [
      "tensor(0.6667)\n",
      "tensor(0.6667)\n"
     ]
    }
   ],
   "source": [
    "# 2진 분류 => task = \"binary\"\n",
    "\n",
    "from torchmetrics.classification import BinaryPrecision\n",
    "\n",
    "target = torch.tensor([0, 1, 1, 0, 1, 0])\n",
    "preds = torch.tensor([0, 1, 1, 0, 0, 1])\n",
    "\n",
    "pb = Precision(task='binary', threshold=0.7)\n",
    "print(pb(preds, target))\n",
    "\n",
    "print(BinaryPrecision(threshold=0.7)(preds, target))"
   ]
  },
  {
   "cell_type": "code",
   "execution_count": 42,
   "metadata": {},
   "outputs": [
    {
     "name": "stdout",
     "output_type": "stream",
     "text": [
      "tensor(0.5000)\n",
      "tensor(0.5000)\n"
     ]
    }
   ],
   "source": [
    "# 다중 분류 => task = \"multiclass\"\n",
    "\n",
    "from torchmetrics.classification import MulticlassPrecision\n",
    "\n",
    "target = torch.tensor([0, 1, 2, 0, 2, 0])\n",
    "preds = torch.tensor([0, 2, 1, 0, 2, 1])\n",
    "\n",
    "# F1Score => average = 'micro' (sum statistics over all labels)\n",
    "# f1 = Precision(task=\"multiclass\", num_classes=3, average='macro')\n",
    "# average = 'macro' 를 안 넣어도 값 동일 => 데이터가 동일하면 값 동일 \n",
    "f1 = Precision(task=\"multiclass\", num_classes=3)\n",
    "\n",
    "print(f1(preds, target)) \n",
    "\n",
    "# MulticlassF1Score => average = 'macro' (calculate statistics for each label and average them)\n",
    "print(MulticlassPrecision(num_classes=3)(preds, target)) \n",
    "\n"
   ]
  },
  {
   "cell_type": "code",
   "execution_count": null,
   "metadata": {},
   "outputs": [],
   "source": []
  }
 ],
 "metadata": {
  "kernelspec": {
   "display_name": "TORCH_38",
   "language": "python",
   "name": "python3"
  },
  "language_info": {
   "codemirror_mode": {
    "name": "ipython",
    "version": 3
   },
   "file_extension": ".py",
   "mimetype": "text/x-python",
   "name": "python",
   "nbconvert_exporter": "python",
   "pygments_lexer": "ipython3",
   "version": "3.8.19"
  }
 },
 "nbformat": 4,
 "nbformat_minor": 2
}
