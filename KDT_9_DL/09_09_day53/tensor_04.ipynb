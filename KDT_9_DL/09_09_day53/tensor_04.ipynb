{
 "cells": [
  {
   "cell_type": "markdown",
   "metadata": {},
   "source": [
    "# Tensor 변환 \n",
    "- torch.as_tensor()\n",
    "    - 동일 타입과 디바이스를 가진 데이터 존재 ==> view 즉, 데이터 공유 \n",
    "    - 다른 타입 또는 다른 디바이스를 가진 데이터 존재 ==> copy 즉, 생성 \n",
    "    - view tensor 또는 copy tensor 반환 "
   ]
  },
  {
   "cell_type": "code",
   "execution_count": 1,
   "metadata": {},
   "outputs": [],
   "source": [
    "# 모듈 로딩 \n",
    "\n",
    "import torch"
   ]
  },
  {
   "cell_type": "markdown",
   "metadata": {},
   "source": [
    "## Python 객체 ==> Tensor 변환 "
   ]
  },
  {
   "cell_type": "code",
   "execution_count": 2,
   "metadata": {},
   "outputs": [],
   "source": [
    "## List => Tensor \n",
    "data = list(range(1,10))"
   ]
  },
  {
   "cell_type": "code",
   "execution_count": 4,
   "metadata": {},
   "outputs": [
    {
     "data": {
      "text/plain": [
       "(tensor([1, 2, 3, 4, 5, 6, 7, 8, 9]), torch.Size([9]), 1, torch.int64)"
      ]
     },
     "execution_count": 4,
     "metadata": {},
     "output_type": "execute_result"
    }
   ],
   "source": [
    "# torch.as_tensor()\n",
    "data_ts = torch.as_tensor(data)\n",
    "data_ts, data_ts.shape, data_ts.ndim, data_ts.dtype"
   ]
  },
  {
   "cell_type": "code",
   "execution_count": 5,
   "metadata": {},
   "outputs": [],
   "source": [
    "data[0] = 100"
   ]
  },
  {
   "cell_type": "code",
   "execution_count": 7,
   "metadata": {},
   "outputs": [
    {
     "data": {
      "text/plain": [
       "([100, 2, 3, 4, 5, 6, 7, 8, 9], tensor([1, 2, 3, 4, 5, 6, 7, 8, 9]))"
      ]
     },
     "execution_count": 7,
     "metadata": {},
     "output_type": "execute_result"
    }
   ],
   "source": [
    "data, data_ts # data_ts 는 변경사항 없음 "
   ]
  },
  {
   "cell_type": "markdown",
   "metadata": {},
   "source": [
    "### Numpy ndarray 객체 ==> Tensor 변환"
   ]
  },
  {
   "cell_type": "code",
   "execution_count": 8,
   "metadata": {},
   "outputs": [],
   "source": [
    "import numpy as np"
   ]
  },
  {
   "cell_type": "code",
   "execution_count": 11,
   "metadata": {},
   "outputs": [
    {
     "data": {
      "text/plain": [
       "(array([1, 2, 3]), dtype('int32'), 1)"
      ]
     },
     "execution_count": 11,
     "metadata": {},
     "output_type": "execute_result"
    }
   ],
   "source": [
    "arr1 = np.array([1,2,3])\n",
    "arr1, arr1.dtype, arr1.ndim"
   ]
  },
  {
   "cell_type": "code",
   "execution_count": 12,
   "metadata": {},
   "outputs": [
    {
     "data": {
      "text/plain": [
       "(tensor([1, 2, 3], dtype=torch.int32), torch.int32, 1)"
      ]
     },
     "execution_count": 12,
     "metadata": {},
     "output_type": "execute_result"
    }
   ],
   "source": [
    "arr_ts = torch.as_tensor(arr1)\n",
    "arr_ts, arr_ts.dtype, arr_ts.ndim"
   ]
  },
  {
   "cell_type": "code",
   "execution_count": 14,
   "metadata": {},
   "outputs": [
    {
     "data": {
      "text/plain": [
       "(array([77,  2,  3]), tensor([77,  2,  3], dtype=torch.int32))"
      ]
     },
     "execution_count": 14,
     "metadata": {},
     "output_type": "execute_result"
    }
   ],
   "source": [
    "arr1[0] = 77\n",
    "arr1, arr_ts"
   ]
  },
  {
   "cell_type": "code",
   "execution_count": 15,
   "metadata": {},
   "outputs": [
    {
     "data": {
      "text/plain": [
       "(array([99,  2,  3]), tensor([99,  2,  3], dtype=torch.int32))"
      ]
     },
     "execution_count": 15,
     "metadata": {},
     "output_type": "execute_result"
    }
   ],
   "source": [
    "arr_ts[0] = 99\n",
    "arr1, arr_ts"
   ]
  },
  {
   "cell_type": "markdown",
   "metadata": {},
   "source": [
    "### Numpy ndarray ==> Tensor 변환 : from_numpy()"
   ]
  },
  {
   "cell_type": "code",
   "execution_count": 18,
   "metadata": {},
   "outputs": [
    {
     "name": "stdout",
     "output_type": "stream",
     "text": [
      "데이터 저장 메모리 : <memory at 0x0000021943DFB880>\n",
      "\n",
      "원소/요소 개수 : 3\n",
      "\n",
      "원소/요소 1개 크기 : 4\n",
      "\n",
      "타입 : float32\n",
      "\n",
      "방향 : (4,)\n"
     ]
    }
   ],
   "source": [
    "arr1 = np.array([5,7,9], dtype=np.float32)\n",
    "arr1, arr1.data, arr1.size, arr1.itemsize\n",
    "\n",
    "# arr1.data : 넘파이에서 데이터가 들어있는 주소 \n",
    "# arr1.size : 배열 길이 \n",
    "# arr1.itemsize : 데이터 하나의 크기 \n",
    "\n",
    "print(f'데이터 저장 메모리 : {arr1.data}\\n')\n",
    "print(f'원소/요소 개수 : {arr1.size}\\n')\n",
    "print(f'원소/요소 1개 크기 : {arr1.itemsize}\\n')\n",
    "print(f'타입 : {arr1.dtype}\\n')\n",
    "print(f'방향 : {arr1.strides}')\n"
   ]
  },
  {
   "cell_type": "markdown",
   "metadata": {},
   "source": [
    "3 x 4로 총 12byte 사용됨 \n",
    "\n",
    "다음 행으로 갈 때 4byte 띄움"
   ]
  },
  {
   "cell_type": "code",
   "execution_count": 25,
   "metadata": {},
   "outputs": [
    {
     "name": "stdout",
     "output_type": "stream",
     "text": [
      "[[5. 7. 9.]\n",
      " [1. 2. 3.]]\n",
      "\n",
      "데이터 저장 메모리 : <memory at 0x0000021943DAAC70>\n",
      "\n",
      "원소/요소 개수 : 6\n",
      "\n",
      "원소/요소 1개 크기 : 2\n",
      "\n",
      "타입 : float16\n",
      "\n",
      "방향 : (6, 2)\n"
     ]
    }
   ],
   "source": [
    "arr1 = np.array([[5,7,9],[1,2,3]], dtype=np.float16) # float16으로 메모리 2칸에 데이터 1개 저장 \n",
    "# dtype 은 strides 값만 바꿈 \n",
    "\n",
    "# arr1.data : 넘파이에서 데이터가 들어있는 주소 \n",
    "# arr1.size : 배열 길이 \n",
    "# arr1.itemsize : 데이터 하나의 크기 \n",
    "\n",
    "print(arr1, end = '\\n')\n",
    "print(f'\\n데이터 저장 메모리 : {arr1.data}\\n')\n",
    "print(f'원소/요소 개수 : {arr1.size}\\n')\n",
    "print(f'원소/요소 1개 크기 : {arr1.itemsize}\\n')\n",
    "print(f'타입 : {arr1.dtype}\\n')\n",
    "print(f'방향 : {arr1.strides}') # -> 2칸을 띄워야 다음 데이터로 감 \n"
   ]
  },
  {
   "cell_type": "code",
   "execution_count": 26,
   "metadata": {},
   "outputs": [
    {
     "data": {
      "text/plain": [
       "tensor([[5., 7., 9.],\n",
       "        [1., 2., 3.]], dtype=torch.float16)"
      ]
     },
     "execution_count": 26,
     "metadata": {},
     "output_type": "execute_result"
    }
   ],
   "source": [
    "# tensor 생성 \n",
    "arr_ts = torch.from_numpy(arr1) \n",
    "arr_ts"
   ]
  },
  {
   "cell_type": "markdown",
   "metadata": {},
   "source": [
    "as_tensor : 어떨 때는 copy, 어떨 때는 view\n",
    "\n",
    "tensor : 데이터 copy해서 tensor로 변경 "
   ]
  }
 ],
 "metadata": {
  "kernelspec": {
   "display_name": "TORCH_38",
   "language": "python",
   "name": "python3"
  },
  "language_info": {
   "codemirror_mode": {
    "name": "ipython",
    "version": 3
   },
   "file_extension": ".py",
   "mimetype": "text/x-python",
   "name": "python",
   "nbconvert_exporter": "python",
   "pygments_lexer": "ipython3",
   "version": "3.8.19"
  }
 },
 "nbformat": 4,
 "nbformat_minor": 2
}
