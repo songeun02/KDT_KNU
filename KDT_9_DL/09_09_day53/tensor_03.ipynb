{
 "cells": [
  {
   "cell_type": "markdown",
   "metadata": {},
   "source": [
    "# Tensor 이해"
   ]
  },
  {
   "cell_type": "code",
   "execution_count": 2,
   "metadata": {},
   "outputs": [],
   "source": [
    "# 모듈 로딩 \n",
    "import torch"
   ]
  },
  {
   "cell_type": "markdown",
   "metadata": {},
   "source": [
    "## 타입 지정 Tensor 클래스 활용\n",
    "- 데이터 타입 설정 후 생성 \n",
    "- 데이터 사이즈 설정한 텐서 생성 시 사용\n",
    "- 데이터의 자료형 변환한 텐서 생성 시 사용 \n"
   ]
  },
  {
   "cell_type": "code",
   "execution_count": 3,
   "metadata": {},
   "outputs": [],
   "source": [
    "# 정수형 텐서 생성 \n",
    "data = [1.4, 2.8, 3.1]"
   ]
  },
  {
   "cell_type": "code",
   "execution_count": 6,
   "metadata": {},
   "outputs": [
    {
     "name": "stdout",
     "output_type": "stream",
     "text": [
      "tensor([1, 2, 3], dtype=torch.int8)\n",
      "tensor([1, 2, 3], dtype=torch.int8)\n"
     ]
    },
    {
     "name": "stderr",
     "output_type": "stream",
     "text": [
      "C:\\Users\\KDP-35\\AppData\\Local\\Temp\\ipykernel_1692\\2632023259.py:2: DeprecationWarning: an integer is required (got type float).  Implicit conversion to integers using __int__ is deprecated, and may be removed in a future version of Python.\n",
      "  data_ts1 = torch.CharTensor(data)\n",
      "C:\\Users\\KDP-35\\AppData\\Local\\Temp\\ipykernel_1692\\2632023259.py:3: DeprecationWarning: an integer is required (got type float).  Implicit conversion to integers using __int__ is deprecated, and may be removed in a future version of Python.\n",
      "  data_ts11 = torch.tensor(data, dtype=torch.int8)\n"
     ]
    }
   ],
   "source": [
    "# 1byte 정수형 텐서 생성\n",
    "data_ts1 = torch.CharTensor(data) # 데이터 타입 지정해서 생성 \n",
    "data_ts11 = torch.tensor(data, dtype=torch.int8)  # 생성해서 데이터 타입 지정 \n",
    "\n",
    "print(data_ts1, data_ts11, sep = '\\n')"
   ]
  },
  {
   "cell_type": "markdown",
   "metadata": {},
   "source": [
    "입력한 데이터가 실수라서 해당 warning 발생"
   ]
  },
  {
   "cell_type": "code",
   "execution_count": 8,
   "metadata": {},
   "outputs": [
    {
     "name": "stdout",
     "output_type": "stream",
     "text": [
      "tensor([1, 2, 3], dtype=torch.int16)\n",
      "tensor([1, 2, 3], dtype=torch.int16)\n"
     ]
    },
    {
     "name": "stderr",
     "output_type": "stream",
     "text": [
      "C:\\Users\\KDP-35\\AppData\\Local\\Temp\\ipykernel_1692\\4156443569.py:2: DeprecationWarning: an integer is required (got type float).  Implicit conversion to integers using __int__ is deprecated, and may be removed in a future version of Python.\n",
      "  data_ts1 = torch.ShortTensor(data)\n",
      "C:\\Users\\KDP-35\\AppData\\Local\\Temp\\ipykernel_1692\\4156443569.py:3: DeprecationWarning: an integer is required (got type float).  Implicit conversion to integers using __int__ is deprecated, and may be removed in a future version of Python.\n",
      "  data_ts11 = torch.tensor(data, dtype=torch.int16)  # 생성해서 데이터 타입 지정\n"
     ]
    }
   ],
   "source": [
    "# 2byte 정수형 텐서 생성\n",
    "data_ts1 = torch.ShortTensor(data) # 데이터 타입 지정해서 생성 \n",
    "data_ts11 = torch.tensor(data, dtype=torch.int16)  # 생성해서 데이터 타입 지정 \n",
    "\n",
    "print(data_ts1, data_ts11, sep = '\\n') "
   ]
  },
  {
   "cell_type": "code",
   "execution_count": 10,
   "metadata": {},
   "outputs": [
    {
     "name": "stdout",
     "output_type": "stream",
     "text": [
      "tensor([True, True, True])\n",
      "tensor([True, True, True])\n"
     ]
    }
   ],
   "source": [
    "# 논리형 텐서 생성 \n",
    "\n",
    "data_ts1 = torch.BoolTensor(data) # 데이터 타입 지정해서 생성 \n",
    "data_ts11 = torch.tensor(data, dtype=torch.bool)  # 생성해서 데이터 타입 지정 \n",
    "\n",
    "print(data_ts1, data_ts11, sep = '\\n')"
   ]
  },
  {
   "cell_type": "markdown",
   "metadata": {},
   "source": [
    "0 이거나 비어있으면 False"
   ]
  },
  {
   "cell_type": "code",
   "execution_count": 11,
   "metadata": {},
   "outputs": [
    {
     "name": "stdout",
     "output_type": "stream",
     "text": [
      "tensor([1.4000, 2.8000, 3.1000], dtype=torch.float64)\n",
      "tensor([1.4000, 2.8000, 3.1000], dtype=torch.float64)\n"
     ]
    }
   ],
   "source": [
    "# 실수형 텐서 생성\n",
    "\n",
    "data_ts1 = torch.DoubleTensor(data) # 데이터 타입 지정해서 생성 \n",
    "data_ts11 = torch.tensor(data, dtype=torch.float64)  # 생성해서 데이터 타입 지정 \n",
    "\n",
    "print(data_ts1, data_ts11, sep = '\\n') "
   ]
  },
  {
   "cell_type": "markdown",
   "metadata": {},
   "source": [
    "## Tensor 저장 및 실행 위치 설정 ==> 속성 device 설정"
   ]
  },
  {
   "cell_type": "code",
   "execution_count": 12,
   "metadata": {},
   "outputs": [
    {
     "data": {
      "text/plain": [
       "False"
      ]
     },
     "execution_count": 12,
     "metadata": {},
     "output_type": "execute_result"
    }
   ],
   "source": [
    "# 실행 위치 => CPU / GPU\n",
    "\n",
    "torch.cuda.is_available()\n",
    "\n",
    "# GPU에서 수행하는 알고리즘   "
   ]
  },
  {
   "cell_type": "code",
   "execution_count": 14,
   "metadata": {},
   "outputs": [
    {
     "data": {
      "text/plain": [
       "'cpu'"
      ]
     },
     "execution_count": 14,
     "metadata": {},
     "output_type": "execute_result"
    }
   ],
   "source": [
    "DEVICE = 'cuda' if torch.cuda.is_available() else 'cpu'\n",
    "DEVICE"
   ]
  },
  {
   "cell_type": "code",
   "execution_count": 15,
   "metadata": {},
   "outputs": [
    {
     "name": "stdout",
     "output_type": "stream",
     "text": [
      "tensor([1.4000, 2.8000, 3.1000], dtype=torch.float64)\n",
      "tensor([1.4000, 2.8000, 3.1000], dtype=torch.float64)\n"
     ]
    }
   ],
   "source": [
    "# 실수형 텐서 생성\n",
    "\n",
    "data_ts1 = torch.DoubleTensor(data) # 데이터 타입 지정해서 생성 \n",
    "data_ts11 = torch.tensor(data, dtype=torch.float64, device = DEVICE)  # 생성해서 데이터 타입 지정 \n",
    "\n",
    "print(data_ts1, data_ts11, sep = '\\n') "
   ]
  }
 ],
 "metadata": {
  "kernelspec": {
   "display_name": "TORCH_38",
   "language": "python",
   "name": "python3"
  },
  "language_info": {
   "codemirror_mode": {
    "name": "ipython",
    "version": 3
   },
   "file_extension": ".py",
   "mimetype": "text/x-python",
   "name": "python",
   "nbconvert_exporter": "python",
   "pygments_lexer": "ipython3",
   "version": "3.8.19"
  }
 },
 "nbformat": 4,
 "nbformat_minor": 2
}
