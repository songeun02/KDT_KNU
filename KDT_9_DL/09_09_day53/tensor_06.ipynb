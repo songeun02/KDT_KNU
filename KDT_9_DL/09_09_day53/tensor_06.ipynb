{
 "cells": [
  {
   "cell_type": "markdown",
   "metadata": {},
   "source": [
    "# Tensor 저장 구조 이해\n",
    "- storage 객체\n",
    "    - 텐서 객체의 메모리 저장 관련 정보 저장 \n",
    "    - offset : 첫 번째 원소 인덱스 \n",
    "    - stride : 원소 이동 위한 정보 저장\n",
    "        - 다음 행 이동하기 위한 메모리 칸 수\n",
    "        - 다음 열 이동하기 위한 메모리 칸 수"
   ]
  },
  {
   "cell_type": "code",
   "execution_count": 1,
   "metadata": {},
   "outputs": [],
   "source": [
    "import torch"
   ]
  },
  {
   "cell_type": "code",
   "execution_count": 6,
   "metadata": {},
   "outputs": [
    {
     "name": "stdout",
     "output_type": "stream",
     "text": [
      "tensor([[11, 22, 33],\n",
      "        [44, 55, 66]])\n",
      "(3, 1)\n",
      "2\n"
     ]
    }
   ],
   "source": [
    "## 텐서 생성  \n",
    "\n",
    "data_ts = torch.tensor([[11,22,33],[44,55,66]])\n",
    "print(data_ts, data_ts.stride(), data_ts.ndim, sep='\\n')\n",
    "# data_ts.stride : 메서드로 () 를 넣으면 볼 수 ㅇ "
   ]
  },
  {
   "cell_type": "code",
   "execution_count": 7,
   "metadata": {},
   "outputs": [
    {
     "name": "stderr",
     "output_type": "stream",
     "text": [
      "C:\\Users\\KDP-35\\AppData\\Local\\Temp\\ipykernel_18084\\3544215805.py:2: UserWarning: TypedStorage is deprecated. It will be removed in the future and UntypedStorage will be the only storage class. This should only matter to you if you are using storages directly.  To access UntypedStorage directly, use tensor.untyped_storage() instead of tensor.storage()\n",
      "  data_ts.storage()\n"
     ]
    },
    {
     "data": {
      "text/plain": [
       " 11\n",
       " 22\n",
       " 33\n",
       " 44\n",
       " 55\n",
       " 66\n",
       "[torch.storage.TypedStorage(dtype=torch.int64, device=cpu) of size 6]"
      ]
     },
     "execution_count": 7,
     "metadata": {},
     "output_type": "execute_result"
    }
   ],
   "source": [
    "# STORAGE 정보 => 메모리에 저장된 데이터 형태 1D\n",
    "data_ts.storage() # 메모리에 저장된 1차원 배열 "
   ]
  },
  {
   "cell_type": "code",
   "execution_count": 8,
   "metadata": {},
   "outputs": [
    {
     "name": "stdout",
     "output_type": "stream",
     "text": [
      " 11\n",
      " 0\n",
      " 0\n",
      " 0\n",
      " 0\n",
      " 0\n",
      " 0\n",
      " 0\n",
      " 22\n",
      " 0\n",
      " 0\n",
      " 0\n",
      " 0\n",
      " 0\n",
      " 0\n",
      " 0\n",
      " 33\n",
      " 0\n",
      " 0\n",
      " 0\n",
      " 0\n",
      " 0\n",
      " 0\n",
      " 0\n",
      " 44\n",
      " 0\n",
      " 0\n",
      " 0\n",
      " 0\n",
      " 0\n",
      " 0\n",
      " 0\n",
      " 55\n",
      " 0\n",
      " 0\n",
      " 0\n",
      " 0\n",
      " 0\n",
      " 0\n",
      " 0\n",
      " 66\n",
      " 0\n",
      " 0\n",
      " 0\n",
      " 0\n",
      " 0\n",
      " 0\n",
      " 0\n",
      "[torch.storage.UntypedStorage(device=cpu) of size 48]\n"
     ]
    }
   ],
   "source": [
    "print(data_ts.untyped_storage())"
   ]
  },
  {
   "cell_type": "code",
   "execution_count": 9,
   "metadata": {},
   "outputs": [
    {
     "name": "stdout",
     "output_type": "stream",
     "text": [
      "tensor([[11, 22, 33],\n",
      "        [44, 55, 66]], dtype=torch.int8)\n",
      "(3, 1)\n",
      "2\n"
     ]
    }
   ],
   "source": [
    "data_ts = torch.tensor([[11,22,33],[44,55,66]], dtype = torch.int8) # 위의 데이터를 저장하려면 6byte 필요 => int8\n",
    "print(data_ts, data_ts.stride(), data_ts.ndim, sep='\\n')"
   ]
  },
  {
   "cell_type": "code",
   "execution_count": 10,
   "metadata": {},
   "outputs": [
    {
     "name": "stdout",
     "output_type": "stream",
     "text": [
      " 11\n",
      " 22\n",
      " 33\n",
      " 44\n",
      " 55\n",
      " 66\n",
      "[torch.storage.UntypedStorage(device=cpu) of size 6]\n"
     ]
    }
   ],
   "source": [
    "print(data_ts.untyped_storage())"
   ]
  },
  {
   "cell_type": "code",
   "execution_count": 11,
   "metadata": {},
   "outputs": [
    {
     "name": "stdout",
     "output_type": "stream",
     "text": [
      "tensor([[11, 22, 33],\n",
      "        [44, 55, 66]], dtype=torch.int16)\n",
      "(3, 1)\n",
      "2\n"
     ]
    }
   ],
   "source": [
    "data_ts = torch.tensor([[11,22,33],[44,55,66]], dtype = torch.int16) \n",
    "print(data_ts, data_ts.stride(), data_ts.ndim, sep='\\n')"
   ]
  },
  {
   "cell_type": "code",
   "execution_count": 12,
   "metadata": {},
   "outputs": [
    {
     "name": "stdout",
     "output_type": "stream",
     "text": [
      " 11\n",
      " 0\n",
      " 22\n",
      " 0\n",
      " 33\n",
      " 0\n",
      " 44\n",
      " 0\n",
      " 55\n",
      " 0\n",
      " 66\n",
      " 0\n",
      "[torch.storage.UntypedStorage(device=cpu) of size 12]\n"
     ]
    }
   ],
   "source": [
    "print(data_ts.untyped_storage())"
   ]
  },
  {
   "cell_type": "markdown",
   "metadata": {},
   "source": [
    "데이터 1개 저장하는데 2byte 사용 \n",
    "\n",
    "11에서 22가려면 2칸 (1*2), 11에서 44가려면 6칸 (3*2)"
   ]
  },
  {
   "cell_type": "code",
   "execution_count": 17,
   "metadata": {},
   "outputs": [],
   "source": [
    "data_ts = torch.tensor([[11,22,33],[44,55,66]], dtype = torch.int8)"
   ]
  },
  {
   "cell_type": "code",
   "execution_count": 18,
   "metadata": {},
   "outputs": [
    {
     "data": {
      "text/plain": [
       "(11, 66)"
      ]
     },
     "execution_count": 18,
     "metadata": {},
     "output_type": "execute_result"
    }
   ],
   "source": [
    "mem_storage = data_ts.untyped_storage()\n",
    "mem_storage[0], mem_storage[-1]"
   ]
  },
  {
   "cell_type": "code",
   "execution_count": 19,
   "metadata": {},
   "outputs": [
    {
     "data": {
      "text/plain": [
       "(torch.Size([2, 3]), torch.int8)"
      ]
     },
     "execution_count": 19,
     "metadata": {},
     "output_type": "execute_result"
    }
   ],
   "source": [
    "data_ts.shape, data_ts.dtype\n",
    "\n",
    "# data_ts.dtype : 바이트 수 알 수 ㅇ "
   ]
  },
  {
   "cell_type": "code",
   "execution_count": 20,
   "metadata": {},
   "outputs": [
    {
     "name": "stdout",
     "output_type": "stream",
     "text": [
      "[0번째 원소] - 140718571007200\n",
      "[1번째 원소] - 140718571007552\n",
      "[2번째 원소] - 140718571007904\n",
      "[3번째 원소] - 140718571008256\n",
      "[4번째 원소] - 140718571008608\n",
      "[5번째 원소] - 140718571008960\n"
     ]
    }
   ],
   "source": [
    "for idx in range(6):\n",
    "    print(f'[{idx}번째 원소] - {id(mem_storage[idx])}')\n",
    "\n",
    "# 메모리에 저장된 주소 "
   ]
  },
  {
   "cell_type": "code",
   "execution_count": 21,
   "metadata": {},
   "outputs": [
    {
     "name": "stdout",
     "output_type": "stream",
     "text": [
      "[0번째 원소] - 11\n",
      "[1번째 원소] - 22\n",
      "[2번째 원소] - 33\n",
      "[3번째 원소] - 44\n",
      "[4번째 원소] - 55\n",
      "[5번째 원소] - 66\n"
     ]
    }
   ],
   "source": [
    "for idx in range(6):\n",
    "    print(f'[{idx}번째 원소] - {(mem_storage[idx])}') # int16 -> 2byte 줘서 0이 끼여서 보임 "
   ]
  },
  {
   "cell_type": "code",
   "execution_count": 23,
   "metadata": {},
   "outputs": [
    {
     "name": "stdout",
     "output_type": "stream",
     "text": [
      "[0번째 원소] - 140718571007200 : 140718571007200\n",
      "[1번째 원소] - 140718571007552 : 140718571007552\n",
      "[2번째 원소] - 140718571007904 : 140718571007904\n",
      "[3번째 원소] - 140718571008256 : 140718571008256\n",
      "[4번째 원소] - 140718571008608 : 140718571008608\n",
      "[5번째 원소] - 140718571008960 : 140718571008960\n"
     ]
    }
   ],
   "source": [
    "for idx in range(6):\n",
    "    print(f'[{idx}번째 원소] - {id(mem_storage[idx])} : {id(mem_storage[idx])}')"
   ]
  },
  {
   "cell_type": "code",
   "execution_count": 24,
   "metadata": {},
   "outputs": [
    {
     "data": {
      "text/plain": [
       "tensor([[11, 22, 33],\n",
       "        [44, 55, 66]], dtype=torch.int8)"
      ]
     },
     "execution_count": 24,
     "metadata": {},
     "output_type": "execute_result"
    }
   ],
   "source": [
    "data_ts.data"
   ]
  },
  {
   "cell_type": "code",
   "execution_count": 25,
   "metadata": {},
   "outputs": [
    {
     "data": {
      "text/plain": [
       "tensor([11, 22, 33], dtype=torch.int8)"
      ]
     },
     "execution_count": 25,
     "metadata": {},
     "output_type": "execute_result"
    }
   ],
   "source": [
    "data_ts.data[0]"
   ]
  },
  {
   "cell_type": "code",
   "execution_count": 27,
   "metadata": {},
   "outputs": [
    {
     "data": {
      "text/plain": [
       "4617291235520"
      ]
     },
     "execution_count": 27,
     "metadata": {},
     "output_type": "execute_result"
    }
   ],
   "source": [
    "data_ts.data_ptr() # 실제 데이터가 저장된 주소값 - first element의 주소값"
   ]
  },
  {
   "cell_type": "code",
   "execution_count": 28,
   "metadata": {},
   "outputs": [
    {
     "name": "stdout",
     "output_type": "stream",
     "text": [
      " 11\n",
      " 22\n",
      " 33\n",
      " 44\n",
      " 55\n",
      " 66\n",
      "[torch.storage.TypedStorage(dtype=torch.int8, device=cpu) of size 6] 0\n"
     ]
    }
   ],
   "source": [
    "# STORAGE 정보 \n",
    "print(data_ts.storage(), data_ts.storage_offset())"
   ]
  },
  {
   "cell_type": "code",
   "execution_count": 32,
   "metadata": {},
   "outputs": [
    {
     "data": {
      "text/plain": [
       "3"
      ]
     },
     "execution_count": 32,
     "metadata": {},
     "output_type": "execute_result"
    }
   ],
   "source": [
    "data_ts[1:].storage_offset() # 1행 전체 -> index : 3 "
   ]
  },
  {
   "cell_type": "code",
   "execution_count": 34,
   "metadata": {},
   "outputs": [
    {
     "data": {
      "text/plain": [
       "5"
      ]
     },
     "execution_count": 34,
     "metadata": {},
     "output_type": "execute_result"
    }
   ],
   "source": [
    "data_ts[1,2].storage_offset() # (1,2) -> index : 5"
   ]
  },
  {
   "cell_type": "code",
   "execution_count": 35,
   "metadata": {},
   "outputs": [
    {
     "data": {
      "text/plain": [
       "6"
      ]
     },
     "execution_count": 35,
     "metadata": {},
     "output_type": "execute_result"
    }
   ],
   "source": [
    "data_ts[3:].storage_offset() # 3행 존재하지 x "
   ]
  },
  {
   "cell_type": "code",
   "execution_count": null,
   "metadata": {},
   "outputs": [],
   "source": []
  }
 ],
 "metadata": {
  "kernelspec": {
   "display_name": "TORCH_38",
   "language": "python",
   "name": "python3"
  },
  "language_info": {
   "codemirror_mode": {
    "name": "ipython",
    "version": 3
   },
   "file_extension": ".py",
   "mimetype": "text/x-python",
   "name": "python",
   "nbconvert_exporter": "python",
   "pygments_lexer": "ipython3",
   "version": "3.8.19"
  }
 },
 "nbformat": 4,
 "nbformat_minor": 2
}
