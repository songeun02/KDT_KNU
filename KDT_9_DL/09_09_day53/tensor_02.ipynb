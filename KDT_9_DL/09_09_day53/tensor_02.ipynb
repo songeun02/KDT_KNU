{
 "cells": [
  {
   "cell_type": "code",
   "execution_count": 1,
   "metadata": {},
   "outputs": [],
   "source": [
    "# 모듈 로딩\n",
    "import torch"
   ]
  },
  {
   "cell_type": "markdown",
   "metadata": {},
   "source": [
    "## Tensor 생성 [2] torch.rand()"
   ]
  },
  {
   "cell_type": "code",
   "execution_count": 2,
   "metadata": {},
   "outputs": [
    {
     "data": {
      "text/plain": [
       "tensor([[[0.7576, 0.2793, 0.4031],\n",
       "         [0.7347, 0.0293, 0.7999]]])"
      ]
     },
     "execution_count": 2,
     "metadata": {},
     "output_type": "execute_result"
    }
   ],
   "source": [
    "# 0 <= ~ < 1 범위의 임의의 숫자 1개 추출 => rand(*size)\n",
    "# rand(*size) : 가변인자 => 몇 차원인지 알 수 없음 \n",
    "\n",
    "torch.manual_seed(1) # 랜덤이지만 seed 고정 \n",
    "\n",
    "data_ts = torch.rand(1,2,3)\n",
    "data_ts"
   ]
  },
  {
   "cell_type": "code",
   "execution_count": 3,
   "metadata": {},
   "outputs": [
    {
     "data": {
      "text/plain": [
       "tensor([[[0.7576, 0.2793, 0.4031],\n",
       "         [0.7347, 0.0293, 0.7999]],\n",
       "\n",
       "        [[0.3971, 0.7544, 0.5695],\n",
       "         [0.4388, 0.6387, 0.5247]]])"
      ]
     },
     "execution_count": 3,
     "metadata": {},
     "output_type": "execute_result"
    }
   ],
   "source": [
    "torch.manual_seed(1) \n",
    "\n",
    "data_ts = torch.rand(2,2,3) # 2장 \n",
    "data_ts"
   ]
  },
  {
   "cell_type": "code",
   "execution_count": 7,
   "metadata": {},
   "outputs": [
    {
     "name": "stdout",
     "output_type": "stream",
     "text": [
      "tensor([0.7576, 0.2793, 0.4031])\n",
      "\n",
      "tensor([[0.7347, 0.0293, 0.7999],\n",
      "        [0.3971, 0.7544, 0.5695]])\n",
      "\n",
      "tensor([[[0.4388, 0.6387, 0.5247]],\n",
      "\n",
      "        [[0.6826, 0.3051, 0.4635]]])\n"
     ]
    }
   ],
   "source": [
    "torch.manual_seed(1)\n",
    "\n",
    "data_ts1 = torch.rand(3)     #  1D vector\n",
    "data_ts2 = torch.rand(2,3)   #  2D matrix\n",
    "data_ts3 = torch.rand(2,1,3) #  3D 3d tensor\n",
    "\n",
    "print(data_ts1, data_ts2, data_ts3, sep='\\n\\n')"
   ]
  },
  {
   "cell_type": "markdown",
   "metadata": {},
   "source": [
    "## Tensor 생성 [3] torch.randn()\n",
    "- 정규분포 형태로 만들어주므로 음수 나올 수 있고 평균이 0, 분산 1 "
   ]
  },
  {
   "cell_type": "code",
   "execution_count": 9,
   "metadata": {},
   "outputs": [
    {
     "name": "stdout",
     "output_type": "stream",
     "text": [
      "tensor([0.0996, 0.5727, 1.1492])\n",
      "\n",
      "tensor([[0.1978, 0.1306, 0.2424],\n",
      "        [0.8616, 0.0727, 1.3484]])\n",
      "\n",
      "tensor([[[-0.8737, -0.2693, -0.5124]],\n",
      "\n",
      "        [[-0.2997,  0.6655,  0.2734]]])\n"
     ]
    }
   ],
   "source": [
    "data_ts1 = torch.randn(3)     #  1D vector\n",
    "data_ts2 = torch.randn(2,3)   #  2D matrix\n",
    "data_ts3 = torch.randn(2,1,3) #  3D 3d tensor\n",
    "\n",
    "print(data_ts1, data_ts2, data_ts3, sep='\\n\\n')"
   ]
  },
  {
   "cell_type": "markdown",
   "metadata": {},
   "source": [
    "## Tensor 생성 [4] torch.randint()"
   ]
  },
  {
   "cell_type": "code",
   "execution_count": 11,
   "metadata": {},
   "outputs": [
    {
     "data": {
      "text/plain": [
       "tensor([[1, 3, 2, 4, 4],\n",
       "        [3, 4, 2, 1, 4],\n",
       "        [2, 2, 4, 3, 1]])"
      ]
     },
     "execution_count": 11,
     "metadata": {},
     "output_type": "execute_result"
    }
   ],
   "source": [
    "torch.randint(1,5,(3,5)) # 1 ~ 5까지 3x5"
   ]
  },
  {
   "cell_type": "code",
   "execution_count": 12,
   "metadata": {},
   "outputs": [
    {
     "data": {
      "text/plain": [
       "tensor([[ 7, 11,  6, 43, 26, 29],\n",
       "        [41, 36, 25, 20, 18, 16],\n",
       "        [11, 24, 31, 23, 17, 30],\n",
       "        [ 3, 30, 30, 44, 15, 38]])"
      ]
     },
     "execution_count": 12,
     "metadata": {},
     "output_type": "execute_result"
    }
   ],
   "source": [
    "# 2D vector \n",
    "data_ts1 = torch.randint(1,46,(4,6))\n",
    "data_ts1"
   ]
  },
  {
   "cell_type": "code",
   "execution_count": null,
   "metadata": {},
   "outputs": [],
   "source": []
  }
 ],
 "metadata": {
  "kernelspec": {
   "display_name": "TORCH_38",
   "language": "python",
   "name": "python3"
  },
  "language_info": {
   "codemirror_mode": {
    "name": "ipython",
    "version": 3
   },
   "file_extension": ".py",
   "mimetype": "text/x-python",
   "name": "python",
   "nbconvert_exporter": "python",
   "pygments_lexer": "ipython3",
   "version": "3.8.19"
  }
 },
 "nbformat": 4,
 "nbformat_minor": 2
}
