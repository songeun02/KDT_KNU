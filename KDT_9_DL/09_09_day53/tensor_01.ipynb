{
 "cells": [
  {
   "cell_type": "markdown",
   "metadata": {},
   "source": [
    "# Tensor 이해 - 생성\n",
    "- Tensor란 ? \n",
    "    - pytorch에서 데이터를 저장하는 객체\n",
    "    - 모델에 입력/출력 데이터 형태 \n",
    "- 개발 버전 : torch v.2.4.1"
   ]
  },
  {
   "cell_type": "code",
   "execution_count": 3,
   "metadata": {},
   "outputs": [
    {
     "name": "stdout",
     "output_type": "stream",
     "text": [
      "torch v.2.4.1\n"
     ]
    }
   ],
   "source": [
    "import torch\n",
    "print(f'torch v.{torch.__version__}')"
   ]
  },
  {
   "cell_type": "code",
   "execution_count": 4,
   "metadata": {},
   "outputs": [],
   "source": [
    "# 원하는 값으로 채운 텐서 생성 \n",
    "\n",
    "# 함수 기능 : 텐서 속성 정보 출력 함수 \n",
    "\n",
    "def printInfo(obj, obj_name):\n",
    "    print(f'\\n[{obj_name}]')\n",
    "    print(f'shape : {obj.shape}')\n",
    "    print(f'ndim : {obj.ndim} 차원')\n",
    "    print(f'dtype : {obj.dtype}')\n",
    "    print(f'device : {obj.device}')\n",
    "    print(f'data : \\n{obj.data}')"
   ]
  },
  {
   "cell_type": "markdown",
   "metadata": {},
   "source": [
    "## 텐서 생성 [1] torch.tensor()"
   ]
  },
  {
   "cell_type": "code",
   "execution_count": 7,
   "metadata": {},
   "outputs": [
    {
     "name": "stdout",
     "output_type": "stream",
     "text": [
      "\n",
      "[data_tff]\n",
      "shape : torch.Size([])\n",
      "ndim : 0 차원\n",
      "dtype : torch.int64\n",
      "device : cpu\n",
      "data : \n",
      "10\n",
      "\n",
      "[data_tff]\n",
      "shape : torch.Size([])\n",
      "ndim : 0 차원\n",
      "dtype : torch.uint8\n",
      "device : cpu\n",
      "data : \n",
      "10\n"
     ]
    }
   ],
   "source": [
    "# 데이터 1개 즉, 스칼라\n",
    "\n",
    "data_tf = torch.tensor(10)\n",
    "printInfo(data_tf, 'data_tff')\n",
    "\n",
    "\n",
    "data_tf = torch.tensor(10, dtype = torch.uint8) # 데이터 타입 지정 \n",
    "printInfo(data_tf, 'data_tff')"
   ]
  },
  {
   "cell_type": "code",
   "execution_count": 9,
   "metadata": {},
   "outputs": [
    {
     "name": "stdout",
     "output_type": "stream",
     "text": [
      "\n",
      "[data_tff]\n",
      "shape : torch.Size([1])\n",
      "ndim : 1 차원\n",
      "dtype : torch.int64\n",
      "device : cpu\n",
      "data : \n",
      "tensor([10])\n",
      "\n",
      "[data_tff]\n",
      "shape : torch.Size([1])\n",
      "ndim : 1 차원\n",
      "dtype : torch.uint8\n",
      "device : cpu\n",
      "data : \n",
      "tensor([10], dtype=torch.uint8)\n",
      "\n",
      "[data_tff]\n",
      "shape : torch.Size([0])\n",
      "ndim : 1 차원\n",
      "dtype : torch.float32\n",
      "device : cpu\n",
      "data : \n",
      "tensor([])\n"
     ]
    }
   ],
   "source": [
    "# 데이터 1개 즉, 벡터 1D\n",
    "\n",
    "data_tf = torch.tensor([10])\n",
    "printInfo(data_tf, 'data_tff')\n",
    "\n",
    "\n",
    "data_tf = torch.tensor([10], dtype = torch.uint8) # 데이터 타입 지정 \n",
    "printInfo(data_tf, 'data_tff')\n",
    "\n",
    "data_tf = torch.tensor([]) # 데이터가 없어도 1D\n",
    "printInfo(data_tf, 'data_tff')"
   ]
  },
  {
   "cell_type": "code",
   "execution_count": 10,
   "metadata": {},
   "outputs": [
    {
     "name": "stdout",
     "output_type": "stream",
     "text": [
      "\n",
      "[data_tff]\n",
      "shape : torch.Size([1, 1])\n",
      "ndim : 2 차원\n",
      "dtype : torch.int64\n",
      "device : cpu\n",
      "data : \n",
      "tensor([[10]])\n",
      "\n",
      "[data_tff]\n",
      "shape : torch.Size([2, 1])\n",
      "ndim : 2 차원\n",
      "dtype : torch.uint8\n",
      "device : cpu\n",
      "data : \n",
      "tensor([[10],\n",
      "        [20]], dtype=torch.uint8)\n"
     ]
    }
   ],
   "source": [
    "# 데이터 1개 즉, 행렬\n",
    "\n",
    "data_tf = torch.tensor([[10]])\n",
    "printInfo(data_tf, 'data_tff')\n",
    "\n",
    "\n",
    "data_tf = torch.tensor([[10],[20]], dtype = torch.uint8) # 데이터 타입 지정 \n",
    "printInfo(data_tf, 'data_tff')"
   ]
  },
  {
   "cell_type": "code",
   "execution_count": 12,
   "metadata": {},
   "outputs": [
    {
     "name": "stdout",
     "output_type": "stream",
     "text": [
      "\n",
      "[data_tff]\n",
      "shape : torch.Size([1, 1, 1, 1])\n",
      "ndim : 4 차원\n",
      "dtype : torch.int64\n",
      "device : cpu\n",
      "data : \n",
      "tensor([[[[10]]]])\n",
      "\n",
      "[data_tff]\n",
      "shape : torch.Size([1, 1, 2, 1])\n",
      "ndim : 4 차원\n",
      "dtype : torch.uint8\n",
      "device : cpu\n",
      "data : \n",
      "tensor([[[[10],\n",
      "          [20]]]], dtype=torch.uint8)\n"
     ]
    }
   ],
   "source": [
    "# 데이터 1개 즉, ND\n",
    "\n",
    "data_tf = torch.tensor([[[[10]]]])\n",
    "printInfo(data_tf, 'data_tff')\n",
    "\n",
    "\n",
    "data_tf = torch.tensor([[[[10],[20]]]], dtype = torch.uint8) # 데이터 타입 지정 \n",
    "printInfo(data_tf, 'data_tff')"
   ]
  },
  {
   "cell_type": "code",
   "execution_count": null,
   "metadata": {},
   "outputs": [],
   "source": []
  }
 ],
 "metadata": {
  "kernelspec": {
   "display_name": "TORCH_38",
   "language": "python",
   "name": "python3"
  },
  "language_info": {
   "codemirror_mode": {
    "name": "ipython",
    "version": 3
   },
   "file_extension": ".py",
   "mimetype": "text/x-python",
   "name": "python",
   "nbconvert_exporter": "python",
   "pygments_lexer": "ipython3",
   "version": "3.8.19"
  }
 },
 "nbformat": 4,
 "nbformat_minor": 2
}
