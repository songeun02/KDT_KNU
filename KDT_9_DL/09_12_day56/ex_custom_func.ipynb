{
 "cells": [
  {
   "cell_type": "markdown",
   "metadata": {},
   "source": [
    "# 사용자 정의 함수 "
   ]
  },
  {
   "cell_type": "markdown",
   "metadata": {},
   "source": [
    "---\n",
    "- 함수 기능 : 모델 학습 진행 함수 \n",
    "- 함수 이름 : training \n",
    "- 매개변수  : 함수 구동 시 필요한 재료 => 학습을 위한 재료\n",
    "    - 모델 인스턴스 \n",
    "    - 학습 데이터셋 : 피쳐와 타겟 (학습 전 Tensor화)\n",
    "    - 손실함수 인스턴스 \n",
    "    - 최적화 인스턴스 \n",
    "    - 학습 횟수 : 에포크 EPOCH \n",
    "    - 배치 크기 : BATCH_SIZE \n",
    "    - 배치 개수 : BTCH_CNT \n",
    "    - 검증용 데이터셋 : 피쳐와 타겟 (검증전 Tensor화)\n",
    "- 함수 결과 : 학습 시 에포크당 손실값과 성능지표값, 검증의 손실값과 성능지표값 "
   ]
  },
  {
   "cell_type": "markdown",
   "metadata": {},
   "source": [
    "* * * \n",
    "- 함수 기능 : 에포크 단위 모델 학습 진행 함수 \n",
    "- 함수 이름 : epochTraining \n",
    "- 매개변수 : 함수 구동 시 필요한 재료 => 학습을 위한 재료 \n",
    "    - 모델 인스턴스 \n",
    "    - 학습용 데이터셋 : 피쳐와 라벨 (학습 전 Tensor화)\n",
    "    - 손실함수 인스턴스 \n",
    "    - 최적화 인스턴스 \n",
    "    - 배치크기 : BATCH_SIZE \n",
    "    - 배치개수 : BATCH_CNT\n",
    "- 함수결과 : 손실값과 성능지표값 \n",
    "* * *"
   ]
  },
  {
   "cell_type": "code",
   "execution_count": 5,
   "metadata": {},
   "outputs": [],
   "source": [
    "# 모듈 로딩 \n",
    "import torch\n",
    "import torch.nn as nn\n",
    "import torch.nn.functional as F \n",
    "import torch.optim as optimizer\n",
    "from torchmetrics.regression import R2Score\n",
    "from torchmetrics.classification import F1Score\n",
    "\n",
    "# 텐서 저장 및 실행 위치 설정 \n",
    "DEVICE = 'cuda' if torch.cuda.is_available() else 'cpu'"
   ]
  },
  {
   "cell_type": "code",
   "execution_count": 6,
   "metadata": {},
   "outputs": [],
   "source": [
    "# 에포크 당 학습 진행 후 손실값과 성능지표 값 반환 함수 \n",
    "\n",
    "def epochTraining(model, feature, target, lossFunc, optimizer, batch_cnt, batch_size = 32, is_classifi = True):\n",
    "    # - 에포크에서 배치크기 만큼 데이터셋 추출 후 학습 진행 \n",
    "\n",
    "    loss_total = 0\n",
    "\n",
    "    for batch in range(batch_cnt):\n",
    "        # 배치 크기만큼 데이터셋 추출 및 텐서화 \n",
    "        start = batch * batch_size  # [예 batch_size = 32 => 0, 32, 64, ....]\n",
    "        end = start + batch_size    # [예 batch_size = 32 => 32, 64, 96, .......]\n",
    "\n",
    "        x_train = torch.FloatTensor(feature[start:end].values).to(DEVICE)\n",
    "        y_train = torch.FloatTensor(target[start:end].values).to(DEVICE)\n",
    "\n",
    "        # 학습 진행 \n",
    "        pre_y = model(x_train).to(DEVICE)\n",
    "\n",
    "        # 손실 계산 \n",
    "        loss = lossFunc(pre_y, y_train)\n",
    "        loss_total += loss \n",
    "\n",
    "        # 점수 추출 \n",
    "        score = F1Score()(pre_y, y_train) if is_classifi else R2Score()(pre_y, y_train)\n",
    "        score_total += score\n",
    "\n",
    "        # 최적화 : w, b를 업데이트 \n",
    "        optimizer.zero_grad()\n",
    "        loss.backward()\n",
    "        optimizer.step()\n",
    "\n",
    "    # 에포크당 손실값과 성능지표값 반환 \n",
    "    # 테스트 및 검증 함수 사용 \n",
    "\n",
    "    return loss_total / batch_cnt, score_total/batch_cnt"
   ]
  },
  {
   "cell_type": "code",
   "execution_count": 7,
   "metadata": {},
   "outputs": [],
   "source": [
    "# 검증 및 테스트 진행 후  손실값과 성능지표 값 반환 함수 \n",
    "\n",
    "def testing(model, feature, target, lossFunc):\n",
    "    # - 최적화 기능 비활성화 후 데이터셋 추출 후 학습 진행 \n",
    "\n",
    "    with torch.no_grad(): # .no_grad : 업데이트 기능 막음 \n",
    "\n",
    "        # 배치 크기만큼 데이터셋 추출 및 텐서화\n",
    "        feature_ts = torch.FloatTensor(feature.values).to(DEVICE)\n",
    "        target_ts = torch.FloatTensor(target.values).to(DEVICE)\n",
    "\n",
    "        # 학습 진행 \n",
    "        pre_y = model(feature_ts).to(DEVICE) # feature 작업 많이 걸려서 gpu로 변경 \n",
    "\n",
    "        # 손실 계산 \n",
    "        loss = lossFunc(pre_y, target_ts)\n",
    "        # loss_total += loss  # 한 개라서 더할 필요 x \n",
    "\n",
    "        # 점수 추출 \n",
    "        score = F1Score()(pre_y, feature_ts)\n",
    "        # score_total += score\n",
    "\n",
    "   \n",
    "   # 손실값과 성능지표값 반환 \n",
    "    return loss, score"
   ]
  },
  {
   "cell_type": "code",
   "execution_count": 1,
   "metadata": {},
   "outputs": [],
   "source": [
    "# 학습 진행 \n",
    "\n",
    "def training():\n",
    "\n",
    "    EPOCHS = 10\n",
    "    TV_LOSS = {'TRAIN' : [], 'VAL':[]}\n",
    "    TV_SCORE = {'TRAIN' : [], 'VAL':[]}\n",
    "\n",
    "    for epoch in range(EPOCHS):\n",
    "        # 학습 진행 \n",
    "        train_loss, train_score = epochTraining()\n",
    "\n",
    "        # 검증 진행 \n",
    "        val_loss, val_score = testing()\n",
    "\n",
    "        # 에포크당 학습 및 검증 결과 저장 \n",
    "        TV_LOSS['TRAIN'].append(train_loss)\n",
    "        TV_SCORE['TRAIN'].append(train_score)\n",
    "\n",
    "        TV_LOSS['VAL'].append(val_loss)\n",
    "        TV_SCORE['VAL'].append(val_score)\n",
    "\n",
    "        # 에포크당 학습 및 검증 결과 출력 \n",
    "        print(f'[{epoch}.{EPOCHS}] \\n - [TRAIN] LOSS : {train_loss} SCORE : {train_score}')\n",
    "        print(f'- [VALID] LOSS : {val_loss} SCORE : {val_score}')\n"
   ]
  },
  {
   "cell_type": "markdown",
   "metadata": {},
   "source": [
    "단점 : 매개변수 다 넣어야 함 \n",
    "\n",
    "장점 : 한 개 만들어두면 모든 모델 사용 ㅇ "
   ]
  },
  {
   "cell_type": "code",
   "execution_count": null,
   "metadata": {},
   "outputs": [],
   "source": []
  }
 ],
 "metadata": {
  "kernelspec": {
   "display_name": "TORCH_38",
   "language": "python",
   "name": "python3"
  },
  "language_info": {
   "codemirror_mode": {
    "name": "ipython",
    "version": 3
   },
   "file_extension": ".py",
   "mimetype": "text/x-python",
   "name": "python",
   "nbconvert_exporter": "python",
   "pygments_lexer": "ipython3",
   "version": "3.8.19"
  }
 },
 "nbformat": 4,
 "nbformat_minor": 2
}
