{
 "cells": [
  {
   "cell_type": "markdown",
   "metadata": {},
   "source": [
    "# DNN 기반 회귀 모델 구현 + 학습 진행 모니터링 \n",
    "- 데이터셋 : iris.csv\n",
    "- 피쳐 : 3개 sepal_length, sepal_width, petal_length\n",
    "- 타겟/라벨 : 1개 (petal_width)\n",
    "- 학습 방법 : 지도학습 - 회귀 \n",
    "- 알고리즘 : 인공신경망(ANN) -> MLP(Multi Layer Perceptron), DNN ( ) : 은닉층이 많은 구성 \n",
    "- 프레임 워크 : Pytorch\n",
    "\n",
    "============================================================================================\n",
    "- 모니터링 \n",
    "    - 기준 : 검증 데이터셋의 loss 또는  score\n",
    "    - 평가 : 학습 데이터셋의 loss 또는 score와 비교해서 학습 중단여부 결정 \n",
    "    - 선택 : 현재까지 진행된 모델의 파라미터(가중치, 절편) 저장 여부 또는 모델 전체 저장 "
   ]
  },
  {
   "cell_type": "markdown",
   "metadata": {},
   "source": [
    "## [1] 모듈 로딩 및 데이터 준비\n",
    "---"
   ]
  },
  {
   "cell_type": "code",
   "execution_count": 2,
   "metadata": {},
   "outputs": [],
   "source": [
    "# 모델 \n",
    "import torch\n",
    "import torch.nn as nn\n",
    "import torch.nn.functional as F\n",
    "from torch.utils.data import Dataset, DataLoader\n",
    "import torch.optim as optim\n",
    "\n",
    "# 성능지표 \n",
    "from torchmetrics.regression import R2Score, MeanSquaredError\n",
    "from torchinfo import summary\n",
    "\n",
    "# 데이터 처리 및 시각화  \n",
    "import pandas as pd \n",
    "import matplotlib.pyplot as plt \n",
    "from sklearn.preprocessing import * \n",
    "\n",
    "from sklearn.model_selection import train_test_split\n"
   ]
  },
  {
   "cell_type": "code",
   "execution_count": 3,
   "metadata": {},
   "outputs": [],
   "source": [
    "DEVICE = 'cuda' if torch.cuda.is_available() else 'cpu'"
   ]
  },
  {
   "cell_type": "code",
   "execution_count": 4,
   "metadata": {},
   "outputs": [
    {
     "name": "stdout",
     "output_type": "stream",
     "text": [
      "torch v.2.4.1\n",
      "pandas v.2.0.3\n"
     ]
    }
   ],
   "source": [
    "# 활용 패키지 버전 체크 => 사용자 정의 함수로 구현하기 \n",
    "print(f'torch v.{torch.__version__}')\n",
    "print(f'pandas v.{pd.__version__}')"
   ]
  },
  {
   "cell_type": "code",
   "execution_count": 5,
   "metadata": {},
   "outputs": [
    {
     "data": {
      "text/html": [
       "<div>\n",
       "<style scoped>\n",
       "    .dataframe tbody tr th:only-of-type {\n",
       "        vertical-align: middle;\n",
       "    }\n",
       "\n",
       "    .dataframe tbody tr th {\n",
       "        vertical-align: top;\n",
       "    }\n",
       "\n",
       "    .dataframe thead th {\n",
       "        text-align: right;\n",
       "    }\n",
       "</style>\n",
       "<table border=\"1\" class=\"dataframe\">\n",
       "  <thead>\n",
       "    <tr style=\"text-align: right;\">\n",
       "      <th></th>\n",
       "      <th>sepal.length</th>\n",
       "      <th>sepal.width</th>\n",
       "      <th>petal.length</th>\n",
       "      <th>petal.width</th>\n",
       "    </tr>\n",
       "  </thead>\n",
       "  <tbody>\n",
       "    <tr>\n",
       "      <th>0</th>\n",
       "      <td>5.1</td>\n",
       "      <td>3.5</td>\n",
       "      <td>1.4</td>\n",
       "      <td>0.2</td>\n",
       "    </tr>\n",
       "    <tr>\n",
       "      <th>1</th>\n",
       "      <td>4.9</td>\n",
       "      <td>3.0</td>\n",
       "      <td>1.4</td>\n",
       "      <td>0.2</td>\n",
       "    </tr>\n",
       "    <tr>\n",
       "      <th>2</th>\n",
       "      <td>4.7</td>\n",
       "      <td>3.2</td>\n",
       "      <td>1.3</td>\n",
       "      <td>0.2</td>\n",
       "    </tr>\n",
       "    <tr>\n",
       "      <th>3</th>\n",
       "      <td>4.6</td>\n",
       "      <td>3.1</td>\n",
       "      <td>1.5</td>\n",
       "      <td>0.2</td>\n",
       "    </tr>\n",
       "    <tr>\n",
       "      <th>4</th>\n",
       "      <td>5.0</td>\n",
       "      <td>3.6</td>\n",
       "      <td>1.4</td>\n",
       "      <td>0.2</td>\n",
       "    </tr>\n",
       "  </tbody>\n",
       "</table>\n",
       "</div>"
      ],
      "text/plain": [
       "   sepal.length  sepal.width  petal.length  petal.width\n",
       "0           5.1          3.5           1.4          0.2\n",
       "1           4.9          3.0           1.4          0.2\n",
       "2           4.7          3.2           1.3          0.2\n",
       "3           4.6          3.1           1.5          0.2\n",
       "4           5.0          3.6           1.4          0.2"
      ]
     },
     "execution_count": 5,
     "metadata": {},
     "output_type": "execute_result"
    }
   ],
   "source": [
    "# 데이터 로딩 \n",
    "DATA_FILE = '../DATA/iris.csv'\n",
    "\n",
    "# csv => DF\n",
    "iris_df = pd.read_csv(DATA_FILE, usecols=[0,1,2,3])\n",
    "\n",
    "iris_df.head()"
   ]
  },
  {
   "cell_type": "markdown",
   "metadata": {},
   "source": [
    "## [2] 모델 클래스 설계 및 정의 \n",
    "- 클래스 목적 : iris 데이터를 학습 및 추론 목적 \n",
    "- 클래스 이름 : iris_reg_model\n",
    "- 부모 클래스 : nn.Module \n",
    "- 매개 변수 : 층 별 입출력 개수 고정하기 때문에 필요 x \n",
    "- 속성 / 필드 : features_df, target_df, n_rows, n_features (df만들 때 사용)\n",
    "- 기능 / 역할 \n",
    "    - _ _init_ _() : 모델 구조 생성 \n",
    "    - forward : 순방향 학습 (오버라이딩(overriding조건 : 상속관계에서만 가능))\n",
    "- 클래스 구조 \n",
    "    - 입력층 : 입력 3개(피처)        출력 10개(퍼셉트론/뉴런 10개 존재)\n",
    "    - 은닉층 : 입력 10개            출력 30개 (퍼셉트론/뉴런 30개 존재)\n",
    "    - 출력층 : 입력 30개            출력 1개 (타겟값(너비값))\n",
    "\n",
    "- 활성화 함수 \n",
    "    - 클래스 형태 ==> nn.MSELoss , nn.ReLU => _ _init_ _() 메서드 \n",
    "    - 함수 형태 => torch.nn.functional 아래에 => forward() 메서드 "
   ]
  },
  {
   "cell_type": "markdown",
   "metadata": {},
   "source": [
    "일반적으로 입력층의 퍼셉트론을 크게해서 점차적으로 줄임"
   ]
  },
  {
   "cell_type": "markdown",
   "metadata": {},
   "source": [
    "super()는 부모 부르는 것 "
   ]
  },
  {
   "cell_type": "code",
   "execution_count": 6,
   "metadata": {},
   "outputs": [],
   "source": [
    "class iris_reg_model(nn.Module):\n",
    "    \n",
    "    # 모델 구조 구성 및 인스턴스 생성 및 메서드 \n",
    "    def __init__(self):\n",
    "        super().__init__()\n",
    "\n",
    "        # 모델 구조 구성 \n",
    "        self.in_layer = nn.Linear(3,10)\n",
    "        self.hidden_layer = nn.Linear(10,30)\n",
    "        self.out_layer = nn.Linear(30,1)\n",
    "\n",
    "    # 순방향 학습 진행 메서드 \n",
    "    def forward(self, input_data):\n",
    "\n",
    "        # 입력층 \n",
    "        y = self.in_layer(input_data) # f11w11 + f12w12 + f13w13 + b, ......., f101w101 + f102w102 + f103w103 + b\n",
    "                                      # # f11w11 + f21w21 + f31w31 + b, ......., f110w110 + f210w210 + f310w310 + b (내 생각)\n",
    "        y = F.relu(y)             # relu => y 값의 범위 : 0 <= y \n",
    "\n",
    "        # 은닉층 : 10개의 숫자 값(>=0)\n",
    "        y = self.hidden_layer(y)  # f21w11 + f22w12 .... + f210w210 + b, ......., f230w201 + f230w202 ..... f230w210 + b\n",
    "        # 데이터 1개 기준\n",
    "        y = F.relu(y) \n",
    "\n",
    "        # 출력층 : 30개의 숫자 값(>=0)\n",
    "        # self.out_layer(y)         # f31w31 + ...... f330w330 + b\n",
    "        # 회귀라서 활성함수 사용 x -> 바로 return \n",
    "\n",
    "        return self.out_layer(y)\n"
   ]
  },
  {
   "cell_type": "code",
   "execution_count": 7,
   "metadata": {},
   "outputs": [
    {
     "name": "stdout",
     "output_type": "stream",
     "text": [
      "iris_reg_model(\n",
      "  (in_layer): Linear(in_features=3, out_features=10, bias=True)\n",
      "  (hidden_layer): Linear(in_features=10, out_features=30, bias=True)\n",
      "  (out_layer): Linear(in_features=30, out_features=1, bias=True)\n",
      ")\n"
     ]
    }
   ],
   "source": [
    "# 모델 인스턴스 생성 \n",
    "model = iris_reg_model()\n",
    "print(model)"
   ]
  },
  {
   "cell_type": "code",
   "execution_count": 8,
   "metadata": {},
   "outputs": [
    {
     "data": {
      "text/plain": [
       "==========================================================================================\n",
       "Layer (type:depth-idx)                   Output Shape              Param #\n",
       "==========================================================================================\n",
       "iris_reg_model                           [10, 1]                   --\n",
       "├─Linear: 1-1                            [10, 10]                  40\n",
       "├─Linear: 1-2                            [10, 30]                  330\n",
       "├─Linear: 1-3                            [10, 1]                   31\n",
       "==========================================================================================\n",
       "Total params: 401\n",
       "Trainable params: 401\n",
       "Non-trainable params: 0\n",
       "Total mult-adds (M): 0.00\n",
       "==========================================================================================\n",
       "Input size (MB): 0.00\n",
       "Forward/backward pass size (MB): 0.00\n",
       "Params size (MB): 0.00\n",
       "Estimated Total Size (MB): 0.01\n",
       "=========================================================================================="
      ]
     },
     "execution_count": 8,
     "metadata": {},
     "output_type": "execute_result"
    }
   ],
   "source": [
    "# 모델 사용 메모리 정보 확인 \n",
    "\n",
    "summary(model, input_size=(10,3)) # 뒤에는 피쳐 수 , 아이리스 데이터 10개 줌 "
   ]
  },
  {
   "cell_type": "markdown",
   "metadata": {},
   "source": [
    "## [3] 데이터셋 클래스 설계 및 정의\n",
    "- 데이터셋 : iris.csv \n",
    "- 피쳐 개수 : 3개 \n",
    "- 타겟 개수 : 1개 \n",
    "- 클래스 이름 : iris_data_set\n",
    "- 부모 클래스 : utils.data.Dataset \n",
    "- 속성 / 필드 : feature_df, target_df \n",
    "- 필수 메서드 \n",
    "    - _ _init_ _(self) : 데이터셋 저장 및 전처리, 개발자가 필요한 속성 설정 \n",
    "    - _ _len_ _(self) : 데이터의 개수 반환 \n",
    "    - _ _ getItem_ _(self, index) : 특정 인덱스의 피쳐와 타겟 반환 "
   ]
  },
  {
   "cell_type": "code",
   "execution_count": 9,
   "metadata": {},
   "outputs": [],
   "source": [
    "class iris_data_set(Dataset):\n",
    "    def __init__(self, feature_df, target_df):\n",
    "        self.feature_df = feature_df\n",
    "        self.target_df = target_df\n",
    "        self.n_rows = feature_df.shape[0]\n",
    "        self.n_features = feature_df.shape[1]\n",
    "\n",
    "    def __len__(self):\n",
    "        return self.n_rows\n",
    "\n",
    "    def __getitem__(self,index):\n",
    "        \n",
    "        # 텐서화 \n",
    "        feature_ts = torch.FloatTensor(self.feature_df.iloc[index].values) # 시리즈라서 values() 사용해서 numpy -> tensor \n",
    "        target_ts = torch.FloatTensor(self.target_df.iloc[index].values)\n",
    "                \n",
    "        # 피쳐와 타겟 반환 \n",
    "        return feature_ts, target_ts"
   ]
  },
  {
   "cell_type": "code",
   "execution_count": 10,
   "metadata": {},
   "outputs": [
    {
     "data": {
      "text/plain": [
       "((150, 3), (150, 1))"
      ]
     },
     "execution_count": 10,
     "metadata": {},
     "output_type": "execute_result"
    }
   ],
   "source": [
    "# 데이터셋 인스턴스 생성 \n",
    "\n",
    "feature_df = iris_df[iris_df.columns[:-1]] # 회귀에서 같은 차원으로 해야 하므로 2D \n",
    "target_df = iris_df[iris_df.columns[-1:]]  # 2D \n",
    "\n",
    "feature_df.shape, target_df.shape\n"
   ]
  },
  {
   "cell_type": "code",
   "execution_count": 11,
   "metadata": {},
   "outputs": [],
   "source": [
    "# 커스텀 데이터셋 인스턴스 생성 \n",
    "iris_ds = iris_data_set(feature_df, target_df)"
   ]
  },
  {
   "cell_type": "markdown",
   "metadata": {},
   "source": [
    "## [4] 학습 준비 \n",
    "- 학습 횟수 : EPOCH (처음부터 끝까지 학습할 단위)\n",
    "- 배치 크기 : BATCH_SIZE (한 번에 학습할 데이터셋 양)\n",
    "- 위치 지정 : DEVICE (텐서 저장 및 실행 위치 (GPU, CPU))\n",
    "- 학습률 : 가중치와 절편 업데이트 시 경사하강법으로 업데이트 간격 설정 0.001 ~ 0."
   ]
  },
  {
   "cell_type": "code",
   "execution_count": 12,
   "metadata": {},
   "outputs": [
    {
     "name": "stdout",
     "output_type": "stream",
     "text": [
      "BATCH_CNT : 15\n"
     ]
    }
   ],
   "source": [
    "# 학습 진행 관련 설정 \n",
    "EPOCH = 1 \n",
    "BATCH_SIZE = 10 \n",
    "BATCH_CNT = iris_df.shape[0] // BATCH_SIZE\n",
    "DEVICE = 'cuda' if torch.cuda.is_available() else 'cpu'\n",
    "LR = 0.001 # hyper-parameter : 업데이트 간격  \n",
    "\n",
    "print(f'BATCH_CNT : {BATCH_CNT}')"
   ]
  },
  {
   "cell_type": "markdown",
   "metadata": {},
   "source": [
    "- 인스턴스 / 객체 : 모델, 데이터셋, 최적화, 손실함수 ,(성능지표)  "
   ]
  },
  {
   "cell_type": "code",
   "execution_count": 13,
   "metadata": {},
   "outputs": [],
   "source": [
    "# 모델 인스턴스 \n",
    "model = iris_reg_model()\n",
    "\n",
    "# 데이터셋 인스턴스 \n",
    "iris_ds = iris_data_set(feature_df, target_df)\n",
    "\n",
    "# 데이터로더 인스턴스 \n",
    "iris_dl = DataLoader(iris_ds, batch_size=BATCH_SIZE)\n"
   ]
  },
  {
   "cell_type": "code",
   "execution_count": 14,
   "metadata": {},
   "outputs": [
    {
     "name": "stdout",
     "output_type": "stream",
     "text": [
      "(84, 3) (38, 3) (28, 3)\n",
      "(84, 1) (38, 1) (28, 1)\n",
      "<class 'pandas.core.frame.DataFrame'> <class 'pandas.core.frame.DataFrame'> <class 'pandas.core.frame.DataFrame'>\n"
     ]
    }
   ],
   "source": [
    "# 모델 인스턴스 \n",
    "model = iris_reg_model()\n",
    "\n",
    "# 데이터셋 인스턴스 \n",
    "x_train, x_test, y_train, y_test = train_test_split(feature_df, target_df, random_state = 1)\n",
    "x_train, x_val, y_train, y_val = train_test_split(x_train, y_train, random_state = 1)\n",
    "print(f'{x_train.shape} {x_test.shape} {x_val.shape}')\n",
    "print(f'{y_train.shape} {y_test.shape} {y_val.shape}')\n",
    "print(f'{type(x_train)} {type(x_test)} {type(x_val)}')\n",
    "# iris_ds = iris_data_set(x_train, y_train)\n",
    "\n",
    "train_ds = iris_data_set(x_train, y_train)\n",
    "val_ds = iris_data_set(x_val, y_val)\n",
    "test_ds = iris_data_set(x_test, y_test)\n",
    "\n",
    "# 데이터로더 인스턴스 \n",
    "# iris_dl = DataLoader(iris_ds, batch_size=BATCH_SIZE)\n",
    "train_dl = DataLoader(train_ds, batch_size=BATCH_SIZE)\n"
   ]
  },
  {
   "cell_type": "code",
   "execution_count": 15,
   "metadata": {},
   "outputs": [
    {
     "name": "stdout",
     "output_type": "stream",
     "text": [
      "torch.Size([3]) torch.Size([1])\n",
      "torch.Size([3]) torch.Size([1])\n",
      "torch.Size([3]) torch.Size([1])\n",
      "torch.Size([3]) torch.Size([1])\n",
      "torch.Size([3]) torch.Size([1])\n",
      "torch.Size([3]) torch.Size([1])\n",
      "torch.Size([3]) torch.Size([1])\n",
      "torch.Size([3]) torch.Size([1])\n",
      "torch.Size([3]) torch.Size([1])\n",
      "torch.Size([3]) torch.Size([1])\n",
      "torch.Size([3]) torch.Size([1])\n",
      "torch.Size([3]) torch.Size([1])\n",
      "torch.Size([3]) torch.Size([1])\n",
      "torch.Size([3]) torch.Size([1])\n",
      "torch.Size([3]) torch.Size([1])\n",
      "torch.Size([3]) torch.Size([1])\n",
      "torch.Size([3]) torch.Size([1])\n",
      "torch.Size([3]) torch.Size([1])\n",
      "torch.Size([3]) torch.Size([1])\n",
      "torch.Size([3]) torch.Size([1])\n",
      "torch.Size([3]) torch.Size([1])\n",
      "torch.Size([3]) torch.Size([1])\n",
      "torch.Size([3]) torch.Size([1])\n",
      "torch.Size([3]) torch.Size([1])\n",
      "torch.Size([3]) torch.Size([1])\n",
      "torch.Size([3]) torch.Size([1])\n",
      "torch.Size([3]) torch.Size([1])\n",
      "torch.Size([3]) torch.Size([1])\n",
      "torch.Size([3]) torch.Size([1])\n",
      "torch.Size([3]) torch.Size([1])\n",
      "torch.Size([3]) torch.Size([1])\n",
      "torch.Size([3]) torch.Size([1])\n",
      "torch.Size([3]) torch.Size([1])\n",
      "torch.Size([3]) torch.Size([1])\n",
      "torch.Size([3]) torch.Size([1])\n",
      "torch.Size([3]) torch.Size([1])\n",
      "torch.Size([3]) torch.Size([1])\n",
      "torch.Size([3]) torch.Size([1])\n",
      "torch.Size([3]) torch.Size([1])\n",
      "torch.Size([3]) torch.Size([1])\n",
      "torch.Size([3]) torch.Size([1])\n",
      "torch.Size([3]) torch.Size([1])\n",
      "torch.Size([3]) torch.Size([1])\n",
      "torch.Size([3]) torch.Size([1])\n",
      "torch.Size([3]) torch.Size([1])\n",
      "torch.Size([3]) torch.Size([1])\n",
      "torch.Size([3]) torch.Size([1])\n",
      "torch.Size([3]) torch.Size([1])\n",
      "torch.Size([3]) torch.Size([1])\n",
      "torch.Size([3]) torch.Size([1])\n",
      "torch.Size([3]) torch.Size([1])\n",
      "torch.Size([3]) torch.Size([1])\n",
      "torch.Size([3]) torch.Size([1])\n",
      "torch.Size([3]) torch.Size([1])\n",
      "torch.Size([3]) torch.Size([1])\n",
      "torch.Size([3]) torch.Size([1])\n",
      "torch.Size([3]) torch.Size([1])\n",
      "torch.Size([3]) torch.Size([1])\n",
      "torch.Size([3]) torch.Size([1])\n",
      "torch.Size([3]) torch.Size([1])\n",
      "torch.Size([3]) torch.Size([1])\n",
      "torch.Size([3]) torch.Size([1])\n",
      "torch.Size([3]) torch.Size([1])\n",
      "torch.Size([3]) torch.Size([1])\n",
      "torch.Size([3]) torch.Size([1])\n",
      "torch.Size([3]) torch.Size([1])\n",
      "torch.Size([3]) torch.Size([1])\n",
      "torch.Size([3]) torch.Size([1])\n",
      "torch.Size([3]) torch.Size([1])\n",
      "torch.Size([3]) torch.Size([1])\n",
      "torch.Size([3]) torch.Size([1])\n",
      "torch.Size([3]) torch.Size([1])\n",
      "torch.Size([3]) torch.Size([1])\n",
      "torch.Size([3]) torch.Size([1])\n",
      "torch.Size([3]) torch.Size([1])\n",
      "torch.Size([3]) torch.Size([1])\n",
      "torch.Size([3]) torch.Size([1])\n",
      "torch.Size([3]) torch.Size([1])\n",
      "torch.Size([3]) torch.Size([1])\n",
      "torch.Size([3]) torch.Size([1])\n",
      "torch.Size([3]) torch.Size([1])\n",
      "torch.Size([3]) torch.Size([1])\n",
      "torch.Size([3]) torch.Size([1])\n",
      "torch.Size([3]) torch.Size([1])\n",
      "torch.Size([3]) torch.Size([1])\n",
      "torch.Size([3]) torch.Size([1])\n",
      "torch.Size([3]) torch.Size([1])\n",
      "torch.Size([3]) torch.Size([1])\n",
      "torch.Size([3]) torch.Size([1])\n",
      "torch.Size([3]) torch.Size([1])\n",
      "torch.Size([3]) torch.Size([1])\n",
      "torch.Size([3]) torch.Size([1])\n",
      "torch.Size([3]) torch.Size([1])\n",
      "torch.Size([3]) torch.Size([1])\n",
      "torch.Size([3]) torch.Size([1])\n",
      "torch.Size([3]) torch.Size([1])\n",
      "torch.Size([3]) torch.Size([1])\n",
      "torch.Size([3]) torch.Size([1])\n",
      "torch.Size([3]) torch.Size([1])\n",
      "torch.Size([3]) torch.Size([1])\n",
      "torch.Size([3]) torch.Size([1])\n",
      "torch.Size([3]) torch.Size([1])\n",
      "torch.Size([3]) torch.Size([1])\n",
      "torch.Size([3]) torch.Size([1])\n",
      "torch.Size([3]) torch.Size([1])\n",
      "torch.Size([3]) torch.Size([1])\n",
      "torch.Size([3]) torch.Size([1])\n",
      "torch.Size([3]) torch.Size([1])\n",
      "torch.Size([3]) torch.Size([1])\n",
      "torch.Size([3]) torch.Size([1])\n",
      "torch.Size([3]) torch.Size([1])\n",
      "torch.Size([3]) torch.Size([1])\n",
      "torch.Size([3]) torch.Size([1])\n",
      "torch.Size([3]) torch.Size([1])\n",
      "torch.Size([3]) torch.Size([1])\n",
      "torch.Size([3]) torch.Size([1])\n",
      "torch.Size([3]) torch.Size([1])\n",
      "torch.Size([3]) torch.Size([1])\n",
      "torch.Size([3]) torch.Size([1])\n",
      "torch.Size([3]) torch.Size([1])\n",
      "torch.Size([3]) torch.Size([1])\n",
      "torch.Size([3]) torch.Size([1])\n",
      "torch.Size([3]) torch.Size([1])\n",
      "torch.Size([3]) torch.Size([1])\n",
      "torch.Size([3]) torch.Size([1])\n",
      "torch.Size([3]) torch.Size([1])\n",
      "torch.Size([3]) torch.Size([1])\n",
      "torch.Size([3]) torch.Size([1])\n",
      "torch.Size([3]) torch.Size([1])\n",
      "torch.Size([3]) torch.Size([1])\n",
      "torch.Size([3]) torch.Size([1])\n",
      "torch.Size([3]) torch.Size([1])\n",
      "torch.Size([3]) torch.Size([1])\n",
      "torch.Size([3]) torch.Size([1])\n",
      "torch.Size([3]) torch.Size([1])\n",
      "torch.Size([3]) torch.Size([1])\n",
      "torch.Size([3]) torch.Size([1])\n",
      "torch.Size([3]) torch.Size([1])\n",
      "torch.Size([3]) torch.Size([1])\n",
      "torch.Size([3]) torch.Size([1])\n",
      "torch.Size([3]) torch.Size([1])\n",
      "torch.Size([3]) torch.Size([1])\n",
      "torch.Size([3]) torch.Size([1])\n",
      "torch.Size([3]) torch.Size([1])\n",
      "torch.Size([3]) torch.Size([1])\n",
      "torch.Size([3]) torch.Size([1])\n",
      "torch.Size([3]) torch.Size([1])\n",
      "torch.Size([3]) torch.Size([1])\n",
      "torch.Size([3]) torch.Size([1])\n",
      "torch.Size([3]) torch.Size([1])\n"
     ]
    }
   ],
   "source": [
    "## [테스트] 데이터 로더 \n",
    "\n",
    "for feature, target in iris_ds:\n",
    "    print(feature.shape, target.shape)\n",
    "    "
   ]
  },
  {
   "cell_type": "code",
   "execution_count": 16,
   "metadata": {},
   "outputs": [],
   "source": [
    "# 최적화 인스턴스 => w, b 텐서 즉, model.parameters() 전달 \n",
    "optimizer = optim.Adam(model.parameters(), lr=LR)\n",
    "\n",
    "# 손실함수 인스턴스 => 회귀, MSE, MAE, RMSE\n",
    "req_loss = nn.MSELoss()"
   ]
  },
  {
   "cell_type": "markdown",
   "metadata": {},
   "source": [
    "## [5] 학습 진행 "
   ]
  },
  {
   "cell_type": "code",
   "execution_count": 17,
   "metadata": {},
   "outputs": [
    {
     "name": "stdout",
     "output_type": "stream",
     "text": [
      "CNT : 15.0\n"
     ]
    }
   ],
   "source": [
    "## 학습의 효과 확인 손실값과 성능평가값 저장 필요 \n",
    "LOSS_HISTORY, SCORE_HISTORY = [],[]\n",
    "CNT = iris_ds.n_rows/BATCH_SIZE\n",
    "print(f'CNT : {CNT}')\n",
    "\n",
    "for epoch in range(EPOCH):\n",
    "\n",
    "    # 학습 모드로 모델 설정 \n",
    "    model.train()\n",
    "\n",
    "    # 배치 크기 만큼 데이터 로딩해서 학습 진행 \n",
    "    loss_total, score_total = 0,0\n",
    "    for feature_ts, target_ts in iris_dl: # iris_dl -> train_dl \n",
    "\n",
    "        # 학습 진행 \n",
    "        pre_y = model(feature_ts)\n",
    "\n",
    "        # 손실 계산 \n",
    "        loss = req_loss(pre_y, target_ts)\n",
    "        loss_total += loss.item() # tensor 라서 item으로 값 넣어야 함 \n",
    "\n",
    "        # 성능 평가 계산 \n",
    "        score = R2Score()(pre_y, target_ts) \n",
    "        score_total += score.item() # tensor 라서 item으로 값 넣어야 함 \n",
    "\n",
    "        # 최적화 진행 \n",
    "        optimizer.zero_grad()       \n",
    "        loss.backward()\n",
    "        optimizer.step()\n",
    "\n",
    " \n",
    "    # for문 다 돌면 1 epoch 종료 \n",
    "    # 손실값과 성능평가값 저장 \n",
    "    LOSS_HISTORY.append(loss_total/BATCH_CNT)\n",
    "    SCORE_HISTORY.append(score_total/BATCH_CNT)"
   ]
  },
  {
   "cell_type": "markdown",
   "metadata": {},
   "source": [
    "training, 검증, test 용 loader를 따로 만들어서 쪼개서 돌려야 함 \n",
    "- 데이터가 적어서 한 번에 다 돌려도 되면 따로 안 만들어도 ㅇ "
   ]
  },
  {
   "cell_type": "markdown",
   "metadata": {},
   "source": [
    "-------------------\n",
    "+) 모니터링 추가\n"
   ]
  },
  {
   "cell_type": "code",
   "execution_count": 18,
   "metadata": {},
   "outputs": [
    {
     "name": "stdout",
     "output_type": "stream",
     "text": [
      "CNT : 15.0\n"
     ]
    }
   ],
   "source": [
    "## 학습의 효과 확인 손실값과 성능평가값 저장 필요 \n",
    "LOSS_HISTORY, SCORE_HISTORY = [[],[]],[[],[]]\n",
    "CNT = iris_ds.n_rows/BATCH_SIZE\n",
    "print(f'CNT : {CNT}')\n",
    "\n",
    "# =================================================================================================================\n",
    "# 학습 모니터링/스케줄링 설정 \n",
    "# => LOSS_HISTORY, SCORE_HISTORY 활용 \n",
    "# => 임계 기준 : 10번 \n",
    "BREAK_CNT = 0\n",
    "LIMIT_VALUE = 10 # 멈추는 기준 \n",
    "# =================================================================================================================\n",
    "\n",
    "\n",
    "for epoch in range(EPOCH):\n",
    "\n",
    "    # 학습 모드로 모델 설정 \n",
    "    model.train()\n",
    "\n",
    "    # 배치 크기 만큼 데이터 로딩해서 학습 진행 \n",
    "    loss_total, score_total = 0,0\n",
    "    for feature_ts, target_ts in train_dl: # iris_dl -> train_dl \n",
    "\n",
    "        # 학습 진행 \n",
    "        pre_y = model(feature_ts)\n",
    "\n",
    "        # 손실 계산 \n",
    "        loss = req_loss(pre_y, target_ts)\n",
    "        loss_total += loss.item() # tensor 라서 item으로 값 넣어야 함 \n",
    "\n",
    "        # 성능 평가 계산 \n",
    "        score = R2Score()(pre_y, target_ts) \n",
    "        score_total += score.item() # tensor 라서 item으로 값 넣어야 함 \n",
    "\n",
    "        # 최적화 진행 \n",
    "        optimizer.zero_grad()       \n",
    "        loss.backward()\n",
    "        optimizer.step()\n",
    "\n",
    "    # 에포크 당 검증기능 \n",
    "    # 모델 검증 모드 설정 \n",
    "    model.eval()\n",
    "    # 검증한 결과를 저장해야 함 \n",
    "\n",
    "    with torch.no_grad():\n",
    "        # 검증 데이터셋 \n",
    "        val_feature_ts = torch.FloatTensor(val_ds.feature_df.values) # values쓰면 array 됨 -> torch사용 -> torch됨 \n",
    "        val_target_ts = torch.FloatTensor(val_ds.target_df.values)\n",
    "\n",
    "        # 평가 \n",
    "        pre_val =model(val_feature_ts)\n",
    "        \n",
    "        # 손실 \n",
    "        loss_val = req_loss(pre_val, val_target_ts)\n",
    "\n",
    "        # 성능 평가 \n",
    "        score_val = R2Score()(pre_val, val_target_ts)\n",
    "\n",
    "\n",
    "    # for문 다 돌면 1 epoch 종료 \n",
    "    # 손실값과 성능평가값 저장 \n",
    "    LOSS_HISTORY[0].append(loss_total/BATCH_CNT)\n",
    "    SCORE_HISTORY[0].append(score_total/BATCH_CNT)\n",
    "\n",
    "    LOSS_HISTORY[1].append(loss_val)\n",
    "    SCORE_HISTORY[1].append(score_val)\n",
    "\n",
    "    # =================================================================================================================\n",
    "\n",
    "    # 학습 진행 모니터링/스케줄링 - 검증 DS 기준 \n",
    "    # 아래 중 둘 중 하나만 하면 됨 - 두개 다 하면 cnt만 올라감 \n",
    "\n",
    "    # validation loss \n",
    "    if len(LOSS_HISTORY[1]) >= 2:\n",
    "        if LOSS_HISTORY[1][-1] >= LOSS_HISTORY[1][-2] : BREAK_CNT +=1 # LOSS_HISTORY[1][-1]  < LOSS_HISTORY[1][-2]이 정상 \n",
    "\n",
    "    # # validation score   \n",
    "    # if len(SCORE_HISTORY[1]) >= 2: \n",
    "    #     if SCORE_HISTORY[1][-1] <= SCORE_HISTORY[1][-2] : BREAK_CNT +=1 \n",
    "    \n",
    "\n",
    "    # 학습 중단 여부 설정 \n",
    "    # if BREAK_CNT >= 9:  # BREAK_CNT가 0부터 시작하면 >= 9, 1부터 시작하면 >10\n",
    "    #     print('성능 및 손실 개선이 없어서 학습 중단')\n",
    "    #     break\n",
    "\n",
    "    if BREAK_CNT > LIMIT_VALUE:  # LIMIT_VALUE 변수 사용 \n",
    "        print(f'성능 및 손실 개선이 없어서 {epoch} EPOCH에 학습 중단')\n",
    "        break"
   ]
  },
  {
   "cell_type": "code",
   "execution_count": 19,
   "metadata": {},
   "outputs": [
    {
     "name": "stdout",
     "output_type": "stream",
     "text": [
      "LOSS_HISTORY =>  [[0.694806981086731], [tensor(0.8775)]]\n",
      "SCORE_HISTORY =>  [[-0.8914855082829793], [tensor(-0.3594)]]\n"
     ]
    }
   ],
   "source": [
    "print(f'LOSS_HISTORY => ', LOSS_HISTORY )\n",
    "print(f'SCORE_HISTORY => ', SCORE_HISTORY)"
   ]
  },
  {
   "cell_type": "markdown",
   "metadata": {},
   "source": [
    "### 모델 저장 방법 \n",
    "---\n",
    "- 방법 1 : 모델 파라미터만 저장 \n",
    "- 방법 2 : 모델 설계 구조 및 파라미터까지 모두 저장"
   ]
  },
  {
   "cell_type": "code",
   "execution_count": 20,
   "metadata": {},
   "outputs": [
    {
     "data": {
      "text/plain": [
       "OrderedDict([('in_layer.weight',\n",
       "              tensor([[-0.1813, -0.5217, -0.4554],\n",
       "                      [-0.3328, -0.3816,  0.0451],\n",
       "                      [ 0.3712, -0.3282, -0.5295],\n",
       "                      [ 0.2680,  0.0687,  0.3734],\n",
       "                      [-0.0914,  0.2804, -0.2961],\n",
       "                      [-0.5524, -0.4364, -0.4047],\n",
       "                      [-0.5280, -0.5207,  0.4484],\n",
       "                      [ 0.0499,  0.3983,  0.0096],\n",
       "                      [-0.1321, -0.4481, -0.4594],\n",
       "                      [-0.0865, -0.4455, -0.5148]])),\n",
       "             ('in_layer.bias',\n",
       "              tensor([-0.3487,  0.5103,  0.2843, -0.4246, -0.0519, -0.5347,  0.1621,  0.3103,\n",
       "                       0.2309,  0.4810])),\n",
       "             ('hidden_layer.weight',\n",
       "              tensor([[-0.2756,  0.0566,  0.2113,  0.1083, -0.0922,  0.2186,  0.0227,  0.0449,\n",
       "                       -0.0212,  0.0526],\n",
       "                      [-0.0909, -0.0502,  0.2735, -0.0126,  0.2375,  0.0508,  0.1470,  0.1482,\n",
       "                       -0.1786,  0.1297],\n",
       "                      [-0.1113, -0.1643, -0.1246, -0.2341,  0.2228, -0.0304,  0.0747, -0.0522,\n",
       "                       -0.1553, -0.1788],\n",
       "                      [-0.0616, -0.0087, -0.1911,  0.1423,  0.3091,  0.1487,  0.2114,  0.0621,\n",
       "                       -0.1199,  0.1229],\n",
       "                      [ 0.1048,  0.2034,  0.0077,  0.0976, -0.0490,  0.1135,  0.1299, -0.2882,\n",
       "                       -0.1708,  0.2302],\n",
       "                      [ 0.2367,  0.1658, -0.0378, -0.0354,  0.0624,  0.0583,  0.1896, -0.1970,\n",
       "                        0.1848, -0.1092],\n",
       "                      [-0.1476, -0.1147, -0.1934, -0.2714,  0.2072, -0.0866,  0.0662, -0.0788,\n",
       "                        0.1750,  0.0743],\n",
       "                      [ 0.2902, -0.0575, -0.0999,  0.2089,  0.2413, -0.1933,  0.1700,  0.1651,\n",
       "                        0.2254, -0.1229],\n",
       "                      [-0.1039, -0.0865, -0.1532, -0.1147, -0.1804, -0.2696, -0.2626, -0.0572,\n",
       "                       -0.1400, -0.2357],\n",
       "                      [ 0.0006, -0.1588,  0.0567,  0.1853, -0.2638,  0.2606,  0.2400, -0.1138,\n",
       "                        0.2447,  0.1869],\n",
       "                      [ 0.2177, -0.0846,  0.1058,  0.1601,  0.2353,  0.1550,  0.1919,  0.2153,\n",
       "                        0.0374, -0.1973],\n",
       "                      [-0.1936,  0.0020,  0.1180,  0.1070,  0.2096, -0.2955, -0.1047,  0.0769,\n",
       "                        0.0240, -0.0559],\n",
       "                      [-0.0444, -0.0054,  0.3144,  0.2264,  0.2678, -0.2038, -0.0251, -0.1910,\n",
       "                       -0.2749, -0.0660],\n",
       "                      [-0.0847,  0.2540, -0.1950, -0.0454,  0.0095,  0.2323, -0.1910, -0.0872,\n",
       "                       -0.1033, -0.0949],\n",
       "                      [ 0.0586,  0.2740, -0.2146, -0.2021,  0.0882,  0.3019, -0.2848,  0.2271,\n",
       "                       -0.0027, -0.2288],\n",
       "                      [ 0.0931,  0.0112,  0.2181,  0.0276, -0.1791, -0.2352,  0.1373, -0.0080,\n",
       "                        0.0916,  0.2894],\n",
       "                      [ 0.0520,  0.0028, -0.1934, -0.0851, -0.3037,  0.1608, -0.2691,  0.1494,\n",
       "                       -0.0894,  0.1672],\n",
       "                      [-0.0994, -0.1925,  0.2967, -0.3133,  0.1411,  0.0101, -0.1403, -0.2887,\n",
       "                       -0.3016,  0.0099],\n",
       "                      [ 0.1918,  0.0921, -0.0671, -0.1080,  0.2043, -0.1655,  0.2068,  0.2528,\n",
       "                        0.2152, -0.2632],\n",
       "                      [-0.1257,  0.2270, -0.1943,  0.2734, -0.2542,  0.0138, -0.2119,  0.0307,\n",
       "                        0.0993,  0.2365],\n",
       "                      [ 0.0357, -0.3142, -0.2014,  0.2238,  0.1399,  0.1866,  0.1127, -0.2819,\n",
       "                        0.0171, -0.2696],\n",
       "                      [-0.0676,  0.0478,  0.1545,  0.0473, -0.2261, -0.2391,  0.1750,  0.1524,\n",
       "                       -0.1529, -0.1624],\n",
       "                      [-0.1245, -0.2858, -0.1783, -0.1906, -0.2734,  0.0829, -0.2277, -0.1162,\n",
       "                        0.1199, -0.1821],\n",
       "                      [ 0.1164, -0.2561,  0.2528, -0.1185, -0.2833,  0.0155, -0.0883,  0.2434,\n",
       "                       -0.1647, -0.0610],\n",
       "                      [ 0.2021,  0.2610,  0.0385,  0.1597, -0.2200, -0.1211,  0.2788,  0.2110,\n",
       "                       -0.2519, -0.1013],\n",
       "                      [-0.0969,  0.0653,  0.0675,  0.2446, -0.0609, -0.1846, -0.0584,  0.0034,\n",
       "                       -0.0713, -0.1842],\n",
       "                      [ 0.2209, -0.1686, -0.1103, -0.0166,  0.1516,  0.0688, -0.2869,  0.2234,\n",
       "                       -0.2983,  0.0280],\n",
       "                      [-0.1265, -0.0251, -0.2481,  0.1367,  0.3140,  0.0445, -0.1292, -0.1853,\n",
       "                        0.2954,  0.2299],\n",
       "                      [-0.1709,  0.0168, -0.0877, -0.1143,  0.0100,  0.1978, -0.1111,  0.2164,\n",
       "                        0.1964, -0.2050],\n",
       "                      [-0.0710,  0.2236,  0.1694, -0.0109,  0.0796, -0.2566, -0.2906, -0.2008,\n",
       "                        0.0587, -0.1021]])),\n",
       "             ('hidden_layer.bias',\n",
       "              tensor([ 0.0470,  0.1187,  0.0555, -0.2772, -0.1050,  0.1217, -0.1488,  0.0415,\n",
       "                      -0.0868,  0.2709, -0.2007,  0.0367, -0.0577, -0.2576,  0.1920, -0.1071,\n",
       "                      -0.0371,  0.1688,  0.1790,  0.3112, -0.1708,  0.2951, -0.0424,  0.2016,\n",
       "                       0.1748, -0.0348, -0.2298, -0.0734, -0.3030, -0.0493])),\n",
       "             ('out_layer.weight',\n",
       "              tensor([[-0.0490, -0.0361, -0.1547, -0.0205,  0.0429, -0.0352, -0.1736,  0.0108,\n",
       "                       -0.0943,  0.1186,  0.2009,  0.0314,  0.1820, -0.0248, -0.1097, -0.0142,\n",
       "                        0.1059, -0.0008,  0.1156,  0.0581,  0.0402,  0.0158, -0.1203,  0.0325,\n",
       "                       -0.0691,  0.0045,  0.1526,  0.0396,  0.1528,  0.0356]])),\n",
       "             ('out_layer.bias', tensor([0.1998]))])"
      ]
     },
     "execution_count": 20,
     "metadata": {},
     "output_type": "execute_result"
    }
   ],
   "source": [
    "# 학습된 모델 파라미터 값 확인 \n",
    "model.state_dict() "
   ]
  },
  {
   "cell_type": "markdown",
   "metadata": {},
   "source": [
    "- [방법 1] 모델 파라미터 즉, 층별 가중치와 절편들"
   ]
  },
  {
   "cell_type": "code",
   "execution_count": 26,
   "metadata": {},
   "outputs": [],
   "source": [
    "# models 폴더 아래 프로젝트 폴더 아래 모델 파일 저장 \n",
    "import os \n",
    "\n",
    "# 저장 경로 \n",
    "SAVE_PATH = '../MODELS/iris/'  \n",
    "\n",
    "# 저장 파일명 \n",
    "SAVE_FILE = 'model_train_wbs.pth' # pth : 모델 확장자 저장하는 것 \n"
   ]
  },
  {
   "cell_type": "code",
   "execution_count": 28,
   "metadata": {},
   "outputs": [],
   "source": [
    "# 경로상 폴더 존재 여부 체크 \n",
    "if not os.path.exists(SAVE_PATH):\n",
    "    os.makedirs(SAVE_PATH)   # 폴더 / 폴더 / ... 하위 폴더까지 생성 "
   ]
  },
  {
   "cell_type": "code",
   "execution_count": 29,
   "metadata": {},
   "outputs": [],
   "source": [
    "# 모델 저장 \n",
    "torch.save(model.state_dict(), SAVE_PATH + SAVE_FILE)"
   ]
  },
  {
   "cell_type": "code",
   "execution_count": 32,
   "metadata": {},
   "outputs": [
    {
     "name": "stdout",
     "output_type": "stream",
     "text": [
      "<class 'collections.OrderedDict'>\n"
     ]
    }
   ],
   "source": [
    "# 모델 즉, 가중치와 절편 로딩 \n",
    "# [1] 가중치와 절편 객체로 로딩 \n",
    "# [2] 모델의 state_dict 속성에 저장 \n",
    "\n",
    "# 읽기 \n",
    "wb_ts = torch.load(SAVE_PATH + SAVE_FILE,weights_only=True)\n",
    "print(type(wb_ts))"
   ]
  },
  {
   "cell_type": "code",
   "execution_count": 33,
   "metadata": {},
   "outputs": [
    {
     "data": {
      "text/plain": [
       "<All keys matched successfully>"
      ]
     },
     "execution_count": 33,
     "metadata": {},
     "output_type": "execute_result"
    }
   ],
   "source": [
    "# 모델 인스턴스에 저장 \n",
    "model2 = iris_reg_model()        # 층마다 w,b 초기화 - 처음부터 다시 돌려야 함 \n",
    "model2.load_state_dict(wb_ts) \n",
    "\n",
    "# 기존에 했던 것 까지는 저장됨 "
   ]
  },
  {
   "cell_type": "code",
   "execution_count": 34,
   "metadata": {},
   "outputs": [
    {
     "name": "stdout",
     "output_type": "stream",
     "text": [
      "iris_reg_model(\n",
      "  (in_layer): Linear(in_features=3, out_features=10, bias=True)\n",
      "  (hidden_layer): Linear(in_features=10, out_features=30, bias=True)\n",
      "  (out_layer): Linear(in_features=30, out_features=1, bias=True)\n",
      ")\n"
     ]
    }
   ],
   "source": [
    "print(model2) # 모델 층, 퍼셉트론 수 동일해야 함  "
   ]
  },
  {
   "cell_type": "code",
   "execution_count": null,
   "metadata": {},
   "outputs": [],
   "source": []
  }
 ],
 "metadata": {
  "kernelspec": {
   "display_name": "TORCH_38",
   "language": "python",
   "name": "python3"
  },
  "language_info": {
   "codemirror_mode": {
    "name": "ipython",
    "version": 3
   },
   "file_extension": ".py",
   "mimetype": "text/x-python",
   "name": "python",
   "nbconvert_exporter": "python",
   "pygments_lexer": "ipython3",
   "version": "3.8.19"
  }
 },
 "nbformat": 4,
 "nbformat_minor": 2
}
