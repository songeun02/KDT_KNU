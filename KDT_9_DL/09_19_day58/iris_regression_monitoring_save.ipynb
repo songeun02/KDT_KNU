{
 "cells": [
  {
   "cell_type": "markdown",
   "metadata": {},
   "source": [
    "# DNN 기반 회귀 모델 구현 + 학습 진행 모니터링 + 진행 파라미터 저장\n",
    "- 데이터셋 : iris.csv\n",
    "- 피쳐 : 3개 sepal_length, sepal_width, petal_length\n",
    "- 타겟/라벨 : 1개 (petal_width)\n",
    "- 학습 방법 : 지도학습 - 회귀 \n",
    "- 알고리즘 : 인공신경망(ANN) -> MLP(Multi Layer Perceptron), DNN ( ) : 은닉층이 많은 구성 \n",
    "- 프레임 워크 : Pytorch\n",
    "\n",
    "============================================================================================\n",
    "- 모니터링 \n",
    "    - 기준 : 검증 데이터셋의 loss 또는  score\n",
    "    - 평가 : 학습 데이터셋의 loss 또는 score와 비교해서 학습 중단여부 결정 \n",
    "    - 저장 : 현재까지 진행된 모델의 파라미터(가중치, 절편) 저장 여부 또는 모델 전체 저장 "
   ]
  },
  {
   "cell_type": "markdown",
   "metadata": {},
   "source": [
    "## [1] 모듈 로딩 및 데이터 준비\n",
    "---"
   ]
  },
  {
   "cell_type": "code",
   "execution_count": 52,
   "metadata": {},
   "outputs": [],
   "source": [
    "# 모델 \n",
    "import torch\n",
    "import torch.nn as nn\n",
    "import torch.nn.functional as F\n",
    "from torch.utils.data import Dataset, DataLoader\n",
    "import torch.optim as optim\n",
    "\n",
    "# 성능지표 \n",
    "from torchmetrics.regression import R2Score, MeanSquaredError\n",
    "from torchinfo import summary\n",
    "\n",
    "# 데이터 처리 및 시각화  \n",
    "import pandas as pd \n",
    "import matplotlib.pyplot as plt \n",
    "from sklearn.preprocessing import * \n",
    "\n",
    "from sklearn.model_selection import train_test_split\n"
   ]
  },
  {
   "cell_type": "code",
   "execution_count": 53,
   "metadata": {},
   "outputs": [],
   "source": [
    "DEVICE = 'cuda' if torch.cuda.is_available() else 'cpu'"
   ]
  },
  {
   "cell_type": "code",
   "execution_count": 54,
   "metadata": {},
   "outputs": [
    {
     "name": "stdout",
     "output_type": "stream",
     "text": [
      "torch v.2.4.1\n",
      "pandas v.2.0.3\n"
     ]
    }
   ],
   "source": [
    "# 활용 패키지 버전 체크 => 사용자 정의 함수로 구현하기 \n",
    "print(f'torch v.{torch.__version__}')\n",
    "print(f'pandas v.{pd.__version__}')"
   ]
  },
  {
   "cell_type": "code",
   "execution_count": 55,
   "metadata": {},
   "outputs": [
    {
     "data": {
      "text/html": [
       "<div>\n",
       "<style scoped>\n",
       "    .dataframe tbody tr th:only-of-type {\n",
       "        vertical-align: middle;\n",
       "    }\n",
       "\n",
       "    .dataframe tbody tr th {\n",
       "        vertical-align: top;\n",
       "    }\n",
       "\n",
       "    .dataframe thead th {\n",
       "        text-align: right;\n",
       "    }\n",
       "</style>\n",
       "<table border=\"1\" class=\"dataframe\">\n",
       "  <thead>\n",
       "    <tr style=\"text-align: right;\">\n",
       "      <th></th>\n",
       "      <th>sepal.length</th>\n",
       "      <th>sepal.width</th>\n",
       "      <th>petal.length</th>\n",
       "      <th>petal.width</th>\n",
       "    </tr>\n",
       "  </thead>\n",
       "  <tbody>\n",
       "    <tr>\n",
       "      <th>0</th>\n",
       "      <td>5.1</td>\n",
       "      <td>3.5</td>\n",
       "      <td>1.4</td>\n",
       "      <td>0.2</td>\n",
       "    </tr>\n",
       "    <tr>\n",
       "      <th>1</th>\n",
       "      <td>4.9</td>\n",
       "      <td>3.0</td>\n",
       "      <td>1.4</td>\n",
       "      <td>0.2</td>\n",
       "    </tr>\n",
       "    <tr>\n",
       "      <th>2</th>\n",
       "      <td>4.7</td>\n",
       "      <td>3.2</td>\n",
       "      <td>1.3</td>\n",
       "      <td>0.2</td>\n",
       "    </tr>\n",
       "    <tr>\n",
       "      <th>3</th>\n",
       "      <td>4.6</td>\n",
       "      <td>3.1</td>\n",
       "      <td>1.5</td>\n",
       "      <td>0.2</td>\n",
       "    </tr>\n",
       "    <tr>\n",
       "      <th>4</th>\n",
       "      <td>5.0</td>\n",
       "      <td>3.6</td>\n",
       "      <td>1.4</td>\n",
       "      <td>0.2</td>\n",
       "    </tr>\n",
       "  </tbody>\n",
       "</table>\n",
       "</div>"
      ],
      "text/plain": [
       "   sepal.length  sepal.width  petal.length  petal.width\n",
       "0           5.1          3.5           1.4          0.2\n",
       "1           4.9          3.0           1.4          0.2\n",
       "2           4.7          3.2           1.3          0.2\n",
       "3           4.6          3.1           1.5          0.2\n",
       "4           5.0          3.6           1.4          0.2"
      ]
     },
     "execution_count": 55,
     "metadata": {},
     "output_type": "execute_result"
    }
   ],
   "source": [
    "# 데이터 로딩 \n",
    "DATA_FILE = '../DATA/iris.csv'\n",
    "\n",
    "# csv => DF\n",
    "iris_df = pd.read_csv(DATA_FILE, usecols=[0,1,2,3])\n",
    "\n",
    "iris_df.head()"
   ]
  },
  {
   "cell_type": "markdown",
   "metadata": {},
   "source": [
    "## [2] 모델 클래스 설계 및 정의 \n",
    "- 클래스 목적 : iris 데이터를 학습 및 추론 목적 \n",
    "- 클래스 이름 : iris_reg_model\n",
    "- 부모 클래스 : nn.Module \n",
    "- 매개 변수 : 층 별 입출력 개수 고정하기 때문에 필요 x \n",
    "- 속성 / 필드 : features_df, target_df, n_rows, n_features (df만들 때 사용)\n",
    "- 기능 / 역할 \n",
    "    - _ _init_ _() : 모델 구조 생성 \n",
    "    - forward : 순방향 학습 (오버라이딩(overriding조건 : 상속관계에서만 가능))\n",
    "- 클래스 구조 \n",
    "    - 입력층 : 입력 3개(피처)        출력 10개(퍼셉트론/뉴런 10개 존재)\n",
    "    - 은닉층 : 입력 10개            출력 30개 (퍼셉트론/뉴런 30개 존재)\n",
    "    - 출력층 : 입력 30개            출력 1개 (타겟값(너비값))\n",
    "\n",
    "- 활성화 함수 \n",
    "    - 클래스 형태 ==> nn.MSELoss , nn.ReLU => _ _init_ _() 메서드 \n",
    "    - 함수 형태 => torch.nn.functional 아래에 => forward() 메서드 "
   ]
  },
  {
   "cell_type": "markdown",
   "metadata": {},
   "source": [
    "일반적으로 입력층의 퍼셉트론을 크게해서 점차적으로 줄임"
   ]
  },
  {
   "cell_type": "markdown",
   "metadata": {},
   "source": [
    "super()는 부모 부르는 것 "
   ]
  },
  {
   "cell_type": "code",
   "execution_count": 56,
   "metadata": {},
   "outputs": [],
   "source": [
    "class iris_reg_model(nn.Module):\n",
    "    \n",
    "    # 모델 구조 구성 및 인스턴스 생성 및 메서드 \n",
    "    def __init__(self):\n",
    "        super().__init__()\n",
    "\n",
    "        # 모델 구조 구성 \n",
    "        self.in_layer = nn.Linear(3,10)\n",
    "        self.hidden_layer = nn.Linear(10,30)\n",
    "        self.out_layer = nn.Linear(30,1)\n",
    "\n",
    "    # 순방향 학습 진행 메서드 \n",
    "    def forward(self, input_data):\n",
    "\n",
    "        # 입력층 \n",
    "        y = self.in_layer(input_data) # f11w11 + f12w12 + f13w13 + b, ......., f101w101 + f102w102 + f103w103 + b\n",
    "                                      # # f11w11 + f21w21 + f31w31 + b, ......., f110w110 + f210w210 + f310w310 + b (내 생각)\n",
    "        y = F.relu(y)             # relu => y 값의 범위 : 0 <= y \n",
    "\n",
    "        # 은닉층 : 10개의 숫자 값(>=0)\n",
    "        y = self.hidden_layer(y)  # f21w11 + f22w12 .... + f210w210 + b, ......., f230w201 + f230w202 ..... f230w210 + b\n",
    "        # 데이터 1개 기준\n",
    "        y = F.relu(y) \n",
    "\n",
    "        # 출력층 : 30개의 숫자 값(>=0)\n",
    "        # self.out_layer(y)         # f31w31 + ...... f330w330 + b\n",
    "        # 회귀라서 활성함수 사용 x -> 바로 return \n",
    "\n",
    "        return self.out_layer(y)\n"
   ]
  },
  {
   "cell_type": "code",
   "execution_count": 57,
   "metadata": {},
   "outputs": [
    {
     "name": "stdout",
     "output_type": "stream",
     "text": [
      "iris_reg_model(\n",
      "  (in_layer): Linear(in_features=3, out_features=10, bias=True)\n",
      "  (hidden_layer): Linear(in_features=10, out_features=30, bias=True)\n",
      "  (out_layer): Linear(in_features=30, out_features=1, bias=True)\n",
      ")\n"
     ]
    }
   ],
   "source": [
    "# 모델 인스턴스 생성 \n",
    "model = iris_reg_model()\n",
    "print(model)"
   ]
  },
  {
   "cell_type": "code",
   "execution_count": 58,
   "metadata": {},
   "outputs": [
    {
     "data": {
      "text/plain": [
       "==========================================================================================\n",
       "Layer (type:depth-idx)                   Output Shape              Param #\n",
       "==========================================================================================\n",
       "iris_reg_model                           [10, 1]                   --\n",
       "├─Linear: 1-1                            [10, 10]                  40\n",
       "├─Linear: 1-2                            [10, 30]                  330\n",
       "├─Linear: 1-3                            [10, 1]                   31\n",
       "==========================================================================================\n",
       "Total params: 401\n",
       "Trainable params: 401\n",
       "Non-trainable params: 0\n",
       "Total mult-adds (M): 0.00\n",
       "==========================================================================================\n",
       "Input size (MB): 0.00\n",
       "Forward/backward pass size (MB): 0.00\n",
       "Params size (MB): 0.00\n",
       "Estimated Total Size (MB): 0.01\n",
       "=========================================================================================="
      ]
     },
     "execution_count": 58,
     "metadata": {},
     "output_type": "execute_result"
    }
   ],
   "source": [
    "# 모델 사용 메모리 정보 확인 \n",
    "\n",
    "summary(model, input_size=(10,3)) # 뒤에는 피쳐 수 , 아이리스 데이터 10개 줌 "
   ]
  },
  {
   "cell_type": "markdown",
   "metadata": {},
   "source": [
    "## [3] 데이터셋 클래스 설계 및 정의\n",
    "- 데이터셋 : iris.csv \n",
    "- 피쳐 개수 : 3개 \n",
    "- 타겟 개수 : 1개 \n",
    "- 클래스 이름 : iris_data_set\n",
    "- 부모 클래스 : utils.data.Dataset \n",
    "- 속성 / 필드 : feature_df, target_df \n",
    "- 필수 메서드 \n",
    "    - _ _init_ _(self) : 데이터셋 저장 및 전처리, 개발자가 필요한 속성 설정 \n",
    "    - _ _len_ _(self) : 데이터의 개수 반환 \n",
    "    - _ _ getItem_ _(self, index) : 특정 인덱스의 피쳐와 타겟 반환 "
   ]
  },
  {
   "cell_type": "code",
   "execution_count": 59,
   "metadata": {},
   "outputs": [],
   "source": [
    "class iris_data_set(Dataset):\n",
    "    def __init__(self, feature_df, target_df):\n",
    "        self.feature_df = feature_df\n",
    "        self.target_df = target_df\n",
    "        self.n_rows = feature_df.shape[0]\n",
    "        self.n_features = feature_df.shape[1]\n",
    "\n",
    "    def __len__(self):\n",
    "        return self.n_rows\n",
    "\n",
    "    def __getitem__(self,index):\n",
    "        \n",
    "        # 텐서화 \n",
    "        feature_ts = torch.FloatTensor(self.feature_df.iloc[index].values) # 시리즈라서 values() 사용해서 numpy -> tensor \n",
    "        target_ts = torch.FloatTensor(self.target_df.iloc[index].values)\n",
    "                \n",
    "        # 피쳐와 타겟 반환 \n",
    "        return feature_ts, target_ts"
   ]
  },
  {
   "cell_type": "code",
   "execution_count": 60,
   "metadata": {},
   "outputs": [
    {
     "data": {
      "text/plain": [
       "((150, 3), (150, 1))"
      ]
     },
     "execution_count": 60,
     "metadata": {},
     "output_type": "execute_result"
    }
   ],
   "source": [
    "# 데이터셋 인스턴스 생성 \n",
    "\n",
    "feature_df = iris_df[iris_df.columns[:-1]] # 회귀에서 같은 차원으로 해야 하므로 2D \n",
    "target_df = iris_df[iris_df.columns[-1:]]  # 2D \n",
    "\n",
    "feature_df.shape, target_df.shape\n"
   ]
  },
  {
   "cell_type": "code",
   "execution_count": 61,
   "metadata": {},
   "outputs": [],
   "source": [
    "# 커스텀 데이터셋 인스턴스 생성 \n",
    "iris_ds = iris_data_set(feature_df, target_df)"
   ]
  },
  {
   "cell_type": "markdown",
   "metadata": {},
   "source": [
    "## [4] 학습 준비 \n",
    "- 학습 횟수 : EPOCH (처음부터 끝까지 학습할 단위)\n",
    "- 배치 크기 : BATCH_SIZE (한 번에 학습할 데이터셋 양)\n",
    "- 위치 지정 : DEVICE (텐서 저장 및 실행 위치 (GPU, CPU))\n",
    "- 학습률 : 가중치와 절편 업데이트 시 경사하강법으로 업데이트 간격 설정 0.001 ~ 0."
   ]
  },
  {
   "cell_type": "code",
   "execution_count": 62,
   "metadata": {},
   "outputs": [
    {
     "name": "stdout",
     "output_type": "stream",
     "text": [
      "BATCH_CNT : 15\n"
     ]
    }
   ],
   "source": [
    "# 학습 진행 관련 설정 \n",
    "EPOCH = 1 \n",
    "BATCH_SIZE = 10 \n",
    "BATCH_CNT = iris_df.shape[0] // BATCH_SIZE\n",
    "DEVICE = 'cuda' if torch.cuda.is_available() else 'cpu'\n",
    "LR = 0.001 # hyper-parameter : 업데이트 간격  \n",
    "\n",
    "print(f'BATCH_CNT : {BATCH_CNT}')"
   ]
  },
  {
   "cell_type": "markdown",
   "metadata": {},
   "source": [
    "- 인스턴스 / 객체 : 모델, 데이터셋, 최적화, 손실함수 ,(성능지표)  "
   ]
  },
  {
   "cell_type": "code",
   "execution_count": 63,
   "metadata": {},
   "outputs": [],
   "source": [
    "# 모델 인스턴스 \n",
    "model = iris_reg_model()\n",
    "\n",
    "# 데이터셋 인스턴스 \n",
    "iris_ds = iris_data_set(feature_df, target_df)\n",
    "\n",
    "# 데이터로더 인스턴스 \n",
    "iris_dl = DataLoader(iris_ds, batch_size=BATCH_SIZE)\n"
   ]
  },
  {
   "cell_type": "code",
   "execution_count": 64,
   "metadata": {},
   "outputs": [
    {
     "name": "stdout",
     "output_type": "stream",
     "text": [
      "(84, 3) (38, 3) (28, 3)\n",
      "(84, 1) (38, 1) (28, 1)\n",
      "<class 'pandas.core.frame.DataFrame'> <class 'pandas.core.frame.DataFrame'> <class 'pandas.core.frame.DataFrame'>\n"
     ]
    }
   ],
   "source": [
    "# 모델 인스턴스 \n",
    "model = iris_reg_model()\n",
    "\n",
    "# 데이터셋 인스턴스 \n",
    "x_train, x_test, y_train, y_test = train_test_split(feature_df, target_df, random_state = 1)\n",
    "x_train, x_val, y_train, y_val = train_test_split(x_train, y_train, random_state = 1)\n",
    "print(f'{x_train.shape} {x_test.shape} {x_val.shape}')\n",
    "print(f'{y_train.shape} {y_test.shape} {y_val.shape}')\n",
    "print(f'{type(x_train)} {type(x_test)} {type(x_val)}')\n",
    "# iris_ds = iris_data_set(x_train, y_train)\n",
    "\n",
    "train_ds = iris_data_set(x_train, y_train)\n",
    "val_ds = iris_data_set(x_val, y_val)\n",
    "test_ds = iris_data_set(x_test, y_test)\n",
    "\n",
    "# 데이터로더 인스턴스 \n",
    "# iris_dl = DataLoader(iris_ds, batch_size=BATCH_SIZE)\n",
    "train_dl = DataLoader(train_ds, batch_size=BATCH_SIZE)\n"
   ]
  },
  {
   "cell_type": "code",
   "execution_count": 65,
   "metadata": {},
   "outputs": [
    {
     "name": "stdout",
     "output_type": "stream",
     "text": [
      "torch.Size([3]) torch.Size([1])\n",
      "torch.Size([3]) torch.Size([1])\n",
      "torch.Size([3]) torch.Size([1])\n",
      "torch.Size([3]) torch.Size([1])\n",
      "torch.Size([3]) torch.Size([1])\n",
      "torch.Size([3]) torch.Size([1])\n",
      "torch.Size([3]) torch.Size([1])\n",
      "torch.Size([3]) torch.Size([1])\n",
      "torch.Size([3]) torch.Size([1])\n",
      "torch.Size([3]) torch.Size([1])\n",
      "torch.Size([3]) torch.Size([1])\n",
      "torch.Size([3]) torch.Size([1])\n",
      "torch.Size([3]) torch.Size([1])\n",
      "torch.Size([3]) torch.Size([1])\n",
      "torch.Size([3]) torch.Size([1])\n",
      "torch.Size([3]) torch.Size([1])\n",
      "torch.Size([3]) torch.Size([1])\n",
      "torch.Size([3]) torch.Size([1])\n",
      "torch.Size([3]) torch.Size([1])\n",
      "torch.Size([3]) torch.Size([1])\n",
      "torch.Size([3]) torch.Size([1])\n",
      "torch.Size([3]) torch.Size([1])\n",
      "torch.Size([3]) torch.Size([1])\n",
      "torch.Size([3]) torch.Size([1])\n",
      "torch.Size([3]) torch.Size([1])\n",
      "torch.Size([3]) torch.Size([1])\n",
      "torch.Size([3]) torch.Size([1])\n",
      "torch.Size([3]) torch.Size([1])\n",
      "torch.Size([3]) torch.Size([1])\n",
      "torch.Size([3]) torch.Size([1])\n",
      "torch.Size([3]) torch.Size([1])\n",
      "torch.Size([3]) torch.Size([1])\n",
      "torch.Size([3]) torch.Size([1])\n",
      "torch.Size([3]) torch.Size([1])\n",
      "torch.Size([3]) torch.Size([1])\n",
      "torch.Size([3]) torch.Size([1])\n",
      "torch.Size([3]) torch.Size([1])\n",
      "torch.Size([3]) torch.Size([1])\n",
      "torch.Size([3]) torch.Size([1])\n",
      "torch.Size([3]) torch.Size([1])\n",
      "torch.Size([3]) torch.Size([1])\n",
      "torch.Size([3]) torch.Size([1])\n",
      "torch.Size([3]) torch.Size([1])\n",
      "torch.Size([3]) torch.Size([1])\n",
      "torch.Size([3]) torch.Size([1])\n",
      "torch.Size([3]) torch.Size([1])\n",
      "torch.Size([3]) torch.Size([1])\n",
      "torch.Size([3]) torch.Size([1])\n",
      "torch.Size([3]) torch.Size([1])\n",
      "torch.Size([3]) torch.Size([1])\n",
      "torch.Size([3]) torch.Size([1])\n",
      "torch.Size([3]) torch.Size([1])\n",
      "torch.Size([3]) torch.Size([1])\n",
      "torch.Size([3]) torch.Size([1])\n",
      "torch.Size([3]) torch.Size([1])\n",
      "torch.Size([3]) torch.Size([1])\n",
      "torch.Size([3]) torch.Size([1])\n",
      "torch.Size([3]) torch.Size([1])\n",
      "torch.Size([3]) torch.Size([1])\n",
      "torch.Size([3]) torch.Size([1])\n",
      "torch.Size([3]) torch.Size([1])\n",
      "torch.Size([3]) torch.Size([1])\n",
      "torch.Size([3]) torch.Size([1])\n",
      "torch.Size([3]) torch.Size([1])\n",
      "torch.Size([3]) torch.Size([1])\n",
      "torch.Size([3]) torch.Size([1])\n",
      "torch.Size([3]) torch.Size([1])\n",
      "torch.Size([3]) torch.Size([1])\n",
      "torch.Size([3]) torch.Size([1])\n",
      "torch.Size([3]) torch.Size([1])\n",
      "torch.Size([3]) torch.Size([1])\n",
      "torch.Size([3]) torch.Size([1])\n",
      "torch.Size([3]) torch.Size([1])\n",
      "torch.Size([3]) torch.Size([1])\n",
      "torch.Size([3]) torch.Size([1])\n",
      "torch.Size([3]) torch.Size([1])\n",
      "torch.Size([3]) torch.Size([1])\n",
      "torch.Size([3]) torch.Size([1])\n",
      "torch.Size([3]) torch.Size([1])\n",
      "torch.Size([3]) torch.Size([1])\n",
      "torch.Size([3]) torch.Size([1])\n",
      "torch.Size([3]) torch.Size([1])\n",
      "torch.Size([3]) torch.Size([1])\n",
      "torch.Size([3]) torch.Size([1])\n",
      "torch.Size([3]) torch.Size([1])\n",
      "torch.Size([3]) torch.Size([1])\n",
      "torch.Size([3]) torch.Size([1])\n",
      "torch.Size([3]) torch.Size([1])\n",
      "torch.Size([3]) torch.Size([1])\n",
      "torch.Size([3]) torch.Size([1])\n",
      "torch.Size([3]) torch.Size([1])\n",
      "torch.Size([3]) torch.Size([1])\n",
      "torch.Size([3]) torch.Size([1])\n",
      "torch.Size([3]) torch.Size([1])\n",
      "torch.Size([3]) torch.Size([1])\n",
      "torch.Size([3]) torch.Size([1])\n",
      "torch.Size([3]) torch.Size([1])\n",
      "torch.Size([3]) torch.Size([1])\n",
      "torch.Size([3]) torch.Size([1])\n",
      "torch.Size([3]) torch.Size([1])\n",
      "torch.Size([3]) torch.Size([1])\n",
      "torch.Size([3]) torch.Size([1])\n",
      "torch.Size([3]) torch.Size([1])\n",
      "torch.Size([3]) torch.Size([1])\n",
      "torch.Size([3]) torch.Size([1])\n",
      "torch.Size([3]) torch.Size([1])\n",
      "torch.Size([3]) torch.Size([1])\n",
      "torch.Size([3]) torch.Size([1])\n",
      "torch.Size([3]) torch.Size([1])\n",
      "torch.Size([3]) torch.Size([1])\n",
      "torch.Size([3]) torch.Size([1])\n",
      "torch.Size([3]) torch.Size([1])\n",
      "torch.Size([3]) torch.Size([1])\n",
      "torch.Size([3]) torch.Size([1])\n",
      "torch.Size([3]) torch.Size([1])\n",
      "torch.Size([3]) torch.Size([1])\n",
      "torch.Size([3]) torch.Size([1])\n",
      "torch.Size([3]) torch.Size([1])\n",
      "torch.Size([3]) torch.Size([1])\n",
      "torch.Size([3]) torch.Size([1])\n",
      "torch.Size([3]) torch.Size([1])\n",
      "torch.Size([3]) torch.Size([1])\n",
      "torch.Size([3]) torch.Size([1])\n",
      "torch.Size([3]) torch.Size([1])\n",
      "torch.Size([3]) torch.Size([1])\n",
      "torch.Size([3]) torch.Size([1])\n",
      "torch.Size([3]) torch.Size([1])\n",
      "torch.Size([3]) torch.Size([1])\n",
      "torch.Size([3]) torch.Size([1])\n",
      "torch.Size([3]) torch.Size([1])\n",
      "torch.Size([3]) torch.Size([1])\n",
      "torch.Size([3]) torch.Size([1])\n",
      "torch.Size([3]) torch.Size([1])\n",
      "torch.Size([3]) torch.Size([1])\n",
      "torch.Size([3]) torch.Size([1])\n",
      "torch.Size([3]) torch.Size([1])\n",
      "torch.Size([3]) torch.Size([1])\n",
      "torch.Size([3]) torch.Size([1])\n",
      "torch.Size([3]) torch.Size([1])\n",
      "torch.Size([3]) torch.Size([1])\n",
      "torch.Size([3]) torch.Size([1])\n",
      "torch.Size([3]) torch.Size([1])\n",
      "torch.Size([3]) torch.Size([1])\n",
      "torch.Size([3]) torch.Size([1])\n",
      "torch.Size([3]) torch.Size([1])\n",
      "torch.Size([3]) torch.Size([1])\n",
      "torch.Size([3]) torch.Size([1])\n",
      "torch.Size([3]) torch.Size([1])\n",
      "torch.Size([3]) torch.Size([1])\n",
      "torch.Size([3]) torch.Size([1])\n"
     ]
    }
   ],
   "source": [
    "## [테스트] 데이터 로더 \n",
    "\n",
    "for feature, target in iris_ds:\n",
    "    print(feature.shape, target.shape)\n",
    "    "
   ]
  },
  {
   "cell_type": "code",
   "execution_count": 66,
   "metadata": {},
   "outputs": [],
   "source": [
    "# 최적화 인스턴스 => w, b 텐서 즉, model.parameters() 전달 \n",
    "optimizer = optim.Adam(model.parameters(), lr=LR)\n",
    "\n",
    "# 손실함수 인스턴스 => 회귀, MSE, MAE, RMSE\n",
    "req_loss = nn.MSELoss()"
   ]
  },
  {
   "cell_type": "markdown",
   "metadata": {},
   "source": [
    "## [5] 학습 진행 "
   ]
  },
  {
   "cell_type": "markdown",
   "metadata": {},
   "source": [
    "- >>> 모델 저장 준비"
   ]
  },
  {
   "cell_type": "code",
   "execution_count": 67,
   "metadata": {},
   "outputs": [],
   "source": [
    "# models 폴더 아래 프로젝트 폴더 아래 모델 파일 저장 \n",
    "import os \n",
    "\n",
    "# 저장 경로 \n",
    "SAVE_PATH = '../MODELS/iris/'  \n",
    "\n",
    "# 저장 파일명 \n",
    "SAVE_FILE = 'model_train_wbs.pth'\n",
    "\n",
    "# 모델 구조 및 파라미터 모두 저장 파일명 \n",
    "SAVE_MODEL = 'model_all.pth'"
   ]
  },
  {
   "cell_type": "code",
   "execution_count": 68,
   "metadata": {},
   "outputs": [],
   "source": [
    "# 경로상 폴더 존재 여부 체크 \n",
    "if not os.path.exists(SAVE_PATH):\n",
    "    os.makedirs(SAVE_PATH)   # 폴더 / 폴더 / ... 하위 폴더까지 생성 "
   ]
  },
  {
   "cell_type": "markdown",
   "metadata": {},
   "source": [
    "- >>> 학습 진행"
   ]
  },
  {
   "cell_type": "code",
   "execution_count": 69,
   "metadata": {},
   "outputs": [
    {
     "name": "stdout",
     "output_type": "stream",
     "text": [
      "CNT : 15.0\n"
     ]
    }
   ],
   "source": [
    "## 학습의 효과 확인 손실값과 성능평가값 저장 필요 \n",
    "LOSS_HISTORY, SCORE_HISTORY = [],[]\n",
    "CNT = iris_ds.n_rows/BATCH_SIZE\n",
    "print(f'CNT : {CNT}')\n",
    "\n",
    "for epoch in range(EPOCH):\n",
    "\n",
    "    # 학습 모드로 모델 설정 \n",
    "    model.train()\n",
    "\n",
    "    # 배치 크기 만큼 데이터 로딩해서 학습 진행 \n",
    "    loss_total, score_total = 0,0\n",
    "    for feature_ts, target_ts in iris_dl: # iris_dl -> train_dl \n",
    "\n",
    "        # 학습 진행 \n",
    "        pre_y = model(feature_ts)\n",
    "\n",
    "        # 손실 계산 \n",
    "        loss = req_loss(pre_y, target_ts)\n",
    "        loss_total += loss.item() # tensor 라서 item으로 값 넣어야 함 \n",
    "\n",
    "        # 성능 평가 계산 \n",
    "        score = R2Score()(pre_y, target_ts) \n",
    "        score_total += score.item() # tensor 라서 item으로 값 넣어야 함 \n",
    "\n",
    "        # 최적화 진행 \n",
    "        optimizer.zero_grad()       \n",
    "        loss.backward()\n",
    "        optimizer.step()\n",
    "\n",
    " \n",
    "    # for문 다 돌면 1 epoch 종료 \n",
    "    # 손실값과 성능평가값 저장 \n",
    "    LOSS_HISTORY.append(loss_total/BATCH_CNT)\n",
    "    SCORE_HISTORY.append(score_total/BATCH_CNT)"
   ]
  },
  {
   "cell_type": "markdown",
   "metadata": {},
   "source": [
    "training, 검증, test 용 loader를 따로 만들어서 쪼개서 돌려야 함 \n",
    "- 데이터가 적어서 한 번에 다 돌려도 되면 따로 안 만들어도 ㅇ "
   ]
  },
  {
   "cell_type": "markdown",
   "metadata": {},
   "source": [
    "-------------------\n",
    "+) 모니터링 추가\n"
   ]
  },
  {
   "cell_type": "code",
   "execution_count": 70,
   "metadata": {},
   "outputs": [
    {
     "name": "stdout",
     "output_type": "stream",
     "text": [
      "CNT : 15.0\n"
     ]
    }
   ],
   "source": [
    "## 학습의 효과 확인 손실값과 성능평가값 저장 필요 \n",
    "LOSS_HISTORY, SCORE_HISTORY = [[],[]],[[],[]]\n",
    "CNT = iris_ds.n_rows/BATCH_SIZE\n",
    "print(f'CNT : {CNT}')\n",
    "\n",
    "# =================================================================================================================\n",
    "# 학습 모니터링/스케줄링 설정 \n",
    "# => LOSS_HISTORY, SCORE_HISTORY 활용 \n",
    "# => 임계 기준 : 10번 \n",
    "BREAK_CNT = 0\n",
    "LIMIT_VALUE = 10 # 멈추는 기준 \n",
    "# =================================================================================================================\n",
    "\n",
    "\n",
    "for epoch in range(EPOCH):\n",
    "\n",
    "    # 학습 모드로 모델 설정 \n",
    "    model.train()\n",
    "\n",
    "    # 배치 크기 만큼 데이터 로딩해서 학습 진행 \n",
    "    loss_total, score_total = 0,0\n",
    "    for feature_ts, target_ts in train_dl: # iris_dl -> train_dl \n",
    "\n",
    "        # 학습 진행 \n",
    "        pre_y = model(feature_ts)\n",
    "\n",
    "        # 손실 계산 \n",
    "        loss = req_loss(pre_y, target_ts)\n",
    "        loss_total += loss.item() # tensor 라서 item으로 값 넣어야 함 \n",
    "\n",
    "        # 성능 평가 계산 \n",
    "        score = R2Score()(pre_y, target_ts) \n",
    "        score_total += score.item() # tensor 라서 item으로 값 넣어야 함 \n",
    "\n",
    "        # 최적화 진행 \n",
    "        optimizer.zero_grad()       \n",
    "        loss.backward()\n",
    "        optimizer.step()\n",
    "\n",
    "    # 에포크 당 검증기능 \n",
    "    # 모델 검증 모드 설정 \n",
    "    model.eval()\n",
    "    # 검증한 결과를 저장해야 함 \n",
    "\n",
    "    with torch.no_grad():\n",
    "        # 검증 데이터셋 \n",
    "        val_feature_ts = torch.FloatTensor(val_ds.feature_df.values) # values쓰면 array 됨 -> torch사용 -> torch됨 \n",
    "        val_target_ts = torch.FloatTensor(val_ds.target_df.values)\n",
    "\n",
    "        # 평가 \n",
    "        pre_val =model(val_feature_ts)\n",
    "        \n",
    "        # 손실 \n",
    "        loss_val = req_loss(pre_val, val_target_ts)\n",
    "\n",
    "        # 성능 평가 \n",
    "        score_val = R2Score()(pre_val, val_target_ts)\n",
    "\n",
    "\n",
    "    # for문 다 돌면 1 epoch 종료 \n",
    "    # 손실값과 성능평가값 저장 \n",
    "    LOSS_HISTORY[0].append(loss_total/BATCH_CNT)\n",
    "    SCORE_HISTORY[0].append(score_total/BATCH_CNT)\n",
    "\n",
    "    LOSS_HISTORY[1].append(loss_val)\n",
    "    SCORE_HISTORY[1].append(score_val)\n",
    "\n",
    "    # =================================================================================================================\n",
    "\n",
    "    # 학습 진행 모니터링/스케줄링 - 검증 DS 기준 \n",
    "    # 아래 중 둘 중 하나만 하면 됨 - 두개 다 하면 cnt만 올라감 \n",
    "\n",
    "    # validation loss \n",
    "    if len(LOSS_HISTORY[1]) >= 2:\n",
    "        if LOSS_HISTORY[1][-1] >= LOSS_HISTORY[1][-2] : BREAK_CNT +=1 # LOSS_HISTORY[1][-1]  < LOSS_HISTORY[1][-2]이 정상 \n",
    "\n",
    "    # # validation score - 일반적으로 많이 봄   \n",
    "    # if len(SCORE_HISTORY[1]) >= 2: \n",
    "    #     if SCORE_HISTORY[1][-1] <= SCORE_HISTORY[1][-2] : BREAK_CNT +=1 \n",
    "\n",
    "    # =================================================================================================================\n",
    "\n",
    "    # 성능이 좋은 학습 가중치 저장 \n",
    "    if len(SCORE_HISTORY[1]) >= 1: \n",
    "        \n",
    "        # 첫 번째라서 무조건 모델 저장 \n",
    "        torch.save(model.state_dict(), SAVE_PATH + SAVE_FILE)\n",
    "\n",
    "        # 모델 전체 저장 \n",
    "        torch.save(model, SAVE_PATH + SAVE_MODEL)\n",
    "\n",
    "    else:\n",
    "        if SCORE_HISTORY[1][-1] > max(SCORE_HISTORY[1][:-1]) : \n",
    "            torch.save(model.state_dict(), SAVE_PATH + SAVE_FILE) \n",
    "\n",
    "\n",
    "    # 학습 중단 여부 설정 \n",
    "    # if BREAK_CNT >= 9:  # BREAK_CNT가 0부터 시작하면 >= 9, 1부터 시작하면 >10\n",
    "    #     print('성능 및 손실 개선이 없어서 학습 중단')\n",
    "    #     break\n",
    "\n",
    "    if BREAK_CNT > LIMIT_VALUE:  # LIMIT_VALUE 변수 사용 \n",
    "        print('성능 및 손실 개선이 없어서 {epoch} EPOCH에 학습 중단')\n",
    "        break"
   ]
  },
  {
   "cell_type": "code",
   "execution_count": 71,
   "metadata": {},
   "outputs": [
    {
     "name": "stdout",
     "output_type": "stream",
     "text": [
      "LOSS_HISTORY =>  [[0.5581796367963155], [tensor(0.5657)]]\n",
      "SCORE_HISTORY =>  [[-0.6192238966623942], [tensor(0.1237)]]\n"
     ]
    }
   ],
   "source": [
    "print(f'LOSS_HISTORY => ', LOSS_HISTORY )\n",
    "print(f'SCORE_HISTORY => ', SCORE_HISTORY)"
   ]
  },
  {
   "cell_type": "markdown",
   "metadata": {},
   "source": [
    "### 모델 저장 방법 \n",
    "---\n",
    "- 방법 1 : 모델 파라미터만 저장 \n",
    "- 방법 2 : 모델 설계 구조 및 파라미터까지 모두 저장"
   ]
  },
  {
   "cell_type": "code",
   "execution_count": 72,
   "metadata": {},
   "outputs": [
    {
     "data": {
      "text/plain": [
       "OrderedDict([('in_layer.weight',\n",
       "              tensor([[-0.0998,  0.2970,  0.4393],\n",
       "                      [ 0.2866, -0.4380, -0.2823],\n",
       "                      [-0.5130,  0.3374, -0.2216],\n",
       "                      [ 0.2484, -0.2774,  0.0883],\n",
       "                      [-0.5772, -0.2728, -0.2623],\n",
       "                      [ 0.3190, -0.4263,  0.3648],\n",
       "                      [-0.5419,  0.4057,  0.3879],\n",
       "                      [-0.1081,  0.3137,  0.2954],\n",
       "                      [ 0.1035, -0.3308,  0.2643],\n",
       "                      [ 0.5025,  0.4958,  0.2419]])),\n",
       "             ('in_layer.bias',\n",
       "              tensor([-0.4043, -0.3055,  0.2027,  0.4172,  0.2207, -0.1202,  0.5360, -0.0634,\n",
       "                      -0.2832,  0.3893])),\n",
       "             ('hidden_layer.weight',\n",
       "              tensor([[ 2.0388e-01, -4.1358e-02, -1.1087e-01,  2.3670e-01, -1.3656e-01,\n",
       "                        2.0735e-01, -8.1007e-03, -2.2177e-01,  4.5139e-02, -2.7864e-01],\n",
       "                      [ 1.9834e-01,  1.1930e-01, -1.3308e-01, -2.6889e-01, -7.1021e-02,\n",
       "                       -3.3007e-01,  1.1638e-01, -2.7988e-02,  1.8582e-01,  2.6905e-01],\n",
       "                      [ 2.4259e-01,  2.9299e-01, -2.5372e-01, -1.7788e-01, -1.8537e-01,\n",
       "                       -2.3952e-01, -9.7578e-02,  2.0226e-01, -2.2117e-01, -5.9451e-02],\n",
       "                      [ 2.8014e-01,  1.8221e-01,  1.7468e-01,  2.4123e-01, -1.3506e-01,\n",
       "                       -1.7984e-02, -8.9217e-02, -9.5956e-02,  2.0320e-01,  1.1085e-01],\n",
       "                      [ 3.2186e-01, -1.9356e-01,  2.9323e-01,  1.5749e-01, -3.6066e-02,\n",
       "                       -2.7090e-01, -2.7485e-02, -1.3370e-01,  1.0727e-01,  2.4216e-01],\n",
       "                      [ 2.8300e-01,  1.8907e-01,  4.7107e-03, -3.0640e-04,  1.6455e-01,\n",
       "                       -1.6021e-01, -3.1433e-02,  2.0063e-02, -1.1547e-01, -2.7090e-01],\n",
       "                      [ 1.8092e-02, -2.8199e-01,  3.8365e-02,  2.8294e-01,  4.7644e-02,\n",
       "                        7.8129e-02, -1.0605e-01,  1.4488e-01,  1.5042e-01,  1.7888e-01],\n",
       "                      [ 8.1621e-02,  1.1592e-01,  1.8297e-02,  2.8371e-01, -2.2506e-02,\n",
       "                       -4.6705e-02, -5.6097e-02,  4.2733e-02,  1.4158e-01, -5.2809e-02],\n",
       "                      [-4.8624e-02, -9.5557e-02,  2.7873e-01, -1.5024e-01, -9.1728e-02,\n",
       "                        1.9018e-01,  1.6221e-01,  1.7932e-01, -3.2704e-02,  7.5808e-02],\n",
       "                      [-3.2812e-01,  2.7489e-01,  2.2221e-01, -1.9506e-01,  1.2543e-01,\n",
       "                        1.8440e-01,  8.7081e-02, -5.2021e-02,  7.0329e-02,  2.9281e-01],\n",
       "                      [-1.0302e-01,  1.7413e-01, -6.2953e-03, -1.6984e-01,  1.0781e-02,\n",
       "                       -2.5896e-01, -2.9015e-01, -1.6235e-02, -1.7526e-01, -4.5791e-03],\n",
       "                      [ 1.6768e-01,  1.8378e-01,  2.6161e-01,  1.5341e-01, -3.2148e-02,\n",
       "                        3.9630e-02,  1.1657e-01, -1.6676e-01, -1.1408e-01, -8.0628e-02],\n",
       "                      [ 3.6499e-02, -4.2897e-02, -2.4042e-01, -1.7380e-01,  2.2251e-01,\n",
       "                       -2.5697e-01,  3.0690e-01, -1.0304e-01, -6.6578e-02, -1.6934e-01],\n",
       "                      [-2.2928e-01,  2.5150e-01, -2.1937e-01, -7.7311e-02, -5.3852e-02,\n",
       "                       -2.9011e-01, -3.1501e-01, -2.9244e-01,  9.9386e-02, -2.1424e-01],\n",
       "                      [ 1.6146e-01,  1.8563e-01, -1.2736e-01,  2.9610e-01, -7.7097e-02,\n",
       "                       -2.9298e-01, -1.8822e-01, -2.2056e-01, -1.3765e-01, -1.9023e-03],\n",
       "                      [ 9.8201e-02,  2.7085e-01,  2.2095e-01,  3.2196e-01, -1.0896e-01,\n",
       "                       -1.8973e-01,  1.0306e-01,  7.4626e-02,  2.2612e-02,  6.7701e-02],\n",
       "                      [ 1.0722e-03,  2.0245e-02, -1.1860e-01, -2.7987e-01, -8.8158e-02,\n",
       "                       -2.6509e-01, -1.9423e-01,  1.1790e-01, -3.5639e-02, -1.3083e-02],\n",
       "                      [-1.2440e-01, -2.8587e-01, -8.4306e-02, -2.5851e-01,  2.5411e-01,\n",
       "                        2.9167e-01,  6.4522e-02, -7.7623e-03, -2.9897e-01, -1.5359e-01],\n",
       "                      [-2.9106e-01, -2.4207e-02,  2.6135e-01, -2.4259e-01,  7.3010e-02,\n",
       "                        2.8850e-01,  3.0667e-01,  2.4185e-01,  2.7821e-01, -1.5538e-01],\n",
       "                      [-1.8030e-01, -2.0190e-01, -3.0109e-01, -6.9896e-02, -2.3271e-01,\n",
       "                        4.5198e-02,  1.6090e-01, -1.8461e-01, -2.5545e-01,  1.1722e-01],\n",
       "                      [ 2.0520e-01, -2.2560e-01,  1.1271e-01,  3.0796e-01, -1.1930e-01,\n",
       "                       -4.4685e-02, -2.8614e-01,  2.9291e-01,  3.3136e-02, -4.8630e-03],\n",
       "                      [ 2.5038e-01, -2.3828e-01, -1.4387e-01,  2.0476e-01,  4.7761e-02,\n",
       "                        1.0275e-01,  1.1524e-02, -1.7795e-01,  2.7223e-01, -2.3566e-01],\n",
       "                      [ 1.7133e-01, -1.0082e-01,  1.5851e-01,  2.2741e-01,  1.1234e-01,\n",
       "                        2.6258e-01,  1.6024e-01,  9.5866e-02,  9.3812e-02, -2.2341e-01],\n",
       "                      [-1.5621e-01,  7.7858e-02,  1.1895e-01, -7.4148e-02,  2.7660e-01,\n",
       "                        8.9065e-02,  2.7820e-01,  6.9509e-02,  3.2707e-01,  1.2024e-01],\n",
       "                      [ 2.4242e-01,  2.8839e-01, -1.4389e-01,  5.4188e-02, -2.7310e-01,\n",
       "                        7.3443e-02,  2.3451e-02, -2.4126e-01, -1.6985e-01, -1.4295e-01],\n",
       "                      [ 1.0206e-01, -1.8252e-01, -1.2093e-01,  2.4703e-01, -1.8609e-01,\n",
       "                       -5.0754e-02,  2.5229e-01, -6.5125e-02, -2.7818e-01, -2.2871e-01],\n",
       "                      [-1.0975e-01,  2.1547e-01,  5.9577e-02,  2.4641e-01,  1.2168e-01,\n",
       "                        1.1933e-01, -6.9360e-02, -3.9035e-02,  3.2629e-01,  3.0494e-01],\n",
       "                      [ 3.0064e-01, -2.1094e-01,  2.0057e-01,  3.1110e-01, -2.4238e-01,\n",
       "                       -3.1518e-01, -3.1501e-01,  1.7624e-02, -1.2530e-01, -2.0366e-01],\n",
       "                      [ 1.4203e-01,  2.9085e-01, -3.1691e-02, -6.2195e-02, -6.9373e-02,\n",
       "                       -2.2600e-01, -2.8840e-01,  8.9640e-02, -5.0015e-02, -1.7180e-01],\n",
       "                      [ 1.0901e-01, -8.1703e-02,  2.7590e-01,  1.6834e-02, -1.0815e-01,\n",
       "                       -9.2903e-02,  1.9397e-01,  2.9985e-01, -1.9309e-01, -1.7639e-01]])),\n",
       "             ('hidden_layer.bias',\n",
       "              tensor([-0.2873,  0.2819,  0.2996,  0.0387,  0.1518,  0.1790,  0.1463,  0.2119,\n",
       "                      -0.3188, -0.2433, -0.0489, -0.0209,  0.2518, -0.1383, -0.1638,  0.3063,\n",
       "                       0.1115,  0.2523, -0.3153,  0.0708,  0.1287, -0.0258,  0.3306, -0.2371,\n",
       "                      -0.2714,  0.1717,  0.1654,  0.0642, -0.3001, -0.1546])),\n",
       "             ('out_layer.weight',\n",
       "              tensor([[-0.1174, -0.0300, -0.0669,  0.1513,  0.0665,  0.1647,  0.0739, -0.0108,\n",
       "                       -0.0782, -0.0481,  0.1482, -0.1417,  0.0850, -0.1312, -0.1764,  0.0363,\n",
       "                       -0.0739,  0.0419, -0.1310,  0.0145,  0.1539,  0.0208,  0.0495,  0.1383,\n",
       "                        0.1402, -0.0152,  0.0521, -0.1608,  0.0024, -0.0911]])),\n",
       "             ('out_layer.bias', tensor([-0.1222]))])"
      ]
     },
     "execution_count": 72,
     "metadata": {},
     "output_type": "execute_result"
    }
   ],
   "source": [
    "# 학습된 모델 파라미터 값 확인 \n",
    "model.state_dict() "
   ]
  },
  {
   "cell_type": "markdown",
   "metadata": {},
   "source": [
    "- [방법 1] 모델 파라미터 즉, 층별 가중치와 절편들"
   ]
  },
  {
   "cell_type": "code",
   "execution_count": 73,
   "metadata": {},
   "outputs": [
    {
     "name": "stdout",
     "output_type": "stream",
     "text": [
      "<class 'collections.OrderedDict'>\n"
     ]
    }
   ],
   "source": [
    "# 모델 즉, 가중치와 절편 로딩 \n",
    "# [1] 가중치와 절편 객체로 로딩 \n",
    "# [2] 모델의 state_dict 속성에 저장 \n",
    "\n",
    "# 읽기 \n",
    "wb_ts = torch.load(SAVE_PATH + SAVE_FILE,weights_only=True)\n",
    "print(type(wb_ts))"
   ]
  },
  {
   "cell_type": "code",
   "execution_count": 74,
   "metadata": {},
   "outputs": [
    {
     "data": {
      "text/plain": [
       "<All keys matched successfully>"
      ]
     },
     "execution_count": 74,
     "metadata": {},
     "output_type": "execute_result"
    }
   ],
   "source": [
    "# 모델 인스턴스에 저장 \n",
    "model2 = iris_reg_model()        # 층마다 w,b 초기화 - 처음부터 다시 돌려야 함 \n",
    "model2.load_state_dict(wb_ts) \n",
    "\n",
    "# 기존에 했던 것 까지는 저장됨 "
   ]
  },
  {
   "cell_type": "code",
   "execution_count": 75,
   "metadata": {},
   "outputs": [
    {
     "name": "stdout",
     "output_type": "stream",
     "text": [
      "iris_reg_model(\n",
      "  (in_layer): Linear(in_features=3, out_features=10, bias=True)\n",
      "  (hidden_layer): Linear(in_features=10, out_features=30, bias=True)\n",
      "  (out_layer): Linear(in_features=30, out_features=1, bias=True)\n",
      ")\n"
     ]
    }
   ],
   "source": [
    "print(model2) # 모델 층, 퍼셉트론 수 동일해야 함  "
   ]
  },
  {
   "cell_type": "code",
   "execution_count": null,
   "metadata": {},
   "outputs": [],
   "source": []
  }
 ],
 "metadata": {
  "kernelspec": {
   "display_name": "TORCH_38",
   "language": "python",
   "name": "python3"
  },
  "language_info": {
   "codemirror_mode": {
    "name": "ipython",
    "version": 3
   },
   "file_extension": ".py",
   "mimetype": "text/x-python",
   "name": "python",
   "nbconvert_exporter": "python",
   "pygments_lexer": "ipython3",
   "version": "3.8.19"
  }
 },
 "nbformat": 4,
 "nbformat_minor": 2
}
