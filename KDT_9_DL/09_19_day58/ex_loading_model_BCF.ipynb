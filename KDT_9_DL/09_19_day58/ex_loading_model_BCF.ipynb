{
 "cells": [
  {
   "cell_type": "markdown",
   "metadata": {},
   "source": [
    "# 저장된 모델 활용 \n",
    "- 모델 파일 종류 \n",
    "    - 가중치 및 절편 저장 파일 => 동일한 구조 모델 인스턴스 생성 후 사용 ㅇ \n",
    "    - 모델 전체 저장 파일 => 바로 로딩 후 사용 ㅇ \n"
   ]
  },
  {
   "cell_type": "markdown",
   "metadata": {},
   "source": [
    "## [1] 모듈 로딩 \n",
    "---"
   ]
  },
  {
   "cell_type": "code",
   "execution_count": 10,
   "metadata": {},
   "outputs": [],
   "source": [
    "# 모듈 로딩 \n",
    "\n",
    "import torch \n",
    "import torch.nn as nn\n",
    "import torch.nn.functional as F\n",
    "from torchinfo import summary"
   ]
  },
  {
   "cell_type": "code",
   "execution_count": 16,
   "metadata": {},
   "outputs": [],
   "source": [
    "# 모델 파일 관련 \n",
    "\n",
    "# models 폴더 아래 프로젝트 폴더 아래 모델 파일 저장 \n",
    "import os \n",
    "\n",
    "# 저장 경로 \n",
    "SAVE_PATH = '../MODELS/BCF/'  \n",
    "\n",
    "# 저장 파일명 \n",
    "SAVE_FILE = SAVE_PATH + 'model_train_wbs.pth'\n",
    "\n",
    "# 모델 구조 및 파라미터 모두 저장 파일명 \n",
    "SAVE_MODEL = SAVE_PATH + 'model_all.pth'"
   ]
  },
  {
   "cell_type": "markdown",
   "metadata": {},
   "source": [
    "## [2] 모델 로딩 - 모델 전체 파일 사용 "
   ]
  },
  {
   "cell_type": "code",
   "execution_count": 12,
   "metadata": {},
   "outputs": [],
   "source": [
    "class iris_bs_model(nn.Module):\n",
    "    \n",
    "    # 모델 구조 구성 및 인스턴스 생성 및 메서드 \n",
    "    def __init__(self):\n",
    "        super().__init__()\n",
    "\n",
    "        # 모델 구조 구성 \n",
    "        self.in_layer = nn.Linear(4,10)\n",
    "        self.hidden_layer = nn.Linear(10,5)\n",
    "        self.out_layer = nn.Linear(5,1)\n",
    "\n",
    "    # 순방향 학습 진행 메서드 \n",
    "    def forward(self, input_data):\n",
    "\n",
    "        # 입력층 \n",
    "        y = self.in_layer(input_data) # f11w11 + f12w12 + f13w13 + b, ......., f101w101 + f102w102 + f103w103 + b\n",
    "        y = F.relu(y)             # relu => y 값의 범위 : 0 <= y \n",
    "\n",
    "        # 은닉층 : 10개의 숫자 값(>=0)\n",
    "        y = self.hidden_layer(y)  # f21w11 + f22w12 .... + f210w210 + b, ......., f230w201 + f230w202 ..... f230w210 + b\n",
    "        # 데이터 1개 기준\n",
    "        y = F.relu(y) \n",
    "\n",
    "        # 출력층 : 5개의 숫자 값(>=0)\n",
    "        # self.out_layer(y)         # f31w31 + ...... f330w330 + b\n",
    "        # 회귀라서 활성함수 사용 x -> 바로 return \n",
    "\n",
    "        return F.sigmoid(self.out_layer(y))\n"
   ]
  },
  {
   "cell_type": "code",
   "execution_count": 13,
   "metadata": {},
   "outputs": [],
   "source": [
    "iris_model = torch.load(SAVE_MODEL, weights_only=False )\n"
   ]
  },
  {
   "cell_type": "code",
   "execution_count": 14,
   "metadata": {},
   "outputs": [
    {
     "data": {
      "text/plain": [
       "=================================================================\n",
       "Layer (type:depth-idx)                   Param #\n",
       "=================================================================\n",
       "iris_bs_model                            --\n",
       "├─Linear: 1-1                            50\n",
       "├─Linear: 1-2                            55\n",
       "├─Linear: 1-3                            6\n",
       "=================================================================\n",
       "Total params: 111\n",
       "Trainable params: 111\n",
       "Non-trainable params: 0\n",
       "================================================================="
      ]
     },
     "execution_count": 14,
     "metadata": {},
     "output_type": "execute_result"
    }
   ],
   "source": [
    "summary(iris_model)\n"
   ]
  },
  {
   "cell_type": "markdown",
   "metadata": {},
   "source": [
    "## [3] 예측 \n",
    "---"
   ]
  },
  {
   "cell_type": "code",
   "execution_count": 17,
   "metadata": {},
   "outputs": [],
   "source": [
    "data = [float(x) for x in input('SL, SW, PL, PW:' ).split(',')]"
   ]
  },
  {
   "cell_type": "code",
   "execution_count": 18,
   "metadata": {},
   "outputs": [
    {
     "data": {
      "text/plain": [
       "(torch.Size([1, 4]), tensor([[0.1200, 0.4400, 0.3200, 0.6600]]))"
      ]
     },
     "execution_count": 18,
     "metadata": {},
     "output_type": "execute_result"
    }
   ],
   "source": [
    "data_ts = torch.FloatTensor(data).reshape(1,-1)\n",
    "data_ts.shape, data_ts"
   ]
  },
  {
   "cell_type": "code",
   "execution_count": 19,
   "metadata": {},
   "outputs": [],
   "source": [
    "# 새로운 데이터에 대한 예측 즉, predict  \n",
    "\n",
    "iris_model.eval()\n",
    "with torch.no_grad():\n",
    "\n",
    "    # 추론/평가 \n",
    "    pre_val = iris_model(data_ts)\n"
   ]
  },
  {
   "cell_type": "code",
   "execution_count": 20,
   "metadata": {},
   "outputs": [
    {
     "data": {
      "text/plain": [
       "tensor([[0.5021]])"
      ]
     },
     "execution_count": 20,
     "metadata": {},
     "output_type": "execute_result"
    }
   ],
   "source": [
    "pre_val"
   ]
  },
  {
   "cell_type": "code",
   "execution_count": 21,
   "metadata": {},
   "outputs": [
    {
     "data": {
      "text/plain": [
       "'Other'"
      ]
     },
     "execution_count": 21,
     "metadata": {},
     "output_type": "execute_result"
    }
   ],
   "source": [
    "'Other' if (pre_val > 0.5).item() else 'Setosa'\n",
    "# 0.5 보다 크면 음성 값 "
   ]
  },
  {
   "cell_type": "code",
   "execution_count": null,
   "metadata": {},
   "outputs": [],
   "source": []
  }
 ],
 "metadata": {
  "kernelspec": {
   "display_name": "TORCH_38",
   "language": "python",
   "name": "python3"
  },
  "language_info": {
   "codemirror_mode": {
    "name": "ipython",
    "version": 3
   },
   "file_extension": ".py",
   "mimetype": "text/x-python",
   "name": "python",
   "nbconvert_exporter": "python",
   "pygments_lexer": "ipython3",
   "version": "3.8.19"
  }
 },
 "nbformat": 4,
 "nbformat_minor": 2
}
