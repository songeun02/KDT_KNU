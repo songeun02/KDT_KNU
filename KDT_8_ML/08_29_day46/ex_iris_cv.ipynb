{
 "cells": [
  {
   "cell_type": "markdown",
   "metadata": {},
   "source": [
    "## 붓꽃 품종 분류 \n",
    "- 목표 : 붓꽃의 3개 품종 분류 하기 \n",
    "- 데이터셋 : 내장 데이터셋 사용 \n",
    "- 피쳐 : 품종 1개 \n",
    "- 학습 : 지도학습 - 분류"
   ]
  },
  {
   "cell_type": "markdown",
   "metadata": {},
   "source": [
    "## [1] 데이터 준비"
   ]
  },
  {
   "cell_type": "code",
   "execution_count": 281,
   "metadata": {},
   "outputs": [],
   "source": [
    "# 모듈 로딩\n",
    "from sklearn.datasets import load_iris\n",
    "from sklearn.model_selection import train_test_split\n",
    "import pandas as pd\n",
    "import numpy as np\n",
    "import matplotlib.pyplot as plt "
   ]
  },
  {
   "cell_type": "code",
   "execution_count": 282,
   "metadata": {},
   "outputs": [],
   "source": [
    "# 내장 데이터셋 로딩 \n",
    "\n",
    "data = load_iris(as_frame=True) # as_frame, return_X_y 매개변수 존재"
   ]
  },
  {
   "cell_type": "code",
   "execution_count": 283,
   "metadata": {},
   "outputs": [
    {
     "data": {
      "text/plain": [
       "dict_keys(['data', 'target', 'frame', 'target_names', 'DESCR', 'feature_names', 'filename', 'data_module'])"
      ]
     },
     "execution_count": 283,
     "metadata": {},
     "output_type": "execute_result"
    }
   ],
   "source": [
    "# Bunch 인스턴스 -> dict 와 유사한 형태 \n",
    "data.keys()"
   ]
  },
  {
   "cell_type": "code",
   "execution_count": 284,
   "metadata": {},
   "outputs": [],
   "source": [
    "feature_df = data['data']\n",
    "target_sr = data['target']"
   ]
  },
  {
   "cell_type": "code",
   "execution_count": 285,
   "metadata": {},
   "outputs": [
    {
     "data": {
      "text/plain": [
       "((150, 4), (150,))"
      ]
     },
     "execution_count": 285,
     "metadata": {},
     "output_type": "execute_result"
    }
   ],
   "source": [
    "feature_df.shape, target_sr.shape"
   ]
  },
  {
   "cell_type": "code",
   "execution_count": 286,
   "metadata": {},
   "outputs": [
    {
     "data": {
      "text/html": [
       "<div>\n",
       "<style scoped>\n",
       "    .dataframe tbody tr th:only-of-type {\n",
       "        vertical-align: middle;\n",
       "    }\n",
       "\n",
       "    .dataframe tbody tr th {\n",
       "        vertical-align: top;\n",
       "    }\n",
       "\n",
       "    .dataframe thead th {\n",
       "        text-align: right;\n",
       "    }\n",
       "</style>\n",
       "<table border=\"1\" class=\"dataframe\">\n",
       "  <thead>\n",
       "    <tr style=\"text-align: right;\">\n",
       "      <th></th>\n",
       "      <th>sepal length (cm)</th>\n",
       "      <th>sepal width (cm)</th>\n",
       "      <th>petal length (cm)</th>\n",
       "      <th>petal width (cm)</th>\n",
       "    </tr>\n",
       "  </thead>\n",
       "  <tbody>\n",
       "    <tr>\n",
       "      <th>0</th>\n",
       "      <td>5.1</td>\n",
       "      <td>3.5</td>\n",
       "      <td>1.4</td>\n",
       "      <td>0.2</td>\n",
       "    </tr>\n",
       "  </tbody>\n",
       "</table>\n",
       "</div>"
      ],
      "text/plain": [
       "   sepal length (cm)  sepal width (cm)  petal length (cm)  petal width (cm)\n",
       "0                5.1               3.5                1.4               0.2"
      ]
     },
     "execution_count": 286,
     "metadata": {},
     "output_type": "execute_result"
    }
   ],
   "source": [
    "feature_df.head(1)"
   ]
  },
  {
   "cell_type": "code",
   "execution_count": 287,
   "metadata": {},
   "outputs": [
    {
     "data": {
      "text/plain": [
       "0    0\n",
       "Name: target, dtype: int32"
      ]
     },
     "execution_count": 287,
     "metadata": {},
     "output_type": "execute_result"
    }
   ],
   "source": [
    "target_sr.head(1)"
   ]
  },
  {
   "cell_type": "markdown",
   "metadata": {},
   "source": [
    "## [2] 학습을 위한 데이터셋 준비 -> 학습용, 검증용, 테스트용"
   ]
  },
  {
   "cell_type": "code",
   "execution_count": 288,
   "metadata": {},
   "outputs": [],
   "source": [
    "# 학습용 , 테스트용 분리 \n",
    "\n",
    "x_train, x_test, y_train, y_test = train_test_split(feature_df, target_sr, stratify=target_sr) \n",
    "# 품종이 3가지이므로 비율 신경써야 함 -> stratify 사용 "
   ]
  },
  {
   "cell_type": "code",
   "execution_count": 289,
   "metadata": {},
   "outputs": [],
   "source": [
    "# 학습용, 검증용 분리 \n",
    "# 검증 데이터를 매번 변경 -> 모든 데이터에서 적용 가능하도록 \n",
    "\n",
    "x_train, x_val, y_train, y_val = train_test_split(x_train, y_train, stratify=y_train)"
   ]
  },
  {
   "cell_type": "code",
   "execution_count": 290,
   "metadata": {},
   "outputs": [
    {
     "name": "stdout",
     "output_type": "stream",
     "text": [
      "Train DS : 84\n"
     ]
    }
   ],
   "source": [
    "print(f'Train DS : {x_train.shape[0]}') # feature는 안 봐도 되므로 [0]만 가져옴  "
   ]
  },
  {
   "cell_type": "code",
   "execution_count": 291,
   "metadata": {},
   "outputs": [
    {
     "name": "stdout",
     "output_type": "stream",
     "text": [
      "Train DS : 84    0.56%\n",
      "Val DS : 28    0.19%\n",
      "TEST DS : 38    0.25%\n"
     ]
    }
   ],
   "source": [
    "print(f'Train DS : {x_train.shape[0]}    {x_train.shape[0]/feature_df.shape[0]}%')\n",
    "print(f'Val DS : {x_val.shape[0]}    {x_val.shape[0]/feature_df.shape[0]:.2f}%')\n",
    "print(f'TEST DS : {x_test.shape[0]}    {x_test.shape[0]/feature_df.shape[0]:.2f}%')"
   ]
  },
  {
   "cell_type": "markdown",
   "metadata": {},
   "source": [
    "## [3] 교차검증 분석"
   ]
  },
  {
   "cell_type": "code",
   "execution_count": 292,
   "metadata": {},
   "outputs": [],
   "source": [
    "# 모듈 로딩 \n",
    "from sklearn.model_selection import KFold, StratifiedKFold\n",
    "from sklearn.tree import DecisionTreeClassifier"
   ]
  },
  {
   "cell_type": "code",
   "execution_count": 293,
   "metadata": {},
   "outputs": [],
   "source": [
    "# 모델 인스턴스 생성 \n",
    "dtc_model = DecisionTreeClassifier()"
   ]
  },
  {
   "cell_type": "markdown",
   "metadata": {},
   "source": [
    "### [3-1] Kfold 기반 "
   ]
  },
  {
   "cell_type": "code",
   "execution_count": 294,
   "metadata": {},
   "outputs": [],
   "source": [
    "# 정확도 저장 리스트 \n",
    "\n",
    "accuracys = []\n",
    "\n",
    "# Kfold 인스턴스 생성 [기본 = 5]\n",
    "kfold = KFold()"
   ]
  },
  {
   "cell_type": "code",
   "execution_count": 295,
   "metadata": {},
   "outputs": [
    {
     "name": "stdout",
     "output_type": "stream",
     "text": [
      "train_index : [30, 31, 32, 33, 34, 35, 36, 37, 38, 39, 40, 41, 42, 43, 44, 45, 46, 47, 48, 49, 50, 51, 52, 53, 54, 55, 56, 57, 58, 59, 60, 61, 62, 63, 64, 65, 66, 67, 68, 69, 70, 71, 72, 73, 74, 75, 76, 77, 78, 79, 80, 81, 82, 83, 84, 85, 86, 87, 88, 89, 90, 91, 92, 93, 94, 95, 96, 97, 98, 99, 100, 101, 102, 103, 104, 105, 106, 107, 108, 109, 110, 111, 112, 113, 114, 115, 116, 117, 118, 119, 120, 121, 122, 123, 124, 125, 126, 127, 128, 129, 130, 131, 132, 133, 134, 135, 136, 137, 138, 139, 140, 141, 142, 143, 144, 145, 146, 147, 148, 149]\n",
      "train_index : [0, 1, 2, 3, 4, 5, 6, 7, 8, 9, 10, 11, 12, 13, 14, 15, 16, 17, 18, 19, 20, 21, 22, 23, 24, 25, 26, 27, 28, 29, 60, 61, 62, 63, 64, 65, 66, 67, 68, 69, 70, 71, 72, 73, 74, 75, 76, 77, 78, 79, 80, 81, 82, 83, 84, 85, 86, 87, 88, 89, 90, 91, 92, 93, 94, 95, 96, 97, 98, 99, 100, 101, 102, 103, 104, 105, 106, 107, 108, 109, 110, 111, 112, 113, 114, 115, 116, 117, 118, 119, 120, 121, 122, 123, 124, 125, 126, 127, 128, 129, 130, 131, 132, 133, 134, 135, 136, 137, 138, 139, 140, 141, 142, 143, 144, 145, 146, 147, 148, 149]\n",
      "train_index : [0, 1, 2, 3, 4, 5, 6, 7, 8, 9, 10, 11, 12, 13, 14, 15, 16, 17, 18, 19, 20, 21, 22, 23, 24, 25, 26, 27, 28, 29, 30, 31, 32, 33, 34, 35, 36, 37, 38, 39, 40, 41, 42, 43, 44, 45, 46, 47, 48, 49, 50, 51, 52, 53, 54, 55, 56, 57, 58, 59, 90, 91, 92, 93, 94, 95, 96, 97, 98, 99, 100, 101, 102, 103, 104, 105, 106, 107, 108, 109, 110, 111, 112, 113, 114, 115, 116, 117, 118, 119, 120, 121, 122, 123, 124, 125, 126, 127, 128, 129, 130, 131, 132, 133, 134, 135, 136, 137, 138, 139, 140, 141, 142, 143, 144, 145, 146, 147, 148, 149]\n",
      "train_index : [0, 1, 2, 3, 4, 5, 6, 7, 8, 9, 10, 11, 12, 13, 14, 15, 16, 17, 18, 19, 20, 21, 22, 23, 24, 25, 26, 27, 28, 29, 30, 31, 32, 33, 34, 35, 36, 37, 38, 39, 40, 41, 42, 43, 44, 45, 46, 47, 48, 49, 50, 51, 52, 53, 54, 55, 56, 57, 58, 59, 60, 61, 62, 63, 64, 65, 66, 67, 68, 69, 70, 71, 72, 73, 74, 75, 76, 77, 78, 79, 80, 81, 82, 83, 84, 85, 86, 87, 88, 89, 120, 121, 122, 123, 124, 125, 126, 127, 128, 129, 130, 131, 132, 133, 134, 135, 136, 137, 138, 139, 140, 141, 142, 143, 144, 145, 146, 147, 148, 149]\n",
      "train_index : [0, 1, 2, 3, 4, 5, 6, 7, 8, 9, 10, 11, 12, 13, 14, 15, 16, 17, 18, 19, 20, 21, 22, 23, 24, 25, 26, 27, 28, 29, 30, 31, 32, 33, 34, 35, 36, 37, 38, 39, 40, 41, 42, 43, 44, 45, 46, 47, 48, 49, 50, 51, 52, 53, 54, 55, 56, 57, 58, 59, 60, 61, 62, 63, 64, 65, 66, 67, 68, 69, 70, 71, 72, 73, 74, 75, 76, 77, 78, 79, 80, 81, 82, 83, 84, 85, 86, 87, 88, 89, 90, 91, 92, 93, 94, 95, 96, 97, 98, 99, 100, 101, 102, 103, 104, 105, 106, 107, 108, 109, 110, 111, 112, 113, 114, 115, 116, 117, 118, 119]\n"
     ]
    }
   ],
   "source": [
    "# k번 만큼 k개 학습 진행 \n",
    "# -> k등분 후 학습용 데이터셋 인덱스, 검증용 데이터셋 인덱스 \n",
    "\n",
    "for train_index, val_index in kfold.split(feature_df): # kfold 안에 있는 속성으로 feature_df 를 자동으로 5등분 함 \n",
    "    \n",
    "    print(f'train_index : {train_index.tolist()}')\n",
    "\n",
    "    # x_trian, x_val 데이터셋 설정 \n",
    "\n",
    "    x_train, y_train = feature_df.iloc[train_index.tolist()], target_sr[train_index.tolist()]\n",
    "    x_val, y_val = feature_df.iloc[val_index.tolist()], target_sr[val_index.tolist()]\n",
    "\n",
    "\n",
    "    # 학습 진행 \n",
    "    dtc_model.fit(x_train, y_train)\n",
    "\n",
    "    # 평가 \n",
    "    accuracy = dtc_model.score(x_val, y_val)\n",
    "    accuracys.append(accuracy)"
   ]
  },
  {
   "cell_type": "code",
   "execution_count": 296,
   "metadata": {},
   "outputs": [
    {
     "name": "stdout",
     "output_type": "stream",
     "text": [
      "[0번째] Train 정확도 : 1.0  Val 정확도 : 1.0\n",
      "[1번째] Train 정확도 : 1.0  Val 정확도 : 1.0\n",
      "[2번째] Train 정확도 : 1.0  Val 정확도 : 0.8333333333333334\n",
      "[3번째] Train 정확도 : 1.0  Val 정확도 : 0.9333333333333333\n",
      "[4번째] Train 정확도 : 1.0  Val 정확도 : 0.8\n"
     ]
    }
   ],
   "source": [
    "# 위의 코드에서 enumerate 사용 \n",
    "\n",
    "accuracys = []\n",
    "\n",
    "for idx, (train_index, val_index) in enumerate(kfold.split(feature_df)): \n",
    "    # enumerate(kfold.split(feature_df),1) 주면 1부터 시작 \n",
    "    \n",
    "    # print(f'train_index : {train_index.tolist()}')\n",
    "\n",
    "    # x_trian, x_val 데이터셋 설정 \n",
    "\n",
    "    x_train, y_train = feature_df.iloc[train_index.tolist()], target_sr[train_index.tolist()]\n",
    "    x_val, y_val = feature_df.iloc[val_index.tolist()], target_sr[val_index.tolist()]\n",
    "\n",
    "\n",
    "    # 학습 진행 \n",
    "    dtc_model.fit(x_train, y_train)\n",
    "\n",
    "    # 평가 -> 분류의 경우 score() 메서드 => 정확도 반환 \n",
    "    train_acc = dtc_model.score(x_train, y_train)\n",
    "    val_acc = dtc_model.score(x_val, y_val)\n",
    "\n",
    "    accuracys.append([train_acc, val_acc])\n",
    "    print(f'[{idx}번째] Train 정확도 : {train_acc}  Val 정확도 : {val_acc}')"
   ]
  },
  {
   "cell_type": "code",
   "execution_count": 297,
   "metadata": {},
   "outputs": [
    {
     "name": "stdout",
     "output_type": "stream",
     "text": [
      "Train 정확도 : 1.0, Val 정확도 : 0.91\n"
     ]
    }
   ],
   "source": [
    "# 평균 계산 \n",
    "train_mean = sum([value[0] for value in accuracys]) / kfold.n_splits\n",
    "val_mean = sum([value[1] for value in accuracys]) / kfold.n_splits\n",
    "\n",
    "print(f'Train 정확도 : {train_mean}, Val 정확도 : {val_mean:.2f}')"
   ]
  },
  {
   "cell_type": "code",
   "execution_count": 298,
   "metadata": {},
   "outputs": [
    {
     "data": {
      "text/plain": [
       "[[1.0, 1.0],\n",
       " [1.0, 1.0],\n",
       " [1.0, 0.8333333333333334],\n",
       " [1.0, 0.9333333333333333],\n",
       " [1.0, 0.8]]"
      ]
     },
     "execution_count": 298,
     "metadata": {},
     "output_type": "execute_result"
    }
   ],
   "source": [
    "accuracys"
   ]
  },
  {
   "cell_type": "markdown",
   "metadata": {},
   "source": [
    "### [3-2] StratifiedKFold \n",
    "- 정답/레이블/타겟의 비율을 고려해서 데이터 나눔 "
   ]
  },
  {
   "cell_type": "code",
   "execution_count": 299,
   "metadata": {},
   "outputs": [
    {
     "name": "stdout",
     "output_type": "stream",
     "text": [
      "[1번째] Train 정확도 : 1.0  Val 정확도 : 0.9666666666666667\n",
      "[2번째] Train 정확도 : 1.0  Val 정확도 : 0.9666666666666667\n",
      "[3번째] Train 정확도 : 1.0  Val 정확도 : 0.9\n",
      "[4번째] Train 정확도 : 1.0  Val 정확도 : 0.9333333333333333\n",
      "[5번째] Train 정확도 : 1.0  Val 정확도 : 1.0\n"
     ]
    }
   ],
   "source": [
    "accuracys = []\n",
    "\n",
    "skFold = StratifiedKFold()\n",
    "\n",
    "for idx, (train_index, val_index) in enumerate(skFold.split(feature_df, target_sr),1): \n",
    "    # 타겟의 비율에 맞게 나누기 때문에 split 할 때 target 데이터 제공해야 함     \n",
    "\n",
    "    # x_trian, x_val 데이터셋 설정 \n",
    "    x_train, y_train = feature_df.iloc[train_index.tolist()], target_sr[train_index.tolist()]\n",
    "    x_val, y_val = feature_df.iloc[val_index.tolist()], target_sr[val_index.tolist()]\n",
    "\n",
    "\n",
    "    # 학습 진행 \n",
    "    dtc_model.fit(x_train, y_train)\n",
    "\n",
    "    # 평가 -> 분류의 경우 score() 메서드 => 정확도 반환 \n",
    "    train_acc = dtc_model.score(x_train, y_train)\n",
    "    val_acc = dtc_model.score(x_val, y_val)\n",
    "\n",
    "    accuracys.append([train_acc, val_acc])\n",
    "    print(f'[{idx}번째] Train 정확도 : {train_acc}  Val 정확도 : {val_acc}')"
   ]
  },
  {
   "cell_type": "code",
   "execution_count": 300,
   "metadata": {},
   "outputs": [
    {
     "name": "stdout",
     "output_type": "stream",
     "text": [
      "Train 정확도 : 1.0, Val 정확도 : 0.95\n"
     ]
    }
   ],
   "source": [
    "# 평균 계산 \n",
    "train_mean = sum([value[0] for value in accuracys]) / skFold.n_splits\n",
    "val_mean = sum([value[1] for value in accuracys]) / skFold.n_splits\n",
    "\n",
    "print(f'Train 정확도 : {train_mean}, Val 정확도 : {val_mean:.2f}')"
   ]
  },
  {
   "cell_type": "markdown",
   "metadata": {},
   "source": [
    "교차 검증 및 성능 평가 동시 진행 함수\n",
    "- cross_val_score, cross_val_predict\n",
    "- cross_validate"
   ]
  },
  {
   "cell_type": "code",
   "execution_count": 301,
   "metadata": {},
   "outputs": [],
   "source": [
    "from sklearn.model_selection import cross_val_predict, cross_val_score, cross_validate\n",
    "\n",
    "# 주로 cross_validate 사용 "
   ]
  },
  {
   "cell_type": "code",
   "execution_count": 302,
   "metadata": {},
   "outputs": [],
   "source": [
    "# [1] 전체 DS -> 학습용과 테스트용 DS 분리\n",
    "\n",
    "x_train, x_test, y_train, y_test = train_test_split(feature_df, target_sr, stratify= target_sr)"
   ]
  },
  {
   "cell_type": "code",
   "execution_count": 303,
   "metadata": {},
   "outputs": [
    {
     "name": "stdout",
     "output_type": "stream",
     "text": [
      "predict : [0 0 0 2 1 0 2 2 2 0 1 0 0 1 0 2 1 0 0 0 2 1 1 0 0 0 1 2 1 1 1 1 1 0 0 1 1\n",
      " 1 0 1 2 1 2 0 1 1 0 2 0 2 0 2 0 1 1 0 2 2 2 2 1 2 2 2 0 0 1 2 2 0 1 1 1 0\n",
      " 1 2 1 0 0 0 2 0 1 1 1 1 0 1 2 2 1 2 1 2 1 2 0 0 2 1 0 1 1 2 2 1 0 2 2 2 1\n",
      " 0]\n"
     ]
    }
   ],
   "source": [
    "# cross_val_predict\n",
    "predict = cross_val_predict(dtc_model, x_train, y_train)\n",
    "\n",
    "print(f'predict : {predict}')"
   ]
  },
  {
   "cell_type": "code",
   "execution_count": 304,
   "metadata": {},
   "outputs": [
    {
     "name": "stdout",
     "output_type": "stream",
     "text": [
      "predict : [0 0 0 2 1 0 2 2 2 0 1 0 0 1 0 2 1 0 0 0 2 1 1 0 0 0 1 2 1 1 1 1 1 0 0 1 1\n",
      " 1 0 1 2 1 2 0 1 1 0 2 0 2 0 2 0 1 1 0 2 2 2 2 1 2 2 2 0 0 1 1 2 0 1 1 1 0\n",
      " 1 2 1 0 0 0 2 0 1 1 1 1 0 1 2 2 2 2 1 2 1 2 0 0 2 1 0 1 1 2 2 1 0 2 2 2 1\n",
      " 0]\n"
     ]
    }
   ],
   "source": [
    "predict = cross_val_predict(dtc_model, x_train, y_train,cv = 3)\n",
    "\n",
    "print(f'predict : {predict}')"
   ]
  },
  {
   "cell_type": "code",
   "execution_count": 305,
   "metadata": {},
   "outputs": [
    {
     "data": {
      "text/plain": [
       "array([0.95652174, 0.91304348, 0.86363636, 0.90909091, 0.95454545])"
      ]
     },
     "execution_count": 305,
     "metadata": {},
     "output_type": "execute_result"
    }
   ],
   "source": [
    "# cross_val_score\n",
    "cross_val_score(dtc_model,x_train,y_train)"
   ]
  },
  {
   "cell_type": "code",
   "execution_count": 306,
   "metadata": {},
   "outputs": [
    {
     "data": {
      "text/plain": [
       "{'fit_time': array([0.        , 0.01234794, 0.        , 0.        , 0.01200461]),\n",
       " 'score_time': array([0.        , 0.00151014, 0.        , 0.        , 0.00144196]),\n",
       " 'test_score': array([0.95652174, 0.91304348, 0.90909091, 0.90909091, 0.95454545])}"
      ]
     },
     "execution_count": 306,
     "metadata": {},
     "output_type": "execute_result"
    }
   ],
   "source": [
    "# crss_validate\n",
    "cross_validate(dtc_model, x_train, y_train)\n",
    "\n",
    "# 기본 5개로 쪼개고 훈련 시간과 score 함께 출력 "
   ]
  },
  {
   "cell_type": "code",
   "execution_count": 307,
   "metadata": {},
   "outputs": [
    {
     "data": {
      "text/plain": [
       "{'fit_time': array([0.        , 0.00926137, 0.        , 0.        , 0.        ]),\n",
       " 'score_time': array([0.        , 0.        , 0.00800037, 0.        , 0.0044682 ]),\n",
       " 'test_score': array([0.95652174, 0.91304348, 0.90909091, 0.90909091, 0.95454545]),\n",
       " 'train_score': array([1., 1., 1., 1., 1.])}"
      ]
     },
     "execution_count": 307,
     "metadata": {},
     "output_type": "execute_result"
    }
   ],
   "source": [
    "cross_validate(dtc_model, x_train, y_train, return_train_score=True)"
   ]
  },
  {
   "cell_type": "code",
   "execution_count": 308,
   "metadata": {},
   "outputs": [
    {
     "data": {
      "text/plain": [
       "{'fit_time': array([0., 0., 0., 0., 0.]),\n",
       " 'score_time': array([0.        , 0.01029229, 0.00700879, 0.        , 0.        ]),\n",
       " 'estimator': [DecisionTreeClassifier(),\n",
       "  DecisionTreeClassifier(),\n",
       "  DecisionTreeClassifier(),\n",
       "  DecisionTreeClassifier(),\n",
       "  DecisionTreeClassifier()],\n",
       " 'test_score': array([0.95652174, 0.91304348, 0.90909091, 0.90909091, 0.95454545]),\n",
       " 'train_score': array([1., 1., 1., 1., 1.])}"
      ]
     },
     "execution_count": 308,
     "metadata": {},
     "output_type": "execute_result"
    }
   ],
   "source": [
    "result = cross_validate(dtc_model, x_train, y_train, return_train_score=True, return_estimator=True)\n",
    "result\n",
    "# return_estimator=True : 사용된 모델의 인스턴스를 함께 제공 \n",
    "# 학습용 데이터 제공 , 아무것도 안 줘서 기본으로 5개 쪼갬 \n",
    "# cv = 10으로 제공하면 10개로 쪼개서 10개가 나옴 \n",
    "# -> 많이 쪼갠다고 좋은 것 아님 => 검증 데이터가 적어짐 \n",
    "# -> default : 5인 이유는 일반적으로 적합 "
   ]
  },
  {
   "cell_type": "code",
   "execution_count": 309,
   "metadata": {},
   "outputs": [],
   "source": [
    "result_df = pd.DataFrame(result)"
   ]
  },
  {
   "cell_type": "code",
   "execution_count": 310,
   "metadata": {},
   "outputs": [
    {
     "data": {
      "text/html": [
       "<div>\n",
       "<style scoped>\n",
       "    .dataframe tbody tr th:only-of-type {\n",
       "        vertical-align: middle;\n",
       "    }\n",
       "\n",
       "    .dataframe tbody tr th {\n",
       "        vertical-align: top;\n",
       "    }\n",
       "\n",
       "    .dataframe thead th {\n",
       "        text-align: right;\n",
       "    }\n",
       "</style>\n",
       "<table border=\"1\" class=\"dataframe\">\n",
       "  <thead>\n",
       "    <tr style=\"text-align: right;\">\n",
       "      <th></th>\n",
       "      <th>fit_time</th>\n",
       "      <th>score_time</th>\n",
       "      <th>estimator</th>\n",
       "      <th>test_score</th>\n",
       "      <th>train_score</th>\n",
       "    </tr>\n",
       "  </thead>\n",
       "  <tbody>\n",
       "    <tr>\n",
       "      <th>0</th>\n",
       "      <td>0.0</td>\n",
       "      <td>0.000000</td>\n",
       "      <td>DecisionTreeClassifier()</td>\n",
       "      <td>0.956522</td>\n",
       "      <td>1.0</td>\n",
       "    </tr>\n",
       "    <tr>\n",
       "      <th>1</th>\n",
       "      <td>0.0</td>\n",
       "      <td>0.010292</td>\n",
       "      <td>DecisionTreeClassifier()</td>\n",
       "      <td>0.913043</td>\n",
       "      <td>1.0</td>\n",
       "    </tr>\n",
       "    <tr>\n",
       "      <th>2</th>\n",
       "      <td>0.0</td>\n",
       "      <td>0.007009</td>\n",
       "      <td>DecisionTreeClassifier()</td>\n",
       "      <td>0.909091</td>\n",
       "      <td>1.0</td>\n",
       "    </tr>\n",
       "    <tr>\n",
       "      <th>3</th>\n",
       "      <td>0.0</td>\n",
       "      <td>0.000000</td>\n",
       "      <td>DecisionTreeClassifier()</td>\n",
       "      <td>0.909091</td>\n",
       "      <td>1.0</td>\n",
       "    </tr>\n",
       "    <tr>\n",
       "      <th>4</th>\n",
       "      <td>0.0</td>\n",
       "      <td>0.000000</td>\n",
       "      <td>DecisionTreeClassifier()</td>\n",
       "      <td>0.954545</td>\n",
       "      <td>1.0</td>\n",
       "    </tr>\n",
       "  </tbody>\n",
       "</table>\n",
       "</div>"
      ],
      "text/plain": [
       "   fit_time  score_time                 estimator  test_score  train_score\n",
       "0       0.0    0.000000  DecisionTreeClassifier()    0.956522          1.0\n",
       "1       0.0    0.010292  DecisionTreeClassifier()    0.913043          1.0\n",
       "2       0.0    0.007009  DecisionTreeClassifier()    0.909091          1.0\n",
       "3       0.0    0.000000  DecisionTreeClassifier()    0.909091          1.0\n",
       "4       0.0    0.000000  DecisionTreeClassifier()    0.954545          1.0"
      ]
     },
     "execution_count": 310,
     "metadata": {},
     "output_type": "execute_result"
    }
   ],
   "source": [
    "result_df"
   ]
  },
  {
   "cell_type": "code",
   "execution_count": 311,
   "metadata": {},
   "outputs": [
    {
     "data": {
      "text/html": [
       "<div>\n",
       "<style scoped>\n",
       "    .dataframe tbody tr th:only-of-type {\n",
       "        vertical-align: middle;\n",
       "    }\n",
       "\n",
       "    .dataframe tbody tr th {\n",
       "        vertical-align: top;\n",
       "    }\n",
       "\n",
       "    .dataframe thead th {\n",
       "        text-align: right;\n",
       "    }\n",
       "</style>\n",
       "<table border=\"1\" class=\"dataframe\">\n",
       "  <thead>\n",
       "    <tr style=\"text-align: right;\">\n",
       "      <th></th>\n",
       "      <th>test_score</th>\n",
       "      <th>train_score</th>\n",
       "    </tr>\n",
       "  </thead>\n",
       "  <tbody>\n",
       "    <tr>\n",
       "      <th>0</th>\n",
       "      <td>0.956522</td>\n",
       "      <td>1.0</td>\n",
       "    </tr>\n",
       "    <tr>\n",
       "      <th>1</th>\n",
       "      <td>0.913043</td>\n",
       "      <td>1.0</td>\n",
       "    </tr>\n",
       "    <tr>\n",
       "      <th>2</th>\n",
       "      <td>0.909091</td>\n",
       "      <td>1.0</td>\n",
       "    </tr>\n",
       "    <tr>\n",
       "      <th>3</th>\n",
       "      <td>0.909091</td>\n",
       "      <td>1.0</td>\n",
       "    </tr>\n",
       "    <tr>\n",
       "      <th>4</th>\n",
       "      <td>0.954545</td>\n",
       "      <td>1.0</td>\n",
       "    </tr>\n",
       "  </tbody>\n",
       "</table>\n",
       "</div>"
      ],
      "text/plain": [
       "   test_score  train_score\n",
       "0    0.956522          1.0\n",
       "1    0.913043          1.0\n",
       "2    0.909091          1.0\n",
       "3    0.909091          1.0\n",
       "4    0.954545          1.0"
      ]
     },
     "execution_count": 311,
     "metadata": {},
     "output_type": "execute_result"
    }
   ],
   "source": [
    "result_df = result_df.loc[:, ['test_score','train_score']]\n",
    "result_df\n",
    "\n",
    "# 둘의 차이가 가장 적은 모델이 가장 좋은 모델 \n",
    "# 1.0 1.0으로 나오면 과대적합 의심 "
   ]
  },
  {
   "cell_type": "markdown",
   "metadata": {},
   "source": [
    "최적화된 모델 추출"
   ]
  },
  {
   "cell_type": "code",
   "execution_count": 312,
   "metadata": {},
   "outputs": [
    {
     "data": {
      "text/html": [
       "<style>#sk-container-id-4 {color: black;}#sk-container-id-4 pre{padding: 0;}#sk-container-id-4 div.sk-toggleable {background-color: white;}#sk-container-id-4 label.sk-toggleable__label {cursor: pointer;display: block;width: 100%;margin-bottom: 0;padding: 0.3em;box-sizing: border-box;text-align: center;}#sk-container-id-4 label.sk-toggleable__label-arrow:before {content: \"▸\";float: left;margin-right: 0.25em;color: #696969;}#sk-container-id-4 label.sk-toggleable__label-arrow:hover:before {color: black;}#sk-container-id-4 div.sk-estimator:hover label.sk-toggleable__label-arrow:before {color: black;}#sk-container-id-4 div.sk-toggleable__content {max-height: 0;max-width: 0;overflow: hidden;text-align: left;background-color: #f0f8ff;}#sk-container-id-4 div.sk-toggleable__content pre {margin: 0.2em;color: black;border-radius: 0.25em;background-color: #f0f8ff;}#sk-container-id-4 input.sk-toggleable__control:checked~div.sk-toggleable__content {max-height: 200px;max-width: 100%;overflow: auto;}#sk-container-id-4 input.sk-toggleable__control:checked~label.sk-toggleable__label-arrow:before {content: \"▾\";}#sk-container-id-4 div.sk-estimator input.sk-toggleable__control:checked~label.sk-toggleable__label {background-color: #d4ebff;}#sk-container-id-4 div.sk-label input.sk-toggleable__control:checked~label.sk-toggleable__label {background-color: #d4ebff;}#sk-container-id-4 input.sk-hidden--visually {border: 0;clip: rect(1px 1px 1px 1px);clip: rect(1px, 1px, 1px, 1px);height: 1px;margin: -1px;overflow: hidden;padding: 0;position: absolute;width: 1px;}#sk-container-id-4 div.sk-estimator {font-family: monospace;background-color: #f0f8ff;border: 1px dotted black;border-radius: 0.25em;box-sizing: border-box;margin-bottom: 0.5em;}#sk-container-id-4 div.sk-estimator:hover {background-color: #d4ebff;}#sk-container-id-4 div.sk-parallel-item::after {content: \"\";width: 100%;border-bottom: 1px solid gray;flex-grow: 1;}#sk-container-id-4 div.sk-label:hover label.sk-toggleable__label {background-color: #d4ebff;}#sk-container-id-4 div.sk-serial::before {content: \"\";position: absolute;border-left: 1px solid gray;box-sizing: border-box;top: 0;bottom: 0;left: 50%;z-index: 0;}#sk-container-id-4 div.sk-serial {display: flex;flex-direction: column;align-items: center;background-color: white;padding-right: 0.2em;padding-left: 0.2em;position: relative;}#sk-container-id-4 div.sk-item {position: relative;z-index: 1;}#sk-container-id-4 div.sk-parallel {display: flex;align-items: stretch;justify-content: center;background-color: white;position: relative;}#sk-container-id-4 div.sk-item::before, #sk-container-id-4 div.sk-parallel-item::before {content: \"\";position: absolute;border-left: 1px solid gray;box-sizing: border-box;top: 0;bottom: 0;left: 50%;z-index: -1;}#sk-container-id-4 div.sk-parallel-item {display: flex;flex-direction: column;z-index: 1;position: relative;background-color: white;}#sk-container-id-4 div.sk-parallel-item:first-child::after {align-self: flex-end;width: 50%;}#sk-container-id-4 div.sk-parallel-item:last-child::after {align-self: flex-start;width: 50%;}#sk-container-id-4 div.sk-parallel-item:only-child::after {width: 0;}#sk-container-id-4 div.sk-dashed-wrapped {border: 1px dashed gray;margin: 0 0.4em 0.5em 0.4em;box-sizing: border-box;padding-bottom: 0.4em;background-color: white;}#sk-container-id-4 div.sk-label label {font-family: monospace;font-weight: bold;display: inline-block;line-height: 1.2em;}#sk-container-id-4 div.sk-label-container {text-align: center;}#sk-container-id-4 div.sk-container {/* jupyter's `normalize.less` sets `[hidden] { display: none; }` but bootstrap.min.css set `[hidden] { display: none !important; }` so we also need the `!important` here to be able to override the default hidden behavior on the sphinx rendered scikit-learn.org. See: https://github.com/scikit-learn/scikit-learn/issues/21755 */display: inline-block !important;position: relative;}#sk-container-id-4 div.sk-text-repr-fallback {display: none;}</style><div id=\"sk-container-id-4\" class=\"sk-top-container\"><div class=\"sk-text-repr-fallback\"><pre>DecisionTreeClassifier()</pre><b>In a Jupyter environment, please rerun this cell to show the HTML representation or trust the notebook. <br />On GitHub, the HTML representation is unable to render, please try loading this page with nbviewer.org.</b></div><div class=\"sk-container\" hidden><div class=\"sk-item\"><div class=\"sk-estimator sk-toggleable\"><input class=\"sk-toggleable__control sk-hidden--visually\" id=\"sk-estimator-id-4\" type=\"checkbox\" checked><label for=\"sk-estimator-id-4\" class=\"sk-toggleable__label sk-toggleable__label-arrow\">DecisionTreeClassifier</label><div class=\"sk-toggleable__content\"><pre>DecisionTreeClassifier()</pre></div></div></div></div></div>"
      ],
      "text/plain": [
       "DecisionTreeClassifier()"
      ]
     },
     "execution_count": 312,
     "metadata": {},
     "output_type": "execute_result"
    }
   ],
   "source": [
    "best_model = result['estimator'][1]\n",
    "best_model"
   ]
  },
  {
   "cell_type": "markdown",
   "metadata": {},
   "source": [
    "테스트 데이터로 확인"
   ]
  },
  {
   "cell_type": "code",
   "execution_count": 313,
   "metadata": {},
   "outputs": [
    {
     "data": {
      "text/plain": [
       "array([0, 0, 1, 2, 1, 2, 2, 0, 1, 2, 0, 2, 1, 1, 0, 0, 2, 0, 2, 1, 0, 0,\n",
       "       1, 1, 0, 0, 2, 1, 1, 2, 0, 2, 1, 2, 2, 0, 1, 1])"
      ]
     },
     "execution_count": 313,
     "metadata": {},
     "output_type": "execute_result"
    }
   ],
   "source": [
    "best_model.predict(x_test)"
   ]
  },
  {
   "cell_type": "code",
   "execution_count": 314,
   "metadata": {},
   "outputs": [
    {
     "data": {
      "text/plain": [
       "0.9736842105263158"
      ]
     },
     "execution_count": 314,
     "metadata": {},
     "output_type": "execute_result"
    }
   ],
   "source": [
    "best_model.score(x_test,y_test)"
   ]
  },
  {
   "cell_type": "code",
   "execution_count": null,
   "metadata": {},
   "outputs": [],
   "source": []
  }
 ],
 "metadata": {
  "kernelspec": {
   "display_name": "ML_38",
   "language": "python",
   "name": "python3"
  },
  "language_info": {
   "codemirror_mode": {
    "name": "ipython",
    "version": 3
   },
   "file_extension": ".py",
   "mimetype": "text/x-python",
   "name": "python",
   "nbconvert_exporter": "python",
   "pygments_lexer": "ipython3",
   "version": "3.8.19"
  }
 },
 "nbformat": 4,
 "nbformat_minor": 2
}
