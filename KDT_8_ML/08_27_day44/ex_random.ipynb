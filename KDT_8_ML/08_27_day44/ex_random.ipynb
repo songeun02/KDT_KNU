{
 "cells": [
  {
   "cell_type": "markdown",
   "metadata": {},
   "source": [
    "# 임의의 숫자, 난수 추출 \n",
    "- random 모듈 존재 \n",
    "- 0.0 ~ 1.0 실수 추출 \n",
    "- n ~ m 정수 추출 \n",
    "- random값 고정 -> seed 기능 "
   ]
  },
  {
   "cell_type": "code",
   "execution_count": 1,
   "metadata": {},
   "outputs": [],
   "source": [
    "import random"
   ]
  },
  {
   "cell_type": "code",
   "execution_count": 11,
   "metadata": {},
   "outputs": [
    {
     "data": {
      "text/plain": [
       "8"
      ]
     },
     "execution_count": 11,
     "metadata": {},
     "output_type": "execute_result"
    }
   ],
   "source": [
    "random.randint(1,10) # 정수 출력"
   ]
  },
  {
   "cell_type": "code",
   "execution_count": 7,
   "metadata": {},
   "outputs": [
    {
     "name": "stdout",
     "output_type": "stream",
     "text": [
      "8\n",
      "8\n",
      "6\n",
      "5\n",
      "7\n",
      "7\n",
      "1\n",
      "6\n",
      "5\n",
      "1\n"
     ]
    }
   ],
   "source": [
    "for _ in range(10):\n",
    "    print(random.randint(1,10))"
   ]
  },
  {
   "cell_type": "code",
   "execution_count": 10,
   "metadata": {},
   "outputs": [
    {
     "data": {
      "text/plain": [
       "0.14831037682432968"
      ]
     },
     "execution_count": 10,
     "metadata": {},
     "output_type": "execute_result"
    }
   ],
   "source": [
    "random.random() # 실수 출력"
   ]
  },
  {
   "cell_type": "code",
   "execution_count": 12,
   "metadata": {},
   "outputs": [
    {
     "name": "stdout",
     "output_type": "stream",
     "text": [
      "0.8320830461639963\n",
      "0.8797018516830252\n",
      "0.6897471984815351\n",
      "0.24576895366379714\n",
      "0.6375559309687541\n",
      "0.2378516374904509\n",
      "0.49513607013585204\n",
      "0.47509146196948615\n",
      "0.5618255894579517\n",
      "0.8659910910619286\n"
     ]
    }
   ],
   "source": [
    "for _ in range(10):\n",
    "    print(random.random())"
   ]
  },
  {
   "cell_type": "code",
   "execution_count": 15,
   "metadata": {},
   "outputs": [
    {
     "name": "stdout",
     "output_type": "stream",
     "text": [
      "0.47009071843107064\n",
      "0.7282642914232076\n",
      "0.3037513583913575\n",
      "0.8872982690000151\n",
      "0.41008858946872573\n",
      "0.7166143935816427\n",
      "0.26522113780066725\n",
      "0.24516664919367304\n",
      "0.8125816265884215\n",
      "0.49830138202139995\n"
     ]
    }
   ],
   "source": [
    "random.seed(2024) # seed : random 테이블에서 입력한 번호에 있는 숫자에 대해 난수 추출 \n",
    "for _ in range(10):\n",
    "    print(random.random()) "
   ]
  },
  {
   "cell_type": "code",
   "execution_count": 16,
   "metadata": {},
   "outputs": [],
   "source": [
    "x = [[10],[3],[9],[5],[8],\n",
    "     [7],[12],[67],[91],[45],\n",
    "     [2],[17]]\n",
    "y = [1,2,3,4,5,6,7,8,9,10,11,12]"
   ]
  },
  {
   "cell_type": "code",
   "execution_count": 17,
   "metadata": {},
   "outputs": [],
   "source": [
    "from sklearn.model_selection import train_test_split"
   ]
  },
  {
   "cell_type": "code",
   "execution_count": 29,
   "metadata": {},
   "outputs": [
    {
     "name": "stdout",
     "output_type": "stream",
     "text": [
      "x : [[10], [3], [9], [5], [8], [7], [12], [67], [91], [45], [2], [17]]\n",
      "x_train : [[10], [3], [9], [5], [8], [7], [12], [67], [91]]\n",
      "x_test: [[45], [2], [17]]\n"
     ]
    }
   ],
   "source": [
    "# 섞지 않고 학습용/ 테스트용 데이터셋 분리 \n",
    "\n",
    "x_train, x_test, y_train, y_test = train_test_split(x,y,shuffle=False)\n",
    "# shuffle=False : 섞지 않음 \n",
    "# -> 순서대로 나뉨 \n",
    "# default : True\n",
    "\n",
    "print(f'x : {x}')\n",
    "print(f'x_train : {x_train}')\n",
    "print(f'x_test: {x_test}')"
   ]
  },
  {
   "cell_type": "code",
   "execution_count": 30,
   "metadata": {},
   "outputs": [
    {
     "name": "stdout",
     "output_type": "stream",
     "text": [
      "x : [[10], [3], [9], [5], [8], [7], [12], [67], [91], [45], [2], [17]]\n",
      "x_train : [[45], [91], [17], [67], [12], [5], [10], [3], [8]]\n",
      "x_test: [[9], [7], [2]]\n"
     ]
    }
   ],
   "source": [
    "# 섞어서 학습용/ 테스트용 데이터셋 분리 \n",
    "\n",
    "x_train, x_test, y_train, y_test = train_test_split(x,y)\n",
    "\n",
    "print(f'x : {x}')\n",
    "print(f'x_train : {x_train}')\n",
    "print(f'x_test: {x_test}')"
   ]
  },
  {
   "cell_type": "code",
   "execution_count": 33,
   "metadata": {},
   "outputs": [
    {
     "name": "stdout",
     "output_type": "stream",
     "text": [
      "x : [[10], [3], [9], [5], [8], [7], [12], [67], [91], [45], [2], [17]]\n",
      "x_train : [[7], [17], [91], [2], [5], [3], [10], [8], [45]]\n",
      "x_test: [[9], [12], [67]]\n"
     ]
    }
   ],
   "source": [
    "# 섞어서 학습용/ 테스트용 데이터셋 분리 \n",
    "# random에서 seed 설정 역할 매개변수 -> random_state -> 고정 \n",
    "\n",
    "x_train, x_test, y_train, y_test = train_test_split(x,y, random_state=10)\n",
    "\n",
    "print(f'x : {x}')\n",
    "print(f'x_train : {x_train}')\n",
    "print(f'x_test: {x_test}')"
   ]
  },
  {
   "cell_type": "code",
   "execution_count": null,
   "metadata": {},
   "outputs": [],
   "source": []
  }
 ],
 "metadata": {
  "kernelspec": {
   "display_name": "ML_38",
   "language": "python",
   "name": "python3"
  },
  "language_info": {
   "codemirror_mode": {
    "name": "ipython",
    "version": 3
   },
   "file_extension": ".py",
   "mimetype": "text/x-python",
   "name": "python",
   "nbconvert_exporter": "python",
   "pygments_lexer": "ipython3",
   "version": "3.8.19"
  }
 },
 "nbformat": 4,
 "nbformat_minor": 2
}
