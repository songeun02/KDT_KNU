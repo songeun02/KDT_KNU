{
 "cells": [
  {
   "cell_type": "markdown",
   "metadata": {},
   "source": [
    "# 클래스와 인스턴스"
   ]
  },
  {
   "cell_type": "code",
   "execution_count": 16,
   "metadata": {},
   "outputs": [],
   "source": [
    "# 임시 데이터 생성 \n",
    "import random\n",
    "data = []\n",
    "\n",
    "random.seed(10)\n",
    "for _ in range(30):\n",
    "    data.append([random.randint(1,50)])\n"
   ]
  },
  {
   "cell_type": "code",
   "execution_count": 17,
   "metadata": {},
   "outputs": [
    {
     "data": {
      "text/plain": [
       "[[37],\n",
       " [3],\n",
       " [28],\n",
       " [31],\n",
       " [37],\n",
       " [1],\n",
       " [14],\n",
       " [30],\n",
       " [32],\n",
       " [18],\n",
       " [42],\n",
       " [11],\n",
       " [3],\n",
       " [34],\n",
       " [32],\n",
       " [21],\n",
       " [5],\n",
       " [16],\n",
       " [48],\n",
       " [24],\n",
       " [3],\n",
       " [27],\n",
       " [9],\n",
       " [39],\n",
       " [23],\n",
       " [25],\n",
       " [27],\n",
       " [19],\n",
       " [44],\n",
       " [17]]"
      ]
     },
     "execution_count": 17,
     "metadata": {},
     "output_type": "execute_result"
    }
   ],
   "source": [
    "data"
   ]
  },
  {
   "cell_type": "code",
   "execution_count": 18,
   "metadata": {},
   "outputs": [
    {
     "data": {
      "text/plain": [
       "([1], [48])"
      ]
     },
     "execution_count": 18,
     "metadata": {},
     "output_type": "execute_result"
    }
   ],
   "source": [
    "# 스케일러에서 fit()시에 진행\n",
    "min(data), max(data)"
   ]
  },
  {
   "cell_type": "code",
   "execution_count": 19,
   "metadata": {},
   "outputs": [
    {
     "data": {
      "text/plain": [
       "48"
      ]
     },
     "execution_count": 19,
     "metadata": {},
     "output_type": "execute_result"
    }
   ],
   "source": [
    "max(data)[0]"
   ]
  },
  {
   "cell_type": "code",
   "execution_count": 20,
   "metadata": {},
   "outputs": [],
   "source": [
    "# 스케일러에서 transform()시에 0 ~ 1 사이 값으로 전부 변환 \n",
    "result = [d[0]/max(data)[0] for d in data]\n",
    "\n",
    "# 이미지에서는 최대값으로 나누는 것 사용\n",
    "# - 이미지에는 음수가 없으므로"
   ]
  },
  {
   "cell_type": "markdown",
   "metadata": {},
   "source": [
    "inverse_tranform 사용하면 scaled된 것을 다시 돌려줌"
   ]
  },
  {
   "cell_type": "code",
   "execution_count": 21,
   "metadata": {},
   "outputs": [
    {
     "data": {
      "text/plain": [
       "(0.020833333333333332, 1.0)"
      ]
     },
     "execution_count": 21,
     "metadata": {},
     "output_type": "execute_result"
    }
   ],
   "source": [
    "min(result), max(result)"
   ]
  },
  {
   "cell_type": "code",
   "execution_count": null,
   "metadata": {},
   "outputs": [],
   "source": []
  }
 ],
 "metadata": {
  "kernelspec": {
   "display_name": "ML_38",
   "language": "python",
   "name": "python3"
  },
  "language_info": {
   "codemirror_mode": {
    "name": "ipython",
    "version": 3
   },
   "file_extension": ".py",
   "mimetype": "text/x-python",
   "name": "python",
   "nbconvert_exporter": "python",
   "pygments_lexer": "ipython3",
   "version": "3.8.19"
  }
 },
 "nbformat": 4,
 "nbformat_minor": 2
}
