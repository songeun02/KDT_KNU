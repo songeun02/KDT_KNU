{
 "cells": [
  {
   "cell_type": "markdown",
   "metadata": {},
   "source": [
    "# Generator 살펴보기 \n",
    "- 목적 : 메모리 효율적 사용을 위해서 \n",
    "- 특징 : iterator로써 반복 기능 포함 \n",
    "- 문법 : yield 키워드 함께 사용 \n",
    "- return 키워드를 사용할 때는 결과값을 딱 한 번만 제공하는데, yield 키워드는 결과값을 여러 번 나누어서 제공"
   ]
  },
  {
   "cell_type": "code",
   "execution_count": 4,
   "metadata": {},
   "outputs": [],
   "source": [
    "# 모듈 로딩 \n",
    "import time "
   ]
  },
  {
   "cell_type": "code",
   "execution_count": 8,
   "metadata": {},
   "outputs": [],
   "source": [
    "# 사용자 정의 함수 \n",
    "# 기능 : 데이터 값을 반환하는 기능 \n",
    "# 이름 : returnData\n",
    "\n",
    "def returnData():\n",
    "    data = []\n",
    "    for ch in ['apple','kiwi','orange']:\n",
    "        data.append(ch)\n",
    "        time.sleep(1) # 데이터 하나 넣는데 1초 걸림 \n",
    "    return data"
   ]
  },
  {
   "cell_type": "code",
   "execution_count": 2,
   "metadata": {},
   "outputs": [],
   "source": [
    "# 기능 : 데이터 값을 반환하는 기능 \n",
    "# 이름 : yieldData\n",
    "\n",
    "def yieldData():\n",
    "    data = []\n",
    "    for ch in ['apple','kiwi','orange']:\n",
    "        data.append(ch)\n",
    "        time.sleep(1)\n",
    "        yield data"
   ]
  },
  {
   "cell_type": "code",
   "execution_count": 9,
   "metadata": {},
   "outputs": [
    {
     "data": {
      "text/plain": [
       "['apple', 'kiwi', 'orange']"
      ]
     },
     "execution_count": 9,
     "metadata": {},
     "output_type": "execute_result"
    }
   ],
   "source": [
    "# 함수 호출 \n",
    "\n",
    "returnData()\n",
    "# 3초가 지나야지 출력됨 - time.sleep(1)"
   ]
  },
  {
   "cell_type": "code",
   "execution_count": 15,
   "metadata": {},
   "outputs": [
    {
     "name": "stdout",
     "output_type": "stream",
     "text": [
      "apple\n",
      "kiwi\n",
      "orange\n"
     ]
    }
   ],
   "source": [
    "for data in returnData():\n",
    "    print(data) \n",
    "    # 3초 뒤에 모든 데이터 한 번에 출력 "
   ]
  },
  {
   "cell_type": "code",
   "execution_count": 11,
   "metadata": {},
   "outputs": [
    {
     "data": {
      "text/plain": [
       "<generator object yieldData at 0x000001F8099DB580>"
      ]
     },
     "execution_count": 11,
     "metadata": {},
     "output_type": "execute_result"
    }
   ],
   "source": [
    "yieldData() # iterator 기능이 있으므로 그냥 호출하면 볼 수 x "
   ]
  },
  {
   "cell_type": "code",
   "execution_count": 17,
   "metadata": {},
   "outputs": [
    {
     "name": "stdout",
     "output_type": "stream",
     "text": [
      "['apple']\n",
      "['apple', 'kiwi']\n",
      "['apple', 'kiwi', 'orange']\n"
     ]
    }
   ],
   "source": [
    "for data in yieldData():\n",
    "    print(data)\n",
    "    # 1초 마다 새 데이터 추가해서 출력 \n",
    "\n",
    "# 대량의 데이터를 사용할 때 메모리 측면에서 효율적 "
   ]
  },
  {
   "cell_type": "code",
   "execution_count": 18,
   "metadata": {},
   "outputs": [],
   "source": [
    "def yieldData2():\n",
    "    data = ['apple','kiwi','orange']\n",
    "    time.sleep(1)\n",
    "    yield from data"
   ]
  },
  {
   "cell_type": "code",
   "execution_count": 19,
   "metadata": {},
   "outputs": [
    {
     "data": {
      "text/plain": [
       "<generator object yieldData2 at 0x000001F809A802E0>"
      ]
     },
     "execution_count": 19,
     "metadata": {},
     "output_type": "execute_result"
    }
   ],
   "source": [
    "yieldData2()"
   ]
  },
  {
   "cell_type": "code",
   "execution_count": 20,
   "metadata": {},
   "outputs": [
    {
     "name": "stdout",
     "output_type": "stream",
     "text": [
      "apple\n",
      "kiwi\n",
      "orange\n"
     ]
    }
   ],
   "source": [
    "for data in yieldData2():\n",
    "    print(data)"
   ]
  },
  {
   "cell_type": "code",
   "execution_count": 21,
   "metadata": {},
   "outputs": [],
   "source": [
    "import string "
   ]
  },
  {
   "cell_type": "code",
   "execution_count": 22,
   "metadata": {},
   "outputs": [
    {
     "data": {
      "text/plain": [
       "'!\"#$%&\\'()*+,-./:;<=>?@[\\\\]^_`{|}~'"
      ]
     },
     "execution_count": 22,
     "metadata": {},
     "output_type": "execute_result"
    }
   ],
   "source": [
    "string.punctuation \n",
    "# 구두점 문자열 정리 "
   ]
  },
  {
   "cell_type": "code",
   "execution_count": 23,
   "metadata": {},
   "outputs": [
    {
     "data": {
      "text/plain": [
       "'!\"#$%&\\'()*+,-./:;<=>?@[\\\\]^_`{|}~'"
      ]
     },
     "execution_count": 23,
     "metadata": {},
     "output_type": "execute_result"
    }
   ],
   "source": [
    "string.punctuation + \"\""
   ]
  },
  {
   "cell_type": "code",
   "execution_count": null,
   "metadata": {},
   "outputs": [],
   "source": []
  }
 ],
 "metadata": {
  "kernelspec": {
   "display_name": "TEXT_018_230_38",
   "language": "python",
   "name": "python3"
  },
  "language_info": {
   "codemirror_mode": {
    "name": "ipython",
    "version": 3
   },
   "file_extension": ".py",
   "mimetype": "text/x-python",
   "name": "python",
   "nbconvert_exporter": "python",
   "pygments_lexer": "ipython3",
   "version": "3.8.19"
  }
 },
 "nbformat": 4,
 "nbformat_minor": 2
}
