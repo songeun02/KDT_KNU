{
 "cells": [
  {
   "cell_type": "markdown",
   "metadata": {},
   "source": [
    "# 자연어 처리를 위한 전처리 \n",
    "- 정제 \n",
    "    - 토큰화 전, 후로 진행\n",
    "    - 100% 제거는 어려움 \n",
    "    - 불용어, 빈도에 따른 제거, 길이에 따른 제거 \n"
   ]
  },
  {
   "cell_type": "code",
   "execution_count": 1,
   "metadata": {},
   "outputs": [],
   "source": [
    "# 모듈 로딩 \n",
    "from nltk.corpus import stopwords\n",
    "from nltk.tokenize import word_tokenize"
   ]
  },
  {
   "cell_type": "code",
   "execution_count": 2,
   "metadata": {},
   "outputs": [
    {
     "name": "stdout",
     "output_type": "stream",
     "text": [
      "영어 불용어 : 179개\n"
     ]
    },
    {
     "data": {
      "text/plain": [
       "['i', 'me', 'my', 'myself', 'we', 'our', 'ours', 'ourselves', 'you', \"you're\"]"
      ]
     },
     "execution_count": 2,
     "metadata": {},
     "output_type": "execute_result"
    }
   ],
   "source": [
    "# NLTK 제공 영어 불용어 리스트 가져오기 \n",
    "\n",
    "english_sw = stopwords.words('english')\n",
    "print(f'영어 불용어 : {len(english_sw)}개')\n",
    "english_sw[:10]"
   ]
  },
  {
   "cell_type": "code",
   "execution_count": 3,
   "metadata": {},
   "outputs": [
    {
     "name": "stdout",
     "output_type": "stream",
     "text": [
      "i\n",
      "me my myself we our ours ourselves you you're you've\n",
      "you'll you'd your yours yourself yourselves he him his himself\n",
      "she she's her hers herself it it's its itself they\n",
      "them their theirs themselves what which who whom this that\n",
      "that'll these those am is are was were be been\n",
      "being have has had having do does did doing a\n",
      "an the and but if or because as until while\n",
      "of at by for with about against between into through\n",
      "during before after above below to from up down in\n",
      "out on off over under again further then once here\n",
      "there when where why how all any both each few\n",
      "more most other some such no nor not only own\n",
      "same so than too very s t can will just\n",
      "don don't should should've now d ll m o re\n",
      "ve y ain aren aren't couldn couldn't didn didn't doesn\n",
      "doesn't hadn hadn't hasn hasn't haven haven't isn isn't ma\n",
      "mightn mightn't mustn mustn't needn needn't shan shan't shouldn shouldn't\n",
      "wasn wasn't weren weren't won won't wouldn wouldn't "
     ]
    }
   ],
   "source": [
    "for idx, _ in enumerate(english_sw):\n",
    "    print(_,  end= ' ' if idx%10 else '\\n')"
   ]
  },
  {
   "cell_type": "markdown",
   "metadata": {},
   "source": [
    "## [1] 구두점 제거 후 토큰에서 불용어 제거"
   ]
  },
  {
   "cell_type": "code",
   "execution_count": 4,
   "metadata": {},
   "outputs": [],
   "source": [
    "# 토큰에서 불용어 제거 \n",
    "text = \"Family is not an important thing. It's everything.\""
   ]
  },
  {
   "cell_type": "code",
   "execution_count": 5,
   "metadata": {},
   "outputs": [
    {
     "data": {
      "text/plain": [
       "\"Family is not an important thing It's everything\""
      ]
     },
     "execution_count": 5,
     "metadata": {},
     "output_type": "execute_result"
    }
   ],
   "source": [
    "# 구두점 제거 \n",
    "text.replace('.','')"
   ]
  },
  {
   "cell_type": "code",
   "execution_count": 6,
   "metadata": {},
   "outputs": [
    {
     "name": "stdout",
     "output_type": "stream",
     "text": [
      "punctuation - ! : Family is not an important thing. It's everything.\n",
      "punctuation - \" : Family is not an important thing. It's everything.\n",
      "punctuation - # : Family is not an important thing. It's everything.\n",
      "punctuation - $ : Family is not an important thing. It's everything.\n",
      "punctuation - % : Family is not an important thing. It's everything.\n",
      "punctuation - & : Family is not an important thing. It's everything.\n",
      "punctuation - ' : Family is not an important thing. Its everything.\n",
      "punctuation - ( : Family is not an important thing. Its everything.\n",
      "punctuation - ) : Family is not an important thing. Its everything.\n",
      "punctuation - * : Family is not an important thing. Its everything.\n",
      "punctuation - + : Family is not an important thing. Its everything.\n",
      "punctuation - , : Family is not an important thing. Its everything.\n",
      "punctuation - - : Family is not an important thing. Its everything.\n",
      "punctuation - . : Family is not an important thing Its everything\n",
      "punctuation - / : Family is not an important thing Its everything\n",
      "punctuation - : : Family is not an important thing Its everything\n",
      "punctuation - ; : Family is not an important thing Its everything\n",
      "punctuation - < : Family is not an important thing Its everything\n",
      "punctuation - = : Family is not an important thing Its everything\n",
      "punctuation - > : Family is not an important thing Its everything\n",
      "punctuation - ? : Family is not an important thing Its everything\n",
      "punctuation - @ : Family is not an important thing Its everything\n",
      "punctuation - [ : Family is not an important thing Its everything\n",
      "punctuation - \\ : Family is not an important thing Its everything\n",
      "punctuation - ] : Family is not an important thing Its everything\n",
      "punctuation - ^ : Family is not an important thing Its everything\n",
      "punctuation - _ : Family is not an important thing Its everything\n",
      "punctuation - ` : Family is not an important thing Its everything\n",
      "punctuation - { : Family is not an important thing Its everything\n",
      "punctuation - | : Family is not an important thing Its everything\n",
      "punctuation - } : Family is not an important thing Its everything\n",
      "punctuation - ~ : Family is not an important thing Its everything\n"
     ]
    }
   ],
   "source": [
    "import string \n",
    "\n",
    "punct = string.punctuation\n",
    "\n",
    "for pun in punct:\n",
    "    text = text.replace(pun, '') \n",
    "    # 저장이 안 되므로 변수에 다시 넣어서 저장 \n",
    "    print(f'punctuation - {pun} : {text}')"
   ]
  },
  {
   "cell_type": "code",
   "execution_count": 7,
   "metadata": {},
   "outputs": [
    {
     "name": "stdout",
     "output_type": "stream",
     "text": [
      "['family', 'is', 'not', 'an', 'important', 'thing', 'its', 'everything']\n"
     ]
    }
   ],
   "source": [
    "# 대소문자 통일 \n",
    "text = text.lower()\n",
    "\n",
    "# 토큰화 진행 \n",
    "tokens = word_tokenize(text)\n",
    "print(tokens)"
   ]
  },
  {
   "cell_type": "code",
   "execution_count": 8,
   "metadata": {},
   "outputs": [
    {
     "data": {
      "text/plain": [
       "['family', 'not', 'important', 'thing', 'everything']"
      ]
     },
     "execution_count": 8,
     "metadata": {},
     "output_type": "execute_result"
    }
   ],
   "source": [
    "# 불용어 제거 : 분석에 의미가 없는 토큰 제거 \n",
    "\n",
    "for token in tokens:\n",
    "    if token in english_sw:\n",
    "        # 제거 \n",
    "        tokens.remove(token)\n",
    "\n",
    "tokens"
   ]
  },
  {
   "cell_type": "markdown",
   "metadata": {},
   "source": [
    "not 도 필요없으면 불용어에 not 추가\n",
    "- english_sw는 리스트로 추가 가능 "
   ]
  },
  {
   "cell_type": "code",
   "execution_count": 9,
   "metadata": {},
   "outputs": [
    {
     "name": "stdout",
     "output_type": "stream",
     "text": [
      "영어 불용어 : 180개\n"
     ]
    },
    {
     "data": {
      "text/plain": [
       "['family', 'important', 'thing', 'everything']"
      ]
     },
     "execution_count": 9,
     "metadata": {},
     "output_type": "execute_result"
    }
   ],
   "source": [
    "# 커스텀 불용어 토큰/단어 추가 \n",
    "english_sw.append('not')\n",
    "\n",
    "print(f'영어 불용어 : {len(english_sw)}개')\n",
    "\n",
    "for token in tokens:\n",
    "    if token in english_sw:\n",
    "        # 제거 \n",
    "        tokens.remove(token)\n",
    "\n",
    "tokens"
   ]
  },
  {
   "cell_type": "code",
   "execution_count": 10,
   "metadata": {},
   "outputs": [
    {
     "name": "stdout",
     "output_type": "stream",
     "text": [
      "['!', '\"', '#', '$', '%', '&', \"'\", '(', ')', '*', '+', ',', '-', '.', '/', ':', ';', '<', '=', '>', '?', '@', '[', '\\\\', ']', '^', '_', '`', '{', '|', '}', '~']\n"
     ]
    }
   ],
   "source": [
    "print(list(punct))"
   ]
  },
  {
   "cell_type": "markdown",
   "metadata": {},
   "source": [
    "## [2] token으로 쪼개서 불용어와 구두점 함께 제거 \n"
   ]
  },
  {
   "cell_type": "code",
   "execution_count": 11,
   "metadata": {},
   "outputs": [],
   "source": [
    "text = \"Family is not an important thing. It's everything.\"\n",
    "\n",
    "for token in tokens:\n",
    "\n",
    "    # 불용어 제거 \n",
    "    if token in english_sw:\n",
    "        tokens.remove(token)\n",
    "\n",
    "    # 구두점 제거 \n",
    "    if token in list(punct):\n",
    "        tokens.remove(token)\n"
   ]
  }
 ],
 "metadata": {
  "kernelspec": {
   "display_name": "TEXT_018_230_38",
   "language": "python",
   "name": "python3"
  },
  "language_info": {
   "codemirror_mode": {
    "name": "ipython",
    "version": 3
   },
   "file_extension": ".py",
   "mimetype": "text/x-python",
   "name": "python",
   "nbconvert_exporter": "python",
   "pygments_lexer": "ipython3",
   "version": "3.8.19"
  }
 },
 "nbformat": 4,
 "nbformat_minor": 2
}
