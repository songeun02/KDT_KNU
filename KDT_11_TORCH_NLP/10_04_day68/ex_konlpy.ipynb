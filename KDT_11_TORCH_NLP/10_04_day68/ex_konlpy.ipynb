{
 "cells": [
  {
   "cell_type": "markdown",
   "metadata": {},
   "source": [
    "# 한국어 형태소 분석\n",
    "- Konlpy 패키지 활용\n",
    "    - 내부에 5가지 형태소 분석 패키지 포함\n",
    "    - 5가지 형태소 분석기 사용법 동일. 쉬움\n"
   ]
  },
  {
   "cell_type": "markdown",
   "metadata": {},
   "source": [
    "[1] 모듈 로딩<hr>"
   ]
  },
  {
   "cell_type": "code",
   "execution_count": 1,
   "metadata": {},
   "outputs": [],
   "source": [
    "from konlpy.tag import *"
   ]
  },
  {
   "cell_type": "markdown",
   "metadata": {},
   "source": [
    "[2] 다양한 형태소 분석기 활용 <hr>"
   ]
  },
  {
   "cell_type": "code",
   "execution_count": 2,
   "metadata": {},
   "outputs": [],
   "source": [
    "### 한나눔 형태소 분석기\n",
    "han=Hannanum()\n",
    "\n",
    "text=\"점심시간이 다되어가니까 배가 고파온다. 오늘 날씨도 화창한데 밖에서 먹을까?\""
   ]
  },
  {
   "cell_type": "code",
   "execution_count": 3,
   "metadata": {},
   "outputs": [
    {
     "name": "stdout",
     "output_type": "stream",
     "text": [
      "['점심시간', '이', '다되', '어', '가', '니까', '배', '가', '고프', '아', '오', 'ㄴ다', '.', '오늘', '날씨', '도', '화창한데', '밖', '에서', '먹', '을까', '?']\n"
     ]
    }
   ],
   "source": [
    "### 형태소 분리\n",
    "result=han.morphs(text)\n",
    "\n",
    "print(result)"
   ]
  },
  {
   "cell_type": "code",
   "execution_count": 4,
   "metadata": {},
   "outputs": [
    {
     "name": "stdout",
     "output_type": "stream",
     "text": [
      "['점심시간', '배', '오늘', '날씨', '화창한데', '밖']\n"
     ]
    }
   ],
   "source": [
    "### 명사만 추출 분리\n",
    "result=han.nouns(text)\n",
    "\n",
    "print(result)"
   ]
  },
  {
   "cell_type": "code",
   "execution_count": 5,
   "metadata": {},
   "outputs": [
    {
     "name": "stdout",
     "output_type": "stream",
     "text": [
      "[('점심시간', 'N'), ('이', 'J'), ('다되', 'P'), ('어', 'E'), ('가', 'P'), ('니까', 'E'), ('배', 'N'), ('가', 'J'), ('고프', 'P'), ('아', 'E'), ('오', 'P'), ('ㄴ다', 'E'), ('.', 'S'), ('오늘', 'N'), ('날씨', 'N'), ('도', 'J'), ('화창한데', 'N'), ('밖', 'N'), ('에서', 'J'), ('먹', 'P'), ('을까', 'E'), ('?', 'S')]\n"
     ]
    }
   ],
   "source": [
    "### 품사 태깅 추출 분리\n",
    "result=han.pos(text)\n",
    "\n",
    "print(result)"
   ]
  },
  {
   "cell_type": "code",
   "execution_count": 6,
   "metadata": {},
   "outputs": [],
   "source": [
    "### 꼬꼬마 형태소 분석기\n",
    "kkma=Kkma()"
   ]
  },
  {
   "cell_type": "code",
   "execution_count": 7,
   "metadata": {},
   "outputs": [
    {
     "name": "stdout",
     "output_type": "stream",
     "text": [
      "['점심시간', '이', '다', '되어가', '니까', '배', '가', '고프', '아', '오', 'ㄴ다', '.', '오늘', '날씨', '도', '화창', '하', 'ㄴ', '데', '밖', '에서', '먹', '을까', '?']\n",
      "['점심시간', '배', '오늘', '날씨', '데', '밖']\n",
      "[('점심시간', 'NNG'), ('이', 'JKS'), ('다', 'MAG'), ('되어가', 'VV'), ('니까', 'ECD'), ('배', 'NNG'), ('가', 'JKS'), ('고프', 'VA'), ('아', 'ECS'), ('오', 'VV'), ('ㄴ다', 'EFN'), ('.', 'SF'), ('오늘', 'NNG'), ('날씨', 'NNG'), ('도', 'JX'), ('화창', 'XR'), ('하', 'XSA'), ('ㄴ', 'ETD'), ('데', 'NNB'), ('밖', 'NNG'), ('에서', 'JKM'), ('먹', 'VV'), ('을까', 'EFQ'), ('?', 'SF')]\n"
     ]
    }
   ],
   "source": [
    "### 형태소 분석\n",
    "print(kkma.morphs(text))\n",
    "\n",
    "# 명사만 추출\n",
    "print(kkma.nouns(text))\n",
    "\n",
    "### 품사 태깅 추출 분리\n",
    "print(kkma.pos(text))"
   ]
  },
  {
   "cell_type": "code",
   "execution_count": 8,
   "metadata": {},
   "outputs": [],
   "source": [
    "### OKT형태소 분석기\n",
    "okt=Okt()"
   ]
  },
  {
   "cell_type": "code",
   "execution_count": 9,
   "metadata": {},
   "outputs": [
    {
     "name": "stdout",
     "output_type": "stream",
     "text": [
      "['점심시간', '이', '다', '되어가니까', '배', '가', '고파', '온다', '.', '오늘', '날씨', '도', '화창한데', '밖', '에서', '먹을까', '?']\n",
      "['점심시간', '배', '오늘', '날씨', '밖']\n",
      "[('점심시간', 'Noun'), ('이', 'Josa'), ('다', 'Adverb'), ('되어가니까', 'Verb'), ('배', 'Noun'), ('가', 'Josa'), ('고파', 'Adjective'), ('온다', 'Verb'), ('.', 'Punctuation'), ('오늘', 'Noun'), ('날씨', 'Noun'), ('도', 'Josa'), ('화창한데', 'Adjective'), ('밖', 'Noun'), ('에서', 'Josa'), ('먹을까', 'Verb'), ('?', 'Punctuation')]\n"
     ]
    }
   ],
   "source": [
    "### 형태소 분석\n",
    "print(okt.morphs(text))\n",
    "\n",
    "# 명사만 추출\n",
    "print(okt.nouns(text))\n",
    "\n",
    "### 품사 태깅 추출 분리j\n",
    "print(okt.pos(text))"
   ]
  },
  {
   "cell_type": "code",
   "execution_count": null,
   "metadata": {},
   "outputs": [],
   "source": []
  }
 ],
 "metadata": {
  "kernelspec": {
   "display_name": "TEXT_018_230_38",
   "language": "python",
   "name": "python3"
  },
  "language_info": {
   "codemirror_mode": {
    "name": "ipython",
    "version": 3
   },
   "file_extension": ".py",
   "mimetype": "text/x-python",
   "name": "python",
   "nbconvert_exporter": "python",
   "pygments_lexer": "ipython3",
   "version": "3.8.19"
  }
 },
 "nbformat": 4,
 "nbformat_minor": 2
}
