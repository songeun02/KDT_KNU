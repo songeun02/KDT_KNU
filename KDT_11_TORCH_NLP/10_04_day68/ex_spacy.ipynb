{
 "cells": [
  {
   "cell_type": "markdown",
   "metadata": {},
   "source": [
    "# 한국어 형태소 분석기 Spacy\n",
    "- 빠른 속도와 정확도가 높은 형태소 분석기\n",
    "- 설치 2단계\n",
    "    - 형태소 분석기 설치 \n",
    "    - 언어별 모델 설치"
   ]
  },
  {
   "cell_type": "code",
   "execution_count": 3,
   "metadata": {},
   "outputs": [],
   "source": [
    "# 모듈 로딩 \n",
    "import spacy"
   ]
  },
  {
   "cell_type": "code",
   "execution_count": 4,
   "metadata": {},
   "outputs": [],
   "source": [
    "# 언어 모델 모델 설정 \n",
    "LANG_MODEL = 'ko_core_news_lg'"
   ]
  },
  {
   "cell_type": "code",
   "execution_count": 5,
   "metadata": {},
   "outputs": [],
   "source": [
    "# 한국어 분석기 생성 \n",
    "nlp = spacy.load(LANG_MODEL)"
   ]
  },
  {
   "cell_type": "code",
   "execution_count": 24,
   "metadata": {},
   "outputs": [
    {
     "name": "stdout",
     "output_type": "stream",
     "text": [
      "일만 하고 놀지 않으면 바보가 된다. <class 'spacy.tokens.doc.Doc'>\n",
      "\n",
      "일만     일+만    ADV    ncpa+jxc False\n",
      "하고     하+고    SCONJ  pvg+ecs False\n",
      "놀지     놀+지    VERB   pvg+ecx False\n",
      "않으면    않+으면   SCONJ  px+ecs False\n",
      "바보가    바보+가   NOUN   ncpa+jcc False\n",
      "된다     되+ㄴ다   VERB   pvg+ef False\n",
      ".      .      PUNCT  sf     False\n"
     ]
    }
   ],
   "source": [
    "text = '일만 하고 놀지 않으면 바보가 된다.'\n",
    "doc = nlp(text)\n",
    "\n",
    "print(doc, type(doc)) # 속성 \n",
    "print()\n",
    "\n",
    "for token in doc:\n",
    "    # 표제어, 단어 품사, 자세한 품사, 불용어 여부\n",
    "    # pipeline 형식 \n",
    "    print(f'{token.text:6} {token.lemma_:6} {token.pos_:6} {token.tag_:6} {token.is_stop}')\n",
    "    #          단어 쪼갬         표제어            품사       한 번 더 쪼갬    불용어 체크 \n",
    "    # -> 위의 속성 순서로 진행 "
   ]
  },
  {
   "cell_type": "markdown",
   "metadata": {},
   "source": [
    ". . 은 구두점"
   ]
  },
  {
   "cell_type": "code",
   "execution_count": 20,
   "metadata": {},
   "outputs": [
    {
     "name": "stdout",
     "output_type": "stream",
     "text": [
      "일만\n",
      "일+만\n",
      "3296783020634672728\n",
      "ADV\n",
      "ncpa+jxc\n",
      "False\n",
      "False\n",
      "\n",
      "하고\n",
      "하+고\n",
      "5109693939794860690\n",
      "SCONJ\n",
      "pvg+ecs\n",
      "False\n",
      "False\n",
      "\n",
      "놀지\n",
      "놀+지\n",
      "13603540033425479070\n",
      "VERB\n",
      "pvg+ecx\n",
      "False\n",
      "False\n",
      "\n",
      "않으면\n",
      "않+으면\n",
      "6658458842456189901\n",
      "SCONJ\n",
      "px+ecs\n",
      "False\n",
      "False\n",
      "\n",
      "바보가\n",
      "바보+가\n",
      "14858449515077134486\n",
      "NOUN\n",
      "ncpa+jcc\n",
      "False\n",
      "False\n",
      "\n",
      "된다\n",
      "되+ㄴ다\n",
      "1162892835358851790\n",
      "VERB\n",
      "pvg+ef\n",
      "False\n",
      "False\n",
      "\n",
      ".\n",
      ".\n",
      "12646065887601541794\n",
      "PUNCT\n",
      "sf\n",
      "False\n",
      "True\n",
      "\n"
     ]
    }
   ],
   "source": [
    "for token in doc:\n",
    "    print(token.text)       # token.text : 단어 쪼갬 - 토큰에 저장된 텍스트 속성 \n",
    "    print(token.lemma_)     # 앞에서 쪼갠 단어로 어간 분리 - 토큰의 표제어 속성 \n",
    "    print(token.lemma)      # 숫자값 출력 -> _ 사용해야 속성으로 됨 \n",
    "    print(token.pos_)       # 토큰의 품사 속성 \n",
    "    print(token.tag_)       # 토큰의 상세 품사 속성 \n",
    "    print(token.is_stop)    # 토큰의 불용어 확인 \n",
    "    print(token.is_punct)   # 토큰의 구두점 확인 \n",
    "    print()"
   ]
  },
  {
   "cell_type": "markdown",
   "metadata": {},
   "source": [
    ".. 은 구두점이라서 마지막은 True"
   ]
  },
  {
   "cell_type": "code",
   "execution_count": 27,
   "metadata": {},
   "outputs": [],
   "source": [
    "my_tokens = []\n",
    "\n",
    "for token in doc:\n",
    "    if (not token.is_punct) and (not token.is_stop):\n",
    "        my_tokens.append(token)\n",
    "        # 구두점과 불용어 아닌 것들은 다 넣음 "
   ]
  },
  {
   "cell_type": "code",
   "execution_count": 28,
   "metadata": {},
   "outputs": [
    {
     "data": {
      "text/plain": [
       "[일만, 하고, 놀지, 않으면, 바보가, 된다]"
      ]
     },
     "execution_count": 28,
     "metadata": {},
     "output_type": "execute_result"
    }
   ],
   "source": [
    "my_tokens"
   ]
  },
  {
   "cell_type": "code",
   "execution_count": null,
   "metadata": {},
   "outputs": [],
   "source": []
  }
 ],
 "metadata": {
  "kernelspec": {
   "display_name": "TEXT_018_230_38",
   "language": "python",
   "name": "python3"
  },
  "language_info": {
   "codemirror_mode": {
    "name": "ipython",
    "version": 3
   },
   "file_extension": ".py",
   "mimetype": "text/x-python",
   "name": "python",
   "nbconvert_exporter": "python",
   "pygments_lexer": "ipython3",
   "version": "3.8.19"
  }
 },
 "nbformat": 4,
 "nbformat_minor": 2
}
