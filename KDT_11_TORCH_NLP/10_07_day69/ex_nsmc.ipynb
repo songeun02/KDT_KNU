{
 "cells": [
  {
   "cell_type": "markdown",
   "metadata": {},
   "source": [
    "# 한국어 코퍼스 전처리 \n",
    "- 데이터셋 : Korpora에서 로딩 \n",
    "- 형태소 분석기 설정 \n",
    "- 단어 사전 생성 "
   ]
  },
  {
   "cell_type": "markdown",
   "metadata": {},
   "source": [
    "## [1] 모듈 로딩 및 데이터 준비 \n",
    "---"
   ]
  },
  {
   "cell_type": "code",
   "execution_count": 12,
   "metadata": {},
   "outputs": [],
   "source": [
    "# 모듈 로딩\n",
    "from Korpora import Korpora # open Korean Dataset\n",
    "from konlpy.tag import *    # 형태소 분석기\n",
    "import spacy                # 형태소 분석기 \n",
    "\n",
    "from torchtext.data.utils import get_tokenizer # pytorch 자연어 처리 모듈 \n",
    "from torchtext.vocab import * # pytorch 자연어 처리 단어사전 관련 모듈 \n",
    "from torch.utils.data import Dataset, DataLoader # pytorch Dataset 관련 모듈\n",
    "\n",
    "import pandas as pd \n",
    "import numpy as np"
   ]
  },
  {
   "cell_type": "code",
   "execution_count": 7,
   "metadata": {},
   "outputs": [
    {
     "name": "stdout",
     "output_type": "stream",
     "text": [
      "\n",
      "    Korpora 는 다른 분들이 연구 목적으로 공유해주신 말뭉치들을\n",
      "    손쉽게 다운로드, 사용할 수 있는 기능만을 제공합니다.\n",
      "\n",
      "    말뭉치들을 공유해 주신 분들에게 감사드리며, 각 말뭉치 별 설명과 라이센스를 공유 드립니다.\n",
      "    해당 말뭉치에 대해 자세히 알고 싶으신 분은 아래의 description 을 참고,\n",
      "    해당 말뭉치를 연구/상용의 목적으로 이용하실 때에는 아래의 라이센스를 참고해 주시기 바랍니다.\n",
      "\n",
      "    # Description\n",
      "    Author : e9t@github\n",
      "    Repository : https://github.com/e9t/nsmc\n",
      "    References : www.lucypark.kr/docs/2015-pyconkr/#39\n",
      "\n",
      "    Naver sentiment movie corpus v1.0\n",
      "    This is a movie review dataset in the Korean language.\n",
      "    Reviews were scraped from Naver Movies.\n",
      "\n",
      "    The dataset construction is based on the method noted in\n",
      "    [Large movie review dataset][^1] from Maas et al., 2011.\n",
      "\n",
      "    [^1]: http://ai.stanford.edu/~amaas/data/sentiment/\n",
      "\n",
      "    # License\n",
      "    CC0 1.0 Universal (CC0 1.0) Public Domain Dedication\n",
      "    Details in https://creativecommons.org/publicdomain/zero/1.0/\n",
      "\n"
     ]
    },
    {
     "name": "stderr",
     "output_type": "stream",
     "text": [
      "[nsmc] download ratings_train.txt: 14.6MB [00:03, 4.63MB/s]                            \n",
      "[nsmc] download ratings_test.txt: 4.90MB [00:00, 7.54MB/s]                            \n"
     ]
    }
   ],
   "source": [
    "# 데이터 로딩\n",
    "nsmc = Korpora.load(\"nsmc\")"
   ]
  },
  {
   "cell_type": "code",
   "execution_count": 10,
   "metadata": {},
   "outputs": [
    {
     "data": {
      "text/plain": [
       "LabeledSentence(text='아 더빙.. 진짜 짜증나네요 목소리', label=0)"
      ]
     },
     "execution_count": 10,
     "metadata": {},
     "output_type": "execute_result"
    }
   ],
   "source": [
    "nsmc.train[0]"
   ]
  },
  {
   "cell_type": "code",
   "execution_count": 11,
   "metadata": {},
   "outputs": [
    {
     "data": {
      "text/plain": [
       "LabeledSentence(text='굳 ㅋ', label=1)"
      ]
     },
     "execution_count": 11,
     "metadata": {},
     "output_type": "execute_result"
    }
   ],
   "source": [
    "nsmc.test[0]"
   ]
  },
  {
   "cell_type": "code",
   "execution_count": 13,
   "metadata": {},
   "outputs": [
    {
     "name": "stdout",
     "output_type": "stream",
     "text": [
      "<class 'pandas.core.frame.DataFrame'>\n",
      "RangeIndex: 50000 entries, 0 to 49999\n",
      "Data columns (total 2 columns):\n",
      " #   Column  Non-Null Count  Dtype \n",
      "---  ------  --------------  ----- \n",
      " 0   text    50000 non-null  object\n",
      " 1   label   50000 non-null  int64 \n",
      "dtypes: int64(1), object(1)\n",
      "memory usage: 781.4+ KB\n"
     ]
    }
   ],
   "source": [
    "# test 데이터셋을 DF로 로딩 \n",
    "nsmc_df = pd.DataFrame(nsmc.test)\n",
    "nsmc_df.info()"
   ]
  },
  {
   "cell_type": "markdown",
   "metadata": {},
   "source": [
    "-> text가 feature, label이 target"
   ]
  },
  {
   "cell_type": "markdown",
   "metadata": {},
   "source": [
    "## [2] 커스텀 데이터셋 생성\n",
    "---"
   ]
  },
  {
   "cell_type": "code",
   "execution_count": 22,
   "metadata": {},
   "outputs": [],
   "source": [
    "# 단어 사전을 생성 시 활용 \n",
    "class TextDataset(Dataset):\n",
    "    def __init__(self, feature, label):\n",
    "        self.feature = feature\n",
    "        self.label = label\n",
    "        self.length = feature.shape[0] \n",
    "\n",
    "    def __len__(self):\n",
    "        return self.length\n",
    "\n",
    "    def __getitem__(self,index):\n",
    "        return self.feature.iloc[index], self.label.iloc[index] # 행을 읽어야 하므로 iloc 사용 "
   ]
  },
  {
   "cell_type": "code",
   "execution_count": 23,
   "metadata": {},
   "outputs": [],
   "source": [
    "# nsmc의 데이터셋 인스턴스 생성 \n",
    "nsmc_ds = TextDataset(nsmc_df['text'], nsmc_df['label'])"
   ]
  },
  {
   "cell_type": "code",
   "execution_count": 24,
   "metadata": {},
   "outputs": [
    {
     "name": "stdout",
     "output_type": "stream",
     "text": [
      "굳 ㅋ 1\n"
     ]
    }
   ],
   "source": [
    "for f, l in nsmc_ds:\n",
    "    print(f,l)\n",
    "    break # break 안 넣으면 노트북 죽음,,,,"
   ]
  },
  {
   "cell_type": "markdown",
   "metadata": {},
   "source": [
    "## [3] 텍스트 데이터 전처리 \n",
    "---\n",
    "- 토큰화 / 정제 (불용어, 구두점, 오타....)\n",
    "- 단어 사전 생성 \n",
    "- 문장 => 수치화 "
   ]
  },
  {
   "cell_type": "code",
   "execution_count": 25,
   "metadata": {},
   "outputs": [],
   "source": [
    "# 토커나이즈 생성 \n",
    "\n",
    "okt_tokenizer = get_tokenizer(Okt().morphs) # 함수 이름을 줘야지 함수 주소가 넘어감 \n",
    "spacy_tokenizer = get_tokenizer('spacy', language='ko_core_news_lg')"
   ]
  },
  {
   "cell_type": "code",
   "execution_count": 26,
   "metadata": {},
   "outputs": [],
   "source": [
    "# 텍스트 Dataset에서 처리할 데이터셋만 로딩해서 토큰화 진행하는 반복자 함수 \n",
    "def generate_token(dataset):\n",
    "    for text, label in dataset:\n",
    "        yield okt_tokenizer(text)"
   ]
  },
  {
   "cell_type": "code",
   "execution_count": 27,
   "metadata": {},
   "outputs": [],
   "source": [
    "# 단어 사전 생성 \n",
    "unk_token = '<unk>'\n",
    "pad_token = '<pad>'\n",
    "nsmc_vocab = build_vocab_from_iterator(iterator=generate_token(nsmc_ds), specials=['<unk>']) # specials=['<unk>', '<pad>']\n",
    "# 함수에 가서 한 개씩 처리하고 iterator에 줌 - 반복\n",
    "\n",
    "nsmc_vocab.set_default_index(nsmc_vocab['<unk>']) # oov 토큰의 인덱스 "
   ]
  },
  {
   "cell_type": "code",
   "execution_count": null,
   "metadata": {},
   "outputs": [],
   "source": []
  }
 ],
 "metadata": {
  "kernelspec": {
   "display_name": "TEXT_018_230_38",
   "language": "python",
   "name": "python3"
  },
  "language_info": {
   "codemirror_mode": {
    "name": "ipython",
    "version": 3
   },
   "file_extension": ".py",
   "mimetype": "text/x-python",
   "name": "python",
   "nbconvert_exporter": "python",
   "pygments_lexer": "ipython3",
   "version": "3.8.19"
  }
 },
 "nbformat": 4,
 "nbformat_minor": 2
}
