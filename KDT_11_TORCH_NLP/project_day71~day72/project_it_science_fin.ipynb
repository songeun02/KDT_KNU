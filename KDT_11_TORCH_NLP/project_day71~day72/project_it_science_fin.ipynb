{
 "cells": [
  {
   "cell_type": "markdown",
   "metadata": {},
   "source": [
    "# IT & 과학 낚시성 기사 탐지 데이터\n"
   ]
  },
  {
   "cell_type": "markdown",
   "metadata": {},
   "source": [
    "## [1] 데이터 준비\n"
   ]
  },
  {
   "cell_type": "code",
   "execution_count": 1,
   "metadata": {},
   "outputs": [],
   "source": [
    "import os\n",
    "import json\n",
    "import pandas as pd\n",
    "from collections import Counter\n",
    "import torch.optim.lr_scheduler as lr_scheduler\n"
   ]
  },
  {
   "cell_type": "code",
   "execution_count": 2,
   "metadata": {},
   "outputs": [
    {
     "data": {
      "text/plain": [
       "['clickbait', 'non_clickbait']"
      ]
     },
     "execution_count": 2,
     "metadata": {},
     "output_type": "execute_result"
    }
   ],
   "source": [
    "PATH = \"DATA/\"\n",
    "file_list = os.listdir(PATH)\n",
    "\n",
    "file_list\n"
   ]
  },
  {
   "cell_type": "code",
   "execution_count": 3,
   "metadata": {},
   "outputs": [
    {
     "name": "stdout",
     "output_type": "stream",
     "text": [
      "clickbait 하위 파일 개수 : 20784\n",
      "non_clickbait 하위 파일 개수 : 19900\n"
     ]
    }
   ],
   "source": [
    "# 데이터프레임 만들기\n",
    "\n",
    "news_data_non_clickbait = []\n",
    "news_data_clickbait = []\n",
    "\n",
    "for file_name in file_list:\n",
    "    for root, dirs, files in os.walk(PATH + file_name):\n",
    "        # os.walk를 사용하면 root, dirs, file명 반환\n",
    "        print(f\"{file_name} 하위 파일 개수 : {len(files)}\")\n",
    "        for file in files:\n",
    "            with open(root + \"/\" + file, \"r\", encoding=\"utf-8\") as f:\n",
    "\n",
    "                data = json.load(f)\n",
    "                data_text = data[\"sourceDataInfo\"][\"newsContent\"]\n",
    "\n",
    "                if file_name == \"non_clickbait\":\n",
    "                    news_data_non_clickbait.append(data_text)\n",
    "                else:\n",
    "                    news_data_clickbait.append(data_text)\n"
   ]
  },
  {
   "cell_type": "code",
   "execution_count": 4,
   "metadata": {},
   "outputs": [],
   "source": [
    "news_data_non_clickbait_df = pd.DataFrame({\"text\": news_data_non_clickbait, \"label\": 0})\n",
    "news_data_clickbait_df = pd.DataFrame({\"text\": news_data_clickbait, \"label\": 1})\n"
   ]
  },
  {
   "cell_type": "markdown",
   "metadata": {},
   "source": [
    "*   label 0 : non_clickbait\n",
    "*   label 1 : clickbait\n"
   ]
  },
  {
   "cell_type": "code",
   "execution_count": 5,
   "metadata": {},
   "outputs": [],
   "source": [
    "news_data_non_clickbait_df.to_csv(\"news_data_non_clickbait_df.csv\")\n"
   ]
  },
  {
   "cell_type": "code",
   "execution_count": 6,
   "metadata": {},
   "outputs": [],
   "source": [
    "news_data_clickbait_df.to_csv(\"news_data_clickbait_df.csv\")\n"
   ]
  },
  {
   "cell_type": "code",
   "execution_count": 7,
   "metadata": {},
   "outputs": [
    {
     "data": {
      "text/plain": [
       "(19900, 20784)"
      ]
     },
     "execution_count": 7,
     "metadata": {},
     "output_type": "execute_result"
    }
   ],
   "source": [
    "len(news_data_non_clickbait_df), len(news_data_clickbait_df)\n"
   ]
  },
  {
   "cell_type": "code",
   "execution_count": 8,
   "metadata": {},
   "outputs": [
    {
     "name": "stdout",
     "output_type": "stream",
     "text": [
      "<class 'pandas.core.frame.DataFrame'>\n",
      "RangeIndex: 19900 entries, 0 to 19899\n",
      "Data columns (total 2 columns):\n",
      " #   Column  Non-Null Count  Dtype \n",
      "---  ------  --------------  ----- \n",
      " 0   text    19900 non-null  object\n",
      " 1   label   19900 non-null  int64 \n",
      "dtypes: int64(1), object(1)\n",
      "memory usage: 311.1+ KB\n"
     ]
    }
   ],
   "source": [
    "news_data_non_clickbait_df.info()\n"
   ]
  },
  {
   "cell_type": "code",
   "execution_count": 9,
   "metadata": {},
   "outputs": [
    {
     "name": "stdout",
     "output_type": "stream",
     "text": [
      "<class 'pandas.core.frame.DataFrame'>\n",
      "RangeIndex: 20784 entries, 0 to 20783\n",
      "Data columns (total 2 columns):\n",
      " #   Column  Non-Null Count  Dtype \n",
      "---  ------  --------------  ----- \n",
      " 0   text    20784 non-null  object\n",
      " 1   label   20784 non-null  int64 \n",
      "dtypes: int64(1), object(1)\n",
      "memory usage: 324.9+ KB\n"
     ]
    }
   ],
   "source": [
    "news_data_clickbait_df.info()\n"
   ]
  },
  {
   "cell_type": "code",
   "execution_count": 10,
   "metadata": {},
   "outputs": [],
   "source": [
    "news_data = pd.concat([news_data_non_clickbait_df, news_data_clickbait_df], axis=0)\n"
   ]
  },
  {
   "cell_type": "markdown",
   "metadata": {},
   "source": [
    "## [2] Train, Valid, Test 데이터 분리\n"
   ]
  },
  {
   "cell_type": "code",
   "execution_count": 11,
   "metadata": {},
   "outputs": [
    {
     "name": "stdout",
     "output_type": "stream",
     "text": [
      "Training Data Size : 32547\n",
      "Testing Data Size : 1778\n"
     ]
    }
   ],
   "source": [
    "train = news_data.sample(frac=0.8, random_state=12)  # 90%만 뽑아서 train\n",
    "test = news_data.drop(train.index)  # drop한 나머지 10%를 test\n",
    "\n",
    "print(\"Training Data Size :\", len(train))\n",
    "print(\"Testing Data Size :\", len(test))\n"
   ]
  },
  {
   "cell_type": "code",
   "execution_count": 12,
   "metadata": {},
   "outputs": [
    {
     "data": {
      "text/html": [
       "<div>\n",
       "<style scoped>\n",
       "    .dataframe tbody tr th:only-of-type {\n",
       "        vertical-align: middle;\n",
       "    }\n",
       "\n",
       "    .dataframe tbody tr th {\n",
       "        vertical-align: top;\n",
       "    }\n",
       "\n",
       "    .dataframe thead th {\n",
       "        text-align: right;\n",
       "    }\n",
       "</style>\n",
       "<table border=\"1\" class=\"dataframe\">\n",
       "  <thead>\n",
       "    <tr style=\"text-align: right;\">\n",
       "      <th></th>\n",
       "      <th>text</th>\n",
       "      <th>label</th>\n",
       "    </tr>\n",
       "  </thead>\n",
       "  <tbody>\n",
       "    <tr>\n",
       "      <th>6241</th>\n",
       "      <td>글로벌 보안 기업 사이렌(CYREN) 샌드박스 솔루션이 올해 말 출시된다.\\n값비싼...</td>\n",
       "      <td>0</td>\n",
       "    </tr>\n",
       "    <tr>\n",
       "      <th>8236</th>\n",
       "      <td>저출산 기조에도 불구하고 베이비푸드 시장이 빠른 성장세를 보이며 식품업체의 시장 진...</td>\n",
       "      <td>0</td>\n",
       "    </tr>\n",
       "    <tr>\n",
       "      <th>14227</th>\n",
       "      <td>KT는 재난·재해 상황에도 통신이 가능한 '위성 롱텀에볼루션(LTE)'를 독도에서 ...</td>\n",
       "      <td>1</td>\n",
       "    </tr>\n",
       "    <tr>\n",
       "      <th>15634</th>\n",
       "      <td>SK플래닛이 자사의 모바일 지갑 '시럽 월렛'에서 가상통화 지갑 서비스를 시작한다고...</td>\n",
       "      <td>1</td>\n",
       "    </tr>\n",
       "    <tr>\n",
       "      <th>6975</th>\n",
       "      <td>KT그룹 계열사인 KTH가 빅데이터 및 인공지능(AI)에 기반한 CS(고객 상담) ...</td>\n",
       "      <td>1</td>\n",
       "    </tr>\n",
       "  </tbody>\n",
       "</table>\n",
       "</div>"
      ],
      "text/plain": [
       "                                                    text  label\n",
       "6241   글로벌 보안 기업 사이렌(CYREN) 샌드박스 솔루션이 올해 말 출시된다.\\n값비싼...      0\n",
       "8236   저출산 기조에도 불구하고 베이비푸드 시장이 빠른 성장세를 보이며 식품업체의 시장 진...      0\n",
       "14227  KT는 재난·재해 상황에도 통신이 가능한 '위성 롱텀에볼루션(LTE)'를 독도에서 ...      1\n",
       "15634  SK플래닛이 자사의 모바일 지갑 '시럽 월렛'에서 가상통화 지갑 서비스를 시작한다고...      1\n",
       "6975   KT그룹 계열사인 KTH가 빅데이터 및 인공지능(AI)에 기반한 CS(고객 상담) ...      1"
      ]
     },
     "execution_count": 12,
     "metadata": {},
     "output_type": "execute_result"
    }
   ],
   "source": [
    "train.head(5)\n"
   ]
  },
  {
   "cell_type": "code",
   "execution_count": 13,
   "metadata": {},
   "outputs": [
    {
     "data": {
      "text/html": [
       "<div>\n",
       "<style scoped>\n",
       "    .dataframe tbody tr th:only-of-type {\n",
       "        vertical-align: middle;\n",
       "    }\n",
       "\n",
       "    .dataframe tbody tr th {\n",
       "        vertical-align: top;\n",
       "    }\n",
       "\n",
       "    .dataframe thead th {\n",
       "        text-align: right;\n",
       "    }\n",
       "</style>\n",
       "<table border=\"1\" class=\"dataframe\">\n",
       "  <thead>\n",
       "    <tr style=\"text-align: right;\">\n",
       "      <th></th>\n",
       "      <th>text</th>\n",
       "      <th>label</th>\n",
       "    </tr>\n",
       "  </thead>\n",
       "  <tbody>\n",
       "    <tr>\n",
       "      <th>19</th>\n",
       "      <td>박근혜 대통령이 신년 기자회견에서 낡은 규제로 '액티브엑스(Active-X)'를 재...</td>\n",
       "      <td>0</td>\n",
       "    </tr>\n",
       "    <tr>\n",
       "      <th>23</th>\n",
       "      <td>모바일 분석 시장이 뜨겁게 달아오르고 있다.\\n글로벌 모바일 앱 시장 분석 업체 앱...</td>\n",
       "      <td>0</td>\n",
       "    </tr>\n",
       "    <tr>\n",
       "      <th>56</th>\n",
       "      <td>한국인터넷진흥원(KISA)은 23일 최근 스미싱이 특정 대상에 발송돼 악성 앱(애플...</td>\n",
       "      <td>0</td>\n",
       "    </tr>\n",
       "    <tr>\n",
       "      <th>69</th>\n",
       "      <td>방송통신위원회가 지상파 광고총량제, 지상파 재송신 분쟁 해결 제도를 비롯해 논란이 ...</td>\n",
       "      <td>0</td>\n",
       "    </tr>\n",
       "    <tr>\n",
       "      <th>85</th>\n",
       "      <td>정부가 3일(현지시간) 사우디에 20억 달러(약 2조원) 규모인 '스마트(Syste...</td>\n",
       "      <td>0</td>\n",
       "    </tr>\n",
       "  </tbody>\n",
       "</table>\n",
       "</div>"
      ],
      "text/plain": [
       "                                                 text  label\n",
       "19  박근혜 대통령이 신년 기자회견에서 낡은 규제로 '액티브엑스(Active-X)'를 재...      0\n",
       "23  모바일 분석 시장이 뜨겁게 달아오르고 있다.\\n글로벌 모바일 앱 시장 분석 업체 앱...      0\n",
       "56  한국인터넷진흥원(KISA)은 23일 최근 스미싱이 특정 대상에 발송돼 악성 앱(애플...      0\n",
       "69  방송통신위원회가 지상파 광고총량제, 지상파 재송신 분쟁 해결 제도를 비롯해 논란이 ...      0\n",
       "85  정부가 3일(현지시간) 사우디에 20억 달러(약 2조원) 규모인 '스마트(Syste...      0"
      ]
     },
     "execution_count": 13,
     "metadata": {},
     "output_type": "execute_result"
    }
   ],
   "source": [
    "test.head(5)\n"
   ]
  },
  {
   "cell_type": "markdown",
   "metadata": {},
   "source": [
    "## [3] 데이터 전처리\n"
   ]
  },
  {
   "cell_type": "markdown",
   "metadata": {},
   "source": [
    "토큰화\n"
   ]
  },
  {
   "cell_type": "code",
   "execution_count": 14,
   "metadata": {},
   "outputs": [],
   "source": [
    "# from konlpy.tag import Okt\n",
    "\n",
    "# tokenizer = Okt()\n",
    "\n",
    "# def tokenize(data):\n",
    "#     data['text_tokenize'] = 0\n",
    "\n",
    "#     for i in range(len(data)):\n",
    "#         text = data.iloc[i,0]\n",
    "#         token = tokenizer.morphs(text)\n",
    "#         data.iloc[i,2] = str(token)\n"
   ]
  },
  {
   "cell_type": "code",
   "execution_count": 15,
   "metadata": {},
   "outputs": [],
   "source": [
    "# tokenize(train)\n"
   ]
  },
  {
   "cell_type": "code",
   "execution_count": 16,
   "metadata": {},
   "outputs": [],
   "source": [
    "# train.head()\n"
   ]
  },
  {
   "cell_type": "code",
   "execution_count": 17,
   "metadata": {},
   "outputs": [],
   "source": [
    "# tokenize(test)\n"
   ]
  },
  {
   "cell_type": "code",
   "execution_count": 18,
   "metadata": {},
   "outputs": [],
   "source": [
    "# test.head()\n"
   ]
  },
  {
   "cell_type": "markdown",
   "metadata": {},
   "source": [
    "*   [3-1] 구두점 및 불용어 제거\n"
   ]
  },
  {
   "cell_type": "code",
   "execution_count": 19,
   "metadata": {},
   "outputs": [],
   "source": [
    "# # 불용어 리스트\n",
    "\n",
    "# STOP_WORD = 'stop_words.txt'\n",
    "\n",
    "# with open(STOP_WORD,'r', encoding = 'utf-8') as f:\n",
    "#     stopwords = f.readlines()\n",
    "# stopwords\n",
    "\n",
    "# stopwords_list = []\n",
    "\n",
    "# for data in stopwords:\n",
    "#     data = data.replace('\\n','').strip()\n",
    "#     stopwords_list.append(data)\n"
   ]
  },
  {
   "cell_type": "code",
   "execution_count": 20,
   "metadata": {},
   "outputs": [],
   "source": [
    "# stopwords_list\n"
   ]
  },
  {
   "cell_type": "code",
   "execution_count": 21,
   "metadata": {},
   "outputs": [],
   "source": [
    "# 구두점 리스트\n",
    "\n",
    "import string\n",
    "\n",
    "punct = string.punctuation\n",
    "punct_add = list(punct)\n",
    "punct_add.append(\"\\n\")\n"
   ]
  },
  {
   "cell_type": "code",
   "execution_count": 22,
   "metadata": {},
   "outputs": [
    {
     "data": {
      "text/plain": [
       "32547"
      ]
     },
     "execution_count": 22,
     "metadata": {},
     "output_type": "execute_result"
    }
   ],
   "source": [
    "len(train)\n"
   ]
  },
  {
   "cell_type": "code",
   "execution_count": 23,
   "metadata": {},
   "outputs": [],
   "source": [
    "def remove(data):\n",
    "    data[\"text_remove\"] = 0\n",
    "\n",
    "    for i in range(len(data)):\n",
    "        text = data[\"text\"].iloc[i]\n",
    "        for pun in punct_add:\n",
    "            text = text.replace(pun, \"\")\n",
    "        # for stopword in stopwords_list:\n",
    "        #     text = text.replace(stopword, '')\n",
    "        data.iloc[i, 2] = text\n"
   ]
  },
  {
   "cell_type": "code",
   "execution_count": 24,
   "metadata": {},
   "outputs": [],
   "source": [
    "remove(train)\n"
   ]
  },
  {
   "cell_type": "code",
   "execution_count": 25,
   "metadata": {},
   "outputs": [
    {
     "data": {
      "text/html": [
       "<div>\n",
       "<style scoped>\n",
       "    .dataframe tbody tr th:only-of-type {\n",
       "        vertical-align: middle;\n",
       "    }\n",
       "\n",
       "    .dataframe tbody tr th {\n",
       "        vertical-align: top;\n",
       "    }\n",
       "\n",
       "    .dataframe thead th {\n",
       "        text-align: right;\n",
       "    }\n",
       "</style>\n",
       "<table border=\"1\" class=\"dataframe\">\n",
       "  <thead>\n",
       "    <tr style=\"text-align: right;\">\n",
       "      <th></th>\n",
       "      <th>text</th>\n",
       "      <th>label</th>\n",
       "      <th>text_remove</th>\n",
       "    </tr>\n",
       "  </thead>\n",
       "  <tbody>\n",
       "    <tr>\n",
       "      <th>6241</th>\n",
       "      <td>글로벌 보안 기업 사이렌(CYREN) 샌드박스 솔루션이 올해 말 출시된다.\\n값비싼...</td>\n",
       "      <td>0</td>\n",
       "      <td>글로벌 보안 기업 사이렌CYREN 샌드박스 솔루션이 올해 말 출시된다값비싼 구축형 ...</td>\n",
       "    </tr>\n",
       "    <tr>\n",
       "      <th>8236</th>\n",
       "      <td>저출산 기조에도 불구하고 베이비푸드 시장이 빠른 성장세를 보이며 식품업체의 시장 진...</td>\n",
       "      <td>0</td>\n",
       "      <td>저출산 기조에도 불구하고 베이비푸드 시장이 빠른 성장세를 보이며 식품업체의 시장 진...</td>\n",
       "    </tr>\n",
       "    <tr>\n",
       "      <th>14227</th>\n",
       "      <td>KT는 재난·재해 상황에도 통신이 가능한 '위성 롱텀에볼루션(LTE)'를 독도에서 ...</td>\n",
       "      <td>1</td>\n",
       "      <td>KT는 재난·재해 상황에도 통신이 가능한 위성 롱텀에볼루션LTE를 독도에서 서비스한...</td>\n",
       "    </tr>\n",
       "    <tr>\n",
       "      <th>15634</th>\n",
       "      <td>SK플래닛이 자사의 모바일 지갑 '시럽 월렛'에서 가상통화 지갑 서비스를 시작한다고...</td>\n",
       "      <td>1</td>\n",
       "      <td>SK플래닛이 자사의 모바일 지갑 시럽 월렛에서 가상통화 지갑 서비스를 시작한다고 1...</td>\n",
       "    </tr>\n",
       "    <tr>\n",
       "      <th>6975</th>\n",
       "      <td>KT그룹 계열사인 KTH가 빅데이터 및 인공지능(AI)에 기반한 CS(고객 상담) ...</td>\n",
       "      <td>1</td>\n",
       "      <td>KT그룹 계열사인 KTH가 빅데이터 및 인공지능AI에 기반한 CS고객 상담 솔루션을...</td>\n",
       "    </tr>\n",
       "  </tbody>\n",
       "</table>\n",
       "</div>"
      ],
      "text/plain": [
       "                                                    text  label  \\\n",
       "6241   글로벌 보안 기업 사이렌(CYREN) 샌드박스 솔루션이 올해 말 출시된다.\\n값비싼...      0   \n",
       "8236   저출산 기조에도 불구하고 베이비푸드 시장이 빠른 성장세를 보이며 식품업체의 시장 진...      0   \n",
       "14227  KT는 재난·재해 상황에도 통신이 가능한 '위성 롱텀에볼루션(LTE)'를 독도에서 ...      1   \n",
       "15634  SK플래닛이 자사의 모바일 지갑 '시럽 월렛'에서 가상통화 지갑 서비스를 시작한다고...      1   \n",
       "6975   KT그룹 계열사인 KTH가 빅데이터 및 인공지능(AI)에 기반한 CS(고객 상담) ...      1   \n",
       "\n",
       "                                             text_remove  \n",
       "6241   글로벌 보안 기업 사이렌CYREN 샌드박스 솔루션이 올해 말 출시된다값비싼 구축형 ...  \n",
       "8236   저출산 기조에도 불구하고 베이비푸드 시장이 빠른 성장세를 보이며 식품업체의 시장 진...  \n",
       "14227  KT는 재난·재해 상황에도 통신이 가능한 위성 롱텀에볼루션LTE를 독도에서 서비스한...  \n",
       "15634  SK플래닛이 자사의 모바일 지갑 시럽 월렛에서 가상통화 지갑 서비스를 시작한다고 1...  \n",
       "6975   KT그룹 계열사인 KTH가 빅데이터 및 인공지능AI에 기반한 CS고객 상담 솔루션을...  "
      ]
     },
     "execution_count": 25,
     "metadata": {},
     "output_type": "execute_result"
    }
   ],
   "source": [
    "train.head()\n"
   ]
  },
  {
   "cell_type": "code",
   "execution_count": 26,
   "metadata": {},
   "outputs": [],
   "source": [
    "# list(train[\"text_remove\"])\n"
   ]
  },
  {
   "cell_type": "code",
   "execution_count": 27,
   "metadata": {},
   "outputs": [],
   "source": [
    "remove(test)\n"
   ]
  },
  {
   "cell_type": "code",
   "execution_count": 28,
   "metadata": {},
   "outputs": [
    {
     "data": {
      "text/html": [
       "<div>\n",
       "<style scoped>\n",
       "    .dataframe tbody tr th:only-of-type {\n",
       "        vertical-align: middle;\n",
       "    }\n",
       "\n",
       "    .dataframe tbody tr th {\n",
       "        vertical-align: top;\n",
       "    }\n",
       "\n",
       "    .dataframe thead th {\n",
       "        text-align: right;\n",
       "    }\n",
       "</style>\n",
       "<table border=\"1\" class=\"dataframe\">\n",
       "  <thead>\n",
       "    <tr style=\"text-align: right;\">\n",
       "      <th></th>\n",
       "      <th>text</th>\n",
       "      <th>label</th>\n",
       "      <th>text_remove</th>\n",
       "    </tr>\n",
       "  </thead>\n",
       "  <tbody>\n",
       "    <tr>\n",
       "      <th>19</th>\n",
       "      <td>박근혜 대통령이 신년 기자회견에서 낡은 규제로 '액티브엑스(Active-X)'를 재...</td>\n",
       "      <td>0</td>\n",
       "      <td>박근혜 대통령이 신년 기자회견에서 낡은 규제로 액티브엑스ActiveX를 재차 지목했...</td>\n",
       "    </tr>\n",
       "    <tr>\n",
       "      <th>23</th>\n",
       "      <td>모바일 분석 시장이 뜨겁게 달아오르고 있다.\\n글로벌 모바일 앱 시장 분석 업체 앱...</td>\n",
       "      <td>0</td>\n",
       "      <td>모바일 분석 시장이 뜨겁게 달아오르고 있다글로벌 모바일 앱 시장 분석 업체 앱애니가...</td>\n",
       "    </tr>\n",
       "    <tr>\n",
       "      <th>56</th>\n",
       "      <td>한국인터넷진흥원(KISA)은 23일 최근 스미싱이 특정 대상에 발송돼 악성 앱(애플...</td>\n",
       "      <td>0</td>\n",
       "      <td>한국인터넷진흥원KISA은 23일 최근 스미싱이 특정 대상에 발송돼 악성 앱애플리케이...</td>\n",
       "    </tr>\n",
       "    <tr>\n",
       "      <th>69</th>\n",
       "      <td>방송통신위원회가 지상파 광고총량제, 지상파 재송신 분쟁 해결 제도를 비롯해 논란이 ...</td>\n",
       "      <td>0</td>\n",
       "      <td>방송통신위원회가 지상파 광고총량제 지상파 재송신 분쟁 해결 제도를 비롯해 논란이 되...</td>\n",
       "    </tr>\n",
       "    <tr>\n",
       "      <th>85</th>\n",
       "      <td>정부가 3일(현지시간) 사우디에 20억 달러(약 2조원) 규모인 '스마트(Syste...</td>\n",
       "      <td>0</td>\n",
       "      <td>정부가 3일현지시간 사우디에 20억 달러약 2조원 규모인 스마트Systeminteg...</td>\n",
       "    </tr>\n",
       "  </tbody>\n",
       "</table>\n",
       "</div>"
      ],
      "text/plain": [
       "                                                 text  label  \\\n",
       "19  박근혜 대통령이 신년 기자회견에서 낡은 규제로 '액티브엑스(Active-X)'를 재...      0   \n",
       "23  모바일 분석 시장이 뜨겁게 달아오르고 있다.\\n글로벌 모바일 앱 시장 분석 업체 앱...      0   \n",
       "56  한국인터넷진흥원(KISA)은 23일 최근 스미싱이 특정 대상에 발송돼 악성 앱(애플...      0   \n",
       "69  방송통신위원회가 지상파 광고총량제, 지상파 재송신 분쟁 해결 제도를 비롯해 논란이 ...      0   \n",
       "85  정부가 3일(현지시간) 사우디에 20억 달러(약 2조원) 규모인 '스마트(Syste...      0   \n",
       "\n",
       "                                          text_remove  \n",
       "19  박근혜 대통령이 신년 기자회견에서 낡은 규제로 액티브엑스ActiveX를 재차 지목했...  \n",
       "23  모바일 분석 시장이 뜨겁게 달아오르고 있다글로벌 모바일 앱 시장 분석 업체 앱애니가...  \n",
       "56  한국인터넷진흥원KISA은 23일 최근 스미싱이 특정 대상에 발송돼 악성 앱애플리케이...  \n",
       "69  방송통신위원회가 지상파 광고총량제 지상파 재송신 분쟁 해결 제도를 비롯해 논란이 되...  \n",
       "85  정부가 3일현지시간 사우디에 20억 달러약 2조원 규모인 스마트Systeminteg...  "
      ]
     },
     "execution_count": 28,
     "metadata": {},
     "output_type": "execute_result"
    }
   ],
   "source": [
    "test.head()\n"
   ]
  },
  {
   "cell_type": "markdown",
   "metadata": {},
   "source": [
    "*   [3-2] 토큰화\n"
   ]
  },
  {
   "cell_type": "code",
   "execution_count": 29,
   "metadata": {},
   "outputs": [],
   "source": [
    "from konlpy.tag import Okt\n",
    "\n",
    "tokenizer = Okt()\n",
    "\n",
    "\n",
    "def tokenize(data):\n",
    "    data[\"text_tokenize\"] = 0\n",
    "\n",
    "    for i in range(len(data)):\n",
    "        text = data.iloc[i, 2]\n",
    "        token = tokenizer.morphs(text)\n",
    "        data.iloc[i, 3] = str(token)\n"
   ]
  },
  {
   "cell_type": "code",
   "execution_count": 30,
   "metadata": {},
   "outputs": [],
   "source": [
    "tokenize(train)\n"
   ]
  },
  {
   "cell_type": "code",
   "execution_count": 31,
   "metadata": {},
   "outputs": [
    {
     "data": {
      "text/html": [
       "<div>\n",
       "<style scoped>\n",
       "    .dataframe tbody tr th:only-of-type {\n",
       "        vertical-align: middle;\n",
       "    }\n",
       "\n",
       "    .dataframe tbody tr th {\n",
       "        vertical-align: top;\n",
       "    }\n",
       "\n",
       "    .dataframe thead th {\n",
       "        text-align: right;\n",
       "    }\n",
       "</style>\n",
       "<table border=\"1\" class=\"dataframe\">\n",
       "  <thead>\n",
       "    <tr style=\"text-align: right;\">\n",
       "      <th></th>\n",
       "      <th>text</th>\n",
       "      <th>label</th>\n",
       "      <th>text_remove</th>\n",
       "      <th>text_tokenize</th>\n",
       "    </tr>\n",
       "  </thead>\n",
       "  <tbody>\n",
       "    <tr>\n",
       "      <th>6241</th>\n",
       "      <td>글로벌 보안 기업 사이렌(CYREN) 샌드박스 솔루션이 올해 말 출시된다.\\n값비싼...</td>\n",
       "      <td>0</td>\n",
       "      <td>글로벌 보안 기업 사이렌CYREN 샌드박스 솔루션이 올해 말 출시된다값비싼 구축형 ...</td>\n",
       "      <td>['글로벌', '보안', '기업', '사이렌', 'CYREN', '샌드박스', '솔...</td>\n",
       "    </tr>\n",
       "    <tr>\n",
       "      <th>8236</th>\n",
       "      <td>저출산 기조에도 불구하고 베이비푸드 시장이 빠른 성장세를 보이며 식품업체의 시장 진...</td>\n",
       "      <td>0</td>\n",
       "      <td>저출산 기조에도 불구하고 베이비푸드 시장이 빠른 성장세를 보이며 식품업체의 시장 진...</td>\n",
       "      <td>['저출산', '기조', '에도', '불구', '하고', '베이비푸드', '시장',...</td>\n",
       "    </tr>\n",
       "    <tr>\n",
       "      <th>14227</th>\n",
       "      <td>KT는 재난·재해 상황에도 통신이 가능한 '위성 롱텀에볼루션(LTE)'를 독도에서 ...</td>\n",
       "      <td>1</td>\n",
       "      <td>KT는 재난·재해 상황에도 통신이 가능한 위성 롱텀에볼루션LTE를 독도에서 서비스한...</td>\n",
       "      <td>['KT', '는', '재난', '·', '재해', '상황', '에도', '통신',...</td>\n",
       "    </tr>\n",
       "    <tr>\n",
       "      <th>15634</th>\n",
       "      <td>SK플래닛이 자사의 모바일 지갑 '시럽 월렛'에서 가상통화 지갑 서비스를 시작한다고...</td>\n",
       "      <td>1</td>\n",
       "      <td>SK플래닛이 자사의 모바일 지갑 시럽 월렛에서 가상통화 지갑 서비스를 시작한다고 1...</td>\n",
       "      <td>['SK', '플래닛', '이', '자사', '의', '모바일', '지갑', '시럽...</td>\n",
       "    </tr>\n",
       "    <tr>\n",
       "      <th>6975</th>\n",
       "      <td>KT그룹 계열사인 KTH가 빅데이터 및 인공지능(AI)에 기반한 CS(고객 상담) ...</td>\n",
       "      <td>1</td>\n",
       "      <td>KT그룹 계열사인 KTH가 빅데이터 및 인공지능AI에 기반한 CS고객 상담 솔루션을...</td>\n",
       "      <td>['KT', '그룹', '계열', '사인', 'KTH', '가', '빅데이터', '...</td>\n",
       "    </tr>\n",
       "  </tbody>\n",
       "</table>\n",
       "</div>"
      ],
      "text/plain": [
       "                                                    text  label  \\\n",
       "6241   글로벌 보안 기업 사이렌(CYREN) 샌드박스 솔루션이 올해 말 출시된다.\\n값비싼...      0   \n",
       "8236   저출산 기조에도 불구하고 베이비푸드 시장이 빠른 성장세를 보이며 식품업체의 시장 진...      0   \n",
       "14227  KT는 재난·재해 상황에도 통신이 가능한 '위성 롱텀에볼루션(LTE)'를 독도에서 ...      1   \n",
       "15634  SK플래닛이 자사의 모바일 지갑 '시럽 월렛'에서 가상통화 지갑 서비스를 시작한다고...      1   \n",
       "6975   KT그룹 계열사인 KTH가 빅데이터 및 인공지능(AI)에 기반한 CS(고객 상담) ...      1   \n",
       "\n",
       "                                             text_remove  \\\n",
       "6241   글로벌 보안 기업 사이렌CYREN 샌드박스 솔루션이 올해 말 출시된다값비싼 구축형 ...   \n",
       "8236   저출산 기조에도 불구하고 베이비푸드 시장이 빠른 성장세를 보이며 식품업체의 시장 진...   \n",
       "14227  KT는 재난·재해 상황에도 통신이 가능한 위성 롱텀에볼루션LTE를 독도에서 서비스한...   \n",
       "15634  SK플래닛이 자사의 모바일 지갑 시럽 월렛에서 가상통화 지갑 서비스를 시작한다고 1...   \n",
       "6975   KT그룹 계열사인 KTH가 빅데이터 및 인공지능AI에 기반한 CS고객 상담 솔루션을...   \n",
       "\n",
       "                                           text_tokenize  \n",
       "6241   ['글로벌', '보안', '기업', '사이렌', 'CYREN', '샌드박스', '솔...  \n",
       "8236   ['저출산', '기조', '에도', '불구', '하고', '베이비푸드', '시장',...  \n",
       "14227  ['KT', '는', '재난', '·', '재해', '상황', '에도', '통신',...  \n",
       "15634  ['SK', '플래닛', '이', '자사', '의', '모바일', '지갑', '시럽...  \n",
       "6975   ['KT', '그룹', '계열', '사인', 'KTH', '가', '빅데이터', '...  "
      ]
     },
     "execution_count": 31,
     "metadata": {},
     "output_type": "execute_result"
    }
   ],
   "source": [
    "train.head()\n"
   ]
  },
  {
   "cell_type": "code",
   "execution_count": 32,
   "metadata": {},
   "outputs": [],
   "source": [
    "tokenize(test)\n"
   ]
  },
  {
   "cell_type": "code",
   "execution_count": 33,
   "metadata": {},
   "outputs": [
    {
     "data": {
      "text/html": [
       "<div>\n",
       "<style scoped>\n",
       "    .dataframe tbody tr th:only-of-type {\n",
       "        vertical-align: middle;\n",
       "    }\n",
       "\n",
       "    .dataframe tbody tr th {\n",
       "        vertical-align: top;\n",
       "    }\n",
       "\n",
       "    .dataframe thead th {\n",
       "        text-align: right;\n",
       "    }\n",
       "</style>\n",
       "<table border=\"1\" class=\"dataframe\">\n",
       "  <thead>\n",
       "    <tr style=\"text-align: right;\">\n",
       "      <th></th>\n",
       "      <th>text</th>\n",
       "      <th>label</th>\n",
       "      <th>text_remove</th>\n",
       "      <th>text_tokenize</th>\n",
       "    </tr>\n",
       "  </thead>\n",
       "  <tbody>\n",
       "    <tr>\n",
       "      <th>19</th>\n",
       "      <td>박근혜 대통령이 신년 기자회견에서 낡은 규제로 '액티브엑스(Active-X)'를 재...</td>\n",
       "      <td>0</td>\n",
       "      <td>박근혜 대통령이 신년 기자회견에서 낡은 규제로 액티브엑스ActiveX를 재차 지목했...</td>\n",
       "      <td>['박근혜', '대통령', '이', '신년', '기자회견', '에서', '낡은', ...</td>\n",
       "    </tr>\n",
       "    <tr>\n",
       "      <th>23</th>\n",
       "      <td>모바일 분석 시장이 뜨겁게 달아오르고 있다.\\n글로벌 모바일 앱 시장 분석 업체 앱...</td>\n",
       "      <td>0</td>\n",
       "      <td>모바일 분석 시장이 뜨겁게 달아오르고 있다글로벌 모바일 앱 시장 분석 업체 앱애니가...</td>\n",
       "      <td>['모바일', '분석', '시장', '이', '뜨겁게', '달아오르고', '있다',...</td>\n",
       "    </tr>\n",
       "    <tr>\n",
       "      <th>56</th>\n",
       "      <td>한국인터넷진흥원(KISA)은 23일 최근 스미싱이 특정 대상에 발송돼 악성 앱(애플...</td>\n",
       "      <td>0</td>\n",
       "      <td>한국인터넷진흥원KISA은 23일 최근 스미싱이 특정 대상에 발송돼 악성 앱애플리케이...</td>\n",
       "      <td>['한국', '인터넷', '진흥', '원', 'KISA', '은', '23일', '...</td>\n",
       "    </tr>\n",
       "    <tr>\n",
       "      <th>69</th>\n",
       "      <td>방송통신위원회가 지상파 광고총량제, 지상파 재송신 분쟁 해결 제도를 비롯해 논란이 ...</td>\n",
       "      <td>0</td>\n",
       "      <td>방송통신위원회가 지상파 광고총량제 지상파 재송신 분쟁 해결 제도를 비롯해 논란이 되...</td>\n",
       "      <td>['방송통신', '위원회', '가', '지상파', '광고', '총', '량제', '...</td>\n",
       "    </tr>\n",
       "    <tr>\n",
       "      <th>85</th>\n",
       "      <td>정부가 3일(현지시간) 사우디에 20억 달러(약 2조원) 규모인 '스마트(Syste...</td>\n",
       "      <td>0</td>\n",
       "      <td>정부가 3일현지시간 사우디에 20억 달러약 2조원 규모인 스마트Systeminteg...</td>\n",
       "      <td>['정부', '가', '3일', '현지시간', '사우디', '에', '20억', '...</td>\n",
       "    </tr>\n",
       "  </tbody>\n",
       "</table>\n",
       "</div>"
      ],
      "text/plain": [
       "                                                 text  label  \\\n",
       "19  박근혜 대통령이 신년 기자회견에서 낡은 규제로 '액티브엑스(Active-X)'를 재...      0   \n",
       "23  모바일 분석 시장이 뜨겁게 달아오르고 있다.\\n글로벌 모바일 앱 시장 분석 업체 앱...      0   \n",
       "56  한국인터넷진흥원(KISA)은 23일 최근 스미싱이 특정 대상에 발송돼 악성 앱(애플...      0   \n",
       "69  방송통신위원회가 지상파 광고총량제, 지상파 재송신 분쟁 해결 제도를 비롯해 논란이 ...      0   \n",
       "85  정부가 3일(현지시간) 사우디에 20억 달러(약 2조원) 규모인 '스마트(Syste...      0   \n",
       "\n",
       "                                          text_remove  \\\n",
       "19  박근혜 대통령이 신년 기자회견에서 낡은 규제로 액티브엑스ActiveX를 재차 지목했...   \n",
       "23  모바일 분석 시장이 뜨겁게 달아오르고 있다글로벌 모바일 앱 시장 분석 업체 앱애니가...   \n",
       "56  한국인터넷진흥원KISA은 23일 최근 스미싱이 특정 대상에 발송돼 악성 앱애플리케이...   \n",
       "69  방송통신위원회가 지상파 광고총량제 지상파 재송신 분쟁 해결 제도를 비롯해 논란이 되...   \n",
       "85  정부가 3일현지시간 사우디에 20억 달러약 2조원 규모인 스마트Systeminteg...   \n",
       "\n",
       "                                        text_tokenize  \n",
       "19  ['박근혜', '대통령', '이', '신년', '기자회견', '에서', '낡은', ...  \n",
       "23  ['모바일', '분석', '시장', '이', '뜨겁게', '달아오르고', '있다',...  \n",
       "56  ['한국', '인터넷', '진흥', '원', 'KISA', '은', '23일', '...  \n",
       "69  ['방송통신', '위원회', '가', '지상파', '광고', '총', '량제', '...  \n",
       "85  ['정부', '가', '3일', '현지시간', '사우디', '에', '20억', '...  "
      ]
     },
     "execution_count": 33,
     "metadata": {},
     "output_type": "execute_result"
    }
   ],
   "source": [
    "test.head()\n"
   ]
  },
  {
   "cell_type": "markdown",
   "metadata": {},
   "source": [
    "## [4] 단어 사전 구축\n"
   ]
  },
  {
   "cell_type": "code",
   "execution_count": 34,
   "metadata": {},
   "outputs": [],
   "source": [
    "def build_vocab(corpus, n_vocab, special_tokens):\n",
    "    counter = Counter()\n",
    "    for tokens in corpus:\n",
    "        counter.update(tokens)\n",
    "    vocab = special_tokens\n",
    "    for token, count in counter.most_common(n_vocab):\n",
    "        vocab.append(token)\n",
    "    return vocab\n"
   ]
  },
  {
   "cell_type": "code",
   "execution_count": 35,
   "metadata": {},
   "outputs": [],
   "source": [
    "train_tokens = [\n",
    "    [token for token in tokenizer.morphs(review) if token not in punct_add]\n",
    "    for review in train.text\n",
    "]\n",
    "test_tokens = [\n",
    "    [token for token in tokenizer.morphs(review) if token not in punct_add]\n",
    "    for review in test.text\n",
    "]\n",
    "\n",
    "vocab = build_vocab(\n",
    "    corpus=train_tokens, n_vocab=50000, special_tokens=[\"<pad>\", \"<unk>\"]\n",
    ")\n",
    "token_to_id_train = {token: idx for idx, token in enumerate(vocab)}\n",
    "id_to_token_train = {idx: token for idx, token in enumerate(vocab)}\n"
   ]
  },
  {
   "cell_type": "code",
   "execution_count": 36,
   "metadata": {},
   "outputs": [],
   "source": [
    "# train_tokens\n"
   ]
  },
  {
   "cell_type": "code",
   "execution_count": 37,
   "metadata": {},
   "outputs": [
    {
     "data": {
      "text/plain": [
       "(32547, 1778)"
      ]
     },
     "execution_count": 37,
     "metadata": {},
     "output_type": "execute_result"
    }
   ],
   "source": [
    "len(train_tokens), len(test_tokens)\n"
   ]
  },
  {
   "cell_type": "code",
   "execution_count": 38,
   "metadata": {},
   "outputs": [],
   "source": [
    "# id_to_token_train\n"
   ]
  },
  {
   "cell_type": "code",
   "execution_count": 39,
   "metadata": {},
   "outputs": [],
   "source": [
    "# token_to_id_train\n"
   ]
  },
  {
   "cell_type": "code",
   "execution_count": 40,
   "metadata": {},
   "outputs": [],
   "source": [
    "# vocab\n"
   ]
  },
  {
   "cell_type": "code",
   "execution_count": 41,
   "metadata": {},
   "outputs": [
    {
     "data": {
      "text/plain": [
       "50002"
      ]
     },
     "execution_count": 41,
     "metadata": {},
     "output_type": "execute_result"
    }
   ],
   "source": [
    "len(id_to_token_train)\n"
   ]
  },
  {
   "cell_type": "markdown",
   "metadata": {},
   "source": [
    "## [5] 단어 인코딩 및 패딩\n"
   ]
  },
  {
   "cell_type": "code",
   "execution_count": 42,
   "metadata": {},
   "outputs": [],
   "source": [
    "def max_length(data, list):\n",
    "    list = []\n",
    "    for tokenList in data:\n",
    "        list.append(len(tokenList))\n",
    "\n",
    "    MAX_LENGTH = max(list)\n",
    "    return list\n"
   ]
  },
  {
   "cell_type": "code",
   "execution_count": 43,
   "metadata": {},
   "outputs": [],
   "source": [
    "max_train_list = []\n",
    "max_test_list = []\n"
   ]
  },
  {
   "cell_type": "code",
   "execution_count": 44,
   "metadata": {},
   "outputs": [
    {
     "name": "stdout",
     "output_type": "stream",
     "text": [
      "train max_length : 1678 , test max_length : 1348\n"
     ]
    }
   ],
   "source": [
    "print(\n",
    "    f\"train max_length : {max(max_length(train_tokens, max_train_list))} , test max_length : {max(max_length(test_tokens, max_test_list))}\"\n",
    ")\n"
   ]
  },
  {
   "cell_type": "code",
   "execution_count": 45,
   "metadata": {},
   "outputs": [
    {
     "data": {
      "text/plain": [
       "(array([5.1450e+03, 1.3974e+04, 9.9180e+03, 2.3800e+03, 7.4400e+02,\n",
       "        2.7300e+02, 8.7000e+01, 2.0000e+01, 3.0000e+00, 3.0000e+00]),\n",
       " array([  78.,  238.,  398.,  558.,  718.,  878., 1038., 1198., 1358.,\n",
       "        1518., 1678.]),\n",
       " <BarContainer object of 10 artists>)"
      ]
     },
     "execution_count": 45,
     "metadata": {},
     "output_type": "execute_result"
    },
    {
     "data": {
      "image/png": "[encoded data removed]",
      "text/plain": [
       "<Figure size 640x480 with 1 Axes>"
      ]
     },
     "metadata": {},
     "output_type": "display_data"
    }
   ],
   "source": [
    "import matplotlib.pyplot as plt\n",
    "\n",
    "plt.hist(max_length(train_tokens, max_train_list))\n"
   ]
  },
  {
   "cell_type": "code",
   "execution_count": 46,
   "metadata": {},
   "outputs": [],
   "source": [
    "import numpy as np\n",
    "\n",
    "\n",
    "def pad_sequences(sequences, max_length, pad_value):\n",
    "    result = list()\n",
    "    for sequence in sequences:\n",
    "        sequence = sequence[:max_length]\n",
    "        pad_length = max_length - len(sequence)\n",
    "        padded_sequence = sequence + [pad_value] * pad_length\n",
    "        result.append(padded_sequence)\n",
    "\n",
    "    return np.asarray(result)\n",
    "\n",
    "\n",
    "unk_id = token_to_id_train[\"<unk>\"]\n",
    "train_ids = [\n",
    "    [token_to_id_train.get(token, unk_id) for token in text]\n",
    "    for text in train[\"text_tokenize\"]\n",
    "]\n",
    "test_ids = [\n",
    "    [token_to_id_train.get(token, unk_id) for token in text]\n",
    "    for text in test[\"text_tokenize\"]\n",
    "]\n",
    "\n",
    "## 패딩\n",
    "max_length = 1700\n",
    "pad_id = token_to_id_train[\"<pad>\"]\n",
    "train_ids = pad_sequences(train_ids, max_length, pad_id)\n",
    "test_ids = pad_sequences(test_ids, max_length, pad_id)\n"
   ]
  },
  {
   "cell_type": "code",
   "execution_count": 47,
   "metadata": {},
   "outputs": [
    {
     "name": "stdout",
     "output_type": "stream",
     "text": [
      "[   1    1 1579 ...    1    4    3]\n",
      "[   1    1 1139 ...    1    1    5]\n"
     ]
    }
   ],
   "source": [
    "print(train_ids[0])\n",
    "print(test_ids[0])\n"
   ]
  },
  {
   "cell_type": "markdown",
   "metadata": {},
   "source": [
    "## [6] 모델 학습 준비\n"
   ]
  },
  {
   "cell_type": "markdown",
   "metadata": {},
   "source": [
    "## [6-1] 단어 사전 저장\n"
   ]
  },
  {
   "cell_type": "code",
   "execution_count": 48,
   "metadata": {},
   "outputs": [],
   "source": [
    "import json\n",
    "from sklearn.feature_extraction.text import CountVectorizer\n",
    "\n",
    "with open(\"vocab_kdy.json\", \"w\") as f:\n",
    "    json.dump(token_to_id_train, f)\n"
   ]
  },
  {
   "cell_type": "code",
   "execution_count": 49,
   "metadata": {},
   "outputs": [],
   "source": [
    "# json -> 리스트 -> \"단어\" : idx 형식의 딕셔너리로 변환\n",
    "import json\n",
    "\n",
    "with open(\"vocab_kdy.json\", \"r\", encoding=\"utf-8\") as f:\n",
    "    vocab_team1 = json.load(f)\n",
    "\n",
    "vocab_dict = {}\n",
    "for idx, word in enumerate(vocab_team1):\n",
    "    vocab_dict[word] = idx\n",
    "# print(vocab_dict)\n"
   ]
  },
  {
   "cell_type": "code",
   "execution_count": 50,
   "metadata": {},
   "outputs": [
    {
     "name": "stdout",
     "output_type": "stream",
     "text": [
      "단어 사전이 저장되었습니다.\n",
      "단어 사전이 불러와졌습니다.\n"
     ]
    }
   ],
   "source": [
    "# 저장\n",
    "import pickle\n",
    "\n",
    "# 단어 사전 저장\n",
    "with open(\"vocab.pkl\", \"wb\") as f:\n",
    "    pickle.dump(token_to_id_train, f)\n",
    "\n",
    "print(\"단어 사전이 저장되었습니다.\")\n",
    "\n",
    "\n",
    "# 불러오기\n",
    "import pickle\n",
    "\n",
    "# 단어 사전 불러오기\n",
    "with open(\"vocab.pkl\", \"rb\") as f:\n",
    "    vocab = pickle.load(f)\n",
    "\n",
    "print(\"단어 사전이 불러와졌습니다.\")\n",
    "# print(vocab)\n"
   ]
  },
  {
   "cell_type": "code",
   "execution_count": 51,
   "metadata": {},
   "outputs": [],
   "source": [
    "# token_to_id_train\n"
   ]
  },
  {
   "cell_type": "markdown",
   "metadata": {},
   "source": [
    "## [6-2] 모델 저장\n"
   ]
  },
  {
   "cell_type": "code",
   "execution_count": 52,
   "metadata": {},
   "outputs": [],
   "source": [
    "SAVE_PATH = \"../MODELS/dim_128_128/\"\n",
    "\n",
    "SAVE_FILE = \"model_train_it_science.pth\"\n",
    "\n",
    "SAVE_MODEL = \"model_train_it_science_all.pth\"\n"
   ]
  },
  {
   "cell_type": "code",
   "execution_count": 53,
   "metadata": {},
   "outputs": [],
   "source": [
    "if not os.path.exists(SAVE_PATH):\n",
    "    os.makedirs(SAVE_PATH)\n"
   ]
  },
  {
   "cell_type": "markdown",
   "metadata": {},
   "source": [
    "type(train.label.values)\n"
   ]
  },
  {
   "cell_type": "code",
   "execution_count": 54,
   "metadata": {},
   "outputs": [
    {
     "data": {
      "text/plain": [
       "array([0, 0, 1, ..., 1, 1, 0], dtype=int64)"
      ]
     },
     "execution_count": 54,
     "metadata": {},
     "output_type": "execute_result"
    }
   ],
   "source": [
    "train.label.values\n"
   ]
  },
  {
   "cell_type": "code",
   "execution_count": 55,
   "metadata": {},
   "outputs": [],
   "source": [
    "# 데이터로더 적용\n",
    "\n",
    "import torch\n",
    "from torch.utils.data import TensorDataset, DataLoader\n",
    "\n",
    "train_ids = torch.tensor(train_ids)\n",
    "test_ids = torch.tensor(test_ids)\n",
    "\n",
    "## object 타입은 tensor로 변환이 불가하므로 label을 숫자형으로 변경\n",
    "train_labels = torch.tensor(train.label.values, dtype=torch.float32)\n",
    "test_labels = torch.tensor(test.label.values, dtype=torch.float32)\n",
    "\n",
    "train_dataset = TensorDataset(train_ids, train_labels)\n",
    "test_dataset = TensorDataset(test_ids, test_labels)\n",
    "\n",
    "## 모델 학습 과정 시 각 step 마다 데이터를 batch size 크기로 분할하여 넣어 효과적이고 효율적인 학습 진행하도록\n",
    "train_loader = DataLoader(train_dataset, batch_size=16, shuffle=True)\n",
    "test_loader = DataLoader(test_dataset, batch_size=16, shuffle=False)\n"
   ]
  },
  {
   "cell_type": "code",
   "execution_count": 56,
   "metadata": {},
   "outputs": [],
   "source": [
    "# 문장 분류 모델\n",
    "\n",
    "from torch import nn\n",
    "\n",
    "\n",
    "class SentenceClassifier(nn.Module):\n",
    "    def __init__(\n",
    "        self,\n",
    "        n_vocab,\n",
    "        hidden_dim,\n",
    "        embedding_dim,\n",
    "        n_layers,\n",
    "        dropout=0.5,\n",
    "        bidirectional=True,\n",
    "        model_type=\"lstm\",\n",
    "    ):\n",
    "\n",
    "        super().__init__()\n",
    "\n",
    "        self.embedding = nn.Embedding(  # 인스턴스 생성\n",
    "            num_embeddings=n_vocab, embedding_dim=embedding_dim, padding_idx=0\n",
    "        )\n",
    "\n",
    "        if model_type == \"rnn\":\n",
    "            self.model = nn.RNN(\n",
    "                input_size=embedding_dim,\n",
    "                hidden_size=hidden_dim,\n",
    "                num_layers=n_layers,\n",
    "                bidirectional=bidirectional,\n",
    "                dropout=dropout,\n",
    "                batch_first=True,\n",
    "            )\n",
    "\n",
    "        elif model_type == \"lstm\":\n",
    "            self.model = nn.LSTM(\n",
    "                input_size=embedding_dim,\n",
    "                hidden_size=hidden_dim,\n",
    "                num_layers=n_layers,\n",
    "                bidirectional=bidirectional,\n",
    "                dropout=dropout,\n",
    "                batch_first=True,\n",
    "            )\n",
    "\n",
    "        if bidirectional:\n",
    "            self.classifier = nn.Linear(hidden_dim * 2, 1)\n",
    "        else:\n",
    "            self.classifier = nn.Linear(hidden_dim, 1)\n",
    "        self.dropout = nn.Dropout(dropout)\n",
    "\n",
    "    def forward(self, inputs):  # 순방향 메서드\n",
    "        embeddings = self.embedding(\n",
    "            inputs\n",
    "        )  # 입력받은 정수 인코딩을 임베딩 계층에 통과시켜 임베딩 값을 얻음\n",
    "        output, _ = self.model(\n",
    "            embeddings\n",
    "        )  # 얻음 임베딩 값을 모델에 입력하여 출력값 얻음\n",
    "        last_output = output[:, -1, :]\n",
    "        last_output = self.dropout(last_output)\n",
    "        logits = self.classifier(last_output)  # 마지막 값만 추출하여 분류기 계층에 전달\n",
    "        return logits\n"
   ]
  },
  {
   "cell_type": "code",
   "execution_count": 57,
   "metadata": {},
   "outputs": [
    {
     "name": "stderr",
     "output_type": "stream",
     "text": [
      "c:\\ProgramData\\miniconda3\\envs\\Torch_NLP\\lib\\site-packages\\torch\\optim\\lr_scheduler.py:28: UserWarning: The verbose parameter is deprecated. Please use get_last_lr() to access the learning rate.\n",
      "  warnings.warn(\"The verbose parameter is deprecated. Please use get_last_lr() \"\n"
     ]
    }
   ],
   "source": [
    "# 손실함수와 최적화 함수 정의\n",
    "\n",
    "from torch import optim\n",
    "\n",
    "n_vocab = len(token_to_id_train)\n",
    "hidden_dim = 64  # 은닉 상태 크기 64\n",
    "embedding_dim = 64  # embedding 벡터 크기 64\n",
    "n_layers = 4  # 신경망을 2개의 층으로 구성\n",
    "\n",
    "# 기존엔 64 64\n",
    "\n",
    "device = \"cuda\" if torch.cuda.is_available() else \"cpu\"\n",
    "classifier = SentenceClassifier(\n",
    "    n_vocab=n_vocab,\n",
    "    hidden_dim=hidden_dim,\n",
    "    embedding_dim=embedding_dim,\n",
    "    n_layers=n_layers,\n",
    ").to(device)\n",
    "\n",
    "criterion = nn.BCEWithLogitsLoss().to(device)\n",
    "\n",
    "## RMSprop : 모든 기울기를 누적하지 않고, 지수 가중 이동 평균(EWMA)을 사용해 학습률 조절\n",
    "## - 기울기 제곱 값의 평균값이 작아지면 학습률 증가, 반대일 경우 학습률을 감소시켜 불필요한 지역 최솟값에 빠지는 것 방지\n",
    "## - 기울기의 크기가 큰 경우에는 빠른 수렴을 보이며 작은 경우에는 더 작은 학습률을 유지시켜 더 안정적으로 최적화 수행\n",
    "optimizer = optim.RMSprop(classifier.parameters(), lr=0.001)\n",
    "\n",
    "# 최적화 스케줄링 인스턴스 생성\n",
    "scheduler = lr_scheduler.ReduceLROnPlateau(\n",
    "    optimizer, mode=\"max\", patience=5, verbose=True\n",
    ")\n"
   ]
  },
  {
   "cell_type": "code",
   "execution_count": 58,
   "metadata": {},
   "outputs": [
    {
     "name": "stdout",
     "output_type": "stream",
     "text": [
      "0/100\n",
      "Train Loss 0 : 0.6959785223007202\n",
      "Train Loss 500 : 0.6846963947642587\n",
      "Train Loss 1000 : 0.6843068413324765\n",
      "Train Loss 1500 : 0.6847305669139656\n",
      "Train Loss 2000 : 0.6846098312135341\n",
      "Val Loss : 0.6895178008292403, Val Accuracy : 0.5258717660292463\n",
      "scheduler.num_bad_epochs => 0\n",
      "1/100\n",
      "Train Loss 0 : 0.6295485496520996\n",
      "Train Loss 500 : 0.6821969922431215\n",
      "Train Loss 1000 : 0.6833849990522707\n",
      "Train Loss 1500 : 0.6837016837268095\n",
      "Train Loss 2000 : 0.6838810825455135\n",
      "Val Loss : 0.6817474689866815, Val Accuracy : 0.5584926884139483\n",
      "scheduler.num_bad_epochs => 0\n",
      "2/100\n",
      "Train Loss 0 : 0.6931332349777222\n",
      "Train Loss 500 : 0.6769390664176789\n",
      "Train Loss 1000 : 0.6791918662997274\n",
      "Train Loss 1500 : 0.6794951535081324\n",
      "Train Loss 2000 : 0.678911414490766\n",
      "Val Loss : 0.6500809301755258, Val Accuracy : 0.6467941507311586\n",
      "scheduler.num_bad_epochs => 0\n",
      "3/100\n",
      "Train Loss 0 : 0.6837470531463623\n",
      "Train Loss 500 : 0.6696461738940485\n",
      "Train Loss 1000 : 0.6639344432315865\n",
      "Train Loss 1500 : 0.6534679430393597\n",
      "Train Loss 2000 : 0.6413363974908184\n",
      "Val Loss : 0.6303922925144434, Val Accuracy : 0.6608548931383577\n",
      "scheduler.num_bad_epochs => 0\n",
      "4/100\n",
      "Train Loss 0 : 0.5308455228805542\n",
      "Train Loss 500 : 0.5654164295115632\n",
      "Train Loss 1000 : 0.5604874203791033\n",
      "Train Loss 1500 : 0.5566527568682442\n",
      "Train Loss 2000 : 0.5493414638222366\n",
      "Val Loss : 0.6196251556809459, Val Accuracy : 0.7052868391451068\n",
      "scheduler.num_bad_epochs => 0\n",
      "5/100\n",
      "Train Loss 0 : 0.4023158848285675\n",
      "Train Loss 500 : 0.5106363204008567\n",
      "Train Loss 1000 : 0.5106813745511757\n",
      "Train Loss 1500 : 0.5172952932369542\n",
      "Train Loss 2000 : 0.515895770117082\n",
      "Val Loss : 0.6295853062931981, Val Accuracy : 0.7120359955005624\n",
      "scheduler.num_bad_epochs => 0\n",
      "6/100\n",
      "Train Loss 0 : 0.45850417017936707\n",
      "Train Loss 500 : 0.49920023225262733\n",
      "Train Loss 1000 : 0.49663981808708624\n",
      "Train Loss 1500 : 0.4943858679535387\n",
      "Train Loss 2000 : 0.4939241256268843\n",
      "Val Loss : 0.6273261532852692, Val Accuracy : 0.7305961754780652\n",
      "scheduler.num_bad_epochs => 0\n",
      "7/100\n",
      "Train Loss 0 : 0.33158957958221436\n",
      "Train Loss 500 : 0.462477042497751\n",
      "Train Loss 1000 : 0.4691601134204007\n",
      "Train Loss 1500 : 0.46898417128156933\n",
      "Train Loss 2000 : 0.46741129114650476\n",
      "Val Loss : 0.59238685015589, Val Accuracy : 0.7424071991001124\n",
      "scheduler.num_bad_epochs => 0\n",
      "8/100\n",
      "Train Loss 0 : 0.5688273906707764\n",
      "Train Loss 500 : 0.4562751045246086\n",
      "Train Loss 1000 : 0.4549900254645905\n",
      "Train Loss 1500 : 0.4526026430207836\n",
      "Train Loss 2000 : 0.4531383512468114\n",
      "Val Loss : 0.5711379260090845, Val Accuracy : 0.7373453318335208\n",
      "scheduler.num_bad_epochs => 1\n",
      "9/100\n",
      "Train Loss 0 : 0.24338757991790771\n",
      "Train Loss 500 : 0.44009001148556043\n",
      "Train Loss 1000 : 0.4421533476431053\n",
      "Train Loss 1500 : 0.4405254522694658\n",
      "Train Loss 2000 : 0.43877726050837523\n",
      "Val Loss : 0.5829235756370638, Val Accuracy : 0.7367829021372329\n",
      "scheduler.num_bad_epochs => 2\n",
      "10/100\n",
      "Train Loss 0 : 0.3796568810939789\n",
      "Train Loss 500 : 0.42120647263860034\n",
      "Train Loss 1000 : 0.42429473127548273\n",
      "Train Loss 1500 : 0.4271894083280789\n",
      "Train Loss 2000 : 0.42628534930920614\n",
      "Val Loss : 0.6007249750463026, Val Accuracy : 0.7457817772778402\n",
      "scheduler.num_bad_epochs => 0\n",
      "11/100\n",
      "Train Loss 0 : 0.19198815524578094\n",
      "Train Loss 500 : 0.4059878649439165\n",
      "Train Loss 1000 : 0.4038546216431317\n",
      "Train Loss 1500 : 0.4095685231703508\n",
      "Train Loss 2000 : 0.40964985660452774\n",
      "Val Loss : 0.6368451289433453, Val Accuracy : 0.7350956130483689\n",
      "scheduler.num_bad_epochs => 1\n",
      "12/100\n",
      "Train Loss 0 : 0.6331309080123901\n",
      "Train Loss 500 : 0.3940533585772067\n",
      "Train Loss 1000 : 0.3984483318044232\n",
      "Train Loss 1500 : 0.3973270479755986\n",
      "Train Loss 2000 : 0.40042971316604004\n",
      "Val Loss : 0.5871280540845224, Val Accuracy : 0.7570303712035995\n",
      "scheduler.num_bad_epochs => 0\n",
      "13/100\n",
      "Train Loss 0 : 0.35533130168914795\n",
      "Train Loss 500 : 0.39367031362539756\n",
      "Train Loss 1000 : 0.39294964930304993\n",
      "Train Loss 1500 : 0.38929965139815287\n",
      "Train Loss 2000 : 0.3880344371794016\n",
      "Val Loss : 0.5992358086098518, Val Accuracy : 0.7536557930258717\n",
      "scheduler.num_bad_epochs => 1\n",
      "14/100\n",
      "Train Loss 0 : 0.47018033266067505\n",
      "Train Loss 500 : 0.36489090916817774\n",
      "Train Loss 1000 : 0.37558729190390544\n",
      "Train Loss 1500 : 0.3759368508259985\n",
      "Train Loss 2000 : 0.3787641979303436\n",
      "Val Loss : 0.6241854534018785, Val Accuracy : 0.749718785151856\n",
      "scheduler.num_bad_epochs => 2\n",
      "15/100\n",
      "Train Loss 0 : 0.42132145166397095\n",
      "Train Loss 500 : 0.3535628458726668\n",
      "Train Loss 1000 : 0.3590900845059029\n",
      "Train Loss 1500 : 0.3611135216185365\n",
      "Train Loss 2000 : 0.36370630183632763\n",
      "Val Loss : 0.6125140649133495, Val Accuracy : 0.7604049493813273\n",
      "scheduler.num_bad_epochs => 0\n",
      "16/100\n",
      "Train Loss 0 : 0.3302278518676758\n",
      "Train Loss 500 : 0.3385165159900983\n",
      "Train Loss 1000 : 0.34455811208510373\n",
      "Train Loss 1500 : 0.35120185136517074\n",
      "Train Loss 2000 : 0.35346593968812257\n",
      "Val Loss : 0.6093835430885, Val Accuracy : 0.750281214848144\n",
      "scheduler.num_bad_epochs => 1\n",
      "17/100\n",
      "Train Loss 0 : 0.512438178062439\n",
      "Train Loss 500 : 0.3391818228120099\n",
      "Train Loss 1000 : 0.3399723844042608\n",
      "Train Loss 1500 : 0.3408970298849885\n",
      "Train Loss 2000 : 0.3470177318787259\n",
      "Val Loss : 0.644027759321034, Val Accuracy : 0.7469066366704162\n",
      "scheduler.num_bad_epochs => 2\n",
      "18/100\n",
      "Train Loss 0 : 0.3312200903892517\n",
      "Train Loss 500 : 0.3223665103375793\n",
      "Train Loss 1000 : 0.3301873124510675\n",
      "Train Loss 1500 : 0.3312956954586474\n",
      "Train Loss 2000 : 0.3316117478501999\n",
      "Val Loss : 0.5694634760064738, Val Accuracy : 0.7514060742407199\n",
      "scheduler.num_bad_epochs => 3\n",
      "19/100\n",
      "Train Loss 0 : 0.1855163723230362\n",
      "Train Loss 500 : 0.3224249981834503\n",
      "Train Loss 1000 : 0.32025881951207763\n",
      "Train Loss 1500 : 0.3214881606127007\n",
      "Train Loss 2000 : 0.32277251620670366\n",
      "Val Loss : 0.6966951008819576, Val Accuracy : 0.7514060742407199\n",
      "scheduler.num_bad_epochs => 4\n",
      "20/100\n",
      "Train Loss 0 : 0.428427517414093\n",
      "Train Loss 500 : 0.303382116602269\n",
      "Train Loss 1000 : 0.3080504311027227\n",
      "Train Loss 1500 : 0.3145588891683699\n",
      "Train Loss 2000 : 0.31274411659771534\n",
      "Val Loss : 0.6329011380938547, Val Accuracy : 0.7407199100112486\n",
      "scheduler.num_bad_epochs => 5\n",
      "성능 개선이 없어서 5 EPOCH에 조기 종료함\n"
     ]
    }
   ],
   "source": [
    "# 모델 학습 및 테스트\n",
    "# - 모델 학습 중간에 학습이 잘 이뤄지고 있는지 확인하기 위해 일정 배치 학습 후 테스트 데이터세트로 손실값 확인\n",
    "\n",
    "\n",
    "def train_model(model, datasets, criterion, optimizer, device, interval):\n",
    "    model.train()  # train 모드 설정\n",
    "    losses = list()\n",
    "\n",
    "    for step, (input_ids, labels) in enumerate(datasets):\n",
    "        input_ids = input_ids.to(device)\n",
    "        labels = labels.to(device).unsqueeze(\n",
    "            1\n",
    "        )  # unsqueeze : 지정한 자리에 size가 1인 빈 공간을 채워주면서 차원을 확장\n",
    "\n",
    "        logits = model(input_ids)\n",
    "        loss = criterion(logits, labels)\n",
    "        losses.append(loss.item())\n",
    "\n",
    "        optimizer.zero_grad()\n",
    "        loss.backward()\n",
    "        optimizer.step()\n",
    "\n",
    "        if step % interval == 0:\n",
    "            print(f\"Train Loss {step} : {np.mean(losses)}\")\n",
    "\n",
    "\n",
    "def test_model(model, datasets, criterion, device):\n",
    "    model.eval()  # 검증 모드 설정\n",
    "    losses = list()\n",
    "    corrects = list()\n",
    "\n",
    "    for step, (input_ids, labels) in enumerate(datasets):\n",
    "        input_ids = input_ids.to(device)\n",
    "        labels = labels.to(device).unsqueeze(1)\n",
    "\n",
    "        logits = model(input_ids)\n",
    "        loss = criterion(logits, labels)\n",
    "        losses.append(loss.item())\n",
    "        yhat = torch.sigmoid(logits) > 0.5\n",
    "        corrects.extend(torch.eq(yhat, labels).cpu().tolist())\n",
    "\n",
    "    print(f\"Val Loss : {np.mean(losses)}, Val Accuracy : {np.mean(corrects)}\")\n",
    "    return np.mean(losses), np.mean(corrects)\n",
    "\n",
    "\n",
    "epochs = 100\n",
    "interval = 500\n",
    "\n",
    "## 위의 코드에서 정의한 criterion, optimizer 사용\n",
    "for epoch in range(epochs):\n",
    "    print(f\"{epoch}/{epochs}\")\n",
    "    train_model(classifier, train_loader, criterion, optimizer, device, interval)\n",
    "    loss_val, score_val = test_model(\n",
    "        classifier, test_loader, criterion, device\n",
    "    )  # 검증은 test 데이터셋으로 진행\n",
    "\n",
    "    # 최적화 스케줄러 인스턴스 업데이트\n",
    "    scheduler.step(score_val)\n",
    "    print(f\"scheduler.num_bad_epochs => {scheduler.num_bad_epochs}\")\n",
    "\n",
    "    SAVE_MODEL = SAVE_PATH + f\"loss_{loss_val:.3f}_score{score_val:.3f}.pth\"\n",
    "    torch.save(classifier, SAVE_MODEL)\n",
    "\n",
    "    # 손실감소(또는 성능개선)가 안되는 경우 조기 종료\n",
    "    if scheduler.num_bad_epochs >= scheduler.patience:\n",
    "        print(f\"성능 개선이 없어서 {scheduler.patience} EPOCH에 조기 종료함\")\n",
    "        break\n"
   ]
  }
 ],
 "metadata": {
  "kernelspec": {
   "display_name": "EXAM_DL",
   "language": "python",
   "name": "python3"
  },
  "language_info": {
   "codemirror_mode": {
    "name": "ipython",
    "version": 3
   },
   "file_extension": ".py",
   "mimetype": "text/x-python",
   "name": "python",
   "nbconvert_exporter": "python",
   "pygments_lexer": "ipython3",
   "version": "3.8.19"
  }
 },
 "nbformat": 4,
 "nbformat_minor": 2
}
