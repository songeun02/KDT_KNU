{
 "cells": [
  {
   "cell_type": "code",
   "execution_count": 1,
   "metadata": {},
   "outputs": [
    {
     "name": "stdout",
     "output_type": "stream",
     "text": [
      "{'how': 2, 'need': 3, 'to': 4, 'know': 5, 'you': 6, 'code': 7, '<pad>': 0, '<unk>': 1}\n"
     ]
    }
   ],
   "source": [
    "# 단어 사전 생성 \n",
    "train_data = 'you need to know how to code' \n",
    "\n",
    "# 중복을 제거한 단어들의 집합인 단어 집합 생성 \n",
    "word_set = set(train_data.split())\n",
    "\n",
    "# 단어 집합의 각 단어에 고유한 정수 맵핑 \n",
    "vocab = {word: i+2 for i, word in enumerate(word_set)}\n",
    "vocab['<pad>'] = 0\n",
    "vocab['<unk>'] = 1 \n",
    "\n",
    "print(vocab)"
   ]
  },
  {
   "cell_type": "markdown",
   "metadata": {},
   "source": [
    "https://pytorch.org/docs/stable/generated/torch.nn.Embedding.html#torch.nn.Embedding"
   ]
  },
  {
   "cell_type": "code",
   "execution_count": 2,
   "metadata": {},
   "outputs": [],
   "source": [
    "import torch\n",
    "import torch.nn as nn"
   ]
  },
  {
   "cell_type": "code",
   "execution_count": 6,
   "metadata": {},
   "outputs": [],
   "source": [
    "embedding_table=torch.FloatTensor([\n",
    "    [0.0,0.0,0.0],\n",
    "    [0.0,0.0,0.0],\n",
    "    [0.2,0.9,0.3],\n",
    "    [0.1,0.5,0.7],\n",
    "    [0.2,0.1,0.8],\n",
    "    [0.4,0.1,0.1],\n",
    "    [0.1,0.8,0.9],\n",
    "    [0.6,0.1,0.1],\n",
    "])"
   ]
  },
  {
   "cell_type": "code",
   "execution_count": 7,
   "metadata": {},
   "outputs": [
    {
     "name": "stdout",
     "output_type": "stream",
     "text": [
      "idxes : tensor([6, 3, 4, 1])\n",
      "tensor([[0.1000, 0.8000, 0.9000],\n",
      "        [0.1000, 0.5000, 0.7000],\n",
      "        [0.2000, 0.1000, 0.8000],\n",
      "        [0.0000, 0.0000, 0.0000]])\n"
     ]
    }
   ],
   "source": [
    "# 토큰 정수 => 임베딩 벡터 변환 \n",
    "sample = 'you need to run'.split()\n",
    "idxes = []\n",
    "\n",
    "# 단어를 정수로 변환 \n",
    "for word in sample: \n",
    "    try:\n",
    "        idxes.append(vocab[word])\n",
    "    # 단어 집합에 없는 단어일수록 <unk> 대체 \n",
    "    except KeyError:\n",
    "        idxes.append(vocab['<unk>'])\n",
    "\n",
    "# 텐서화 진행 \n",
    "idxes = torch.LongTensor(idxes)\n",
    "print(f'idxes : {idxes}')\n",
    "\n",
    "# 각 정수를 인덱스로 임베딩 테이블에서 값 가져오기 \n",
    "lookup_result = embedding_table[idxes,:]\n",
    "print(lookup_result)"
   ]
  },
  {
   "cell_type": "code",
   "execution_count": 8,
   "metadata": {},
   "outputs": [],
   "source": [
    "# pytorch Embedding Layer \n",
    "\n",
    "embedding_layer = nn.Embedding(num_embeddings= len(vocab), embedding_dim=3, padding_idx=0) # (8,3)\n",
    "# embedding 인스턴스 생성 "
   ]
  },
  {
   "cell_type": "code",
   "execution_count": 9,
   "metadata": {},
   "outputs": [
    {
     "name": "stdout",
     "output_type": "stream",
     "text": [
      "Parameter containing:\n",
      "tensor([[ 0.0000,  0.0000,  0.0000],\n",
      "        [ 1.3325,  0.9395, -1.3485],\n",
      "        [ 1.7153,  0.5944, -1.0231],\n",
      "        [ 0.4300, -2.0501,  0.4735],\n",
      "        [ 0.3663,  0.0744,  0.1990],\n",
      "        [-0.9941, -1.6319,  0.0309],\n",
      "        [-0.9994,  0.8419,  0.1658],\n",
      "        [ 1.4816, -1.4340,  0.8244]], requires_grad=True)\n"
     ]
    }
   ],
   "source": [
    "print(embedding_layer.weight)"
   ]
  },
  {
   "cell_type": "code",
   "execution_count": null,
   "metadata": {},
   "outputs": [],
   "source": []
  }
 ],
 "metadata": {
  "kernelspec": {
   "display_name": "TEXT_018_230_38",
   "language": "python",
   "name": "python3"
  },
  "language_info": {
   "codemirror_mode": {
    "name": "ipython",
    "version": 3
   },
   "file_extension": ".py",
   "mimetype": "text/x-python",
   "name": "python",
   "nbconvert_exporter": "python",
   "pygments_lexer": "ipython3",
   "version": "3.8.19"
  }
 },
 "nbformat": 4,
 "nbformat_minor": 2
}
