{
 "cells": [
  {
   "cell_type": "markdown",
   "metadata": {},
   "source": [
    "# 프로토콜 (Protocol)\n",
    "- 규칙 / 규약 \n",
    "- 서로 다른 기기 / 디바이스 / 장치 또는 프로그램 사이에서 데이터를 주고 받기 위한 규칙 \n",
    "- 프로토콜 => http\n",
    "---\n"
   ]
  },
  {
   "cell_type": "markdown",
   "metadata": {},
   "source": [
    "# 함수 \n",
    "- 자주 사용되는 기능/코드 ==> 재사용 ㅇ / 중복 작성 x \n",
    "    - 함수 프로토콜 설계\n",
    "    - 함수 이름 , 매개변수 (타입, 이름), 반환값"
   ]
  },
  {
   "cell_type": "markdown",
   "metadata": {},
   "source": []
  }
 ],
 "metadata": {
  "language_info": {
   "name": "python"
  }
 },
 "nbformat": 4,
 "nbformat_minor": 2
}
