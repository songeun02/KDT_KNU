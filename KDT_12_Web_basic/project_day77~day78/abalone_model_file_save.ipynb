{
  "cells": [
    {
      "cell_type": "code",
      "execution_count": 136,
      "metadata": {
        "id": "rMbKWDoRUtzu"
      },
      "outputs": [],
      "source": [
        "import pandas as pd\n",
        "import numpy as np\n",
        "import matplotlib.pyplot as plt"
      ]
    },
    {
      "cell_type": "markdown",
      "metadata": {
        "id": "K9BCTE4cUtz7"
      },
      "source": [
        "## [1] 데이터 준비"
      ]
    },
    {
      "cell_type": "code",
      "execution_count": 151,
      "metadata": {
        "id": "4Hk3VaEzUt0A"
      },
      "outputs": [],
      "source": [
        "FILE_NAME = './mix_abalone_train.csv'"
      ]
    },
    {
      "cell_type": "code",
      "execution_count": 152,
      "metadata": {
        "colab": {
          "base_uri": "https://localhost:8080/"
        },
        "id": "udN0Vu9eUt0C",
        "outputId": "727384d7-dca7-4f5b-f7fd-2120dd79637c"
      },
      "outputs": [
        {
          "data": {
            "text/plain": [
              "(94792, 9)"
            ]
          },
          "execution_count": 152,
          "metadata": {},
          "output_type": "execute_result"
        }
      ],
      "source": [
        "abalone = pd.read_csv(FILE_NAME)\n",
        "abalone.shape"
      ]
    },
    {
      "cell_type": "code",
      "execution_count": 153,
      "metadata": {
        "colab": {
          "base_uri": "https://localhost:8080/",
          "height": 206
        },
        "id": "Ea2zPU6-Ut0H",
        "outputId": "d6cb9cd4-5e5d-4af4-a459-28e219fe5c4c"
      },
      "outputs": [
        {
          "data": {
            "text/html": [
              "<div>\n",
              "<style scoped>\n",
              "    .dataframe tbody tr th:only-of-type {\n",
              "        vertical-align: middle;\n",
              "    }\n",
              "\n",
              "    .dataframe tbody tr th {\n",
              "        vertical-align: top;\n",
              "    }\n",
              "\n",
              "    .dataframe thead th {\n",
              "        text-align: right;\n",
              "    }\n",
              "</style>\n",
              "<table border=\"1\" class=\"dataframe\">\n",
              "  <thead>\n",
              "    <tr style=\"text-align: right;\">\n",
              "      <th></th>\n",
              "      <th>Sex</th>\n",
              "      <th>Length</th>\n",
              "      <th>Diameter</th>\n",
              "      <th>Height</th>\n",
              "      <th>Whole_weight</th>\n",
              "      <th>Shucked_weight</th>\n",
              "      <th>Viscera_weight</th>\n",
              "      <th>Shell_weight</th>\n",
              "      <th>Rings</th>\n",
              "    </tr>\n",
              "  </thead>\n",
              "  <tbody>\n",
              "    <tr>\n",
              "      <th>0</th>\n",
              "      <td>F</td>\n",
              "      <td>0.550</td>\n",
              "      <td>0.430</td>\n",
              "      <td>0.150</td>\n",
              "      <td>0.7715</td>\n",
              "      <td>0.3285</td>\n",
              "      <td>0.1465</td>\n",
              "      <td>0.2400</td>\n",
              "      <td>11</td>\n",
              "    </tr>\n",
              "    <tr>\n",
              "      <th>1</th>\n",
              "      <td>F</td>\n",
              "      <td>0.630</td>\n",
              "      <td>0.490</td>\n",
              "      <td>0.145</td>\n",
              "      <td>1.1300</td>\n",
              "      <td>0.4580</td>\n",
              "      <td>0.2765</td>\n",
              "      <td>0.3200</td>\n",
              "      <td>11</td>\n",
              "    </tr>\n",
              "    <tr>\n",
              "      <th>2</th>\n",
              "      <td>I</td>\n",
              "      <td>0.160</td>\n",
              "      <td>0.110</td>\n",
              "      <td>0.025</td>\n",
              "      <td>0.0210</td>\n",
              "      <td>0.0055</td>\n",
              "      <td>0.0030</td>\n",
              "      <td>0.0050</td>\n",
              "      <td>6</td>\n",
              "    </tr>\n",
              "    <tr>\n",
              "      <th>3</th>\n",
              "      <td>M</td>\n",
              "      <td>0.595</td>\n",
              "      <td>0.475</td>\n",
              "      <td>0.150</td>\n",
              "      <td>0.9145</td>\n",
              "      <td>0.3755</td>\n",
              "      <td>0.2055</td>\n",
              "      <td>0.2500</td>\n",
              "      <td>10</td>\n",
              "    </tr>\n",
              "    <tr>\n",
              "      <th>4</th>\n",
              "      <td>I</td>\n",
              "      <td>0.555</td>\n",
              "      <td>0.425</td>\n",
              "      <td>0.130</td>\n",
              "      <td>0.7820</td>\n",
              "      <td>0.3695</td>\n",
              "      <td>0.1600</td>\n",
              "      <td>0.1975</td>\n",
              "      <td>9</td>\n",
              "    </tr>\n",
              "  </tbody>\n",
              "</table>\n",
              "</div>"
            ],
            "text/plain": [
              "  Sex  Length  Diameter  Height  Whole_weight  Shucked_weight  Viscera_weight  \\\n",
              "0   F   0.550     0.430   0.150        0.7715          0.3285          0.1465   \n",
              "1   F   0.630     0.490   0.145        1.1300          0.4580          0.2765   \n",
              "2   I   0.160     0.110   0.025        0.0210          0.0055          0.0030   \n",
              "3   M   0.595     0.475   0.150        0.9145          0.3755          0.2055   \n",
              "4   I   0.555     0.425   0.130        0.7820          0.3695          0.1600   \n",
              "\n",
              "   Shell_weight  Rings  \n",
              "0        0.2400     11  \n",
              "1        0.3200     11  \n",
              "2        0.0050      6  \n",
              "3        0.2500     10  \n",
              "4        0.1975      9  "
            ]
          },
          "execution_count": 153,
          "metadata": {},
          "output_type": "execute_result"
        }
      ],
      "source": [
        "abalone.head()"
      ]
    },
    {
      "cell_type": "code",
      "execution_count": 154,
      "metadata": {
        "colab": {
          "base_uri": "https://localhost:8080/",
          "height": 300
        },
        "id": "JA6Qf0lNUt0I",
        "outputId": "ab08cbb9-a4f9-491f-8c7f-553b3b47c131"
      },
      "outputs": [
        {
          "data": {
            "text/html": [
              "<div>\n",
              "<style scoped>\n",
              "    .dataframe tbody tr th:only-of-type {\n",
              "        vertical-align: middle;\n",
              "    }\n",
              "\n",
              "    .dataframe tbody tr th {\n",
              "        vertical-align: top;\n",
              "    }\n",
              "\n",
              "    .dataframe thead th {\n",
              "        text-align: right;\n",
              "    }\n",
              "</style>\n",
              "<table border=\"1\" class=\"dataframe\">\n",
              "  <thead>\n",
              "    <tr style=\"text-align: right;\">\n",
              "      <th></th>\n",
              "      <th>Length</th>\n",
              "      <th>Diameter</th>\n",
              "      <th>Height</th>\n",
              "      <th>Whole_weight</th>\n",
              "      <th>Shucked_weight</th>\n",
              "      <th>Viscera_weight</th>\n",
              "      <th>Shell_weight</th>\n",
              "      <th>Rings</th>\n",
              "    </tr>\n",
              "  </thead>\n",
              "  <tbody>\n",
              "    <tr>\n",
              "      <th>Length</th>\n",
              "      <td>1.000000</td>\n",
              "      <td>0.989600</td>\n",
              "      <td>0.911599</td>\n",
              "      <td>0.931092</td>\n",
              "      <td>0.908951</td>\n",
              "      <td>0.912522</td>\n",
              "      <td>0.910372</td>\n",
              "      <td>0.620809</td>\n",
              "    </tr>\n",
              "    <tr>\n",
              "      <th>Diameter</th>\n",
              "      <td>0.989600</td>\n",
              "      <td>1.000000</td>\n",
              "      <td>0.915261</td>\n",
              "      <td>0.933384</td>\n",
              "      <td>0.907634</td>\n",
              "      <td>0.913825</td>\n",
              "      <td>0.917211</td>\n",
              "      <td>0.634092</td>\n",
              "    </tr>\n",
              "    <tr>\n",
              "      <th>Height</th>\n",
              "      <td>0.911599</td>\n",
              "      <td>0.915261</td>\n",
              "      <td>1.000000</td>\n",
              "      <td>0.898076</td>\n",
              "      <td>0.857288</td>\n",
              "      <td>0.881601</td>\n",
              "      <td>0.899585</td>\n",
              "      <td>0.660468</td>\n",
              "    </tr>\n",
              "    <tr>\n",
              "      <th>Whole_weight</th>\n",
              "      <td>0.931092</td>\n",
              "      <td>0.933384</td>\n",
              "      <td>0.898076</td>\n",
              "      <td>1.000000</td>\n",
              "      <td>0.971160</td>\n",
              "      <td>0.973909</td>\n",
              "      <td>0.963767</td>\n",
              "      <td>0.613666</td>\n",
              "    </tr>\n",
              "    <tr>\n",
              "      <th>Shucked_weight</th>\n",
              "      <td>0.908951</td>\n",
              "      <td>0.907634</td>\n",
              "      <td>0.857288</td>\n",
              "      <td>0.971160</td>\n",
              "      <td>1.000000</td>\n",
              "      <td>0.948351</td>\n",
              "      <td>0.910346</td>\n",
              "      <td>0.510597</td>\n",
              "    </tr>\n",
              "    <tr>\n",
              "      <th>Viscera_weight</th>\n",
              "      <td>0.912522</td>\n",
              "      <td>0.913825</td>\n",
              "      <td>0.881601</td>\n",
              "      <td>0.973909</td>\n",
              "      <td>0.948351</td>\n",
              "      <td>1.000000</td>\n",
              "      <td>0.935596</td>\n",
              "      <td>0.584903</td>\n",
              "    </tr>\n",
              "    <tr>\n",
              "      <th>Shell_weight</th>\n",
              "      <td>0.910372</td>\n",
              "      <td>0.917211</td>\n",
              "      <td>0.899585</td>\n",
              "      <td>0.963767</td>\n",
              "      <td>0.910346</td>\n",
              "      <td>0.935596</td>\n",
              "      <td>1.000000</td>\n",
              "      <td>0.691610</td>\n",
              "    </tr>\n",
              "    <tr>\n",
              "      <th>Rings</th>\n",
              "      <td>0.620809</td>\n",
              "      <td>0.634092</td>\n",
              "      <td>0.660468</td>\n",
              "      <td>0.613666</td>\n",
              "      <td>0.510597</td>\n",
              "      <td>0.584903</td>\n",
              "      <td>0.691610</td>\n",
              "      <td>1.000000</td>\n",
              "    </tr>\n",
              "  </tbody>\n",
              "</table>\n",
              "</div>"
            ],
            "text/plain": [
              "                  Length  Diameter    Height  Whole_weight  Shucked_weight  \\\n",
              "Length          1.000000  0.989600  0.911599      0.931092        0.908951   \n",
              "Diameter        0.989600  1.000000  0.915261      0.933384        0.907634   \n",
              "Height          0.911599  0.915261  1.000000      0.898076        0.857288   \n",
              "Whole_weight    0.931092  0.933384  0.898076      1.000000        0.971160   \n",
              "Shucked_weight  0.908951  0.907634  0.857288      0.971160        1.000000   \n",
              "Viscera_weight  0.912522  0.913825  0.881601      0.973909        0.948351   \n",
              "Shell_weight    0.910372  0.917211  0.899585      0.963767        0.910346   \n",
              "Rings           0.620809  0.634092  0.660468      0.613666        0.510597   \n",
              "\n",
              "                Viscera_weight  Shell_weight     Rings  \n",
              "Length                0.912522      0.910372  0.620809  \n",
              "Diameter              0.913825      0.917211  0.634092  \n",
              "Height                0.881601      0.899585  0.660468  \n",
              "Whole_weight          0.973909      0.963767  0.613666  \n",
              "Shucked_weight        0.948351      0.910346  0.510597  \n",
              "Viscera_weight        1.000000      0.935596  0.584903  \n",
              "Shell_weight          0.935596      1.000000  0.691610  \n",
              "Rings                 0.584903      0.691610  1.000000  "
            ]
          },
          "execution_count": 154,
          "metadata": {},
          "output_type": "execute_result"
        }
      ],
      "source": [
        "abalone.corr(numeric_only=True)"
      ]
    },
    {
      "cell_type": "code",
      "execution_count": 155,
      "metadata": {
        "colab": {
          "base_uri": "https://localhost:8080/"
        },
        "id": "9scTaH2WjIZw",
        "outputId": "7d63b62d-631a-491d-8256-bab63a7811eb"
      },
      "outputs": [
        {
          "data": {
            "text/plain": [
              "Index(['Sex', 'Length', 'Diameter', 'Height', 'Whole_weight', 'Shucked_weight',\n",
              "       'Viscera_weight', 'Shell_weight', 'Rings'],\n",
              "      dtype='object')"
            ]
          },
          "execution_count": 155,
          "metadata": {},
          "output_type": "execute_result"
        }
      ],
      "source": [
        "abalone.columns"
      ]
    },
    {
      "cell_type": "markdown",
      "metadata": {
        "id": "_-cjdNMbalPZ"
      },
      "source": [
        "모든 변수에 대해 boxplot 다 확인하기"
      ]
    },
    {
      "cell_type": "code",
      "execution_count": 62,
      "metadata": {
        "colab": {
          "base_uri": "https://localhost:8080/",
          "height": 431
        },
        "id": "ZNA1LvJPUt0K",
        "outputId": "12140520-8a3c-4ecc-8aea-2898eb8a97f5"
      },
      "outputs": [
        {
          "data": {
            "image/png": "[encoded data removed]",
            "text/plain": [
              "<Figure size 640x480 with 1 Axes>"
            ]
          },
          "metadata": {},
          "output_type": "display_data"
        }
      ],
      "source": [
        "plt.boxplot(abalone['Rings'])\n",
        "plt.show()"
      ]
    },
    {
      "cell_type": "code",
      "execution_count": 63,
      "metadata": {
        "colab": {
          "base_uri": "https://localhost:8080/",
          "height": 335
        },
        "id": "gAbQRmfOUt0M",
        "outputId": "bd301a5e-034f-4eaf-ae8e-a9a0fd640442"
      },
      "outputs": [
        {
          "data": {
            "text/plain": [
              "count    94792.000000\n",
              "mean         9.707233\n",
              "std          3.178704\n",
              "min          1.000000\n",
              "25%          8.000000\n",
              "50%          9.000000\n",
              "75%         11.000000\n",
              "max         29.000000\n",
              "Name: Rings, dtype: float64"
            ]
          },
          "execution_count": 63,
          "metadata": {},
          "output_type": "execute_result"
        }
      ],
      "source": [
        "abalone['Rings'].describe()"
      ]
    },
    {
      "cell_type": "code",
      "execution_count": 156,
      "metadata": {
        "colab": {
          "base_uri": "https://localhost:8080/",
          "height": 667
        },
        "id": "O8rabgNLmbQj",
        "outputId": "04c337eb-77b0-4c30-c384-5400145f334e"
      },
      "outputs": [
        {
          "data": {
            "image/png": "[encoded data removed]",
            "text/plain": [
              "<Figure size 1200x700 with 8 Axes>"
            ]
          },
          "metadata": {},
          "output_type": "display_data"
        }
      ],
      "source": [
        "col = 3\n",
        "row = len(abalone.columns)// 3\n",
        "\n",
        "plt.figure(figsize=(12,7))\n",
        "\n",
        "# 수치형 데이터만 boxplot 그리도록\n",
        "for i, column_name in enumerate(abalone.select_dtypes(include=np.number).columns,1):\n",
        "  # 인덱스를 1로 지정\n",
        "  plt.subplot(col, row, i)\n",
        "  plt.title(column_name)\n",
        "  plt.boxplot(abalone[column_name])\n",
        "\n",
        "plt.tight_layout() # 간격 사이 조정을 위해 사용\n",
        "plt.show()"
      ]
    },
    {
      "cell_type": "code",
      "execution_count": 157,
      "metadata": {
        "colab": {
          "base_uri": "https://localhost:8080/"
        },
        "id": "gEagOVwEUt0N",
        "outputId": "de2323af-7069-43b4-e088-72d902e4626e"
      },
      "outputs": [
        {
          "data": {
            "text/plain": [
              "(94784, 9)"
            ]
          },
          "execution_count": 157,
          "metadata": {},
          "output_type": "execute_result"
        }
      ],
      "source": [
        "abalone = abalone[abalone['Height'] != 0.].copy()\n",
        "abalone.reset_index(inplace=True, drop=True)\n",
        "abalone.shape"
      ]
    },
    {
      "cell_type": "code",
      "execution_count": 66,
      "metadata": {
        "colab": {
          "base_uri": "https://localhost:8080/"
        },
        "id": "H37TdlYNUt0Q",
        "outputId": "936895c4-8720-4b60-ad92-59c5c36a8dbf"
      },
      "outputs": [
        {
          "name": "stdout",
          "output_type": "stream",
          "text": [
            "<class 'pandas.core.frame.DataFrame'>\n",
            "RangeIndex: 94784 entries, 0 to 94783\n",
            "Data columns (total 9 columns):\n",
            " #   Column          Non-Null Count  Dtype  \n",
            "---  ------          --------------  -----  \n",
            " 0   Sex             94784 non-null  object \n",
            " 1   Length          94784 non-null  float64\n",
            " 2   Diameter        94784 non-null  float64\n",
            " 3   Height          94784 non-null  float64\n",
            " 4   Whole_weight    94784 non-null  float64\n",
            " 5   Shucked_weight  94784 non-null  float64\n",
            " 6   Viscera_weight  94784 non-null  float64\n",
            " 7   Shell_weight    94784 non-null  float64\n",
            " 8   Rings           94784 non-null  int64  \n",
            "dtypes: float64(7), int64(1), object(1)\n",
            "memory usage: 6.5+ MB\n"
          ]
        }
      ],
      "source": [
        "abalone.info()"
      ]
    },
    {
      "cell_type": "code",
      "execution_count": 67,
      "metadata": {
        "colab": {
          "base_uri": "https://localhost:8080/"
        },
        "id": "WzowzyPIUt0R",
        "outputId": "2a62a45b-7920-4f53-9204-a803dde4ec44"
      },
      "outputs": [
        {
          "data": {
            "text/plain": [
              "Index(['Sex', 'Length', 'Diameter', 'Height', 'Whole_weight', 'Shucked_weight',\n",
              "       'Viscera_weight', 'Shell_weight', 'Rings'],\n",
              "      dtype='object')"
            ]
          },
          "execution_count": 67,
          "metadata": {},
          "output_type": "execute_result"
        }
      ],
      "source": [
        "abalone.columns"
      ]
    },
    {
      "cell_type": "code",
      "execution_count": 158,
      "metadata": {
        "id": "W08pu2GDUt0S"
      },
      "outputs": [],
      "source": [
        "abalone = pd.get_dummies(abalone)"
      ]
    },
    {
      "cell_type": "code",
      "execution_count": 69,
      "metadata": {
        "colab": {
          "base_uri": "https://localhost:8080/"
        },
        "id": "qyn1VS2eUt0T",
        "outputId": "e90785e2-b326-4784-dd4e-bf79a33addb5"
      },
      "outputs": [
        {
          "data": {
            "text/plain": [
              "Index(['Length', 'Diameter', 'Height', 'Whole_weight', 'Shucked_weight',\n",
              "       'Viscera_weight', 'Shell_weight', 'Rings', 'Sex_F', 'Sex_I', 'Sex_M'],\n",
              "      dtype='object')"
            ]
          },
          "execution_count": 69,
          "metadata": {},
          "output_type": "execute_result"
        }
      ],
      "source": [
        "abalone.columns"
      ]
    },
    {
      "cell_type": "code",
      "execution_count": 159,
      "metadata": {
        "collapsed": true,
        "id": "LYgLj10VUt0U"
      },
      "outputs": [
        {
          "name": "stderr",
          "output_type": "stream",
          "text": [
            "C:\\Users\\sh321\\AppData\\Local\\Temp\\ipykernel_3760\\1420829749.py:2: FutureWarning: Downcasting behavior in `replace` is deprecated and will be removed in a future version. To retain the old behavior, explicitly call `result.infer_objects(copy=False)`. To opt-in to the future behavior, set `pd.set_option('future.no_silent_downcasting', True)`\n",
            "  abalone.replace(False, 0, inplace = True)\n"
          ]
        }
      ],
      "source": [
        "abalone.replace(True, 1, inplace = True)\n",
        "abalone.replace(False, 0, inplace = True)"
      ]
    },
    {
      "cell_type": "code",
      "execution_count": 160,
      "metadata": {
        "id": "svJMbCj2Ut0V"
      },
      "outputs": [],
      "source": [
        "abalone['Rings'] = abalone['Rings'] + 1.5"
      ]
    },
    {
      "cell_type": "code",
      "execution_count": 162,
      "metadata": {
        "colab": {
          "base_uri": "https://localhost:8080/",
          "height": 423
        },
        "id": "bMHWmoIEUt0W",
        "outputId": "89e6fcb9-7c4a-4b0a-f2ac-ca98ff1160a4"
      },
      "outputs": [
        {
          "data": {
            "text/html": [
              "<div>\n",
              "<style scoped>\n",
              "    .dataframe tbody tr th:only-of-type {\n",
              "        vertical-align: middle;\n",
              "    }\n",
              "\n",
              "    .dataframe tbody tr th {\n",
              "        vertical-align: top;\n",
              "    }\n",
              "\n",
              "    .dataframe thead th {\n",
              "        text-align: right;\n",
              "    }\n",
              "</style>\n",
              "<table border=\"1\" class=\"dataframe\">\n",
              "  <thead>\n",
              "    <tr style=\"text-align: right;\">\n",
              "      <th></th>\n",
              "      <th>Length</th>\n",
              "      <th>Diameter</th>\n",
              "      <th>Height</th>\n",
              "      <th>Whole_weight</th>\n",
              "      <th>Shucked_weight</th>\n",
              "      <th>Viscera_weight</th>\n",
              "      <th>Shell_weight</th>\n",
              "      <th>Rings</th>\n",
              "      <th>Sex_F</th>\n",
              "      <th>Sex_I</th>\n",
              "      <th>Sex_M</th>\n",
              "    </tr>\n",
              "  </thead>\n",
              "  <tbody>\n",
              "    <tr>\n",
              "      <th>0</th>\n",
              "      <td>0.550</td>\n",
              "      <td>0.430</td>\n",
              "      <td>0.150</td>\n",
              "      <td>0.7715</td>\n",
              "      <td>0.3285</td>\n",
              "      <td>0.1465</td>\n",
              "      <td>0.2400</td>\n",
              "      <td>12.5</td>\n",
              "      <td>1</td>\n",
              "      <td>0</td>\n",
              "      <td>0</td>\n",
              "    </tr>\n",
              "    <tr>\n",
              "      <th>1</th>\n",
              "      <td>0.630</td>\n",
              "      <td>0.490</td>\n",
              "      <td>0.145</td>\n",
              "      <td>1.1300</td>\n",
              "      <td>0.4580</td>\n",
              "      <td>0.2765</td>\n",
              "      <td>0.3200</td>\n",
              "      <td>12.5</td>\n",
              "      <td>1</td>\n",
              "      <td>0</td>\n",
              "      <td>0</td>\n",
              "    </tr>\n",
              "    <tr>\n",
              "      <th>2</th>\n",
              "      <td>0.160</td>\n",
              "      <td>0.110</td>\n",
              "      <td>0.025</td>\n",
              "      <td>0.0210</td>\n",
              "      <td>0.0055</td>\n",
              "      <td>0.0030</td>\n",
              "      <td>0.0050</td>\n",
              "      <td>7.5</td>\n",
              "      <td>0</td>\n",
              "      <td>1</td>\n",
              "      <td>0</td>\n",
              "    </tr>\n",
              "    <tr>\n",
              "      <th>3</th>\n",
              "      <td>0.595</td>\n",
              "      <td>0.475</td>\n",
              "      <td>0.150</td>\n",
              "      <td>0.9145</td>\n",
              "      <td>0.3755</td>\n",
              "      <td>0.2055</td>\n",
              "      <td>0.2500</td>\n",
              "      <td>11.5</td>\n",
              "      <td>0</td>\n",
              "      <td>0</td>\n",
              "      <td>1</td>\n",
              "    </tr>\n",
              "    <tr>\n",
              "      <th>4</th>\n",
              "      <td>0.555</td>\n",
              "      <td>0.425</td>\n",
              "      <td>0.130</td>\n",
              "      <td>0.7820</td>\n",
              "      <td>0.3695</td>\n",
              "      <td>0.1600</td>\n",
              "      <td>0.1975</td>\n",
              "      <td>10.5</td>\n",
              "      <td>0</td>\n",
              "      <td>1</td>\n",
              "      <td>0</td>\n",
              "    </tr>\n",
              "    <tr>\n",
              "      <th>...</th>\n",
              "      <td>...</td>\n",
              "      <td>...</td>\n",
              "      <td>...</td>\n",
              "      <td>...</td>\n",
              "      <td>...</td>\n",
              "      <td>...</td>\n",
              "      <td>...</td>\n",
              "      <td>...</td>\n",
              "      <td>...</td>\n",
              "      <td>...</td>\n",
              "      <td>...</td>\n",
              "    </tr>\n",
              "    <tr>\n",
              "      <th>94779</th>\n",
              "      <td>0.565</td>\n",
              "      <td>0.450</td>\n",
              "      <td>0.165</td>\n",
              "      <td>0.8870</td>\n",
              "      <td>0.3700</td>\n",
              "      <td>0.2390</td>\n",
              "      <td>0.2490</td>\n",
              "      <td>12.5</td>\n",
              "      <td>1</td>\n",
              "      <td>0</td>\n",
              "      <td>0</td>\n",
              "    </tr>\n",
              "    <tr>\n",
              "      <th>94780</th>\n",
              "      <td>0.590</td>\n",
              "      <td>0.440</td>\n",
              "      <td>0.135</td>\n",
              "      <td>0.9660</td>\n",
              "      <td>0.4390</td>\n",
              "      <td>0.2145</td>\n",
              "      <td>0.2605</td>\n",
              "      <td>11.5</td>\n",
              "      <td>0</td>\n",
              "      <td>0</td>\n",
              "      <td>1</td>\n",
              "    </tr>\n",
              "    <tr>\n",
              "      <th>94781</th>\n",
              "      <td>0.600</td>\n",
              "      <td>0.475</td>\n",
              "      <td>0.205</td>\n",
              "      <td>1.1760</td>\n",
              "      <td>0.5255</td>\n",
              "      <td>0.2875</td>\n",
              "      <td>0.3080</td>\n",
              "      <td>10.5</td>\n",
              "      <td>0</td>\n",
              "      <td>0</td>\n",
              "      <td>1</td>\n",
              "    </tr>\n",
              "    <tr>\n",
              "      <th>94782</th>\n",
              "      <td>0.625</td>\n",
              "      <td>0.485</td>\n",
              "      <td>0.150</td>\n",
              "      <td>1.0945</td>\n",
              "      <td>0.5310</td>\n",
              "      <td>0.2610</td>\n",
              "      <td>0.2960</td>\n",
              "      <td>11.5</td>\n",
              "      <td>1</td>\n",
              "      <td>0</td>\n",
              "      <td>0</td>\n",
              "    </tr>\n",
              "    <tr>\n",
              "      <th>94783</th>\n",
              "      <td>0.710</td>\n",
              "      <td>0.555</td>\n",
              "      <td>0.195</td>\n",
              "      <td>1.9485</td>\n",
              "      <td>0.9455</td>\n",
              "      <td>0.3765</td>\n",
              "      <td>0.4950</td>\n",
              "      <td>13.5</td>\n",
              "      <td>0</td>\n",
              "      <td>0</td>\n",
              "      <td>1</td>\n",
              "    </tr>\n",
              "  </tbody>\n",
              "</table>\n",
              "<p>94784 rows × 11 columns</p>\n",
              "</div>"
            ],
            "text/plain": [
              "       Length  Diameter  Height  Whole_weight  Shucked_weight  Viscera_weight  \\\n",
              "0       0.550     0.430   0.150        0.7715          0.3285          0.1465   \n",
              "1       0.630     0.490   0.145        1.1300          0.4580          0.2765   \n",
              "2       0.160     0.110   0.025        0.0210          0.0055          0.0030   \n",
              "3       0.595     0.475   0.150        0.9145          0.3755          0.2055   \n",
              "4       0.555     0.425   0.130        0.7820          0.3695          0.1600   \n",
              "...       ...       ...     ...           ...             ...             ...   \n",
              "94779   0.565     0.450   0.165        0.8870          0.3700          0.2390   \n",
              "94780   0.590     0.440   0.135        0.9660          0.4390          0.2145   \n",
              "94781   0.600     0.475   0.205        1.1760          0.5255          0.2875   \n",
              "94782   0.625     0.485   0.150        1.0945          0.5310          0.2610   \n",
              "94783   0.710     0.555   0.195        1.9485          0.9455          0.3765   \n",
              "\n",
              "       Shell_weight  Rings  Sex_F  Sex_I  Sex_M  \n",
              "0            0.2400   12.5      1      0      0  \n",
              "1            0.3200   12.5      1      0      0  \n",
              "2            0.0050    7.5      0      1      0  \n",
              "3            0.2500   11.5      0      0      1  \n",
              "4            0.1975   10.5      0      1      0  \n",
              "...             ...    ...    ...    ...    ...  \n",
              "94779        0.2490   12.5      1      0      0  \n",
              "94780        0.2605   11.5      0      0      1  \n",
              "94781        0.3080   10.5      0      0      1  \n",
              "94782        0.2960   11.5      1      0      0  \n",
              "94783        0.4950   13.5      0      0      1  \n",
              "\n",
              "[94784 rows x 11 columns]"
            ]
          },
          "execution_count": 162,
          "metadata": {},
          "output_type": "execute_result"
        }
      ],
      "source": [
        "abalone"
      ]
    },
    {
      "cell_type": "markdown",
      "metadata": {
        "id": "rPPNDRcliFm-"
      },
      "source": [
        "각 컬럼 데이터 분포 그래프 확인"
      ]
    },
    {
      "cell_type": "code",
      "execution_count": 163,
      "metadata": {
        "colab": {
          "base_uri": "https://localhost:8080/",
          "height": 707
        },
        "id": "4O-jcLCRmZg8",
        "outputId": "6b0b9911-a163-4f4a-e4f7-17729ccdcbfc"
      },
      "outputs": [
        {
          "data": {
            "image/png": "[encoded data removed]",
            "text/plain": [
              "<Figure size 900x700 with 8 Axes>"
            ]
          },
          "metadata": {},
          "output_type": "display_data"
        }
      ],
      "source": [
        "col = 3\n",
        "row = len(abalone.loc[:,\"Length\":\"Rings\"].columns)//3 + 1\n",
        "\n",
        "plt.figure(figsize=(9,7))\n",
        "\n",
        "for i, column_name in enumerate(abalone.loc[:,\"Length\":\"Rings\"].columns,1): # 인덱스를 1로 지정\n",
        "  plt.subplot(col, row, i)\n",
        "\n",
        "  plt.title(column_name)\n",
        "  plt.hist(abalone[column_name], bins=15)\n",
        "\n",
        "plt.tight_layout() # 간격 사이 조정을 위해 사용\n",
        "plt.show()"
      ]
    },
    {
      "cell_type": "code",
      "execution_count": 164,
      "metadata": {
        "id": "Dvriu1PNUt0W"
      },
      "outputs": [],
      "source": [
        "from scipy.stats import boxcox\n",
        "\n",
        "# Box-Cox 변환\n",
        "# 1D 데이터로 변환해야 함\n",
        "# 결과값과 λ 값 반환 (λ는 무시 가능)\n",
        "abalone['Length'], lambda_length = boxcox(abalone['Length'])\n",
        "abalone['Diameter'], lambda_diameter = boxcox(abalone['Diameter'])\n",
        "\n",
        "# 제곱근 변환\n",
        "abalone.loc[:, \"Height\":\"Rings\"] = np.sqrt(abalone.loc[:, \"Height\":\"Rings\"])\n"
      ]
    },
    {
      "cell_type": "code",
      "execution_count": 165,
      "metadata": {
        "colab": {
          "base_uri": "https://localhost:8080/",
          "height": 707
        },
        "id": "VzgpdF1zrGLj",
        "outputId": "59cd1da0-83ca-42bf-d280-68703d80d5ed"
      },
      "outputs": [
        {
          "data": {
            "image/png": "[encoded data removed]",
            "text/plain": [
              "<Figure size 900x700 with 8 Axes>"
            ]
          },
          "metadata": {},
          "output_type": "display_data"
        }
      ],
      "source": [
        "col = 3\n",
        "row = len(abalone.loc[:,\"Length\":\"Rings\"].columns)//3 + 1\n",
        "\n",
        "plt.figure(figsize=(9,7))\n",
        "\n",
        "for i, column_name in enumerate(abalone.loc[:,\"Length\":\"Rings\"].columns,1): # 인덱스를 1로 지정\n",
        "  plt.subplot(col, row, i)\n",
        "\n",
        "  plt.title(column_name)\n",
        "  plt.hist(abalone[column_name], bins=15)\n",
        "\n",
        "plt.tight_layout() # 간격 사이 조정을 위해 사용\n",
        "plt.show()"
      ]
    },
    {
      "cell_type": "code",
      "execution_count": 166,
      "metadata": {
        "colab": {
          "base_uri": "https://localhost:8080/",
          "height": 423
        },
        "id": "bCLqGLg_Ut0X",
        "outputId": "74c86636-c0d8-40fc-a744-f911782d9fc4"
      },
      "outputs": [
        {
          "data": {
            "text/html": [
              "<div>\n",
              "<style scoped>\n",
              "    .dataframe tbody tr th:only-of-type {\n",
              "        vertical-align: middle;\n",
              "    }\n",
              "\n",
              "    .dataframe tbody tr th {\n",
              "        vertical-align: top;\n",
              "    }\n",
              "\n",
              "    .dataframe thead th {\n",
              "        text-align: right;\n",
              "    }\n",
              "</style>\n",
              "<table border=\"1\" class=\"dataframe\">\n",
              "  <thead>\n",
              "    <tr style=\"text-align: right;\">\n",
              "      <th></th>\n",
              "      <th>Length</th>\n",
              "      <th>Diameter</th>\n",
              "      <th>Height</th>\n",
              "      <th>Whole_weight</th>\n",
              "      <th>Shucked_weight</th>\n",
              "      <th>Viscera_weight</th>\n",
              "      <th>Shell_weight</th>\n",
              "      <th>Rings</th>\n",
              "      <th>Sex_F</th>\n",
              "      <th>Sex_I</th>\n",
              "      <th>Sex_M</th>\n",
              "    </tr>\n",
              "  </thead>\n",
              "  <tbody>\n",
              "    <tr>\n",
              "      <th>0</th>\n",
              "      <td>-0.346397</td>\n",
              "      <td>-0.418419</td>\n",
              "      <td>0.387298</td>\n",
              "      <td>0.878351</td>\n",
              "      <td>0.573149</td>\n",
              "      <td>0.382753</td>\n",
              "      <td>0.489898</td>\n",
              "      <td>3.535534</td>\n",
              "      <td>1</td>\n",
              "      <td>0</td>\n",
              "      <td>0</td>\n",
              "    </tr>\n",
              "    <tr>\n",
              "      <th>1</th>\n",
              "      <td>-0.299892</td>\n",
              "      <td>-0.388945</td>\n",
              "      <td>0.380789</td>\n",
              "      <td>1.063015</td>\n",
              "      <td>0.676757</td>\n",
              "      <td>0.525833</td>\n",
              "      <td>0.565685</td>\n",
              "      <td>3.535534</td>\n",
              "      <td>1</td>\n",
              "      <td>0</td>\n",
              "      <td>0</td>\n",
              "    </tr>\n",
              "    <tr>\n",
              "      <th>2</th>\n",
              "      <td>-0.481068</td>\n",
              "      <td>-0.514495</td>\n",
              "      <td>0.158114</td>\n",
              "      <td>0.144914</td>\n",
              "      <td>0.074162</td>\n",
              "      <td>0.054772</td>\n",
              "      <td>0.070711</td>\n",
              "      <td>2.738613</td>\n",
              "      <td>0</td>\n",
              "      <td>1</td>\n",
              "      <td>0</td>\n",
              "    </tr>\n",
              "    <tr>\n",
              "      <th>3</th>\n",
              "      <td>-0.321036</td>\n",
              "      <td>-0.396643</td>\n",
              "      <td>0.387298</td>\n",
              "      <td>0.956295</td>\n",
              "      <td>0.612781</td>\n",
              "      <td>0.453321</td>\n",
              "      <td>0.500000</td>\n",
              "      <td>3.391165</td>\n",
              "      <td>0</td>\n",
              "      <td>0</td>\n",
              "      <td>1</td>\n",
              "    </tr>\n",
              "    <tr>\n",
              "      <th>4</th>\n",
              "      <td>-0.343680</td>\n",
              "      <td>-0.420717</td>\n",
              "      <td>0.360555</td>\n",
              "      <td>0.884308</td>\n",
              "      <td>0.607865</td>\n",
              "      <td>0.400000</td>\n",
              "      <td>0.444410</td>\n",
              "      <td>3.240370</td>\n",
              "      <td>0</td>\n",
              "      <td>1</td>\n",
              "      <td>0</td>\n",
              "    </tr>\n",
              "    <tr>\n",
              "      <th>...</th>\n",
              "      <td>...</td>\n",
              "      <td>...</td>\n",
              "      <td>...</td>\n",
              "      <td>...</td>\n",
              "      <td>...</td>\n",
              "      <td>...</td>\n",
              "      <td>...</td>\n",
              "      <td>...</td>\n",
              "      <td>...</td>\n",
              "      <td>...</td>\n",
              "      <td>...</td>\n",
              "    </tr>\n",
              "    <tr>\n",
              "      <th>94779</th>\n",
              "      <td>-0.338171</td>\n",
              "      <td>-0.408986</td>\n",
              "      <td>0.406202</td>\n",
              "      <td>0.941807</td>\n",
              "      <td>0.608276</td>\n",
              "      <td>0.488876</td>\n",
              "      <td>0.498999</td>\n",
              "      <td>3.535534</td>\n",
              "      <td>1</td>\n",
              "      <td>0</td>\n",
              "      <td>0</td>\n",
              "    </tr>\n",
              "    <tr>\n",
              "      <th>94780</th>\n",
              "      <td>-0.323955</td>\n",
              "      <td>-0.413752</td>\n",
              "      <td>0.367423</td>\n",
              "      <td>0.982853</td>\n",
              "      <td>0.662571</td>\n",
              "      <td>0.463141</td>\n",
              "      <td>0.510392</td>\n",
              "      <td>3.391165</td>\n",
              "      <td>0</td>\n",
              "      <td>0</td>\n",
              "      <td>1</td>\n",
              "    </tr>\n",
              "    <tr>\n",
              "      <th>94781</th>\n",
              "      <td>-0.318091</td>\n",
              "      <td>-0.396643</td>\n",
              "      <td>0.452769</td>\n",
              "      <td>1.084435</td>\n",
              "      <td>0.724914</td>\n",
              "      <td>0.536190</td>\n",
              "      <td>0.554977</td>\n",
              "      <td>3.240370</td>\n",
              "      <td>0</td>\n",
              "      <td>0</td>\n",
              "      <td>1</td>\n",
              "    </tr>\n",
              "    <tr>\n",
              "      <th>94782</th>\n",
              "      <td>-0.302989</td>\n",
              "      <td>-0.391535</td>\n",
              "      <td>0.387298</td>\n",
              "      <td>1.046184</td>\n",
              "      <td>0.728697</td>\n",
              "      <td>0.510882</td>\n",
              "      <td>0.544059</td>\n",
              "      <td>3.391165</td>\n",
              "      <td>1</td>\n",
              "      <td>0</td>\n",
              "      <td>0</td>\n",
              "    </tr>\n",
              "    <tr>\n",
              "      <th>94783</th>\n",
              "      <td>-0.246893</td>\n",
              "      <td>-0.353064</td>\n",
              "      <td>0.441588</td>\n",
              "      <td>1.395887</td>\n",
              "      <td>0.972368</td>\n",
              "      <td>0.613596</td>\n",
              "      <td>0.703562</td>\n",
              "      <td>3.674235</td>\n",
              "      <td>0</td>\n",
              "      <td>0</td>\n",
              "      <td>1</td>\n",
              "    </tr>\n",
              "  </tbody>\n",
              "</table>\n",
              "<p>94784 rows × 11 columns</p>\n",
              "</div>"
            ],
            "text/plain": [
              "         Length  Diameter    Height  Whole_weight  Shucked_weight  \\\n",
              "0     -0.346397 -0.418419  0.387298      0.878351        0.573149   \n",
              "1     -0.299892 -0.388945  0.380789      1.063015        0.676757   \n",
              "2     -0.481068 -0.514495  0.158114      0.144914        0.074162   \n",
              "3     -0.321036 -0.396643  0.387298      0.956295        0.612781   \n",
              "4     -0.343680 -0.420717  0.360555      0.884308        0.607865   \n",
              "...         ...       ...       ...           ...             ...   \n",
              "94779 -0.338171 -0.408986  0.406202      0.941807        0.608276   \n",
              "94780 -0.323955 -0.413752  0.367423      0.982853        0.662571   \n",
              "94781 -0.318091 -0.396643  0.452769      1.084435        0.724914   \n",
              "94782 -0.302989 -0.391535  0.387298      1.046184        0.728697   \n",
              "94783 -0.246893 -0.353064  0.441588      1.395887        0.972368   \n",
              "\n",
              "       Viscera_weight  Shell_weight     Rings  Sex_F  Sex_I  Sex_M  \n",
              "0            0.382753      0.489898  3.535534      1      0      0  \n",
              "1            0.525833      0.565685  3.535534      1      0      0  \n",
              "2            0.054772      0.070711  2.738613      0      1      0  \n",
              "3            0.453321      0.500000  3.391165      0      0      1  \n",
              "4            0.400000      0.444410  3.240370      0      1      0  \n",
              "...               ...           ...       ...    ...    ...    ...  \n",
              "94779        0.488876      0.498999  3.535534      1      0      0  \n",
              "94780        0.463141      0.510392  3.391165      0      0      1  \n",
              "94781        0.536190      0.554977  3.240370      0      0      1  \n",
              "94782        0.510882      0.544059  3.391165      1      0      0  \n",
              "94783        0.613596      0.703562  3.674235      0      0      1  \n",
              "\n",
              "[94784 rows x 11 columns]"
            ]
          },
          "execution_count": 166,
          "metadata": {},
          "output_type": "execute_result"
        }
      ],
      "source": [
        "abalone"
      ]
    },
    {
      "cell_type": "code",
      "execution_count": 77,
      "metadata": {
        "id": "ZNXgg7umUt0X"
      },
      "outputs": [],
      "source": [
        "feature_df = abalone[['Sex_F', 'Sex_I', 'Sex_M', 'Length', 'Diameter', 'Height', 'Whole_weight', 'Shucked_weight','Viscera_weight', 'Shell_weight']].copy()\n",
        "target_sr = abalone['Rings']"
      ]
    },
    {
      "cell_type": "code",
      "execution_count": 78,
      "metadata": {
        "colab": {
          "base_uri": "https://localhost:8080/",
          "height": 423
        },
        "id": "Z2jPtZulUt0Y",
        "outputId": "2c5236b6-3bcb-4be7-9fa9-0a5d50b902ef"
      },
      "outputs": [
        {
          "data": {
            "text/html": [
              "<div>\n",
              "<style scoped>\n",
              "    .dataframe tbody tr th:only-of-type {\n",
              "        vertical-align: middle;\n",
              "    }\n",
              "\n",
              "    .dataframe tbody tr th {\n",
              "        vertical-align: top;\n",
              "    }\n",
              "\n",
              "    .dataframe thead th {\n",
              "        text-align: right;\n",
              "    }\n",
              "</style>\n",
              "<table border=\"1\" class=\"dataframe\">\n",
              "  <thead>\n",
              "    <tr style=\"text-align: right;\">\n",
              "      <th></th>\n",
              "      <th>Sex_F</th>\n",
              "      <th>Sex_I</th>\n",
              "      <th>Sex_M</th>\n",
              "      <th>Length</th>\n",
              "      <th>Diameter</th>\n",
              "      <th>Height</th>\n",
              "      <th>Whole_weight</th>\n",
              "      <th>Shucked_weight</th>\n",
              "      <th>Viscera_weight</th>\n",
              "      <th>Shell_weight</th>\n",
              "    </tr>\n",
              "  </thead>\n",
              "  <tbody>\n",
              "    <tr>\n",
              "      <th>0</th>\n",
              "      <td>1</td>\n",
              "      <td>0</td>\n",
              "      <td>0</td>\n",
              "      <td>-0.346397</td>\n",
              "      <td>-0.418419</td>\n",
              "      <td>0.387298</td>\n",
              "      <td>0.878351</td>\n",
              "      <td>0.573149</td>\n",
              "      <td>0.382753</td>\n",
              "      <td>0.489898</td>\n",
              "    </tr>\n",
              "    <tr>\n",
              "      <th>1</th>\n",
              "      <td>1</td>\n",
              "      <td>0</td>\n",
              "      <td>0</td>\n",
              "      <td>-0.299892</td>\n",
              "      <td>-0.388945</td>\n",
              "      <td>0.380789</td>\n",
              "      <td>1.063015</td>\n",
              "      <td>0.676757</td>\n",
              "      <td>0.525833</td>\n",
              "      <td>0.565685</td>\n",
              "    </tr>\n",
              "    <tr>\n",
              "      <th>2</th>\n",
              "      <td>0</td>\n",
              "      <td>1</td>\n",
              "      <td>0</td>\n",
              "      <td>-0.481068</td>\n",
              "      <td>-0.514495</td>\n",
              "      <td>0.158114</td>\n",
              "      <td>0.144914</td>\n",
              "      <td>0.074162</td>\n",
              "      <td>0.054772</td>\n",
              "      <td>0.070711</td>\n",
              "    </tr>\n",
              "    <tr>\n",
              "      <th>3</th>\n",
              "      <td>0</td>\n",
              "      <td>0</td>\n",
              "      <td>1</td>\n",
              "      <td>-0.321036</td>\n",
              "      <td>-0.396643</td>\n",
              "      <td>0.387298</td>\n",
              "      <td>0.956295</td>\n",
              "      <td>0.612781</td>\n",
              "      <td>0.453321</td>\n",
              "      <td>0.500000</td>\n",
              "    </tr>\n",
              "    <tr>\n",
              "      <th>4</th>\n",
              "      <td>0</td>\n",
              "      <td>1</td>\n",
              "      <td>0</td>\n",
              "      <td>-0.343680</td>\n",
              "      <td>-0.420717</td>\n",
              "      <td>0.360555</td>\n",
              "      <td>0.884308</td>\n",
              "      <td>0.607865</td>\n",
              "      <td>0.400000</td>\n",
              "      <td>0.444410</td>\n",
              "    </tr>\n",
              "    <tr>\n",
              "      <th>...</th>\n",
              "      <td>...</td>\n",
              "      <td>...</td>\n",
              "      <td>...</td>\n",
              "      <td>...</td>\n",
              "      <td>...</td>\n",
              "      <td>...</td>\n",
              "      <td>...</td>\n",
              "      <td>...</td>\n",
              "      <td>...</td>\n",
              "      <td>...</td>\n",
              "    </tr>\n",
              "    <tr>\n",
              "      <th>94779</th>\n",
              "      <td>1</td>\n",
              "      <td>0</td>\n",
              "      <td>0</td>\n",
              "      <td>-0.338171</td>\n",
              "      <td>-0.408986</td>\n",
              "      <td>0.406202</td>\n",
              "      <td>0.941807</td>\n",
              "      <td>0.608276</td>\n",
              "      <td>0.488876</td>\n",
              "      <td>0.498999</td>\n",
              "    </tr>\n",
              "    <tr>\n",
              "      <th>94780</th>\n",
              "      <td>0</td>\n",
              "      <td>0</td>\n",
              "      <td>1</td>\n",
              "      <td>-0.323955</td>\n",
              "      <td>-0.413752</td>\n",
              "      <td>0.367423</td>\n",
              "      <td>0.982853</td>\n",
              "      <td>0.662571</td>\n",
              "      <td>0.463141</td>\n",
              "      <td>0.510392</td>\n",
              "    </tr>\n",
              "    <tr>\n",
              "      <th>94781</th>\n",
              "      <td>0</td>\n",
              "      <td>0</td>\n",
              "      <td>1</td>\n",
              "      <td>-0.318091</td>\n",
              "      <td>-0.396643</td>\n",
              "      <td>0.452769</td>\n",
              "      <td>1.084435</td>\n",
              "      <td>0.724914</td>\n",
              "      <td>0.536190</td>\n",
              "      <td>0.554977</td>\n",
              "    </tr>\n",
              "    <tr>\n",
              "      <th>94782</th>\n",
              "      <td>1</td>\n",
              "      <td>0</td>\n",
              "      <td>0</td>\n",
              "      <td>-0.302989</td>\n",
              "      <td>-0.391535</td>\n",
              "      <td>0.387298</td>\n",
              "      <td>1.046184</td>\n",
              "      <td>0.728697</td>\n",
              "      <td>0.510882</td>\n",
              "      <td>0.544059</td>\n",
              "    </tr>\n",
              "    <tr>\n",
              "      <th>94783</th>\n",
              "      <td>0</td>\n",
              "      <td>0</td>\n",
              "      <td>1</td>\n",
              "      <td>-0.246893</td>\n",
              "      <td>-0.353064</td>\n",
              "      <td>0.441588</td>\n",
              "      <td>1.395887</td>\n",
              "      <td>0.972368</td>\n",
              "      <td>0.613596</td>\n",
              "      <td>0.703562</td>\n",
              "    </tr>\n",
              "  </tbody>\n",
              "</table>\n",
              "<p>94784 rows × 10 columns</p>\n",
              "</div>"
            ],
            "text/plain": [
              "       Sex_F  Sex_I  Sex_M    Length  Diameter    Height  Whole_weight  \\\n",
              "0          1      0      0 -0.346397 -0.418419  0.387298      0.878351   \n",
              "1          1      0      0 -0.299892 -0.388945  0.380789      1.063015   \n",
              "2          0      1      0 -0.481068 -0.514495  0.158114      0.144914   \n",
              "3          0      0      1 -0.321036 -0.396643  0.387298      0.956295   \n",
              "4          0      1      0 -0.343680 -0.420717  0.360555      0.884308   \n",
              "...      ...    ...    ...       ...       ...       ...           ...   \n",
              "94779      1      0      0 -0.338171 -0.408986  0.406202      0.941807   \n",
              "94780      0      0      1 -0.323955 -0.413752  0.367423      0.982853   \n",
              "94781      0      0      1 -0.318091 -0.396643  0.452769      1.084435   \n",
              "94782      1      0      0 -0.302989 -0.391535  0.387298      1.046184   \n",
              "94783      0      0      1 -0.246893 -0.353064  0.441588      1.395887   \n",
              "\n",
              "       Shucked_weight  Viscera_weight  Shell_weight  \n",
              "0            0.573149        0.382753      0.489898  \n",
              "1            0.676757        0.525833      0.565685  \n",
              "2            0.074162        0.054772      0.070711  \n",
              "3            0.612781        0.453321      0.500000  \n",
              "4            0.607865        0.400000      0.444410  \n",
              "...               ...             ...           ...  \n",
              "94779        0.608276        0.488876      0.498999  \n",
              "94780        0.662571        0.463141      0.510392  \n",
              "94781        0.724914        0.536190      0.554977  \n",
              "94782        0.728697        0.510882      0.544059  \n",
              "94783        0.972368        0.613596      0.703562  \n",
              "\n",
              "[94784 rows x 10 columns]"
            ]
          },
          "execution_count": 78,
          "metadata": {},
          "output_type": "execute_result"
        }
      ],
      "source": [
        "feature_df"
      ]
    },
    {
      "cell_type": "code",
      "execution_count": 79,
      "metadata": {
        "colab": {
          "base_uri": "https://localhost:8080/",
          "height": 320
        },
        "id": "43lBac_BUt0Z",
        "outputId": "91d4d1b2-8419-4b67-9555-d9cbdbbf39cc"
      },
      "outputs": [
        {
          "data": {
            "text/html": [
              "<div>\n",
              "<style scoped>\n",
              "    .dataframe tbody tr th:only-of-type {\n",
              "        vertical-align: middle;\n",
              "    }\n",
              "\n",
              "    .dataframe tbody tr th {\n",
              "        vertical-align: top;\n",
              "    }\n",
              "\n",
              "    .dataframe thead th {\n",
              "        text-align: right;\n",
              "    }\n",
              "</style>\n",
              "<table border=\"1\" class=\"dataframe\">\n",
              "  <thead>\n",
              "    <tr style=\"text-align: right;\">\n",
              "      <th></th>\n",
              "      <th>Sex_F</th>\n",
              "      <th>Sex_I</th>\n",
              "      <th>Sex_M</th>\n",
              "      <th>Length</th>\n",
              "      <th>Diameter</th>\n",
              "      <th>Height</th>\n",
              "      <th>Whole_weight</th>\n",
              "      <th>Shucked_weight</th>\n",
              "      <th>Viscera_weight</th>\n",
              "      <th>Shell_weight</th>\n",
              "    </tr>\n",
              "  </thead>\n",
              "  <tbody>\n",
              "    <tr>\n",
              "      <th>count</th>\n",
              "      <td>94784.000000</td>\n",
              "      <td>94784.000000</td>\n",
              "      <td>94784.000000</td>\n",
              "      <td>94784.000000</td>\n",
              "      <td>94784.000000</td>\n",
              "      <td>94784.000000</td>\n",
              "      <td>94784.000000</td>\n",
              "      <td>94784.000000</td>\n",
              "      <td>94784.000000</td>\n",
              "      <td>94784.000000</td>\n",
              "    </tr>\n",
              "    <tr>\n",
              "      <th>mean</th>\n",
              "      <td>0.293320</td>\n",
              "      <td>0.363236</td>\n",
              "      <td>0.343444</td>\n",
              "      <td>-0.356435</td>\n",
              "      <td>-0.426195</td>\n",
              "      <td>0.364276</td>\n",
              "      <td>0.843531</td>\n",
              "      <td>0.553012</td>\n",
              "      <td>0.390141</td>\n",
              "      <td>0.451946</td>\n",
              "    </tr>\n",
              "    <tr>\n",
              "      <th>std</th>\n",
              "      <td>0.455286</td>\n",
              "      <td>0.480935</td>\n",
              "      <td>0.474861</td>\n",
              "      <td>0.055718</td>\n",
              "      <td>0.039638</td>\n",
              "      <td>0.054381</td>\n",
              "      <td>0.281571</td>\n",
              "      <td>0.189186</td>\n",
              "      <td>0.133090</td>\n",
              "      <td>0.149046</td>\n",
              "    </tr>\n",
              "    <tr>\n",
              "      <th>min</th>\n",
              "      <td>0.000000</td>\n",
              "      <td>0.000000</td>\n",
              "      <td>0.000000</td>\n",
              "      <td>-0.490476</td>\n",
              "      <td>-0.520092</td>\n",
              "      <td>0.063246</td>\n",
              "      <td>0.044721</td>\n",
              "      <td>0.031623</td>\n",
              "      <td>0.022361</td>\n",
              "      <td>0.038730</td>\n",
              "    </tr>\n",
              "    <tr>\n",
              "      <th>25%</th>\n",
              "      <td>0.000000</td>\n",
              "      <td>0.000000</td>\n",
              "      <td>0.000000</td>\n",
              "      <td>-0.397620</td>\n",
              "      <td>-0.454105</td>\n",
              "      <td>0.331662</td>\n",
              "      <td>0.647688</td>\n",
              "      <td>0.421307</td>\n",
              "      <td>0.294958</td>\n",
              "      <td>0.346410</td>\n",
              "    </tr>\n",
              "    <tr>\n",
              "      <th>50%</th>\n",
              "      <td>0.000000</td>\n",
              "      <td>0.000000</td>\n",
              "      <td>0.000000</td>\n",
              "      <td>-0.349088</td>\n",
              "      <td>-0.420717</td>\n",
              "      <td>0.374166</td>\n",
              "      <td>0.894148</td>\n",
              "      <td>0.574456</td>\n",
              "      <td>0.407431</td>\n",
              "      <td>0.474342</td>\n",
              "    </tr>\n",
              "    <tr>\n",
              "      <th>75%</th>\n",
              "      <td>1.000000</td>\n",
              "      <td>1.000000</td>\n",
              "      <td>1.000000</td>\n",
              "      <td>-0.318091</td>\n",
              "      <td>-0.399160</td>\n",
              "      <td>0.400000</td>\n",
              "      <td>1.035616</td>\n",
              "      <td>0.681542</td>\n",
              "      <td>0.482701</td>\n",
              "      <td>0.552268</td>\n",
              "    </tr>\n",
              "    <tr>\n",
              "      <th>max</th>\n",
              "      <td>1.000000</td>\n",
              "      <td>1.000000</td>\n",
              "      <td>1.000000</td>\n",
              "      <td>-0.167437</td>\n",
              "      <td>-0.293322</td>\n",
              "      <td>1.063015</td>\n",
              "      <td>1.680922</td>\n",
              "      <td>1.219836</td>\n",
              "      <td>0.871780</td>\n",
              "      <td>1.002497</td>\n",
              "    </tr>\n",
              "  </tbody>\n",
              "</table>\n",
              "</div>"
            ],
            "text/plain": [
              "              Sex_F         Sex_I         Sex_M        Length      Diameter  \\\n",
              "count  94784.000000  94784.000000  94784.000000  94784.000000  94784.000000   \n",
              "mean       0.293320      0.363236      0.343444     -0.356435     -0.426195   \n",
              "std        0.455286      0.480935      0.474861      0.055718      0.039638   \n",
              "min        0.000000      0.000000      0.000000     -0.490476     -0.520092   \n",
              "25%        0.000000      0.000000      0.000000     -0.397620     -0.454105   \n",
              "50%        0.000000      0.000000      0.000000     -0.349088     -0.420717   \n",
              "75%        1.000000      1.000000      1.000000     -0.318091     -0.399160   \n",
              "max        1.000000      1.000000      1.000000     -0.167437     -0.293322   \n",
              "\n",
              "             Height  Whole_weight  Shucked_weight  Viscera_weight  \\\n",
              "count  94784.000000  94784.000000    94784.000000    94784.000000   \n",
              "mean       0.364276      0.843531        0.553012        0.390141   \n",
              "std        0.054381      0.281571        0.189186        0.133090   \n",
              "min        0.063246      0.044721        0.031623        0.022361   \n",
              "25%        0.331662      0.647688        0.421307        0.294958   \n",
              "50%        0.374166      0.894148        0.574456        0.407431   \n",
              "75%        0.400000      1.035616        0.681542        0.482701   \n",
              "max        1.063015      1.680922        1.219836        0.871780   \n",
              "\n",
              "       Shell_weight  \n",
              "count  94784.000000  \n",
              "mean       0.451946  \n",
              "std        0.149046  \n",
              "min        0.038730  \n",
              "25%        0.346410  \n",
              "50%        0.474342  \n",
              "75%        0.552268  \n",
              "max        1.002497  "
            ]
          },
          "execution_count": 79,
          "metadata": {},
          "output_type": "execute_result"
        }
      ],
      "source": [
        "feature_df.describe()"
      ]
    },
    {
      "cell_type": "code",
      "execution_count": 80,
      "metadata": {
        "colab": {
          "base_uri": "https://localhost:8080/",
          "height": 335
        },
        "id": "aYtFZOR3Ut0Z",
        "outputId": "e6f7103a-986d-4c52-e10b-0424a625f130"
      },
      "outputs": [
        {
          "data": {
            "text/plain": [
              "count    94784.000000\n",
              "mean         3.316488\n",
              "std          0.456415\n",
              "min          1.581139\n",
              "25%          3.082207\n",
              "50%          3.240370\n",
              "75%          3.535534\n",
              "max          5.522681\n",
              "Name: Rings, dtype: float64"
            ]
          },
          "execution_count": 80,
          "metadata": {},
          "output_type": "execute_result"
        }
      ],
      "source": [
        "target_sr.describe()"
      ]
    },
    {
      "cell_type": "markdown",
      "metadata": {
        "id": "bss9dNEoUt0a"
      },
      "source": [
        "## [2] test, train 분리"
      ]
    },
    {
      "cell_type": "code",
      "execution_count": 174,
      "metadata": {
        "id": "WcQIcZMCUt0b"
      },
      "outputs": [],
      "source": [
        "from sklearn.model_selection import train_test_split\n",
        "\n",
        "x_train, x_test, y_train, y_test = train_test_split(feature_df,target_sr, test_size=0.2, random_state=12)"
      ]
    },
    {
      "cell_type": "code",
      "execution_count": 175,
      "metadata": {
        "colab": {
          "base_uri": "https://localhost:8080/"
        },
        "id": "dU4e933DUt0c",
        "outputId": "569c0367-5932-49f3-db0c-08d35d179064"
      },
      "outputs": [
        {
          "name": "stdout",
          "output_type": "stream",
          "text": [
            "x_train : (75827, 10), y_train : (75827,)\n",
            "x_test : (18957, 10) , y_test : (18957,)\n"
          ]
        }
      ],
      "source": [
        "print(f'x_train : {x_train.shape}, y_train : {y_train.shape}')\n",
        "print(f'x_test : {x_test.shape} , y_test : {y_test.shape}')"
      ]
    },
    {
      "cell_type": "code",
      "execution_count": 83,
      "metadata": {
        "colab": {
          "base_uri": "https://localhost:8080/",
          "height": 80
        },
        "id": "62KwQs3mUt0c",
        "outputId": "cd992685-875b-4f23-a011-46b403da1684"
      },
      "outputs": [
        {
          "data": {
            "text/html": [
              "<style>#sk-container-id-5 {color: black;}#sk-container-id-5 pre{padding: 0;}#sk-container-id-5 div.sk-toggleable {background-color: white;}#sk-container-id-5 label.sk-toggleable__label {cursor: pointer;display: block;width: 100%;margin-bottom: 0;padding: 0.3em;box-sizing: border-box;text-align: center;}#sk-container-id-5 label.sk-toggleable__label-arrow:before {content: \"▸\";float: left;margin-right: 0.25em;color: #696969;}#sk-container-id-5 label.sk-toggleable__label-arrow:hover:before {color: black;}#sk-container-id-5 div.sk-estimator:hover label.sk-toggleable__label-arrow:before {color: black;}#sk-container-id-5 div.sk-toggleable__content {max-height: 0;max-width: 0;overflow: hidden;text-align: left;background-color: #f0f8ff;}#sk-container-id-5 div.sk-toggleable__content pre {margin: 0.2em;color: black;border-radius: 0.25em;background-color: #f0f8ff;}#sk-container-id-5 input.sk-toggleable__control:checked~div.sk-toggleable__content {max-height: 200px;max-width: 100%;overflow: auto;}#sk-container-id-5 input.sk-toggleable__control:checked~label.sk-toggleable__label-arrow:before {content: \"▾\";}#sk-container-id-5 div.sk-estimator input.sk-toggleable__control:checked~label.sk-toggleable__label {background-color: #d4ebff;}#sk-container-id-5 div.sk-label input.sk-toggleable__control:checked~label.sk-toggleable__label {background-color: #d4ebff;}#sk-container-id-5 input.sk-hidden--visually {border: 0;clip: rect(1px 1px 1px 1px);clip: rect(1px, 1px, 1px, 1px);height: 1px;margin: -1px;overflow: hidden;padding: 0;position: absolute;width: 1px;}#sk-container-id-5 div.sk-estimator {font-family: monospace;background-color: #f0f8ff;border: 1px dotted black;border-radius: 0.25em;box-sizing: border-box;margin-bottom: 0.5em;}#sk-container-id-5 div.sk-estimator:hover {background-color: #d4ebff;}#sk-container-id-5 div.sk-parallel-item::after {content: \"\";width: 100%;border-bottom: 1px solid gray;flex-grow: 1;}#sk-container-id-5 div.sk-label:hover label.sk-toggleable__label {background-color: #d4ebff;}#sk-container-id-5 div.sk-serial::before {content: \"\";position: absolute;border-left: 1px solid gray;box-sizing: border-box;top: 0;bottom: 0;left: 50%;z-index: 0;}#sk-container-id-5 div.sk-serial {display: flex;flex-direction: column;align-items: center;background-color: white;padding-right: 0.2em;padding-left: 0.2em;position: relative;}#sk-container-id-5 div.sk-item {position: relative;z-index: 1;}#sk-container-id-5 div.sk-parallel {display: flex;align-items: stretch;justify-content: center;background-color: white;position: relative;}#sk-container-id-5 div.sk-item::before, #sk-container-id-5 div.sk-parallel-item::before {content: \"\";position: absolute;border-left: 1px solid gray;box-sizing: border-box;top: 0;bottom: 0;left: 50%;z-index: -1;}#sk-container-id-5 div.sk-parallel-item {display: flex;flex-direction: column;z-index: 1;position: relative;background-color: white;}#sk-container-id-5 div.sk-parallel-item:first-child::after {align-self: flex-end;width: 50%;}#sk-container-id-5 div.sk-parallel-item:last-child::after {align-self: flex-start;width: 50%;}#sk-container-id-5 div.sk-parallel-item:only-child::after {width: 0;}#sk-container-id-5 div.sk-dashed-wrapped {border: 1px dashed gray;margin: 0 0.4em 0.5em 0.4em;box-sizing: border-box;padding-bottom: 0.4em;background-color: white;}#sk-container-id-5 div.sk-label label {font-family: monospace;font-weight: bold;display: inline-block;line-height: 1.2em;}#sk-container-id-5 div.sk-label-container {text-align: center;}#sk-container-id-5 div.sk-container {/* jupyter's `normalize.less` sets `[hidden] { display: none; }` but bootstrap.min.css set `[hidden] { display: none !important; }` so we also need the `!important` here to be able to override the default hidden behavior on the sphinx rendered scikit-learn.org. See: https://github.com/scikit-learn/scikit-learn/issues/21755 */display: inline-block !important;position: relative;}#sk-container-id-5 div.sk-text-repr-fallback {display: none;}</style><div id=\"sk-container-id-5\" class=\"sk-top-container\"><div class=\"sk-text-repr-fallback\"><pre>MinMaxScaler()</pre><b>In a Jupyter environment, please rerun this cell to show the HTML representation or trust the notebook. <br />On GitHub, the HTML representation is unable to render, please try loading this page with nbviewer.org.</b></div><div class=\"sk-container\" hidden><div class=\"sk-item\"><div class=\"sk-estimator sk-toggleable\"><input class=\"sk-toggleable__control sk-hidden--visually\" id=\"sk-estimator-id-7\" type=\"checkbox\" checked><label for=\"sk-estimator-id-7\" class=\"sk-toggleable__label sk-toggleable__label-arrow\">MinMaxScaler</label><div class=\"sk-toggleable__content\"><pre>MinMaxScaler()</pre></div></div></div></div></div>"
            ],
            "text/plain": [
              "MinMaxScaler()"
            ]
          },
          "execution_count": 83,
          "metadata": {},
          "output_type": "execute_result"
        }
      ],
      "source": [
        "from sklearn.preprocessing import MinMaxScaler\n",
        "\n",
        "scaler_v = MinMaxScaler()\n",
        "scaler_v.fit(x_train)"
      ]
    },
    {
      "cell_type": "code",
      "execution_count": 84,
      "metadata": {
        "colab": {
          "base_uri": "https://localhost:8080/"
        },
        "id": "kMWFWi33Ut0d",
        "outputId": "2a3a039b-94b9-43ad-8220-5a2a7a7aab18"
      },
      "outputs": [
        {
          "data": {
            "text/plain": [
              "(array([ 0.        ,  0.        ,  0.        ,  1.51831958,  2.2934749 ,\n",
              "        -0.0712591 , -0.02733244, -0.02661372, -0.02632467, -0.04018589]),\n",
              " array([ 0.        ,  0.        ,  0.        , -0.49047648, -0.52009242,\n",
              "         0.07071068,  0.04472136,  0.03162278,  0.02236068,  0.03872983]))"
            ]
          },
          "execution_count": 84,
          "metadata": {},
          "output_type": "execute_result"
        }
      ],
      "source": [
        "scaler_v.min_, scaler_v.data_min_"
      ]
    },
    {
      "cell_type": "code",
      "execution_count": 85,
      "metadata": {
        "colab": {
          "base_uri": "https://localhost:8080/"
        },
        "id": "U3B2lo_bUt0e",
        "outputId": "75ded5f3-0e0d-4628-f94a-8fbc8daa50a5"
      },
      "outputs": [
        {
          "data": {
            "text/plain": [
              "(array([1.        , 1.        , 1.        , 3.09560121, 4.40974494,\n",
              "        1.00775579, 0.61117185, 0.84159975, 1.17727514, 1.03759513]),\n",
              " array([ 1.        ,  1.        ,  1.        , -0.16743745, -0.29332193,\n",
              "         1.06301458,  1.68092237,  1.21983605,  0.87177979,  1.00249688]))"
            ]
          },
          "execution_count": 85,
          "metadata": {},
          "output_type": "execute_result"
        }
      ],
      "source": [
        "scaler_v.scale_, scaler_v.data_max_"
      ]
    },
    {
      "cell_type": "code",
      "execution_count": 86,
      "metadata": {
        "colab": {
          "base_uri": "https://localhost:8080/",
          "height": 707
        },
        "id": "N_9WPBibTM6C",
        "outputId": "66b15372-57ab-480c-dd26-3665bf9e5c09"
      },
      "outputs": [
        {
          "data": {
            "image/png": "[encoded data removed]",
            "text/plain": [
              "<Figure size 900x700 with 7 Axes>"
            ]
          },
          "metadata": {},
          "output_type": "display_data"
        }
      ],
      "source": [
        "scaler_x = MinMaxScaler()\n",
        "x_scaled = scaler_x.fit_transform(feature_df)\n",
        "x_scaled = pd.DataFrame(x_scaled, columns=feature_df.columns)\n",
        "\n",
        "col = 3\n",
        "row = len(x_scaled.loc[:,\"Length\":\"Shell_weight\"].columns)//3 + 1\n",
        "\n",
        "plt.figure(figsize=(9,7))\n",
        "\n",
        "for i, column_name in enumerate(x_scaled.loc[:,\"Length\":\"Shell_weight\"].columns,1): # 인덱스를 1로 지정\n",
        "  plt.subplot(col, row, i)\n",
        "\n",
        "  plt.title(column_name)\n",
        "  plt.hist(x_scaled[column_name], bins=15)\n",
        "\n",
        "plt.tight_layout() # 간격 사이 조정을 위해 사용\n",
        "plt.show()"
      ]
    },
    {
      "cell_type": "code",
      "execution_count": 87,
      "metadata": {
        "colab": {
          "base_uri": "https://localhost:8080/",
          "height": 597
        },
        "id": "sPsxZulp8am8",
        "outputId": "a3c5cb46-c448-459d-80dc-c61ece010c0d"
      },
      "outputs": [
        {
          "data": {
            "text/plain": [
              "(array([2.6000e+01, 3.0000e+01, 1.8600e+03, 2.9770e+03, 5.6690e+03,\n",
              "        2.4460e+04, 3.1251e+04, 1.3880e+04, 6.9100e+03, 3.6810e+03,\n",
              "        2.1230e+03, 1.2040e+03, 5.7200e+02, 7.3000e+01, 6.8000e+01]),\n",
              " array([0.        , 0.06666667, 0.13333333, 0.2       , 0.26666667,\n",
              "        0.33333333, 0.4       , 0.46666667, 0.53333333, 0.6       ,\n",
              "        0.66666667, 0.73333333, 0.8       , 0.86666667, 0.93333333,\n",
              "        1.        ]),\n",
              " <BarContainer object of 15 artists>)"
            ]
          },
          "execution_count": 87,
          "metadata": {},
          "output_type": "execute_result"
        },
        {
          "data": {
            "image/png": "[encoded data removed]",
            "text/plain": [
              "<Figure size 640x480 with 1 Axes>"
            ]
          },
          "metadata": {},
          "output_type": "display_data"
        }
      ],
      "source": [
        "scaler_y = MinMaxScaler()\n",
        "y_scaled = scaler_y.fit_transform(target_sr.values.reshape(-1, 1))\n",
        "\n",
        "y_scaled = pd.DataFrame(y_scaled)\n",
        "\n",
        "plt.title(\"Rings\")\n",
        "plt.hist(y_scaled, bins=15)"
      ]
    },
    {
      "cell_type": "code",
      "execution_count": 176,
      "metadata": {
        "colab": {
          "base_uri": "https://localhost:8080/",
          "height": 80
        },
        "id": "nDx7W7Ra9k3u",
        "outputId": "43e8f4ae-8c2f-4148-efee-8a76942e7651"
      },
      "outputs": [
        {
          "data": {
            "text/html": [
              "<style>#sk-container-id-13 {color: black;}#sk-container-id-13 pre{padding: 0;}#sk-container-id-13 div.sk-toggleable {background-color: white;}#sk-container-id-13 label.sk-toggleable__label {cursor: pointer;display: block;width: 100%;margin-bottom: 0;padding: 0.3em;box-sizing: border-box;text-align: center;}#sk-container-id-13 label.sk-toggleable__label-arrow:before {content: \"▸\";float: left;margin-right: 0.25em;color: #696969;}#sk-container-id-13 label.sk-toggleable__label-arrow:hover:before {color: black;}#sk-container-id-13 div.sk-estimator:hover label.sk-toggleable__label-arrow:before {color: black;}#sk-container-id-13 div.sk-toggleable__content {max-height: 0;max-width: 0;overflow: hidden;text-align: left;background-color: #f0f8ff;}#sk-container-id-13 div.sk-toggleable__content pre {margin: 0.2em;color: black;border-radius: 0.25em;background-color: #f0f8ff;}#sk-container-id-13 input.sk-toggleable__control:checked~div.sk-toggleable__content {max-height: 200px;max-width: 100%;overflow: auto;}#sk-container-id-13 input.sk-toggleable__control:checked~label.sk-toggleable__label-arrow:before {content: \"▾\";}#sk-container-id-13 div.sk-estimator input.sk-toggleable__control:checked~label.sk-toggleable__label {background-color: #d4ebff;}#sk-container-id-13 div.sk-label input.sk-toggleable__control:checked~label.sk-toggleable__label {background-color: #d4ebff;}#sk-container-id-13 input.sk-hidden--visually {border: 0;clip: rect(1px 1px 1px 1px);clip: rect(1px, 1px, 1px, 1px);height: 1px;margin: -1px;overflow: hidden;padding: 0;position: absolute;width: 1px;}#sk-container-id-13 div.sk-estimator {font-family: monospace;background-color: #f0f8ff;border: 1px dotted black;border-radius: 0.25em;box-sizing: border-box;margin-bottom: 0.5em;}#sk-container-id-13 div.sk-estimator:hover {background-color: #d4ebff;}#sk-container-id-13 div.sk-parallel-item::after {content: \"\";width: 100%;border-bottom: 1px solid gray;flex-grow: 1;}#sk-container-id-13 div.sk-label:hover label.sk-toggleable__label {background-color: #d4ebff;}#sk-container-id-13 div.sk-serial::before {content: \"\";position: absolute;border-left: 1px solid gray;box-sizing: border-box;top: 0;bottom: 0;left: 50%;z-index: 0;}#sk-container-id-13 div.sk-serial {display: flex;flex-direction: column;align-items: center;background-color: white;padding-right: 0.2em;padding-left: 0.2em;position: relative;}#sk-container-id-13 div.sk-item {position: relative;z-index: 1;}#sk-container-id-13 div.sk-parallel {display: flex;align-items: stretch;justify-content: center;background-color: white;position: relative;}#sk-container-id-13 div.sk-item::before, #sk-container-id-13 div.sk-parallel-item::before {content: \"\";position: absolute;border-left: 1px solid gray;box-sizing: border-box;top: 0;bottom: 0;left: 50%;z-index: -1;}#sk-container-id-13 div.sk-parallel-item {display: flex;flex-direction: column;z-index: 1;position: relative;background-color: white;}#sk-container-id-13 div.sk-parallel-item:first-child::after {align-self: flex-end;width: 50%;}#sk-container-id-13 div.sk-parallel-item:last-child::after {align-self: flex-start;width: 50%;}#sk-container-id-13 div.sk-parallel-item:only-child::after {width: 0;}#sk-container-id-13 div.sk-dashed-wrapped {border: 1px dashed gray;margin: 0 0.4em 0.5em 0.4em;box-sizing: border-box;padding-bottom: 0.4em;background-color: white;}#sk-container-id-13 div.sk-label label {font-family: monospace;font-weight: bold;display: inline-block;line-height: 1.2em;}#sk-container-id-13 div.sk-label-container {text-align: center;}#sk-container-id-13 div.sk-container {/* jupyter's `normalize.less` sets `[hidden] { display: none; }` but bootstrap.min.css set `[hidden] { display: none !important; }` so we also need the `!important` here to be able to override the default hidden behavior on the sphinx rendered scikit-learn.org. See: https://github.com/scikit-learn/scikit-learn/issues/21755 */display: inline-block !important;position: relative;}#sk-container-id-13 div.sk-text-repr-fallback {display: none;}</style><div id=\"sk-container-id-13\" class=\"sk-top-container\"><div class=\"sk-text-repr-fallback\"><pre>MinMaxScaler()</pre><b>In a Jupyter environment, please rerun this cell to show the HTML representation or trust the notebook. <br />On GitHub, the HTML representation is unable to render, please try loading this page with nbviewer.org.</b></div><div class=\"sk-container\" hidden><div class=\"sk-item\"><div class=\"sk-estimator sk-toggleable\"><input class=\"sk-toggleable__control sk-hidden--visually\" id=\"sk-estimator-id-19\" type=\"checkbox\" checked><label for=\"sk-estimator-id-19\" class=\"sk-toggleable__label sk-toggleable__label-arrow\">MinMaxScaler</label><div class=\"sk-toggleable__content\"><pre>MinMaxScaler()</pre></div></div></div></div></div>"
            ],
            "text/plain": [
              "MinMaxScaler()"
            ]
          },
          "execution_count": 176,
          "metadata": {},
          "output_type": "execute_result"
        }
      ],
      "source": [
        "scaler = MinMaxScaler()\n",
        "scaler.fit(x_train)"
      ]
    },
    {
      "cell_type": "code",
      "execution_count": 177,
      "metadata": {
        "colab": {
          "base_uri": "https://localhost:8080/"
        },
        "id": "vQxFDXvSUt0f",
        "outputId": "5e68e821-437a-4ff7-e2ca-6205ef1065f7"
      },
      "outputs": [
        {
          "data": {
            "text/plain": [
              "(75827, 10)"
            ]
          },
          "execution_count": 177,
          "metadata": {},
          "output_type": "execute_result"
        }
      ],
      "source": [
        "x_train_scaled = scaler.transform(x_train)\n",
        "x_train_scaled = pd.DataFrame(x_train_scaled, columns = x_train.columns)\n",
        "x_train_scaled.shape"
      ]
    },
    {
      "cell_type": "code",
      "execution_count": 119,
      "metadata": {
        "colab": {
          "base_uri": "https://localhost:8080/"
        },
        "id": "S3tlhcr3Ut0g",
        "outputId": "caf9f957-c037-413e-b6bf-dc102b8ab9d2"
      },
      "outputs": [
        {
          "data": {
            "text/plain": [
              "(Sex_F             0.0\n",
              " Sex_I             0.0\n",
              " Sex_M             0.0\n",
              " Length            0.0\n",
              " Diameter          0.0\n",
              " Height            0.0\n",
              " Whole_weight      0.0\n",
              " Shucked_weight    0.0\n",
              " Viscera_weight    0.0\n",
              " Shell_weight      0.0\n",
              " dtype: float64,\n",
              " Sex_F             1.0\n",
              " Sex_I             1.0\n",
              " Sex_M             1.0\n",
              " Length            1.0\n",
              " Diameter          1.0\n",
              " Height            1.0\n",
              " Whole_weight      1.0\n",
              " Shucked_weight    1.0\n",
              " Viscera_weight    1.0\n",
              " Shell_weight      1.0\n",
              " dtype: float64)"
            ]
          },
          "execution_count": 119,
          "metadata": {},
          "output_type": "execute_result"
        }
      ],
      "source": [
        "x_train_scaled.min(), x_train_scaled.max()"
      ]
    },
    {
      "cell_type": "code",
      "execution_count": 178,
      "metadata": {
        "colab": {
          "base_uri": "https://localhost:8080/"
        },
        "id": "DaxkI-WCUt0h",
        "outputId": "10fd0f12-45fd-4f22-da5a-65ea6ad6a88b"
      },
      "outputs": [
        {
          "data": {
            "text/plain": [
              "(18957, 10)"
            ]
          },
          "execution_count": 178,
          "metadata": {},
          "output_type": "execute_result"
        }
      ],
      "source": [
        "x_test_scaled = scaler.transform(x_test)\n",
        "x_test_scaled = pd.DataFrame(x_test_scaled, columns = x_test.columns)\n",
        "x_test_scaled.shape"
      ]
    },
    {
      "cell_type": "code",
      "execution_count": 121,
      "metadata": {
        "colab": {
          "base_uri": "https://localhost:8080/"
        },
        "id": "KF4czWzQUt0h",
        "outputId": "5c14e47c-7aaf-4fa1-8fd7-fc8fc84c8602"
      },
      "outputs": [
        {
          "data": {
            "text/plain": [
              "(Sex_F             0.000000\n",
              " Sex_I             0.000000\n",
              " Sex_M             0.000000\n",
              " Length            0.016372\n",
              " Diameter          0.001615\n",
              " Height           -0.007523\n",
              " Whole_weight      0.021942\n",
              " Shucked_weight    0.000000\n",
              " Viscera_weight    0.000000\n",
              " Shell_weight      0.003836\n",
              " dtype: float64,\n",
              " Sex_F             1.000000\n",
              " Sex_I             1.000000\n",
              " Sex_M             1.000000\n",
              " Length            0.962730\n",
              " Diameter          0.941381\n",
              " Height            0.651942\n",
              " Whole_weight      1.000000\n",
              " Shucked_weight    0.915452\n",
              " Viscera_weight    1.000000\n",
              " Shell_weight      0.942521\n",
              " dtype: float64)"
            ]
          },
          "execution_count": 121,
          "metadata": {},
          "output_type": "execute_result"
        }
      ],
      "source": [
        "x_test_scaled.min(), x_test_scaled.max()"
      ]
    },
    {
      "cell_type": "markdown",
      "metadata": {
        "id": "ic9RGFu6Ut04"
      },
      "source": [
        "## [3_1] 앙상블 - Bagging"
      ]
    },
    {
      "cell_type": "code",
      "execution_count": 179,
      "metadata": {
        "id": "Tnc1GPoxUt05"
      },
      "outputs": [],
      "source": [
        "from sklearn.ensemble import RandomForestRegressor"
      ]
    },
    {
      "cell_type": "code",
      "execution_count": 123,
      "metadata": {
        "colab": {
          "base_uri": "https://localhost:8080/",
          "height": 80
        },
        "id": "Pq_-fpsVUt05",
        "outputId": "11ab52e0-9a2f-4eee-bc32-e9f256417cc1"
      },
      "outputs": [
        {
          "data": {
            "text/html": [
              "<style>#sk-container-id-11 {color: black;}#sk-container-id-11 pre{padding: 0;}#sk-container-id-11 div.sk-toggleable {background-color: white;}#sk-container-id-11 label.sk-toggleable__label {cursor: pointer;display: block;width: 100%;margin-bottom: 0;padding: 0.3em;box-sizing: border-box;text-align: center;}#sk-container-id-11 label.sk-toggleable__label-arrow:before {content: \"▸\";float: left;margin-right: 0.25em;color: #696969;}#sk-container-id-11 label.sk-toggleable__label-arrow:hover:before {color: black;}#sk-container-id-11 div.sk-estimator:hover label.sk-toggleable__label-arrow:before {color: black;}#sk-container-id-11 div.sk-toggleable__content {max-height: 0;max-width: 0;overflow: hidden;text-align: left;background-color: #f0f8ff;}#sk-container-id-11 div.sk-toggleable__content pre {margin: 0.2em;color: black;border-radius: 0.25em;background-color: #f0f8ff;}#sk-container-id-11 input.sk-toggleable__control:checked~div.sk-toggleable__content {max-height: 200px;max-width: 100%;overflow: auto;}#sk-container-id-11 input.sk-toggleable__control:checked~label.sk-toggleable__label-arrow:before {content: \"▾\";}#sk-container-id-11 div.sk-estimator input.sk-toggleable__control:checked~label.sk-toggleable__label {background-color: #d4ebff;}#sk-container-id-11 div.sk-label input.sk-toggleable__control:checked~label.sk-toggleable__label {background-color: #d4ebff;}#sk-container-id-11 input.sk-hidden--visually {border: 0;clip: rect(1px 1px 1px 1px);clip: rect(1px, 1px, 1px, 1px);height: 1px;margin: -1px;overflow: hidden;padding: 0;position: absolute;width: 1px;}#sk-container-id-11 div.sk-estimator {font-family: monospace;background-color: #f0f8ff;border: 1px dotted black;border-radius: 0.25em;box-sizing: border-box;margin-bottom: 0.5em;}#sk-container-id-11 div.sk-estimator:hover {background-color: #d4ebff;}#sk-container-id-11 div.sk-parallel-item::after {content: \"\";width: 100%;border-bottom: 1px solid gray;flex-grow: 1;}#sk-container-id-11 div.sk-label:hover label.sk-toggleable__label {background-color: #d4ebff;}#sk-container-id-11 div.sk-serial::before {content: \"\";position: absolute;border-left: 1px solid gray;box-sizing: border-box;top: 0;bottom: 0;left: 50%;z-index: 0;}#sk-container-id-11 div.sk-serial {display: flex;flex-direction: column;align-items: center;background-color: white;padding-right: 0.2em;padding-left: 0.2em;position: relative;}#sk-container-id-11 div.sk-item {position: relative;z-index: 1;}#sk-container-id-11 div.sk-parallel {display: flex;align-items: stretch;justify-content: center;background-color: white;position: relative;}#sk-container-id-11 div.sk-item::before, #sk-container-id-11 div.sk-parallel-item::before {content: \"\";position: absolute;border-left: 1px solid gray;box-sizing: border-box;top: 0;bottom: 0;left: 50%;z-index: -1;}#sk-container-id-11 div.sk-parallel-item {display: flex;flex-direction: column;z-index: 1;position: relative;background-color: white;}#sk-container-id-11 div.sk-parallel-item:first-child::after {align-self: flex-end;width: 50%;}#sk-container-id-11 div.sk-parallel-item:last-child::after {align-self: flex-start;width: 50%;}#sk-container-id-11 div.sk-parallel-item:only-child::after {width: 0;}#sk-container-id-11 div.sk-dashed-wrapped {border: 1px dashed gray;margin: 0 0.4em 0.5em 0.4em;box-sizing: border-box;padding-bottom: 0.4em;background-color: white;}#sk-container-id-11 div.sk-label label {font-family: monospace;font-weight: bold;display: inline-block;line-height: 1.2em;}#sk-container-id-11 div.sk-label-container {text-align: center;}#sk-container-id-11 div.sk-container {/* jupyter's `normalize.less` sets `[hidden] { display: none; }` but bootstrap.min.css set `[hidden] { display: none !important; }` so we also need the `!important` here to be able to override the default hidden behavior on the sphinx rendered scikit-learn.org. See: https://github.com/scikit-learn/scikit-learn/issues/21755 */display: inline-block !important;position: relative;}#sk-container-id-11 div.sk-text-repr-fallback {display: none;}</style><div id=\"sk-container-id-11\" class=\"sk-top-container\"><div class=\"sk-text-repr-fallback\"><pre>RandomForestRegressor(oob_score=True, random_state=12)</pre><b>In a Jupyter environment, please rerun this cell to show the HTML representation or trust the notebook. <br />On GitHub, the HTML representation is unable to render, please try loading this page with nbviewer.org.</b></div><div class=\"sk-container\" hidden><div class=\"sk-item\"><div class=\"sk-estimator sk-toggleable\"><input class=\"sk-toggleable__control sk-hidden--visually\" id=\"sk-estimator-id-15\" type=\"checkbox\" checked><label for=\"sk-estimator-id-15\" class=\"sk-toggleable__label sk-toggleable__label-arrow\">RandomForestRegressor</label><div class=\"sk-toggleable__content\"><pre>RandomForestRegressor(oob_score=True, random_state=12)</pre></div></div></div></div></div>"
            ],
            "text/plain": [
              "RandomForestRegressor(oob_score=True, random_state=12)"
            ]
          },
          "execution_count": 123,
          "metadata": {},
          "output_type": "execute_result"
        }
      ],
      "source": [
        "rf_model = RandomForestRegressor(random_state=12, oob_score= True)\n",
        "rf_model.fit(x_train_scaled, y_train)"
      ]
    },
    {
      "cell_type": "code",
      "execution_count": 124,
      "metadata": {
        "colab": {
          "base_uri": "https://localhost:8080/"
        },
        "id": "SDxgbWD8Ut06",
        "outputId": "208f27c6-2eee-4c2e-b8c7-a76f1c38064a"
      },
      "outputs": [
        {
          "name": "stdout",
          "output_type": "stream",
          "text": [
            "feature_names_in_ : ['Sex_F' 'Sex_I' 'Sex_M' 'Length' 'Diameter' 'Height' 'Whole_weight'\n",
            " 'Shucked_weight' 'Viscera_weight' 'Shell_weight']\n",
            "n_features_in_ : 10개\n",
            "feature_importances_ : [0.00427544 0.00785887 0.00425015 0.03801936 0.03352456 0.03595553\n",
            " 0.06642831 0.12600068 0.05893235 0.62475475]\n"
          ]
        }
      ],
      "source": [
        "print(f'feature_names_in_ : {rf_model.feature_names_in_}')\n",
        "print(f'n_features_in_ : {rf_model.n_features_in_}개')\n",
        "print(f'feature_importances_ : {rf_model.feature_importances_}')"
      ]
    },
    {
      "cell_type": "code",
      "execution_count": 125,
      "metadata": {
        "colab": {
          "base_uri": "https://localhost:8080/",
          "height": 452
        },
        "id": "NJY42xAqUt07",
        "outputId": "11a68f77-9090-4f0f-e0e0-5f481212e21d"
      },
      "outputs": [
        {
          "data": {
            "image/png": "[encoded data removed]",
            "text/plain": [
              "<Figure size 640x480 with 1 Axes>"
            ]
          },
          "metadata": {},
          "output_type": "display_data"
        }
      ],
      "source": [
        "plt.barh(range(rf_model.n_features_in_), rf_model.feature_importances_)\n",
        "plt.yticks(range(rf_model.n_features_in_), rf_model.feature_names_in_)\n",
        "plt.title('Feature Importances')\n",
        "plt.show()"
      ]
    },
    {
      "cell_type": "code",
      "execution_count": 126,
      "metadata": {
        "colab": {
          "base_uri": "https://localhost:8080/"
        },
        "id": "5z9ZEvGpUt08",
        "outputId": "3e7cadcd-bee2-49df-e2a1-c27d3cdf3caf"
      },
      "outputs": [
        {
          "name": "stdout",
          "output_type": "stream",
          "text": [
            "oob_score_ : 0.6792690640067092\n"
          ]
        }
      ],
      "source": [
        "print(f'oob_score_ : {rf_model.oob_score_}')"
      ]
    },
    {
      "cell_type": "code",
      "execution_count": 127,
      "metadata": {
        "colab": {
          "base_uri": "https://localhost:8080/"
        },
        "id": "vIiy4NscUt08",
        "outputId": "b3d9e1a9-ba78-4fb3-9f83-8d3e3cc8b59e"
      },
      "outputs": [
        {
          "name": "stdout",
          "output_type": "stream",
          "text": [
            "train_score : 0.9554185818812105, test_score : 0.6816547741691306\n"
          ]
        }
      ],
      "source": [
        "train_score = rf_model.score(x_train_scaled, y_train)\n",
        "test_score = rf_model.score(x_test_scaled, y_test)\n",
        "\n",
        "print(f'train_score : {train_score}, test_score : {test_score}')"
      ]
    },
    {
      "cell_type": "markdown",
      "metadata": {
        "id": "HRJrOAKlUt09"
      },
      "source": [
        "## [3-1_1] 모델 저장"
      ]
    },
    {
      "cell_type": "code",
      "execution_count": 180,
      "metadata": {
        "id": "lm72w2vUUt0-"
      },
      "outputs": [],
      "source": [
        "from sklearn.model_selection import GridSearchCV\n",
        "import joblib"
      ]
    },
    {
      "cell_type": "code",
      "execution_count": null,
      "metadata": {
        "id": "Dm8NKe34Dbvv"
      },
      "outputs": [],
      "source": [
        "best_params = {'max_depth' : [15],\n",
        "                'min_samples_leaf' : [9],\n",
        "                'criterion' : ['poisson'],\n",
        "                'min_samples_split' : [29],\n",
        "                'max_features' : [1.0]}"
      ]
    },
    {
      "cell_type": "code",
      "execution_count": 130,
      "metadata": {
        "collapsed": true,
        "id": "MCz5ZlQhUt1G"
      },
      "outputs": [],
      "source": [
        "best_model = RandomForestRegressor(random_state=12, oob_score= True)"
      ]
    },
    {
      "cell_type": "code",
      "execution_count": 131,
      "metadata": {},
      "outputs": [],
      "source": [
        "best_search = GridSearchCV(best_model, param_grid=best_params, scoring='r2',refit=True, cv=10, verbose=4)"
      ]
    },
    {
      "cell_type": "code",
      "execution_count": 132,
      "metadata": {},
      "outputs": [
        {
          "name": "stdout",
          "output_type": "stream",
          "text": [
            "Fitting 10 folds for each of 1 candidates, totalling 10 fits\n",
            "[CV 1/10] END criterion=poisson, max_depth=15, max_features=1.0, min_samples_leaf=9, min_samples_split=29;, score=0.700 total time=  39.5s\n",
            "[CV 2/10] END criterion=poisson, max_depth=15, max_features=1.0, min_samples_leaf=9, min_samples_split=29;, score=0.695 total time=  37.0s\n",
            "[CV 3/10] END criterion=poisson, max_depth=15, max_features=1.0, min_samples_leaf=9, min_samples_split=29;, score=0.703 total time=  37.0s\n",
            "[CV 4/10] END criterion=poisson, max_depth=15, max_features=1.0, min_samples_leaf=9, min_samples_split=29;, score=0.689 total time=  37.7s\n",
            "[CV 5/10] END criterion=poisson, max_depth=15, max_features=1.0, min_samples_leaf=9, min_samples_split=29;, score=0.686 total time=  40.3s\n",
            "[CV 6/10] END criterion=poisson, max_depth=15, max_features=1.0, min_samples_leaf=9, min_samples_split=29;, score=0.685 total time=  33.9s\n",
            "[CV 7/10] END criterion=poisson, max_depth=15, max_features=1.0, min_samples_leaf=9, min_samples_split=29;, score=0.694 total time=  34.3s\n",
            "[CV 8/10] END criterion=poisson, max_depth=15, max_features=1.0, min_samples_leaf=9, min_samples_split=29;, score=0.696 total time=  33.7s\n",
            "[CV 9/10] END criterion=poisson, max_depth=15, max_features=1.0, min_samples_leaf=9, min_samples_split=29;, score=0.704 total time=  45.1s\n",
            "[CV 10/10] END criterion=poisson, max_depth=15, max_features=1.0, min_samples_leaf=9, min_samples_split=29;, score=0.686 total time=  32.6s\n"
          ]
        },
        {
          "data": {
            "text/html": [
              "<style>#sk-container-id-12 {color: black;}#sk-container-id-12 pre{padding: 0;}#sk-container-id-12 div.sk-toggleable {background-color: white;}#sk-container-id-12 label.sk-toggleable__label {cursor: pointer;display: block;width: 100%;margin-bottom: 0;padding: 0.3em;box-sizing: border-box;text-align: center;}#sk-container-id-12 label.sk-toggleable__label-arrow:before {content: \"▸\";float: left;margin-right: 0.25em;color: #696969;}#sk-container-id-12 label.sk-toggleable__label-arrow:hover:before {color: black;}#sk-container-id-12 div.sk-estimator:hover label.sk-toggleable__label-arrow:before {color: black;}#sk-container-id-12 div.sk-toggleable__content {max-height: 0;max-width: 0;overflow: hidden;text-align: left;background-color: #f0f8ff;}#sk-container-id-12 div.sk-toggleable__content pre {margin: 0.2em;color: black;border-radius: 0.25em;background-color: #f0f8ff;}#sk-container-id-12 input.sk-toggleable__control:checked~div.sk-toggleable__content {max-height: 200px;max-width: 100%;overflow: auto;}#sk-container-id-12 input.sk-toggleable__control:checked~label.sk-toggleable__label-arrow:before {content: \"▾\";}#sk-container-id-12 div.sk-estimator input.sk-toggleable__control:checked~label.sk-toggleable__label {background-color: #d4ebff;}#sk-container-id-12 div.sk-label input.sk-toggleable__control:checked~label.sk-toggleable__label {background-color: #d4ebff;}#sk-container-id-12 input.sk-hidden--visually {border: 0;clip: rect(1px 1px 1px 1px);clip: rect(1px, 1px, 1px, 1px);height: 1px;margin: -1px;overflow: hidden;padding: 0;position: absolute;width: 1px;}#sk-container-id-12 div.sk-estimator {font-family: monospace;background-color: #f0f8ff;border: 1px dotted black;border-radius: 0.25em;box-sizing: border-box;margin-bottom: 0.5em;}#sk-container-id-12 div.sk-estimator:hover {background-color: #d4ebff;}#sk-container-id-12 div.sk-parallel-item::after {content: \"\";width: 100%;border-bottom: 1px solid gray;flex-grow: 1;}#sk-container-id-12 div.sk-label:hover label.sk-toggleable__label {background-color: #d4ebff;}#sk-container-id-12 div.sk-serial::before {content: \"\";position: absolute;border-left: 1px solid gray;box-sizing: border-box;top: 0;bottom: 0;left: 50%;z-index: 0;}#sk-container-id-12 div.sk-serial {display: flex;flex-direction: column;align-items: center;background-color: white;padding-right: 0.2em;padding-left: 0.2em;position: relative;}#sk-container-id-12 div.sk-item {position: relative;z-index: 1;}#sk-container-id-12 div.sk-parallel {display: flex;align-items: stretch;justify-content: center;background-color: white;position: relative;}#sk-container-id-12 div.sk-item::before, #sk-container-id-12 div.sk-parallel-item::before {content: \"\";position: absolute;border-left: 1px solid gray;box-sizing: border-box;top: 0;bottom: 0;left: 50%;z-index: -1;}#sk-container-id-12 div.sk-parallel-item {display: flex;flex-direction: column;z-index: 1;position: relative;background-color: white;}#sk-container-id-12 div.sk-parallel-item:first-child::after {align-self: flex-end;width: 50%;}#sk-container-id-12 div.sk-parallel-item:last-child::after {align-self: flex-start;width: 50%;}#sk-container-id-12 div.sk-parallel-item:only-child::after {width: 0;}#sk-container-id-12 div.sk-dashed-wrapped {border: 1px dashed gray;margin: 0 0.4em 0.5em 0.4em;box-sizing: border-box;padding-bottom: 0.4em;background-color: white;}#sk-container-id-12 div.sk-label label {font-family: monospace;font-weight: bold;display: inline-block;line-height: 1.2em;}#sk-container-id-12 div.sk-label-container {text-align: center;}#sk-container-id-12 div.sk-container {/* jupyter's `normalize.less` sets `[hidden] { display: none; }` but bootstrap.min.css set `[hidden] { display: none !important; }` so we also need the `!important` here to be able to override the default hidden behavior on the sphinx rendered scikit-learn.org. See: https://github.com/scikit-learn/scikit-learn/issues/21755 */display: inline-block !important;position: relative;}#sk-container-id-12 div.sk-text-repr-fallback {display: none;}</style><div id=\"sk-container-id-12\" class=\"sk-top-container\"><div class=\"sk-text-repr-fallback\"><pre>GridSearchCV(cv=10,\n",
              "             estimator=RandomForestRegressor(oob_score=True, random_state=12),\n",
              "             param_grid={&#x27;criterion&#x27;: [&#x27;poisson&#x27;], &#x27;max_depth&#x27;: [15],\n",
              "                         &#x27;max_features&#x27;: [1.0], &#x27;min_samples_leaf&#x27;: [9],\n",
              "                         &#x27;min_samples_split&#x27;: [29]},\n",
              "             scoring=&#x27;r2&#x27;, verbose=4)</pre><b>In a Jupyter environment, please rerun this cell to show the HTML representation or trust the notebook. <br />On GitHub, the HTML representation is unable to render, please try loading this page with nbviewer.org.</b></div><div class=\"sk-container\" hidden><div class=\"sk-item sk-dashed-wrapped\"><div class=\"sk-label-container\"><div class=\"sk-label sk-toggleable\"><input class=\"sk-toggleable__control sk-hidden--visually\" id=\"sk-estimator-id-16\" type=\"checkbox\" ><label for=\"sk-estimator-id-16\" class=\"sk-toggleable__label sk-toggleable__label-arrow\">GridSearchCV</label><div class=\"sk-toggleable__content\"><pre>GridSearchCV(cv=10,\n",
              "             estimator=RandomForestRegressor(oob_score=True, random_state=12),\n",
              "             param_grid={&#x27;criterion&#x27;: [&#x27;poisson&#x27;], &#x27;max_depth&#x27;: [15],\n",
              "                         &#x27;max_features&#x27;: [1.0], &#x27;min_samples_leaf&#x27;: [9],\n",
              "                         &#x27;min_samples_split&#x27;: [29]},\n",
              "             scoring=&#x27;r2&#x27;, verbose=4)</pre></div></div></div><div class=\"sk-parallel\"><div class=\"sk-parallel-item\"><div class=\"sk-item\"><div class=\"sk-label-container\"><div class=\"sk-label sk-toggleable\"><input class=\"sk-toggleable__control sk-hidden--visually\" id=\"sk-estimator-id-17\" type=\"checkbox\" ><label for=\"sk-estimator-id-17\" class=\"sk-toggleable__label sk-toggleable__label-arrow\">estimator: RandomForestRegressor</label><div class=\"sk-toggleable__content\"><pre>RandomForestRegressor(oob_score=True, random_state=12)</pre></div></div></div><div class=\"sk-serial\"><div class=\"sk-item\"><div class=\"sk-estimator sk-toggleable\"><input class=\"sk-toggleable__control sk-hidden--visually\" id=\"sk-estimator-id-18\" type=\"checkbox\" ><label for=\"sk-estimator-id-18\" class=\"sk-toggleable__label sk-toggleable__label-arrow\">RandomForestRegressor</label><div class=\"sk-toggleable__content\"><pre>RandomForestRegressor(oob_score=True, random_state=12)</pre></div></div></div></div></div></div></div></div></div></div>"
            ],
            "text/plain": [
              "GridSearchCV(cv=10,\n",
              "             estimator=RandomForestRegressor(oob_score=True, random_state=12),\n",
              "             param_grid={'criterion': ['poisson'], 'max_depth': [15],\n",
              "                         'max_features': [1.0], 'min_samples_leaf': [9],\n",
              "                         'min_samples_split': [29]},\n",
              "             scoring='r2', verbose=4)"
            ]
          },
          "execution_count": 132,
          "metadata": {},
          "output_type": "execute_result"
        }
      ],
      "source": [
        "best_search.fit(x_train_scaled, y_train)"
      ]
    },
    {
      "cell_type": "code",
      "execution_count": null,
      "metadata": {},
      "outputs": [
        {
          "data": {
            "text/plain": [
              "['x_boxcox_lambdas.pkl']"
            ]
          },
          "execution_count": 169,
          "metadata": {},
          "output_type": "execute_result"
        }
      ],
      "source": [
        "joblib.dump((lambda_length, lambda_diameter), 'x_boxcox_lambdas.joblib')"
      ]
    },
    {
      "cell_type": "code",
      "execution_count": null,
      "metadata": {},
      "outputs": [
        {
          "data": {
            "text/plain": [
              "['./scaler_ml_bagging.pkl']"
            ]
          },
          "execution_count": 170,
          "metadata": {},
          "output_type": "execute_result"
        }
      ],
      "source": [
        "joblib.dump(best_search.best_estimator_, \"./model_ml_bagging.joblib\")\n",
        "joblib.dump(scaler, './scaler_ml_bagging.joblib')"
      ]
    },
    {
      "cell_type": "code",
      "execution_count": 134,
      "metadata": {
        "colab": {
          "base_uri": "https://localhost:8080/",
          "height": 1000
        },
        "id": "7v9W41GKUt1G",
        "outputId": "19f6fd9f-e41b-4fd6-c0bb-6d4c7290dd1d"
      },
      "outputs": [
        {
          "name": "stdout",
          "output_type": "stream",
          "text": [
            "[best_search.best_score_] 0.693831845649219\n",
            "[best_search.best_param] {'criterion': 'poisson', 'max_depth': 15, 'max_features': 1.0, 'min_samples_leaf': 9, 'min_samples_split': 29}\n",
            "[best_search.best_estimator_] RandomForestRegressor(criterion='poisson', max_depth=15, min_samples_leaf=9,\n",
            "                      min_samples_split=29, oob_score=True, random_state=12)\n"
          ]
        },
        {
          "data": {
            "text/html": [
              "<div>\n",
              "<style scoped>\n",
              "    .dataframe tbody tr th:only-of-type {\n",
              "        vertical-align: middle;\n",
              "    }\n",
              "\n",
              "    .dataframe tbody tr th {\n",
              "        vertical-align: top;\n",
              "    }\n",
              "\n",
              "    .dataframe thead th {\n",
              "        text-align: right;\n",
              "    }\n",
              "</style>\n",
              "<table border=\"1\" class=\"dataframe\">\n",
              "  <thead>\n",
              "    <tr style=\"text-align: right;\">\n",
              "      <th></th>\n",
              "      <th>mean_fit_time</th>\n",
              "      <th>std_fit_time</th>\n",
              "      <th>mean_score_time</th>\n",
              "      <th>std_score_time</th>\n",
              "      <th>param_criterion</th>\n",
              "      <th>param_max_depth</th>\n",
              "      <th>param_max_features</th>\n",
              "      <th>param_min_samples_leaf</th>\n",
              "      <th>param_min_samples_split</th>\n",
              "      <th>params</th>\n",
              "      <th>...</th>\n",
              "      <th>split3_test_score</th>\n",
              "      <th>split4_test_score</th>\n",
              "      <th>split5_test_score</th>\n",
              "      <th>split6_test_score</th>\n",
              "      <th>split7_test_score</th>\n",
              "      <th>split8_test_score</th>\n",
              "      <th>split9_test_score</th>\n",
              "      <th>mean_test_score</th>\n",
              "      <th>std_test_score</th>\n",
              "      <th>rank_test_score</th>\n",
              "    </tr>\n",
              "  </thead>\n",
              "  <tbody>\n",
              "    <tr>\n",
              "      <th>0</th>\n",
              "      <td>37.068188</td>\n",
              "      <td>3.591634</td>\n",
              "      <td>0.141326</td>\n",
              "      <td>0.024881</td>\n",
              "      <td>poisson</td>\n",
              "      <td>15</td>\n",
              "      <td>1.0</td>\n",
              "      <td>9</td>\n",
              "      <td>29</td>\n",
              "      <td>{'criterion': 'poisson', 'max_depth': 15, 'max...</td>\n",
              "      <td>...</td>\n",
              "      <td>0.68905</td>\n",
              "      <td>0.686455</td>\n",
              "      <td>0.685132</td>\n",
              "      <td>0.694276</td>\n",
              "      <td>0.695561</td>\n",
              "      <td>0.704439</td>\n",
              "      <td>0.68632</td>\n",
              "      <td>0.693832</td>\n",
              "      <td>0.006631</td>\n",
              "      <td>1</td>\n",
              "    </tr>\n",
              "  </tbody>\n",
              "</table>\n",
              "<p>1 rows × 23 columns</p>\n",
              "</div>"
            ],
            "text/plain": [
              "   mean_fit_time  std_fit_time  mean_score_time  std_score_time  \\\n",
              "0      37.068188      3.591634         0.141326        0.024881   \n",
              "\n",
              "  param_criterion param_max_depth param_max_features param_min_samples_leaf  \\\n",
              "0         poisson              15                1.0                      9   \n",
              "\n",
              "  param_min_samples_split                                             params  \\\n",
              "0                      29  {'criterion': 'poisson', 'max_depth': 15, 'max...   \n",
              "\n",
              "   ...  split3_test_score  split4_test_score  split5_test_score  \\\n",
              "0  ...            0.68905           0.686455           0.685132   \n",
              "\n",
              "   split6_test_score  split7_test_score  split8_test_score  split9_test_score  \\\n",
              "0           0.694276           0.695561           0.704439            0.68632   \n",
              "\n",
              "   mean_test_score  std_test_score  rank_test_score  \n",
              "0         0.693832        0.006631                1  \n",
              "\n",
              "[1 rows x 23 columns]"
            ]
          },
          "execution_count": 134,
          "metadata": {},
          "output_type": "execute_result"
        }
      ],
      "source": [
        "print(f'[best_search.best_score_] {best_search.best_score_}')\n",
        "print(f'[best_search.best_param] {best_search.best_params_}')\n",
        "print(f'[best_search.best_estimator_] {best_search.best_estimator_}')\n",
        "\n",
        "cv_result_df = pd.DataFrame(best_search.cv_results_)\n",
        "cv_result_df"
      ]
    },
    {
      "cell_type": "code",
      "execution_count": 135,
      "metadata": {
        "colab": {
          "base_uri": "https://localhost:8080/"
        },
        "id": "ajQeButqUt1I",
        "outputId": "76f5d324-fcd7-48f7-f087-6b87489f1c98"
      },
      "outputs": [
        {
          "data": {
            "text/plain": [
              "0.6953968154550951"
            ]
          },
          "execution_count": 135,
          "metadata": {},
          "output_type": "execute_result"
        }
      ],
      "source": [
        "best_search.best_estimator_.score(x_test_scaled,y_test )"
      ]
    },
    {
      "cell_type": "code",
      "execution_count": 172,
      "metadata": {},
      "outputs": [
        {
          "data": {
            "text/plain": [
              "Index(['Sex_F', 'Sex_I', 'Sex_M', 'Length', 'Diameter', 'Height',\n",
              "       'Whole_weight', 'Shucked_weight', 'Viscera_weight', 'Shell_weight'],\n",
              "      dtype='object')"
            ]
          },
          "execution_count": 172,
          "metadata": {},
          "output_type": "execute_result"
        }
      ],
      "source": [
        "x_test.columns"
      ]
    },
    {
      "cell_type": "code",
      "execution_count": null,
      "metadata": {},
      "outputs": [
        {
          "name": "stderr",
          "output_type": "stream",
          "text": [
            "c:\\Users\\sh321\\anaconda3\\envs\\web_basic_39\\lib\\site-packages\\sklearn\\base.py:464: UserWarning: X does not have valid feature names, but MinMaxScaler was fitted with feature names\n",
            "  warnings.warn(\n"
          ]
        },
        {
          "data": {
            "text/plain": [
              "array([11.58607828])"
            ]
          },
          "execution_count": 196,
          "metadata": {},
          "output_type": "execute_result"
        }
      ],
      "source": [
        "# 입력 데이터 전처리\n",
        "\n",
        "length_process = boxcox(0.55, lambda_length)\n",
        "diameter_process = boxcox(0.43, lambda_diameter)\n",
        "height_process = np.sqrt(0.15)\n",
        "whole_weight_process = np.sqrt(0.7715)\n",
        "shucked_weight_process = np.sqrt(0.3285)\n",
        "viscera_weight_process = np.sqrt(0.1465)\n",
        "shell_weight_process = np.sqrt(0.24)\n",
        "\n",
        "test = [[1, 0, 0, length_process, diameter_process,height_process,whole_weight_process,shucked_weight_process,viscera_weight_process, shell_weight_process]]\n",
        "test_scaled = scaler.transform(test)\n",
        "test_scaled = pd.DataFrame(test_scaled, columns=x_test.columns)\n",
        "\n",
        "best = best_search.best_estimator_\n",
        "\n",
        "best.predict(test_scaled) ** 2"
      ]
    },
    {
      "cell_type": "code",
      "execution_count": null,
      "metadata": {},
      "outputs": [],
      "source": []
    }
  ],
  "metadata": {
    "colab": {
      "provenance": []
    },
    "kernelspec": {
      "display_name": "web_basic_39",
      "language": "python",
      "name": "python3"
    },
    "language_info": {
      "codemirror_mode": {
        "name": "ipython",
        "version": 3
      },
      "file_extension": ".py",
      "mimetype": "text/x-python",
      "name": "python",
      "nbconvert_exporter": "python",
      "pygments_lexer": "ipython3",
      "version": "3.9.21"
    }
  },
  "nbformat": 4,
  "nbformat_minor": 0
}
