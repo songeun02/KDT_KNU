{
 "cells": [
  {
   "cell_type": "markdown",
   "metadata": {},
   "source": [
    "# Video 처리\n",
    "- cv2.VideoCapture(동영상 또는 카메라_번호) 함수\n",
    "    - 디바이스에 카메라가 1개뿐이라면 기본적으로 0번"
   ]
  },
  {
   "cell_type": "code",
   "execution_count": 1,
   "metadata": {},
   "outputs": [],
   "source": [
    "# 모듈 로딩 \n",
    "import cv2\n",
    "import numpy as np"
   ]
  },
  {
   "cell_type": "code",
   "execution_count": 2,
   "metadata": {},
   "outputs": [],
   "source": [
    "# 데이터 및 디바이스 설정 \n",
    "\n",
    "DIR_PATH = '../09_25/Image/'\n",
    "CAM_DEVICE = 0\n",
    "# CAM_FILE = ' ' # 동영상 파일 있을 때 사용 "
   ]
  },
  {
   "cell_type": "markdown",
   "metadata": {},
   "source": [
    "## [카메라 관련 영상 처리]"
   ]
  },
  {
   "cell_type": "code",
   "execution_count": 3,
   "metadata": {},
   "outputs": [
    {
     "name": "stdout",
     "output_type": "stream",
     "text": [
      "True\n"
     ]
    }
   ],
   "source": [
    "# 카메라와 연결 여부 체크 \n",
    "\n",
    "cam = cv2.VideoCapture(CAM_DEVICE) \n",
    "# 반환값 : 카메라 객체, 인스턴스  \n",
    "\n",
    "print(cam.isOpened())\n",
    "# 카메라 오픈 여부 확인 : T/F 반환 "
   ]
  },
  {
   "cell_type": "markdown",
   "metadata": {},
   "source": [
    "-> 카메라와 연결이 됨"
   ]
  },
  {
   "cell_type": "code",
   "execution_count": 4,
   "metadata": {},
   "outputs": [
    {
     "name": "stdout",
     "output_type": "stream",
     "text": [
      "Mon Sep 30 06:57:02 2024\n",
      "1727647022.6330855\n",
      "57_30_02\n"
     ]
    }
   ],
   "source": [
    "# 파이썬 time 모듈\n",
    "\n",
    "import time \n",
    "\n",
    "print(time.ctime()) # 현재 시각\n",
    "print(time.time()) # 컴퓨터 기준시각(1970-01-01)으로부터 얼마나 지났는지 초로 반환 \n",
    "print(time.strftime('%M_%d_%S')) # 내가 지정한 형식으로 반환 "
   ]
  },
  {
   "cell_type": "code",
   "execution_count": 7,
   "metadata": {},
   "outputs": [
    {
     "data": {
      "text/plain": [
       "'Mon Sep 30 09_18_27 2024'"
      ]
     },
     "execution_count": 7,
     "metadata": {},
     "output_type": "execute_result"
    }
   ],
   "source": [
    "time.ctime().replace(':', '_') \n",
    "# 윈도우에서 사용불가능한 문자가 있으므로 replace"
   ]
  },
  {
   "cell_type": "code",
   "execution_count": 5,
   "metadata": {},
   "outputs": [
    {
     "name": "stdout",
     "output_type": "stream",
     "text": [
      "2024 9 30 6 57 2\n"
     ]
    }
   ],
   "source": [
    "# 현재 날짜 시간 정보 저장 인스턴스 \n",
    "# time 구조체\n",
    "\n",
    "cur_time = time.localtime() \n",
    "# 내가 살고있는 지역을 기준으로 시간 나옴\n",
    "  \n",
    "print(cur_time.tm_year, cur_time.tm_mon, cur_time.tm_mday, \n",
    "      cur_time.tm_hour, cur_time.tm_min, cur_time.tm_sec)"
   ]
  },
  {
   "cell_type": "code",
   "execution_count": 8,
   "metadata": {},
   "outputs": [
    {
     "data": {
      "text/plain": [
       "'capture 24.09.30 06.57.02.jpg'"
      ]
     },
     "execution_count": 8,
     "metadata": {},
     "output_type": "execute_result"
    }
   ],
   "source": [
    "SAVE_FILE=f'capture {time.strftime(\"%y.%m.%d %H.%M.%S\", cur_time)}.jpg'\n",
    "SAVE_FILE"
   ]
  },
  {
   "cell_type": "code",
   "execution_count": 6,
   "metadata": {},
   "outputs": [
    {
     "name": "stdout",
     "output_type": "stream",
     "text": [
      "영상 재생 정지\n"
     ]
    }
   ],
   "source": [
    "# 영상이라서 계속 읽어야 하므로 무한 반복문 사용 \n",
    "\n",
    "if cam.isOpened():\n",
    "    while True:\n",
    "        ret, img=cam.read()\n",
    "        # ret : 데이터 존재 여부  \n",
    "        # img : 읽은 데이터\n",
    "\n",
    "        if ret:\n",
    "            cv2.imshow(\"VIDEO\", img)\n",
    "            if cv2.waitKey(10) != -1: \n",
    "                # 입력 없으면 -1이므로 어떠한 입력이 있다면 종료\n",
    "                # 영상이 끊김없이 진행되기 위해서는 시간을 조금 줘야 함 \n",
    "                # ms라서 1000 -> 1초\n",
    "                SAVE_FILE=DIR_PATH+f'capture {time.strftime(\"%y.%m.%d %H.%M.%S\", cur_time)}.jpg'\n",
    "                cv2.imwrite(SAVE_FILE, img) # 키 누르기 직전 화면이 저장됨\n",
    "                print(\"영상 재생 정지\")\n",
    "                cv2.destroyAllWindows()\n",
    "                break\n",
    "        else:\n",
    "            print(\"영상 읽기 실패\")\n",
    "            break\n",
    "else: \n",
    "    print(\"카메라 연결 여부 체크 바랍니다.\")"
   ]
  },
  {
   "cell_type": "code",
   "execution_count": null,
   "metadata": {},
   "outputs": [],
   "source": [
    "   "
   ]
  }
 ],
 "metadata": {
  "kernelspec": {
   "display_name": "TORCH_CV_38",
   "language": "python",
   "name": "python3"
  },
  "language_info": {
   "codemirror_mode": {
    "name": "ipython",
    "version": 3
   },
   "file_extension": ".py",
   "mimetype": "text/x-python",
   "name": "python",
   "nbconvert_exporter": "python",
   "pygments_lexer": "ipython3",
   "version": "3.8.19"
  }
 },
 "nbformat": 4,
 "nbformat_minor": 2
}
