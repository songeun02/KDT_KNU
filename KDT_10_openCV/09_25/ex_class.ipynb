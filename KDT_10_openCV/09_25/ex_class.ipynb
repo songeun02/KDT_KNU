{
 "cells": [
  {
   "cell_type": "markdown",
   "metadata": {},
   "source": [
    "# 클래스 속성들 \n",
    "- OOP(객체지향언어) 특징\n",
    "    - 상속 \n",
    "    - 다형성\n",
    "    - 캡슐화 => 속성이 외부에 비공개, 직접 속성 접근 불가, 간접 속성 접근 가능 \n",
    "        - 간접 속성 접근 방법 : getter / setter 메서드"
   ]
  },
  {
   "cell_type": "code",
   "execution_count": 16,
   "metadata": {},
   "outputs": [],
   "source": [
    "class Person:\n",
    "    # 클래스 변수 \n",
    "    # - Person 클래스로 생성된 인스턴스들의 공유 변수 \n",
    "    # - 인스턴스 생성 없이 사용 가능 변수 \n",
    "    loc = 'Korea'\n",
    "\n",
    "\n",
    "    # 인스턴스 생성 메서드, 즉 생성자 메서드(Constructor)\n",
    "    def __init__(self, name, age, gender):\n",
    "        self.name = name\n",
    "        self.age = age\n",
    "        # self.gender = gender\n",
    "        self.__gender = gender # 변수 앞에 __ 붙이면 비공개로 바뀜 (private)\n",
    "        # private 변수라서 getter / setter 없으면 접근 불가 \n",
    "        # 인스턴스 생성 안 되면 사용 불가능 \n",
    "        # 비공개 속성 즉, 인스턴스 변수명으로 직접 접근 불가 \n",
    "\n",
    "\n",
    "    # 비공개 인스턴스 간접 접근 메서드 \n",
    "    # => get속성명(), set속성명(새로운값) : getter / setter 메서드\n",
    "    def get_gender(self):\n",
    "        return self.__gender \n",
    "\n",
    "    def set_gender(self,gender):\n",
    "        self.__gender = gender \n",
    "    "
   ]
  },
  {
   "cell_type": "markdown",
   "metadata": {},
   "source": [
    "변수 공개 범위 \n",
    "- public \n",
    "    - self.gender = gender\n",
    "- private\n",
    "    - self.__gender = gender\n",
    "    - 부모 자식 간 상속 불가 \n",
    "- protected\n",
    "    - self._myfriend = myfriend\n",
    "    - 부모 자식 간 상속 가능"
   ]
  },
  {
   "cell_type": "code",
   "execution_count": 17,
   "metadata": {},
   "outputs": [
    {
     "data": {
      "text/plain": [
       "'Korea'"
      ]
     },
     "execution_count": 17,
     "metadata": {},
     "output_type": "execute_result"
    }
   ],
   "source": [
    "Person.loc"
   ]
  },
  {
   "cell_type": "code",
   "execution_count": 18,
   "metadata": {},
   "outputs": [
    {
     "ename": "AttributeError",
     "evalue": "type object 'Person' has no attribute 'name'",
     "output_type": "error",
     "traceback": [
      "\u001b[1;31m---------------------------------------------------------------------------\u001b[0m",
      "\u001b[1;31mAttributeError\u001b[0m                            Traceback (most recent call last)",
      "Cell \u001b[1;32mIn[18], line 1\u001b[0m\n\u001b[1;32m----> 1\u001b[0m \u001b[43mPerson\u001b[49m\u001b[38;5;241;43m.\u001b[39;49m\u001b[43mname\u001b[49m \u001b[38;5;66;03m# 인스턴스 생성 안 하면 사용 불가능 \u001b[39;00m\n",
      "\u001b[1;31mAttributeError\u001b[0m: type object 'Person' has no attribute 'name'"
     ]
    }
   ],
   "source": [
    "Person.name # 인스턴스 생성 안 하면 사용 불가능 "
   ]
  },
  {
   "cell_type": "code",
   "execution_count": 19,
   "metadata": {},
   "outputs": [
    {
     "data": {
      "text/plain": [
       "('마징가', 'Korea')"
      ]
     },
     "execution_count": 19,
     "metadata": {},
     "output_type": "execute_result"
    }
   ],
   "source": [
    "p1 = Person('마징가',10,'남자')\n",
    "p1.name, p1.loc\n",
    "# 인스턴스 변수, 클래스 변수"
   ]
  },
  {
   "cell_type": "code",
   "execution_count": 20,
   "metadata": {},
   "outputs": [
    {
     "name": "stdout",
     "output_type": "stream",
     "text": [
      "원더우먼\n"
     ]
    },
    {
     "ename": "AttributeError",
     "evalue": "'Person' object has no attribute '__gender'",
     "output_type": "error",
     "traceback": [
      "\u001b[1;31m---------------------------------------------------------------------------\u001b[0m",
      "\u001b[1;31mAttributeError\u001b[0m                            Traceback (most recent call last)",
      "Cell \u001b[1;32mIn[20], line 6\u001b[0m\n\u001b[0;32m      3\u001b[0m \u001b[38;5;28mprint\u001b[39m(p1\u001b[38;5;241m.\u001b[39mname)\n\u001b[0;32m      5\u001b[0m \u001b[38;5;66;03m# 변경되지만 캡슐화 정책에 어긋난다고 보고 비공개로 함 \u001b[39;00m\n\u001b[1;32m----> 6\u001b[0m \u001b[38;5;28mprint\u001b[39m(\u001b[43mp1\u001b[49m\u001b[38;5;241;43m.\u001b[39;49m\u001b[43m__gender\u001b[49m) \u001b[38;5;66;03m# __ 붙이면 비공개로 바뀜\u001b[39;00m\n",
      "\u001b[1;31mAttributeError\u001b[0m: 'Person' object has no attribute '__gender'"
     ]
    }
   ],
   "source": [
    "# 인스턴스 변수의 속성 변경 \n",
    "p1.name = '원더우먼'\n",
    "print(p1.name)\n",
    "\n",
    "# 직접 접근 \n",
    "# 변경되지만 캡슐화 정책에 어긋난다고 보고 비공개로 함 \n",
    "print(p1.__gender) # __ 붙이면 비공개로 바뀜"
   ]
  },
  {
   "cell_type": "markdown",
   "metadata": {},
   "source": [
    "-> 해당 속성이 비공개 됨\n",
    "\n",
    "--> 인스턴스 변수명으로 직접 접근 불가\n",
    "\n",
    "---> 간접 접근 기능 생성해서 접근"
   ]
  },
  {
   "cell_type": "code",
   "execution_count": 21,
   "metadata": {},
   "outputs": [
    {
     "name": "stdout",
     "output_type": "stream",
     "text": [
      "남자\n"
     ]
    }
   ],
   "source": [
    "# 간접 접근 방식\n",
    "print(p1.get_gender())"
   ]
  },
  {
   "cell_type": "code",
   "execution_count": 22,
   "metadata": {},
   "outputs": [
    {
     "name": "stdout",
     "output_type": "stream",
     "text": [
      "여\n"
     ]
    }
   ],
   "source": [
    "p1.set_gender('여')\n",
    "print(p1.get_gender())"
   ]
  },
  {
   "cell_type": "code",
   "execution_count": null,
   "metadata": {},
   "outputs": [],
   "source": []
  }
 ],
 "metadata": {
  "kernelspec": {
   "display_name": "TORCH_CV_38",
   "language": "python",
   "name": "python3"
  },
  "language_info": {
   "codemirror_mode": {
    "name": "ipython",
    "version": 3
   },
   "file_extension": ".py",
   "mimetype": "text/x-python",
   "name": "python",
   "nbconvert_exporter": "python",
   "pygments_lexer": "ipython3",
   "version": "3.8.19"
  }
 },
 "nbformat": 4,
 "nbformat_minor": 2
}
