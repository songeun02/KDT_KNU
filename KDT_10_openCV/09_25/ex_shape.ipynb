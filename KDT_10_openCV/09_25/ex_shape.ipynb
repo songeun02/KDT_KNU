{
 "cells": [
  {
   "cell_type": "markdown",
   "metadata": {},
   "source": [
    "# ndarray & tensor의 차원 축소, 추가\n",
    "- 모델에 입출력 시에 shape 설정을 위해서 필요"
   ]
  },
  {
   "cell_type": "code",
   "execution_count": 95,
   "metadata": {},
   "outputs": [],
   "source": [
    "# 모듈 로딩 \n",
    "import cv2\n",
    "import numpy as np  # ndarray\n",
    "import torch        # tensor"
   ]
  },
  {
   "cell_type": "code",
   "execution_count": 96,
   "metadata": {},
   "outputs": [
    {
     "data": {
      "text/plain": [
       "((200, 100), 2)"
      ]
     },
     "execution_count": 96,
     "metadata": {},
     "output_type": "execute_result"
    }
   ],
   "source": [
    "# 임의의 데이터 생성 \n",
    "data = np.full((200,100),7)\n",
    "data.shape, data.ndim"
   ]
  },
  {
   "cell_type": "code",
   "execution_count": 97,
   "metadata": {},
   "outputs": [
    {
     "data": {
      "text/plain": [
       "array([[7, 7, 7, ..., 7, 7, 7],\n",
       "       [7, 7, 7, ..., 7, 7, 7],\n",
       "       [7, 7, 7, ..., 7, 7, 7],\n",
       "       ...,\n",
       "       [7, 7, 7, ..., 7, 7, 7],\n",
       "       [7, 7, 7, ..., 7, 7, 7],\n",
       "       [7, 7, 7, ..., 7, 7, 7]])"
      ]
     },
     "execution_count": 97,
     "metadata": {},
     "output_type": "execute_result"
    }
   ],
   "source": [
    "data"
   ]
  },
  {
   "cell_type": "markdown",
   "metadata": {},
   "source": [
    "## [차원 추가]\n",
    "---\n",
    "- numpy 경우 : ndarray.reshape(), np.expand_dims(), np.newaxis\n",
    "    - 채널 차원 추가 : 흑백 -> 컬러\n",
    "- pytorch 경우 \n",
    "    - reshape()\n",
    "    - unsqueeze(dim=숫자)"
   ]
  },
  {
   "cell_type": "markdown",
   "metadata": {},
   "source": [
    "### - numpy 기반"
   ]
  },
  {
   "cell_type": "code",
   "execution_count": 98,
   "metadata": {},
   "outputs": [
    {
     "data": {
      "text/plain": [
       "((200, 100, 1), 3)"
      ]
     },
     "execution_count": 98,
     "metadata": {},
     "output_type": "execute_result"
    }
   ],
   "source": [
    "# ---------------------------------------\n",
    "# numpy 기반 \n",
    "# ---------------------------------------\n",
    "# - 채널 차원 추가 (흑백 -> 컬러)\n",
    "# 1) ndarray.reshape()\n",
    "\n",
    "data1 = data.reshape((200,100,1))\n",
    "data1.shape, data1.ndim"
   ]
  },
  {
   "cell_type": "code",
   "execution_count": 99,
   "metadata": {},
   "outputs": [
    {
     "data": {
      "text/plain": [
       "array([[[7],\n",
       "        [7],\n",
       "        [7],\n",
       "        ...,\n",
       "        [7],\n",
       "        [7],\n",
       "        [7]],\n",
       "\n",
       "       [[7],\n",
       "        [7],\n",
       "        [7],\n",
       "        ...,\n",
       "        [7],\n",
       "        [7],\n",
       "        [7]],\n",
       "\n",
       "       [[7],\n",
       "        [7],\n",
       "        [7],\n",
       "        ...,\n",
       "        [7],\n",
       "        [7],\n",
       "        [7]],\n",
       "\n",
       "       ...,\n",
       "\n",
       "       [[7],\n",
       "        [7],\n",
       "        [7],\n",
       "        ...,\n",
       "        [7],\n",
       "        [7],\n",
       "        [7]],\n",
       "\n",
       "       [[7],\n",
       "        [7],\n",
       "        [7],\n",
       "        ...,\n",
       "        [7],\n",
       "        [7],\n",
       "        [7]],\n",
       "\n",
       "       [[7],\n",
       "        [7],\n",
       "        [7],\n",
       "        ...,\n",
       "        [7],\n",
       "        [7],\n",
       "        [7]]])"
      ]
     },
     "execution_count": 99,
     "metadata": {},
     "output_type": "execute_result"
    }
   ],
   "source": [
    "data1"
   ]
  },
  {
   "cell_type": "code",
   "execution_count": 100,
   "metadata": {},
   "outputs": [
    {
     "data": {
      "text/plain": [
       "((200, 100, 1), 3)"
      ]
     },
     "execution_count": 100,
     "metadata": {},
     "output_type": "execute_result"
    }
   ],
   "source": [
    "# - 채널 차원 추가 (흑백 -> 컬러)\n",
    "# 2) np.expand_dims()\n",
    "\n",
    "data2 = np.expand_dims(data, axis=2) \n",
    "# 증가시킬 축 번호 지정\n",
    "# 2번은 (200, 100) 중 0 1 2인 채널을 나타냄  \n",
    "data2.shape, data2.ndim"
   ]
  },
  {
   "cell_type": "code",
   "execution_count": 101,
   "metadata": {},
   "outputs": [
    {
     "data": {
      "text/plain": [
       "((1, 200, 100), 3)"
      ]
     },
     "execution_count": 101,
     "metadata": {},
     "output_type": "execute_result"
    }
   ],
   "source": [
    "data2_0 = np.expand_dims(data, axis=0) \n",
    "# 0번은 (200, 100) 중 0 1 2인 200을 나타냄  \n",
    "data2_0.shape, data2_0.ndim"
   ]
  },
  {
   "cell_type": "code",
   "execution_count": 102,
   "metadata": {},
   "outputs": [
    {
     "name": "stdout",
     "output_type": "stream",
     "text": [
      "(200, 100) 2\n"
     ]
    },
    {
     "data": {
      "text/plain": [
       "((200, 100, 1), 3)"
      ]
     },
     "execution_count": 102,
     "metadata": {},
     "output_type": "execute_result"
    }
   ],
   "source": [
    "# - 채널 차원 추가 (흑백 -> 컬러)\n",
    "# 3) np.newaxis  \n",
    "#   - 속성 \n",
    "#   - 들어가는 자리에 1차원 추가\n",
    "#       - 원하는 지점에 1차원 추가 가능  \n",
    "\n",
    "print(data.shape, data.ndim)\n",
    "\n",
    "data3 = data[:,:, np.newaxis] \n",
    "data3.shape, data3.ndim"
   ]
  },
  {
   "cell_type": "code",
   "execution_count": 103,
   "metadata": {},
   "outputs": [
    {
     "data": {
      "text/plain": [
       "((200, 1, 100), 3)"
      ]
     },
     "execution_count": 103,
     "metadata": {},
     "output_type": "execute_result"
    }
   ],
   "source": [
    "data4 = data[:,np.newaxis,:]\n",
    "data4.shape, data4.ndim"
   ]
  },
  {
   "cell_type": "markdown",
   "metadata": {},
   "source": [
    "### - pytorch 기반"
   ]
  },
  {
   "cell_type": "code",
   "execution_count": 104,
   "metadata": {},
   "outputs": [
    {
     "name": "stdout",
     "output_type": "stream",
     "text": [
      "<class 'numpy.ndarray'> (200, 100) 2\n"
     ]
    }
   ],
   "source": [
    "print(type(data), data.shape, data.ndim)"
   ]
  },
  {
   "cell_type": "code",
   "execution_count": 105,
   "metadata": {},
   "outputs": [
    {
     "data": {
      "text/plain": [
       "torch.Size([200, 100])"
      ]
     },
     "execution_count": 105,
     "metadata": {},
     "output_type": "execute_result"
    }
   ],
   "source": [
    "data_ts = torch.IntTensor(data)\n",
    "data_ts.shape"
   ]
  },
  {
   "cell_type": "code",
   "execution_count": 106,
   "metadata": {},
   "outputs": [
    {
     "data": {
      "text/plain": [
       "torch.Size([200, 100, 1])"
      ]
     },
     "execution_count": 106,
     "metadata": {},
     "output_type": "execute_result"
    }
   ],
   "source": [
    "# - 채널 차원 추가 (흑백 -> 컬러)\n",
    "# 1) with.reshape()\n",
    "\n",
    "data_ts1 = data_ts.reshape((200,100,1))\n",
    "data_ts1.shape"
   ]
  },
  {
   "cell_type": "code",
   "execution_count": 107,
   "metadata": {},
   "outputs": [
    {
     "data": {
      "text/plain": [
       "torch.Size([1, 200, 100])"
      ]
     },
     "execution_count": 107,
     "metadata": {},
     "output_type": "execute_result"
    }
   ],
   "source": [
    "# - 채널 차원 추가 (흑백 -> 컬러)\n",
    "# 1) with.unsqueeze(dim=숫자)\n",
    "#    - 원하는 위치에 차원 추가 \n",
    "\n",
    "data_ts2 = data_ts.unsqueeze(dim=0) # 0번째 자리에 추가 \n",
    "data_ts2.shape"
   ]
  },
  {
   "cell_type": "code",
   "execution_count": 108,
   "metadata": {},
   "outputs": [
    {
     "data": {
      "text/plain": [
       "torch.Size([200, 1, 100])"
      ]
     },
     "execution_count": 108,
     "metadata": {},
     "output_type": "execute_result"
    }
   ],
   "source": [
    "data_ts2 = data_ts.unsqueeze(dim=1) # 1번째 자리에 추가 \n",
    "data_ts2.shape"
   ]
  },
  {
   "cell_type": "code",
   "execution_count": 109,
   "metadata": {},
   "outputs": [
    {
     "data": {
      "text/plain": [
       "torch.Size([200, 100, 1])"
      ]
     },
     "execution_count": 109,
     "metadata": {},
     "output_type": "execute_result"
    }
   ],
   "source": [
    "data_ts2 = data_ts.unsqueeze(dim=2) # 2번째 자리에 추가 \n",
    "data_ts2.shape"
   ]
  },
  {
   "cell_type": "code",
   "execution_count": 110,
   "metadata": {},
   "outputs": [
    {
     "ename": "IndexError",
     "evalue": "Dimension out of range (expected to be in range of [-3, 2], but got 3)",
     "output_type": "error",
     "traceback": [
      "\u001b[1;31m---------------------------------------------------------------------------\u001b[0m",
      "\u001b[1;31mIndexError\u001b[0m                                Traceback (most recent call last)",
      "Cell \u001b[1;32mIn[110], line 1\u001b[0m\n\u001b[1;32m----> 1\u001b[0m data_ts2 \u001b[38;5;241m=\u001b[39m \u001b[43mdata_ts\u001b[49m\u001b[38;5;241;43m.\u001b[39;49m\u001b[43munsqueeze\u001b[49m\u001b[43m(\u001b[49m\u001b[43mdim\u001b[49m\u001b[38;5;241;43m=\u001b[39;49m\u001b[38;5;241;43m3\u001b[39;49m\u001b[43m)\u001b[49m \u001b[38;5;66;03m# 3번째 자리에 추가 \u001b[39;00m\n\u001b[0;32m      2\u001b[0m data_ts2\u001b[38;5;241m.\u001b[39mshape\n",
      "\u001b[1;31mIndexError\u001b[0m: Dimension out of range (expected to be in range of [-3, 2], but got 3)"
     ]
    }
   ],
   "source": [
    "data_ts2 = data_ts.unsqueeze(dim=3) # 3번째 자리에 추가 \n",
    "data_ts2.shape"
   ]
  },
  {
   "cell_type": "markdown",
   "metadata": {},
   "source": [
    "-> 없는 차원은 error 발생 \n"
   ]
  },
  {
   "cell_type": "markdown",
   "metadata": {},
   "source": [
    "## [shape 변경]\n",
    "---\n",
    "- numpy 경우 : T속성, transpose()\n",
    "- pytorch 경우 : T속성, transpose(), permute()"
   ]
  },
  {
   "cell_type": "code",
   "execution_count": 111,
   "metadata": {},
   "outputs": [
    {
     "name": "stdout",
     "output_type": "stream",
     "text": [
      "torch.Size([200, 100, 1])\n",
      "torch.Size([1, 100, 200])\n"
     ]
    }
   ],
   "source": [
    "# 1) with.T\n",
    "# - 현재 axis를 역순으로 변경 \n",
    "# - 원하는 위치로 지정 불가능 \n",
    "\n",
    "print(data_ts2.shape)\n",
    "\n",
    "print(data_ts2.T.shape) "
   ]
  },
  {
   "cell_type": "code",
   "execution_count": 112,
   "metadata": {},
   "outputs": [
    {
     "data": {
      "text/plain": [
       "torch.Size([200, 100, 1, 1])"
      ]
     },
     "execution_count": 112,
     "metadata": {},
     "output_type": "execute_result"
    }
   ],
   "source": [
    "data_ts_u3 = data_ts2.unsqueeze(dim=3)\n",
    "data_ts_u3.shape "
   ]
  },
  {
   "cell_type": "markdown",
   "metadata": {},
   "source": [
    "-> 4차원이 됨"
   ]
  },
  {
   "cell_type": "code",
   "execution_count": 113,
   "metadata": {},
   "outputs": [
    {
     "data": {
      "text/plain": [
       "torch.Size([1, 1, 100, 200])"
      ]
     },
     "execution_count": 113,
     "metadata": {},
     "output_type": "execute_result"
    }
   ],
   "source": [
    "data_ts_u3.T.shape"
   ]
  },
  {
   "cell_type": "code",
   "execution_count": 114,
   "metadata": {},
   "outputs": [
    {
     "name": "stdout",
     "output_type": "stream",
     "text": [
      "2D =>  torch.Size([100, 200])\n",
      "3D =>  torch.Size([1, 100, 200])\n",
      "4D =>  torch.Size([1, 1, 100, 200])\n"
     ]
    }
   ],
   "source": [
    "print(\"2D => \", data_ts.T.shape)\n",
    "print(\"3D => \", data_ts2.T.shape)\n",
    "print(\"4D => \", data_ts_u3.T.shape)"
   ]
  },
  {
   "cell_type": "code",
   "execution_count": 115,
   "metadata": {},
   "outputs": [
    {
     "name": "stdout",
     "output_type": "stream",
     "text": [
      "2D =>  torch.Size([200, 100])\n",
      "3D =>  torch.Size([200, 100, 1])\n",
      "4D =>  torch.Size([200, 100, 1, 1])\n"
     ]
    }
   ],
   "source": [
    "# 2) with.transpose() \n",
    "# - 2개의 축만 원하는 위치로 변경 가능 \n",
    "\n",
    "print(\"2D => \", data_ts.shape)\n",
    "print(\"3D => \", data_ts2.shape)\n",
    "print(\"4D => \", data_ts_u3.shape)"
   ]
  },
  {
   "cell_type": "code",
   "execution_count": 116,
   "metadata": {},
   "outputs": [
    {
     "name": "stdout",
     "output_type": "stream",
     "text": [
      "torch.Size([200, 1, 100])\n",
      "torch.Size([200, 1, 1, 100])\n"
     ]
    }
   ],
   "source": [
    "print(data_ts2.transpose(1,2).shape) # 1번과 2번 위치 변경 \n",
    "print(data_ts_u3.transpose(1,3).shape) # 1번과 3번 위치 변경 "
   ]
  },
  {
   "cell_type": "code",
   "execution_count": 117,
   "metadata": {},
   "outputs": [
    {
     "name": "stdout",
     "output_type": "stream",
     "text": [
      "2D =>  torch.Size([200, 100])\n",
      "3D =>  torch.Size([200, 100, 1])\n",
      "4D =>  torch.Size([200, 100, 1, 1])\n"
     ]
    }
   ],
   "source": [
    "# 3) with.permute()\n",
    "# - 모든 축을 원하는 위치로 변경 가능 \n",
    "\n",
    "print(\"2D => \", data_ts.shape)\n",
    "print(\"3D => \", data_ts2.shape)\n",
    "print(\"4D => \", data_ts_u3.shape)"
   ]
  },
  {
   "cell_type": "code",
   "execution_count": 118,
   "metadata": {},
   "outputs": [
    {
     "name": "stdout",
     "output_type": "stream",
     "text": [
      "torch.Size([1, 200, 100])\n",
      "torch.Size([100, 200, 1, 1])\n"
     ]
    }
   ],
   "source": [
    "print(data_ts2.permute(2,0,1).shape) \n",
    "print(data_ts_u3.permute((1,0,3,2)).shape)\n",
    "\n",
    "# 지정한대로 위치 변경 "
   ]
  },
  {
   "cell_type": "markdown",
   "metadata": {},
   "source": [
    "## [차원 제거]\n",
    "---\n",
    "- numpy, pytorch 경우 : reshape(), squeeze()"
   ]
  },
  {
   "cell_type": "markdown",
   "metadata": {},
   "source": [
    "### - numpy 기반"
   ]
  },
  {
   "cell_type": "code",
   "execution_count": 119,
   "metadata": {},
   "outputs": [
    {
     "name": "stdout",
     "output_type": "stream",
     "text": [
      "(200, 100)\n",
      "(200, 100, 1)\n",
      "(200, 1, 100, 1)\n"
     ]
    }
   ],
   "source": [
    "# ---------------------------------------\n",
    "# numpy 기반 \n",
    "# ---------------------------------------\n",
    "\n",
    "data_2 = np.expand_dims(data, axis=2)\n",
    "data_3= np.expand_dims(data2, axis=1)\n",
    "\n",
    "print(data.shape)\n",
    "print(data_2.shape)\n",
    "print(data_3.shape)"
   ]
  },
  {
   "cell_type": "code",
   "execution_count": 120,
   "metadata": {},
   "outputs": [
    {
     "name": "stdout",
     "output_type": "stream",
     "text": [
      "(200, 100)\n",
      "(200, 100)\n"
     ]
    }
   ],
   "source": [
    "# 1차원 축 제거 \n",
    "# 1) with.reshape()\n",
    "\n",
    "print(data_2.reshape(200,-1).shape) # 2차원으로 변경\n",
    "print(data_3.reshape(200,-1).shape)"
   ]
  },
  {
   "cell_type": "code",
   "execution_count": 121,
   "metadata": {},
   "outputs": [
    {
     "name": "stdout",
     "output_type": "stream",
     "text": [
      "(200, 100)\n",
      "(200, 100)\n"
     ]
    }
   ],
   "source": [
    "# 1차원 축 제거 \n",
    "# 2) with.squeeze() \n",
    "\n",
    "print(data_2.squeeze().shape )\n",
    "print(data_3.squeeze().shape )"
   ]
  },
  {
   "cell_type": "code",
   "execution_count": 122,
   "metadata": {},
   "outputs": [
    {
     "name": "stdout",
     "output_type": "stream",
     "text": [
      "(200, 1, 100, 1)\n",
      "(200, 100, 1)\n"
     ]
    }
   ],
   "source": [
    "print(data_3.shape)\n",
    "\n",
    "# (200, 1, 100, 1)\n",
    "#   0   1   2   3  번째 축 \n",
    "\n",
    "print(data_3.squeeze(axis=1).shape)\n",
    "# .squeeze() 에 매개변수 없으면 1차원 축 모두 제거 \n",
    "# .squeeze(axis=1) 이면 1번째 축이 1차원이면 제거 아니면 error \n",
    "# -> 지정된 축이 1차원이면 제거 "
   ]
  },
  {
   "cell_type": "code",
   "execution_count": 123,
   "metadata": {},
   "outputs": [
    {
     "ename": "ValueError",
     "evalue": "cannot select an axis to squeeze out which has size not equal to one",
     "output_type": "error",
     "traceback": [
      "\u001b[1;31m---------------------------------------------------------------------------\u001b[0m",
      "\u001b[1;31mValueError\u001b[0m                                Traceback (most recent call last)",
      "Cell \u001b[1;32mIn[123], line 1\u001b[0m\n\u001b[1;32m----> 1\u001b[0m \u001b[38;5;28mprint\u001b[39m(\u001b[43mdata_3\u001b[49m\u001b[38;5;241;43m.\u001b[39;49m\u001b[43msqueeze\u001b[49m\u001b[43m(\u001b[49m\u001b[43maxis\u001b[49m\u001b[38;5;241;43m=\u001b[39;49m\u001b[38;5;241;43m2\u001b[39;49m\u001b[43m)\u001b[49m\u001b[38;5;241m.\u001b[39mshape)\n",
      "\u001b[1;31mValueError\u001b[0m: cannot select an axis to squeeze out which has size not equal to one"
     ]
    }
   ],
   "source": [
    "print(data_3.squeeze(axis=2).shape)"
   ]
  },
  {
   "cell_type": "markdown",
   "metadata": {},
   "source": [
    "-> 지정된 축이 1차원이 아니라서 error 발생"
   ]
  },
  {
   "cell_type": "markdown",
   "metadata": {},
   "source": [
    "### - pytorch 기반 "
   ]
  },
  {
   "cell_type": "code",
   "execution_count": 124,
   "metadata": {},
   "outputs": [
    {
     "name": "stdout",
     "output_type": "stream",
     "text": [
      "(200, 100)\n",
      "torch.Size([200, 100, 1])\n",
      "torch.Size([200, 1, 100, 1])\n"
     ]
    }
   ],
   "source": [
    "# ---------------------------------------\n",
    "# pytorch 기반 \n",
    "# ---------------------------------------\n",
    "\n",
    "data_2 = np.expand_dims(data, axis=2)\n",
    "data_3= np.expand_dims(data2, axis=1)\n",
    "\n",
    "data_ts2 = torch.IntTensor(data_2)\n",
    "data_ts3 = torch.IntTensor(data_3)\n",
    "\n",
    "print(data.shape)\n",
    "print(data_ts2.shape)\n",
    "print(data_ts3.shape)"
   ]
  },
  {
   "cell_type": "code",
   "execution_count": 125,
   "metadata": {},
   "outputs": [
    {
     "name": "stdout",
     "output_type": "stream",
     "text": [
      "torch.Size([200, 100])\n",
      "torch.Size([200, 100])\n"
     ]
    }
   ],
   "source": [
    "# 1차원 축 제거 \n",
    "# 1) with.reshape() \n",
    "\n",
    "print(data_ts2.reshape(200,-1).shape)\n",
    "print(data_ts3.reshape(200,-1).shape)"
   ]
  },
  {
   "cell_type": "code",
   "execution_count": 126,
   "metadata": {},
   "outputs": [
    {
     "name": "stdout",
     "output_type": "stream",
     "text": [
      "torch.Size([200, 100])\n",
      "torch.Size([200, 100])\n",
      "torch.Size([200, 100, 1])\n",
      "torch.Size([200, 1, 100, 1])\n"
     ]
    }
   ],
   "source": [
    "# 1차원 축 제거 \n",
    "# 2) with.squeeze()\n",
    "\n",
    "print(data_ts2.squeeze().shape)\n",
    "print(data_ts3.squeeze().shape)\n",
    "print(data_ts3.squeeze(dim=1).shape)\n",
    "print(data_ts3.squeeze(dim=0).shape) # pytorch에서는 1차원 아니어도 error 발생 x "
   ]
  },
  {
   "cell_type": "code",
   "execution_count": 127,
   "metadata": {},
   "outputs": [
    {
     "name": "stdout",
     "output_type": "stream",
     "text": [
      "torch.Size([200, 1, 100, 1])\n",
      "torch.Size([200, 100, 1])\n"
     ]
    }
   ],
   "source": [
    "# pytorch에서 메서드의 경우 메서드명_()\n",
    "# - 원본 텐서에 적용\n",
    "# --> pandas의 inplace \n",
    "\n",
    "print(data_ts3.shape)\n",
    "\n",
    "print(data_ts3.squeeze_(dim=1).shape)"
   ]
  },
  {
   "cell_type": "code",
   "execution_count": 128,
   "metadata": {},
   "outputs": [
    {
     "data": {
      "text/plain": [
       "torch.Size([200, 100, 1])"
      ]
     },
     "execution_count": 128,
     "metadata": {},
     "output_type": "execute_result"
    }
   ],
   "source": [
    "data_ts3.shape"
   ]
  }
 ],
 "metadata": {
  "kernelspec": {
   "display_name": "TORCH_CV_38",
   "language": "python",
   "name": "python3"
  },
  "language_info": {
   "codemirror_mode": {
    "name": "ipython",
    "version": 3
   },
   "file_extension": ".py",
   "mimetype": "text/x-python",
   "name": "python",
   "nbconvert_exporter": "python",
   "pygments_lexer": "ipython3",
   "version": "3.8.19"
  }
 },
 "nbformat": 4,
 "nbformat_minor": 2
}
